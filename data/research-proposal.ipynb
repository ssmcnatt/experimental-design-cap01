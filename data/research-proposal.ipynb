{
 "cells": [
  {
   "cell_type": "markdown",
   "metadata": {},
   "source": [
    "* In your proposal, provide a link to any datasets that you plan to test. Make sure to describe what the data is and why it's interesting.\n",
    "\n",
    "\n",
    "* Submit a research proposal for an experiment that tests a hypothesis that can be answered by the tests covered in this module. Explain how you plan to test this hypothesis using the data source. Include in your proposal why this hypothesis is interesting, who might be interested in this research, and what your audience would gain from the research. Your audience doesn't have to be business executives—it could be any group, from sports fans to physicians!"
   ]
  },
  {
   "cell_type": "markdown",
   "metadata": {},
   "source": [
    "# The grading team will use the following rubric when assessing your work:\n",
    "\n",
    "\n",
    "## Data\n",
    "* Student has clearly described what the dataset is and why it's interesting.\n",
    "* Student has provided a link to the dataset.\n",
    "\n",
    "## Research design\n",
    "* Proposal has a clear research or business question.\n",
    "* Student identifies at least one hypothesis that they plan to test.\n",
    "* Student states how they will test the hypothesis using their data source.\n",
    "\n",
    "## Audience\n",
    "* Proposal clearly outlines the user or stakeholder who this research will be valuable for.\n",
    "* Proposal identifies why the audience will benefit from the research's findings."
   ]
  },
  {
   "cell_type": "code",
   "execution_count": null,
   "metadata": {},
   "outputs": [],
   "source": []
  }
 ],
 "metadata": {
  "kernelspec": {
   "display_name": "Python 3",
   "language": "python",
   "name": "python3"
  },
  "language_info": {
   "codemirror_mode": {
    "name": "ipython",
    "version": 3
   },
   "file_extension": ".py",
   "mimetype": "text/x-python",
   "name": "python",
   "nbconvert_exporter": "python",
   "pygments_lexer": "ipython3",
   "version": "3.7.6"
  }
 },
 "nbformat": 4,
 "nbformat_minor": 4
}
