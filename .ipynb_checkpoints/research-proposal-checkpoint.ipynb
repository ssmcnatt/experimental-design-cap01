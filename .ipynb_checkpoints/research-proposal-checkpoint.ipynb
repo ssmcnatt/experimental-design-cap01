{
 "cells": [
  {
   "cell_type": "markdown",
   "metadata": {},
   "source": [
    "## 1)  Data"
   ]
  },
  {
   "cell_type": "markdown",
   "metadata": {},
   "source": [
    "I will be using music data I found at https://data.world/kcmillersean/billboard-hot-100-1958-2017\n",
    "There are 2 datasets:\n",
    "* Hot Stuff.csv - Weekly Hot 100 singles chart between 8/2/1958 and 12/28/2019. This dataset contains every weekly Hot 100 singles chart from Billboard.com. Each row of data represents a song and the corresponding position on that week's chart.\n",
    "* Hot 100 Audio Features.xlsx - These are the values for each track pulled from the Spotify Web API, including a list of music genres and an 'explicit' flag for each song. A complete and thorough data dictionary can be referenced at this link: https://developer.spotify.com/documentation/web-api/reference/tracks/get-audio-features/\n",
    "\n",
    "I will be joining these tables together via the 'Song ID' which is a concatenation between song name and performer.  It has all of the data I need for comparing different genres of music (spotify_genre)."
   ]
  },
  {
   "cell_type": "markdown",
   "metadata": {},
   "source": [
    "## 2) Research design"
   ]
  },
  {
   "cell_type": "markdown",
   "metadata": {},
   "source": [
    "I will be comparing different genres of music based on several criteria, including popularity by year (high in the Hot 100 list), genre vs genre, and explicit vs non-explicit (clean) songs.\n",
    "\n",
    "I have the following hypothesis:\n",
    "* In the mid to late 1980's, there was a big push to put a warning label on records and CD's that were deemed 'explicit' and had suggestive or 'satanic' lyrics.  This was supposed to help parents monitor the music their children were buying. I propose it had the opposite effect. The sales of albums and music with explicit lyrics and images was more popular after the mid to late 1980's.\n",
    "\n",
    "I will test this hypothesis by creating different groups of data separated by genre, explicit vs non-explicit, and a combination of both. I will also separate out the 'Top 10' songs, so that I can test the popularity of songs.  The graphs and statistical data will compare these groups before and after an arbritary date (sometime between 1985 and 1990). If songs and albums with explicit lyrics and images (rap, hip-hop, heavy metal, etc.) were more popular than non-explicit songs after a certain year, it would suggest my hypothesis is correct."
   ]
  },
  {
   "cell_type": "markdown",
   "metadata": {},
   "source": [
    "## 3) Audience"
   ]
  },
  {
   "cell_type": "markdown",
   "metadata": {},
   "source": [
    "This research will be valuable for stakeholders such as music executives, music streaming services such as Spotify, and places to buy music such as Amazon and Apple Music.  It would give them an idea of what is popular at a specific date and time so they can update their inventory and playlists to hopfully increase their profits and stocks.\n",
    "\n",
    "It would also be interesting for music consumers, letting them know what is 'popular'."
   ]
  },
  {
   "cell_type": "code",
   "execution_count": null,
   "metadata": {},
   "outputs": [],
   "source": []
  }
 ],
 "metadata": {
  "kernelspec": {
   "display_name": "Python 3",
   "language": "python",
   "name": "python3"
  },
  "language_info": {
   "codemirror_mode": {
    "name": "ipython",
    "version": 3
   },
   "file_extension": ".py",
   "mimetype": "text/x-python",
   "name": "python",
   "nbconvert_exporter": "python",
   "pygments_lexer": "ipython3",
   "version": "3.7.6"
  }
 },
 "nbformat": 4,
 "nbformat_minor": 4
}
