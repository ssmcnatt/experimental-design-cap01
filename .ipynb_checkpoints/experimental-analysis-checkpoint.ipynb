{
 "cells": [
  {
   "cell_type": "markdown",
   "metadata": {},
   "source": [
    "* With your research proposal in hand, it's time to conduct the analysis in Jupyter. Provide a complete research report using the framework introduced in the previous module. The report should tell the story to your intended audience and should include compelling visualizations and actionable insights. Walk through the analysis using clean, reproducible code. Include plenty of notes and comments to guide others through your thinking.\n",
    "\n",
    "* Along the way, consider issues in the experiment design. What bias might be influencing the analysis? Can you test for it? If you could collect new data in this domain, what changes would you make in the data collection process? What other variables or samples might be useful to test?"
   ]
  },
  {
   "cell_type": "code",
   "execution_count": 1,
   "metadata": {},
   "outputs": [
    {
     "data": {
      "application/javascript": [
       "\n",
       "            setTimeout(function() {\n",
       "                var nbb_cell_id = 1;\n",
       "                var nbb_unformatted_code = \"%reload_ext nb_black\";\n",
       "                var nbb_formatted_code = \"%reload_ext nb_black\";\n",
       "                var nbb_cells = Jupyter.notebook.get_cells();\n",
       "                for (var i = 0; i < nbb_cells.length; ++i) {\n",
       "                    if (nbb_cells[i].input_prompt_number == nbb_cell_id) {\n",
       "                        if (nbb_cells[i].get_text() == nbb_unformatted_code) {\n",
       "                             nbb_cells[i].set_text(nbb_formatted_code);\n",
       "                        }\n",
       "                        break;\n",
       "                    }\n",
       "                }\n",
       "            }, 500);\n",
       "            "
      ],
      "text/plain": [
       "<IPython.core.display.Javascript object>"
      ]
     },
     "metadata": {},
     "output_type": "display_data"
    }
   ],
   "source": [
    "%reload_ext nb_black"
   ]
  },
  {
   "cell_type": "code",
   "execution_count": 2,
   "metadata": {},
   "outputs": [
    {
     "data": {
      "application/javascript": [
       "\n",
       "            setTimeout(function() {\n",
       "                var nbb_cell_id = 2;\n",
       "                var nbb_unformatted_code = \"import pandas as pd\\nimport numpy as np\\nfrom scipy import stats\\nimport seaborn as sns\\nimport matplotlib.pyplot as plt\\n\\n%matplotlib inline\";\n",
       "                var nbb_formatted_code = \"import pandas as pd\\nimport numpy as np\\nfrom scipy import stats\\nimport seaborn as sns\\nimport matplotlib.pyplot as plt\\n\\n%matplotlib inline\";\n",
       "                var nbb_cells = Jupyter.notebook.get_cells();\n",
       "                for (var i = 0; i < nbb_cells.length; ++i) {\n",
       "                    if (nbb_cells[i].input_prompt_number == nbb_cell_id) {\n",
       "                        if (nbb_cells[i].get_text() == nbb_unformatted_code) {\n",
       "                             nbb_cells[i].set_text(nbb_formatted_code);\n",
       "                        }\n",
       "                        break;\n",
       "                    }\n",
       "                }\n",
       "            }, 500);\n",
       "            "
      ],
      "text/plain": [
       "<IPython.core.display.Javascript object>"
      ]
     },
     "metadata": {},
     "output_type": "display_data"
    }
   ],
   "source": [
    "import pandas as pd\n",
    "import numpy as np\n",
    "from scipy import stats\n",
    "import seaborn as sns\n",
    "import matplotlib.pyplot as plt\n",
    "\n",
    "%matplotlib inline"
   ]
  },
  {
   "cell_type": "code",
   "execution_count": 3,
   "metadata": {},
   "outputs": [
    {
     "data": {
      "application/javascript": [
       "\n",
       "            setTimeout(function() {\n",
       "                var nbb_cell_id = 3;\n",
       "                var nbb_unformatted_code = \"hot_100 = pd.read_csv(\\\"data/Hot_Stuff.csv\\\")\\ngenres = pd.read_excel(\\\"data/Hot_100_Audio_Features.xlsx\\\")\";\n",
       "                var nbb_formatted_code = \"hot_100 = pd.read_csv(\\\"data/Hot_Stuff.csv\\\")\\ngenres = pd.read_excel(\\\"data/Hot_100_Audio_Features.xlsx\\\")\";\n",
       "                var nbb_cells = Jupyter.notebook.get_cells();\n",
       "                for (var i = 0; i < nbb_cells.length; ++i) {\n",
       "                    if (nbb_cells[i].input_prompt_number == nbb_cell_id) {\n",
       "                        if (nbb_cells[i].get_text() == nbb_unformatted_code) {\n",
       "                             nbb_cells[i].set_text(nbb_formatted_code);\n",
       "                        }\n",
       "                        break;\n",
       "                    }\n",
       "                }\n",
       "            }, 500);\n",
       "            "
      ],
      "text/plain": [
       "<IPython.core.display.Javascript object>"
      ]
     },
     "metadata": {},
     "output_type": "display_data"
    }
   ],
   "source": [
    "hot_100 = pd.read_csv(\"data/Hot_Stuff.csv\")\n",
    "genres = pd.read_excel(\"data/Hot_100_Audio_Features.xlsx\")"
   ]
  },
  {
   "cell_type": "markdown",
   "metadata": {},
   "source": [
    "# Drop columns that are not needed"
   ]
  },
  {
   "cell_type": "code",
   "execution_count": 4,
   "metadata": {},
   "outputs": [
    {
     "data": {
      "application/javascript": [
       "\n",
       "            setTimeout(function() {\n",
       "                var nbb_cell_id = 4;\n",
       "                var nbb_unformatted_code = \"hot_100 = hot_100.drop(columns=[\\\"url\\\"])\";\n",
       "                var nbb_formatted_code = \"hot_100 = hot_100.drop(columns=[\\\"url\\\"])\";\n",
       "                var nbb_cells = Jupyter.notebook.get_cells();\n",
       "                for (var i = 0; i < nbb_cells.length; ++i) {\n",
       "                    if (nbb_cells[i].input_prompt_number == nbb_cell_id) {\n",
       "                        if (nbb_cells[i].get_text() == nbb_unformatted_code) {\n",
       "                             nbb_cells[i].set_text(nbb_formatted_code);\n",
       "                        }\n",
       "                        break;\n",
       "                    }\n",
       "                }\n",
       "            }, 500);\n",
       "            "
      ],
      "text/plain": [
       "<IPython.core.display.Javascript object>"
      ]
     },
     "metadata": {},
     "output_type": "display_data"
    }
   ],
   "source": [
    "hot_100 = hot_100.drop(columns=[\"url\"])"
   ]
  },
  {
   "cell_type": "code",
   "execution_count": 6,
   "metadata": {},
   "outputs": [
    {
     "data": {
      "application/javascript": [
       "\n",
       "            setTimeout(function() {\n",
       "                var nbb_cell_id = 6;\n",
       "                var nbb_unformatted_code = \"genres = genres.drop(\\n    columns=[\\n        \\\"spotify_track_id\\\",\\n        \\\"spotify_track_preview_url\\\",\\n        \\\"spotify_track_duration_ms\\\",\\n        \\\"spotify_track_popularity\\\",\\n        \\\"danceability\\\",\\n        \\\"energy\\\",\\n        \\\"key\\\",\\n        \\\"loudness\\\",\\n        \\\"mode\\\",\\n        \\\"acousticness\\\",\\n        \\\"speechiness\\\",\\n        \\\"liveness\\\",\\n        \\\"instrumentalness\\\",\\n        \\\"valence\\\",\\n        \\\"tempo\\\",\\n        \\\"time_signature\\\",\\n    ]\\n)\";\n",
       "                var nbb_formatted_code = \"genres = genres.drop(\\n    columns=[\\n        \\\"spotify_track_id\\\",\\n        \\\"spotify_track_preview_url\\\",\\n        \\\"spotify_track_duration_ms\\\",\\n        \\\"spotify_track_popularity\\\",\\n        \\\"danceability\\\",\\n        \\\"energy\\\",\\n        \\\"key\\\",\\n        \\\"loudness\\\",\\n        \\\"mode\\\",\\n        \\\"acousticness\\\",\\n        \\\"speechiness\\\",\\n        \\\"liveness\\\",\\n        \\\"instrumentalness\\\",\\n        \\\"valence\\\",\\n        \\\"tempo\\\",\\n        \\\"time_signature\\\",\\n    ]\\n)\";\n",
       "                var nbb_cells = Jupyter.notebook.get_cells();\n",
       "                for (var i = 0; i < nbb_cells.length; ++i) {\n",
       "                    if (nbb_cells[i].input_prompt_number == nbb_cell_id) {\n",
       "                        if (nbb_cells[i].get_text() == nbb_unformatted_code) {\n",
       "                             nbb_cells[i].set_text(nbb_formatted_code);\n",
       "                        }\n",
       "                        break;\n",
       "                    }\n",
       "                }\n",
       "            }, 500);\n",
       "            "
      ],
      "text/plain": [
       "<IPython.core.display.Javascript object>"
      ]
     },
     "metadata": {},
     "output_type": "display_data"
    }
   ],
   "source": [
    "genres = genres.drop(\n",
    "    columns=[\n",
    "        \"spotify_track_id\",\n",
    "        \"spotify_track_preview_url\",\n",
    "        \"spotify_track_duration_ms\",\n",
    "        \"spotify_track_popularity\",\n",
    "        \"danceability\",\n",
    "        \"energy\",\n",
    "        \"key\",\n",
    "        \"loudness\",\n",
    "        \"mode\",\n",
    "        \"acousticness\",\n",
    "        \"speechiness\",\n",
    "        \"liveness\",\n",
    "        \"instrumentalness\",\n",
    "        \"valence\",\n",
    "        \"tempo\",\n",
    "        \"time_signature\",\n",
    "    ]\n",
    ")"
   ]
  },
  {
   "cell_type": "markdown",
   "metadata": {},
   "source": [
    "# Basic table description data"
   ]
  },
  {
   "cell_type": "code",
   "execution_count": 7,
   "metadata": {},
   "outputs": [
    {
     "data": {
      "text/plain": [
       "(320495, 9)"
      ]
     },
     "execution_count": 7,
     "metadata": {},
     "output_type": "execute_result"
    },
    {
     "data": {
      "application/javascript": [
       "\n",
       "            setTimeout(function() {\n",
       "                var nbb_cell_id = 7;\n",
       "                var nbb_unformatted_code = \"hot_100.shape\";\n",
       "                var nbb_formatted_code = \"hot_100.shape\";\n",
       "                var nbb_cells = Jupyter.notebook.get_cells();\n",
       "                for (var i = 0; i < nbb_cells.length; ++i) {\n",
       "                    if (nbb_cells[i].input_prompt_number == nbb_cell_id) {\n",
       "                        if (nbb_cells[i].get_text() == nbb_unformatted_code) {\n",
       "                             nbb_cells[i].set_text(nbb_formatted_code);\n",
       "                        }\n",
       "                        break;\n",
       "                    }\n",
       "                }\n",
       "            }, 500);\n",
       "            "
      ],
      "text/plain": [
       "<IPython.core.display.Javascript object>"
      ]
     },
     "metadata": {},
     "output_type": "display_data"
    }
   ],
   "source": [
    "hot_100.shape"
   ]
  },
  {
   "cell_type": "code",
   "execution_count": 8,
   "metadata": {},
   "outputs": [
    {
     "data": {
      "text/plain": [
       "WeekID                        0\n",
       "Week Position                 0\n",
       "Song                          0\n",
       "Performer                     0\n",
       "SongID                        0\n",
       "Instance                      0\n",
       "Previous Week Position    30784\n",
       "Peak Position                 0\n",
       "Weeks on Chart                0\n",
       "dtype: int64"
      ]
     },
     "execution_count": 8,
     "metadata": {},
     "output_type": "execute_result"
    },
    {
     "data": {
      "application/javascript": [
       "\n",
       "            setTimeout(function() {\n",
       "                var nbb_cell_id = 8;\n",
       "                var nbb_unformatted_code = \"hot_100.isna().sum()\";\n",
       "                var nbb_formatted_code = \"hot_100.isna().sum()\";\n",
       "                var nbb_cells = Jupyter.notebook.get_cells();\n",
       "                for (var i = 0; i < nbb_cells.length; ++i) {\n",
       "                    if (nbb_cells[i].input_prompt_number == nbb_cell_id) {\n",
       "                        if (nbb_cells[i].get_text() == nbb_unformatted_code) {\n",
       "                             nbb_cells[i].set_text(nbb_formatted_code);\n",
       "                        }\n",
       "                        break;\n",
       "                    }\n",
       "                }\n",
       "            }, 500);\n",
       "            "
      ],
      "text/plain": [
       "<IPython.core.display.Javascript object>"
      ]
     },
     "metadata": {},
     "output_type": "display_data"
    }
   ],
   "source": [
    "hot_100.isna().sum()"
   ]
  },
  {
   "cell_type": "code",
   "execution_count": 9,
   "metadata": {},
   "outputs": [
    {
     "data": {
      "text/html": [
       "<div>\n",
       "<style scoped>\n",
       "    .dataframe tbody tr th:only-of-type {\n",
       "        vertical-align: middle;\n",
       "    }\n",
       "\n",
       "    .dataframe tbody tr th {\n",
       "        vertical-align: top;\n",
       "    }\n",
       "\n",
       "    .dataframe thead th {\n",
       "        text-align: right;\n",
       "    }\n",
       "</style>\n",
       "<table border=\"1\" class=\"dataframe\">\n",
       "  <thead>\n",
       "    <tr style=\"text-align: right;\">\n",
       "      <th></th>\n",
       "      <th>WeekID</th>\n",
       "      <th>Week Position</th>\n",
       "      <th>Song</th>\n",
       "      <th>Performer</th>\n",
       "      <th>SongID</th>\n",
       "      <th>Instance</th>\n",
       "      <th>Previous Week Position</th>\n",
       "      <th>Peak Position</th>\n",
       "      <th>Weeks on Chart</th>\n",
       "    </tr>\n",
       "  </thead>\n",
       "  <tbody>\n",
       "    <tr>\n",
       "      <th>0</th>\n",
       "      <td>8/2/1958</td>\n",
       "      <td>1</td>\n",
       "      <td>Poor Little Fool</td>\n",
       "      <td>Ricky Nelson</td>\n",
       "      <td>Poor Little FoolRicky Nelson</td>\n",
       "      <td>1</td>\n",
       "      <td>NaN</td>\n",
       "      <td>1</td>\n",
       "      <td>1</td>\n",
       "    </tr>\n",
       "    <tr>\n",
       "      <th>1</th>\n",
       "      <td>12/2/1995</td>\n",
       "      <td>1</td>\n",
       "      <td>One Sweet Day</td>\n",
       "      <td>Mariah Carey &amp; Boyz II Men</td>\n",
       "      <td>One Sweet DayMariah Carey &amp; Boyz II Men</td>\n",
       "      <td>1</td>\n",
       "      <td>NaN</td>\n",
       "      <td>1</td>\n",
       "      <td>1</td>\n",
       "    </tr>\n",
       "    <tr>\n",
       "      <th>2</th>\n",
       "      <td>10/11/1997</td>\n",
       "      <td>1</td>\n",
       "      <td>Candle In The Wind 1997/Something About The Wa...</td>\n",
       "      <td>Elton John</td>\n",
       "      <td>Candle In The Wind 1997/Something About The Wa...</td>\n",
       "      <td>1</td>\n",
       "      <td>NaN</td>\n",
       "      <td>1</td>\n",
       "      <td>1</td>\n",
       "    </tr>\n",
       "    <tr>\n",
       "      <th>3</th>\n",
       "      <td>7/1/2006</td>\n",
       "      <td>1</td>\n",
       "      <td>Do I Make You Proud</td>\n",
       "      <td>Taylor Hicks</td>\n",
       "      <td>Do I Make You ProudTaylor Hicks</td>\n",
       "      <td>1</td>\n",
       "      <td>NaN</td>\n",
       "      <td>1</td>\n",
       "      <td>1</td>\n",
       "    </tr>\n",
       "    <tr>\n",
       "      <th>4</th>\n",
       "      <td>10/24/2009</td>\n",
       "      <td>1</td>\n",
       "      <td>3</td>\n",
       "      <td>Britney Spears</td>\n",
       "      <td>3Britney Spears</td>\n",
       "      <td>1</td>\n",
       "      <td>NaN</td>\n",
       "      <td>1</td>\n",
       "      <td>1</td>\n",
       "    </tr>\n",
       "  </tbody>\n",
       "</table>\n",
       "</div>"
      ],
      "text/plain": [
       "       WeekID  Week Position  \\\n",
       "0    8/2/1958              1   \n",
       "1   12/2/1995              1   \n",
       "2  10/11/1997              1   \n",
       "3    7/1/2006              1   \n",
       "4  10/24/2009              1   \n",
       "\n",
       "                                                Song  \\\n",
       "0                                   Poor Little Fool   \n",
       "1                                      One Sweet Day   \n",
       "2  Candle In The Wind 1997/Something About The Wa...   \n",
       "3                                Do I Make You Proud   \n",
       "4                                                  3   \n",
       "\n",
       "                    Performer  \\\n",
       "0                Ricky Nelson   \n",
       "1  Mariah Carey & Boyz II Men   \n",
       "2                  Elton John   \n",
       "3                Taylor Hicks   \n",
       "4              Britney Spears   \n",
       "\n",
       "                                              SongID  Instance  \\\n",
       "0                       Poor Little FoolRicky Nelson         1   \n",
       "1            One Sweet DayMariah Carey & Boyz II Men         1   \n",
       "2  Candle In The Wind 1997/Something About The Wa...         1   \n",
       "3                    Do I Make You ProudTaylor Hicks         1   \n",
       "4                                    3Britney Spears         1   \n",
       "\n",
       "   Previous Week Position  Peak Position  Weeks on Chart  \n",
       "0                     NaN              1               1  \n",
       "1                     NaN              1               1  \n",
       "2                     NaN              1               1  \n",
       "3                     NaN              1               1  \n",
       "4                     NaN              1               1  "
      ]
     },
     "execution_count": 9,
     "metadata": {},
     "output_type": "execute_result"
    },
    {
     "data": {
      "application/javascript": [
       "\n",
       "            setTimeout(function() {\n",
       "                var nbb_cell_id = 9;\n",
       "                var nbb_unformatted_code = \"hot_100.head()\";\n",
       "                var nbb_formatted_code = \"hot_100.head()\";\n",
       "                var nbb_cells = Jupyter.notebook.get_cells();\n",
       "                for (var i = 0; i < nbb_cells.length; ++i) {\n",
       "                    if (nbb_cells[i].input_prompt_number == nbb_cell_id) {\n",
       "                        if (nbb_cells[i].get_text() == nbb_unformatted_code) {\n",
       "                             nbb_cells[i].set_text(nbb_formatted_code);\n",
       "                        }\n",
       "                        break;\n",
       "                    }\n",
       "                }\n",
       "            }, 500);\n",
       "            "
      ],
      "text/plain": [
       "<IPython.core.display.Javascript object>"
      ]
     },
     "metadata": {},
     "output_type": "display_data"
    }
   ],
   "source": [
    "hot_100.head()"
   ]
  },
  {
   "cell_type": "code",
   "execution_count": 10,
   "metadata": {},
   "outputs": [
    {
     "data": {
      "text/plain": [
       "WeekID                     object\n",
       "Week Position               int64\n",
       "Song                       object\n",
       "Performer                  object\n",
       "SongID                     object\n",
       "Instance                    int64\n",
       "Previous Week Position    float64\n",
       "Peak Position               int64\n",
       "Weeks on Chart              int64\n",
       "dtype: object"
      ]
     },
     "execution_count": 10,
     "metadata": {},
     "output_type": "execute_result"
    },
    {
     "data": {
      "application/javascript": [
       "\n",
       "            setTimeout(function() {\n",
       "                var nbb_cell_id = 10;\n",
       "                var nbb_unformatted_code = \"hot_100.dtypes\";\n",
       "                var nbb_formatted_code = \"hot_100.dtypes\";\n",
       "                var nbb_cells = Jupyter.notebook.get_cells();\n",
       "                for (var i = 0; i < nbb_cells.length; ++i) {\n",
       "                    if (nbb_cells[i].input_prompt_number == nbb_cell_id) {\n",
       "                        if (nbb_cells[i].get_text() == nbb_unformatted_code) {\n",
       "                             nbb_cells[i].set_text(nbb_formatted_code);\n",
       "                        }\n",
       "                        break;\n",
       "                    }\n",
       "                }\n",
       "            }, 500);\n",
       "            "
      ],
      "text/plain": [
       "<IPython.core.display.Javascript object>"
      ]
     },
     "metadata": {},
     "output_type": "display_data"
    }
   ],
   "source": [
    "hot_100.dtypes"
   ]
  },
  {
   "cell_type": "code",
   "execution_count": 11,
   "metadata": {},
   "outputs": [
    {
     "data": {
      "text/plain": [
       "(28492, 6)"
      ]
     },
     "execution_count": 11,
     "metadata": {},
     "output_type": "execute_result"
    },
    {
     "data": {
      "application/javascript": [
       "\n",
       "            setTimeout(function() {\n",
       "                var nbb_cell_id = 11;\n",
       "                var nbb_unformatted_code = \"genres.shape\";\n",
       "                var nbb_formatted_code = \"genres.shape\";\n",
       "                var nbb_cells = Jupyter.notebook.get_cells();\n",
       "                for (var i = 0; i < nbb_cells.length; ++i) {\n",
       "                    if (nbb_cells[i].input_prompt_number == nbb_cell_id) {\n",
       "                        if (nbb_cells[i].get_text() == nbb_unformatted_code) {\n",
       "                             nbb_cells[i].set_text(nbb_formatted_code);\n",
       "                        }\n",
       "                        break;\n",
       "                    }\n",
       "                }\n",
       "            }, 500);\n",
       "            "
      ],
      "text/plain": [
       "<IPython.core.display.Javascript object>"
      ]
     },
     "metadata": {},
     "output_type": "display_data"
    }
   ],
   "source": [
    "genres.shape"
   ]
  },
  {
   "cell_type": "code",
   "execution_count": 12,
   "metadata": {},
   "outputs": [
    {
     "data": {
      "text/plain": [
       "SongID                       0\n",
       "Performer                    0\n",
       "Song                         0\n",
       "spotify_genre             1232\n",
       "spotify_track_album       4755\n",
       "spotify_track_explicit    4749\n",
       "dtype: int64"
      ]
     },
     "execution_count": 12,
     "metadata": {},
     "output_type": "execute_result"
    },
    {
     "data": {
      "application/javascript": [
       "\n",
       "            setTimeout(function() {\n",
       "                var nbb_cell_id = 12;\n",
       "                var nbb_unformatted_code = \"genres.isna().sum()\";\n",
       "                var nbb_formatted_code = \"genres.isna().sum()\";\n",
       "                var nbb_cells = Jupyter.notebook.get_cells();\n",
       "                for (var i = 0; i < nbb_cells.length; ++i) {\n",
       "                    if (nbb_cells[i].input_prompt_number == nbb_cell_id) {\n",
       "                        if (nbb_cells[i].get_text() == nbb_unformatted_code) {\n",
       "                             nbb_cells[i].set_text(nbb_formatted_code);\n",
       "                        }\n",
       "                        break;\n",
       "                    }\n",
       "                }\n",
       "            }, 500);\n",
       "            "
      ],
      "text/plain": [
       "<IPython.core.display.Javascript object>"
      ]
     },
     "metadata": {},
     "output_type": "display_data"
    }
   ],
   "source": [
    "genres.isna().sum()"
   ]
  },
  {
   "cell_type": "code",
   "execution_count": 13,
   "metadata": {},
   "outputs": [
    {
     "data": {
      "text/html": [
       "<div>\n",
       "<style scoped>\n",
       "    .dataframe tbody tr th:only-of-type {\n",
       "        vertical-align: middle;\n",
       "    }\n",
       "\n",
       "    .dataframe tbody tr th {\n",
       "        vertical-align: top;\n",
       "    }\n",
       "\n",
       "    .dataframe thead th {\n",
       "        text-align: right;\n",
       "    }\n",
       "</style>\n",
       "<table border=\"1\" class=\"dataframe\">\n",
       "  <thead>\n",
       "    <tr style=\"text-align: right;\">\n",
       "      <th></th>\n",
       "      <th>SongID</th>\n",
       "      <th>Performer</th>\n",
       "      <th>Song</th>\n",
       "      <th>spotify_genre</th>\n",
       "      <th>spotify_track_album</th>\n",
       "      <th>spotify_track_explicit</th>\n",
       "    </tr>\n",
       "  </thead>\n",
       "  <tbody>\n",
       "    <tr>\n",
       "      <th>0</th>\n",
       "      <td>AdictoTainy, Anuel AA &amp; Ozuna</td>\n",
       "      <td>Tainy, Anuel AA &amp; Ozuna</td>\n",
       "      <td>Adicto</td>\n",
       "      <td>['pop reggaeton']</td>\n",
       "      <td>Adicto (with Anuel AA &amp; Ozuna)</td>\n",
       "      <td>0.0</td>\n",
       "    </tr>\n",
       "    <tr>\n",
       "      <th>1</th>\n",
       "      <td>The Ones That Didn't Make It Back HomeJustin M...</td>\n",
       "      <td>Justin Moore</td>\n",
       "      <td>The Ones That Didn't Make It Back Home</td>\n",
       "      <td>['arkansas country', 'contemporary country', '...</td>\n",
       "      <td>NaN</td>\n",
       "      <td>NaN</td>\n",
       "    </tr>\n",
       "    <tr>\n",
       "      <th>2</th>\n",
       "      <td>ShallowLady Gaga &amp; Bradley Cooper</td>\n",
       "      <td>Lady Gaga &amp; Bradley Cooper</td>\n",
       "      <td>Shallow</td>\n",
       "      <td>['dance pop', 'pop']</td>\n",
       "      <td>A Star Is Born Soundtrack</td>\n",
       "      <td>0.0</td>\n",
       "    </tr>\n",
       "    <tr>\n",
       "      <th>3</th>\n",
       "      <td>EnemiesPost Malone Featuring DaBaby</td>\n",
       "      <td>Post Malone Featuring DaBaby</td>\n",
       "      <td>Enemies</td>\n",
       "      <td>['dfw rap', 'melodic rap', 'rap']</td>\n",
       "      <td>Hollywood's Bleeding</td>\n",
       "      <td>1.0</td>\n",
       "    </tr>\n",
       "    <tr>\n",
       "      <th>4</th>\n",
       "      <td>Bacc At It AgainYella Beezy, Gucci Mane &amp; Quavo</td>\n",
       "      <td>Yella Beezy, Gucci Mane &amp; Quavo</td>\n",
       "      <td>Bacc At It Again</td>\n",
       "      <td>['dfw rap', 'rap', 'southern hip hop', 'trap']</td>\n",
       "      <td>Bacc At It Again</td>\n",
       "      <td>1.0</td>\n",
       "    </tr>\n",
       "  </tbody>\n",
       "</table>\n",
       "</div>"
      ],
      "text/plain": [
       "                                              SongID  \\\n",
       "0                      AdictoTainy, Anuel AA & Ozuna   \n",
       "1  The Ones That Didn't Make It Back HomeJustin M...   \n",
       "2                  ShallowLady Gaga & Bradley Cooper   \n",
       "3                EnemiesPost Malone Featuring DaBaby   \n",
       "4    Bacc At It AgainYella Beezy, Gucci Mane & Quavo   \n",
       "\n",
       "                         Performer                                    Song  \\\n",
       "0          Tainy, Anuel AA & Ozuna                                  Adicto   \n",
       "1                     Justin Moore  The Ones That Didn't Make It Back Home   \n",
       "2       Lady Gaga & Bradley Cooper                                 Shallow   \n",
       "3     Post Malone Featuring DaBaby                                 Enemies   \n",
       "4  Yella Beezy, Gucci Mane & Quavo                        Bacc At It Again   \n",
       "\n",
       "                                       spotify_genre  \\\n",
       "0                                  ['pop reggaeton']   \n",
       "1  ['arkansas country', 'contemporary country', '...   \n",
       "2                               ['dance pop', 'pop']   \n",
       "3                  ['dfw rap', 'melodic rap', 'rap']   \n",
       "4     ['dfw rap', 'rap', 'southern hip hop', 'trap']   \n",
       "\n",
       "              spotify_track_album  spotify_track_explicit  \n",
       "0  Adicto (with Anuel AA & Ozuna)                     0.0  \n",
       "1                             NaN                     NaN  \n",
       "2       A Star Is Born Soundtrack                     0.0  \n",
       "3            Hollywood's Bleeding                     1.0  \n",
       "4                Bacc At It Again                     1.0  "
      ]
     },
     "execution_count": 13,
     "metadata": {},
     "output_type": "execute_result"
    },
    {
     "data": {
      "application/javascript": [
       "\n",
       "            setTimeout(function() {\n",
       "                var nbb_cell_id = 13;\n",
       "                var nbb_unformatted_code = \"genres.head()\";\n",
       "                var nbb_formatted_code = \"genres.head()\";\n",
       "                var nbb_cells = Jupyter.notebook.get_cells();\n",
       "                for (var i = 0; i < nbb_cells.length; ++i) {\n",
       "                    if (nbb_cells[i].input_prompt_number == nbb_cell_id) {\n",
       "                        if (nbb_cells[i].get_text() == nbb_unformatted_code) {\n",
       "                             nbb_cells[i].set_text(nbb_formatted_code);\n",
       "                        }\n",
       "                        break;\n",
       "                    }\n",
       "                }\n",
       "            }, 500);\n",
       "            "
      ],
      "text/plain": [
       "<IPython.core.display.Javascript object>"
      ]
     },
     "metadata": {},
     "output_type": "display_data"
    }
   ],
   "source": [
    "genres.head()"
   ]
  },
  {
   "cell_type": "code",
   "execution_count": 14,
   "metadata": {},
   "outputs": [
    {
     "data": {
      "text/plain": [
       "SongID                     object\n",
       "Performer                  object\n",
       "Song                       object\n",
       "spotify_genre              object\n",
       "spotify_track_album        object\n",
       "spotify_track_explicit    float64\n",
       "dtype: object"
      ]
     },
     "execution_count": 14,
     "metadata": {},
     "output_type": "execute_result"
    },
    {
     "data": {
      "application/javascript": [
       "\n",
       "            setTimeout(function() {\n",
       "                var nbb_cell_id = 14;\n",
       "                var nbb_unformatted_code = \"genres.dtypes\";\n",
       "                var nbb_formatted_code = \"genres.dtypes\";\n",
       "                var nbb_cells = Jupyter.notebook.get_cells();\n",
       "                for (var i = 0; i < nbb_cells.length; ++i) {\n",
       "                    if (nbb_cells[i].input_prompt_number == nbb_cell_id) {\n",
       "                        if (nbb_cells[i].get_text() == nbb_unformatted_code) {\n",
       "                             nbb_cells[i].set_text(nbb_formatted_code);\n",
       "                        }\n",
       "                        break;\n",
       "                    }\n",
       "                }\n",
       "            }, 500);\n",
       "            "
      ],
      "text/plain": [
       "<IPython.core.display.Javascript object>"
      ]
     },
     "metadata": {},
     "output_type": "display_data"
    }
   ],
   "source": [
    "genres.dtypes"
   ]
  },
  {
   "cell_type": "markdown",
   "metadata": {},
   "source": [
    "# Join the 2 tables"
   ]
  },
  {
   "cell_type": "code",
   "execution_count": 15,
   "metadata": {},
   "outputs": [
    {
     "data": {
      "application/javascript": [
       "\n",
       "            setTimeout(function() {\n",
       "                var nbb_cell_id = 15;\n",
       "                var nbb_unformatted_code = \"full_table = hot_100.merge(genres, left_on=\\\"SongID\\\", right_on=\\\"SongID\\\")\";\n",
       "                var nbb_formatted_code = \"full_table = hot_100.merge(genres, left_on=\\\"SongID\\\", right_on=\\\"SongID\\\")\";\n",
       "                var nbb_cells = Jupyter.notebook.get_cells();\n",
       "                for (var i = 0; i < nbb_cells.length; ++i) {\n",
       "                    if (nbb_cells[i].input_prompt_number == nbb_cell_id) {\n",
       "                        if (nbb_cells[i].get_text() == nbb_unformatted_code) {\n",
       "                             nbb_cells[i].set_text(nbb_formatted_code);\n",
       "                        }\n",
       "                        break;\n",
       "                    }\n",
       "                }\n",
       "            }, 500);\n",
       "            "
      ],
      "text/plain": [
       "<IPython.core.display.Javascript object>"
      ]
     },
     "metadata": {},
     "output_type": "display_data"
    }
   ],
   "source": [
    "full_table = hot_100.merge(genres, left_on=\"SongID\", right_on=\"SongID\")"
   ]
  },
  {
   "cell_type": "markdown",
   "metadata": {},
   "source": [
    "# Analysis"
   ]
  },
  {
   "cell_type": "code",
   "execution_count": 16,
   "metadata": {},
   "outputs": [
    {
     "data": {
      "text/html": [
       "<div>\n",
       "<style scoped>\n",
       "    .dataframe tbody tr th:only-of-type {\n",
       "        vertical-align: middle;\n",
       "    }\n",
       "\n",
       "    .dataframe tbody tr th {\n",
       "        vertical-align: top;\n",
       "    }\n",
       "\n",
       "    .dataframe thead th {\n",
       "        text-align: right;\n",
       "    }\n",
       "</style>\n",
       "<table border=\"1\" class=\"dataframe\">\n",
       "  <thead>\n",
       "    <tr style=\"text-align: right;\">\n",
       "      <th></th>\n",
       "      <th>WeekID</th>\n",
       "      <th>Week Position</th>\n",
       "      <th>Song_x</th>\n",
       "      <th>Performer_x</th>\n",
       "      <th>SongID</th>\n",
       "      <th>Instance</th>\n",
       "      <th>Previous Week Position</th>\n",
       "      <th>Peak Position</th>\n",
       "      <th>Weeks on Chart</th>\n",
       "      <th>Performer_y</th>\n",
       "      <th>Song_y</th>\n",
       "      <th>spotify_genre</th>\n",
       "      <th>spotify_track_album</th>\n",
       "    </tr>\n",
       "    <tr>\n",
       "      <th>spotify_track_explicit</th>\n",
       "      <th></th>\n",
       "      <th></th>\n",
       "      <th></th>\n",
       "      <th></th>\n",
       "      <th></th>\n",
       "      <th></th>\n",
       "      <th></th>\n",
       "      <th></th>\n",
       "      <th></th>\n",
       "      <th></th>\n",
       "      <th></th>\n",
       "      <th></th>\n",
       "      <th></th>\n",
       "    </tr>\n",
       "  </thead>\n",
       "  <tbody>\n",
       "    <tr>\n",
       "      <th>0.0</th>\n",
       "      <td>249580</td>\n",
       "      <td>249580</td>\n",
       "      <td>249580</td>\n",
       "      <td>249580</td>\n",
       "      <td>249580</td>\n",
       "      <td>249580</td>\n",
       "      <td>226746</td>\n",
       "      <td>249580</td>\n",
       "      <td>249580</td>\n",
       "      <td>249580</td>\n",
       "      <td>249580</td>\n",
       "      <td>248185</td>\n",
       "      <td>249540</td>\n",
       "    </tr>\n",
       "    <tr>\n",
       "      <th>1.0</th>\n",
       "      <td>31089</td>\n",
       "      <td>31089</td>\n",
       "      <td>31089</td>\n",
       "      <td>31089</td>\n",
       "      <td>31089</td>\n",
       "      <td>31089</td>\n",
       "      <td>28064</td>\n",
       "      <td>31089</td>\n",
       "      <td>31089</td>\n",
       "      <td>31089</td>\n",
       "      <td>31089</td>\n",
       "      <td>31011</td>\n",
       "      <td>31067</td>\n",
       "    </tr>\n",
       "  </tbody>\n",
       "</table>\n",
       "</div>"
      ],
      "text/plain": [
       "                        WeekID  Week Position  Song_x  Performer_x  SongID  \\\n",
       "spotify_track_explicit                                                       \n",
       "0.0                     249580         249580  249580       249580  249580   \n",
       "1.0                      31089          31089   31089        31089   31089   \n",
       "\n",
       "                        Instance  Previous Week Position  Peak Position  \\\n",
       "spotify_track_explicit                                                    \n",
       "0.0                       249580                  226746         249580   \n",
       "1.0                        31089                   28064          31089   \n",
       "\n",
       "                        Weeks on Chart  Performer_y  Song_y  spotify_genre  \\\n",
       "spotify_track_explicit                                                       \n",
       "0.0                             249580       249580  249580         248185   \n",
       "1.0                              31089        31089   31089          31011   \n",
       "\n",
       "                        spotify_track_album  \n",
       "spotify_track_explicit                       \n",
       "0.0                                  249540  \n",
       "1.0                                   31067  "
      ]
     },
     "execution_count": 16,
     "metadata": {},
     "output_type": "execute_result"
    },
    {
     "data": {
      "application/javascript": [
       "\n",
       "            setTimeout(function() {\n",
       "                var nbb_cell_id = 16;\n",
       "                var nbb_unformatted_code = \"full_table.set_index(\\\"SongID\\\")\\nfull_table.groupby(\\\"spotify_track_explicit\\\").count()\";\n",
       "                var nbb_formatted_code = \"full_table.set_index(\\\"SongID\\\")\\nfull_table.groupby(\\\"spotify_track_explicit\\\").count()\";\n",
       "                var nbb_cells = Jupyter.notebook.get_cells();\n",
       "                for (var i = 0; i < nbb_cells.length; ++i) {\n",
       "                    if (nbb_cells[i].input_prompt_number == nbb_cell_id) {\n",
       "                        if (nbb_cells[i].get_text() == nbb_unformatted_code) {\n",
       "                             nbb_cells[i].set_text(nbb_formatted_code);\n",
       "                        }\n",
       "                        break;\n",
       "                    }\n",
       "                }\n",
       "            }, 500);\n",
       "            "
      ],
      "text/plain": [
       "<IPython.core.display.Javascript object>"
      ]
     },
     "metadata": {},
     "output_type": "display_data"
    }
   ],
   "source": [
    "full_table.set_index(\"SongID\")\n",
    "full_table.groupby(\"spotify_track_explicit\").count()"
   ]
  },
  {
   "cell_type": "code",
   "execution_count": 17,
   "metadata": {},
   "outputs": [
    {
     "data": {
      "text/html": [
       "<div>\n",
       "<style scoped>\n",
       "    .dataframe tbody tr th:only-of-type {\n",
       "        vertical-align: middle;\n",
       "    }\n",
       "\n",
       "    .dataframe tbody tr th {\n",
       "        vertical-align: top;\n",
       "    }\n",
       "\n",
       "    .dataframe thead th {\n",
       "        text-align: right;\n",
       "    }\n",
       "</style>\n",
       "<table border=\"1\" class=\"dataframe\">\n",
       "  <thead>\n",
       "    <tr style=\"text-align: right;\">\n",
       "      <th></th>\n",
       "      <th>WeekID</th>\n",
       "      <th>Week Position</th>\n",
       "      <th>Song_x</th>\n",
       "      <th>Performer_x</th>\n",
       "      <th>SongID</th>\n",
       "      <th>Instance</th>\n",
       "      <th>Previous Week Position</th>\n",
       "      <th>Peak Position</th>\n",
       "      <th>Weeks on Chart</th>\n",
       "      <th>Performer_y</th>\n",
       "      <th>Song_y</th>\n",
       "      <th>spotify_genre</th>\n",
       "      <th>spotify_track_album</th>\n",
       "      <th>spotify_track_explicit</th>\n",
       "    </tr>\n",
       "  </thead>\n",
       "  <tbody>\n",
       "    <tr>\n",
       "      <th>0</th>\n",
       "      <td>2/2/2019</td>\n",
       "      <td>1</td>\n",
       "      <td>7 Rings</td>\n",
       "      <td>Ariana Grande</td>\n",
       "      <td>7 RingsAriana Grande</td>\n",
       "      <td>1</td>\n",
       "      <td>NaN</td>\n",
       "      <td>1</td>\n",
       "      <td>1</td>\n",
       "      <td>Ariana Grande</td>\n",
       "      <td>7 Rings</td>\n",
       "      <td>['dance pop', 'pop', 'post-teen pop']</td>\n",
       "      <td>thank</td>\n",
       "      <td>1.0</td>\n",
       "    </tr>\n",
       "    <tr>\n",
       "      <th>1</th>\n",
       "      <td>5/25/2019</td>\n",
       "      <td>11</td>\n",
       "      <td>7 Rings</td>\n",
       "      <td>Ariana Grande</td>\n",
       "      <td>7 RingsAriana Grande</td>\n",
       "      <td>1</td>\n",
       "      <td>10.0</td>\n",
       "      <td>1</td>\n",
       "      <td>17</td>\n",
       "      <td>Ariana Grande</td>\n",
       "      <td>7 Rings</td>\n",
       "      <td>['dance pop', 'pop', 'post-teen pop']</td>\n",
       "      <td>thank</td>\n",
       "      <td>1.0</td>\n",
       "    </tr>\n",
       "    <tr>\n",
       "      <th>2</th>\n",
       "      <td>4/20/2019</td>\n",
       "      <td>4</td>\n",
       "      <td>7 Rings</td>\n",
       "      <td>Ariana Grande</td>\n",
       "      <td>7 RingsAriana Grande</td>\n",
       "      <td>1</td>\n",
       "      <td>3.0</td>\n",
       "      <td>1</td>\n",
       "      <td>12</td>\n",
       "      <td>Ariana Grande</td>\n",
       "      <td>7 Rings</td>\n",
       "      <td>['dance pop', 'pop', 'post-teen pop']</td>\n",
       "      <td>thank</td>\n",
       "      <td>1.0</td>\n",
       "    </tr>\n",
       "    <tr>\n",
       "      <th>3</th>\n",
       "      <td>6/1/2019</td>\n",
       "      <td>12</td>\n",
       "      <td>7 Rings</td>\n",
       "      <td>Ariana Grande</td>\n",
       "      <td>7 RingsAriana Grande</td>\n",
       "      <td>1</td>\n",
       "      <td>11.0</td>\n",
       "      <td>1</td>\n",
       "      <td>18</td>\n",
       "      <td>Ariana Grande</td>\n",
       "      <td>7 Rings</td>\n",
       "      <td>['dance pop', 'pop', 'post-teen pop']</td>\n",
       "      <td>thank</td>\n",
       "      <td>1.0</td>\n",
       "    </tr>\n",
       "    <tr>\n",
       "      <th>4</th>\n",
       "      <td>3/30/2019</td>\n",
       "      <td>1</td>\n",
       "      <td>7 Rings</td>\n",
       "      <td>Ariana Grande</td>\n",
       "      <td>7 RingsAriana Grande</td>\n",
       "      <td>1</td>\n",
       "      <td>1.0</td>\n",
       "      <td>1</td>\n",
       "      <td>9</td>\n",
       "      <td>Ariana Grande</td>\n",
       "      <td>7 Rings</td>\n",
       "      <td>['dance pop', 'pop', 'post-teen pop']</td>\n",
       "      <td>thank</td>\n",
       "      <td>1.0</td>\n",
       "    </tr>\n",
       "    <tr>\n",
       "      <th>...</th>\n",
       "      <td>...</td>\n",
       "      <td>...</td>\n",
       "      <td>...</td>\n",
       "      <td>...</td>\n",
       "      <td>...</td>\n",
       "      <td>...</td>\n",
       "      <td>...</td>\n",
       "      <td>...</td>\n",
       "      <td>...</td>\n",
       "      <td>...</td>\n",
       "      <td>...</td>\n",
       "      <td>...</td>\n",
       "      <td>...</td>\n",
       "      <td>...</td>\n",
       "    </tr>\n",
       "    <tr>\n",
       "      <th>320933</th>\n",
       "      <td>9/16/2000</td>\n",
       "      <td>58</td>\n",
       "      <td>What'Chu Like</td>\n",
       "      <td>Da Brat Featuring Tyrese</td>\n",
       "      <td>What'Chu LikeDa Brat Featuring Tyrese</td>\n",
       "      <td>1</td>\n",
       "      <td>49.0</td>\n",
       "      <td>26</td>\n",
       "      <td>16</td>\n",
       "      <td>Da Brat Featuring Tyrese</td>\n",
       "      <td>What'Chu Like</td>\n",
       "      <td>['chicago rap', 'hip hop', 'hip pop', 'new jac...</td>\n",
       "      <td>Unrestricted</td>\n",
       "      <td>1.0</td>\n",
       "    </tr>\n",
       "    <tr>\n",
       "      <th>320934</th>\n",
       "      <td>9/23/2000</td>\n",
       "      <td>62</td>\n",
       "      <td>What'Chu Like</td>\n",
       "      <td>Da Brat Featuring Tyrese</td>\n",
       "      <td>What'Chu LikeDa Brat Featuring Tyrese</td>\n",
       "      <td>1</td>\n",
       "      <td>58.0</td>\n",
       "      <td>26</td>\n",
       "      <td>17</td>\n",
       "      <td>Da Brat Featuring Tyrese</td>\n",
       "      <td>What'Chu Like</td>\n",
       "      <td>['chicago rap', 'hip hop', 'hip pop', 'new jac...</td>\n",
       "      <td>Unrestricted</td>\n",
       "      <td>1.0</td>\n",
       "    </tr>\n",
       "    <tr>\n",
       "      <th>320935</th>\n",
       "      <td>9/30/2000</td>\n",
       "      <td>65</td>\n",
       "      <td>What'Chu Like</td>\n",
       "      <td>Da Brat Featuring Tyrese</td>\n",
       "      <td>What'Chu LikeDa Brat Featuring Tyrese</td>\n",
       "      <td>1</td>\n",
       "      <td>62.0</td>\n",
       "      <td>26</td>\n",
       "      <td>18</td>\n",
       "      <td>Da Brat Featuring Tyrese</td>\n",
       "      <td>What'Chu Like</td>\n",
       "      <td>['chicago rap', 'hip hop', 'hip pop', 'new jac...</td>\n",
       "      <td>Unrestricted</td>\n",
       "      <td>1.0</td>\n",
       "    </tr>\n",
       "    <tr>\n",
       "      <th>320936</th>\n",
       "      <td>10/7/2000</td>\n",
       "      <td>68</td>\n",
       "      <td>What'Chu Like</td>\n",
       "      <td>Da Brat Featuring Tyrese</td>\n",
       "      <td>What'Chu LikeDa Brat Featuring Tyrese</td>\n",
       "      <td>1</td>\n",
       "      <td>65.0</td>\n",
       "      <td>26</td>\n",
       "      <td>19</td>\n",
       "      <td>Da Brat Featuring Tyrese</td>\n",
       "      <td>What'Chu Like</td>\n",
       "      <td>['chicago rap', 'hip hop', 'hip pop', 'new jac...</td>\n",
       "      <td>Unrestricted</td>\n",
       "      <td>1.0</td>\n",
       "    </tr>\n",
       "    <tr>\n",
       "      <th>320937</th>\n",
       "      <td>10/14/2000</td>\n",
       "      <td>68</td>\n",
       "      <td>What'Chu Like</td>\n",
       "      <td>Da Brat Featuring Tyrese</td>\n",
       "      <td>What'Chu LikeDa Brat Featuring Tyrese</td>\n",
       "      <td>1</td>\n",
       "      <td>68.0</td>\n",
       "      <td>26</td>\n",
       "      <td>20</td>\n",
       "      <td>Da Brat Featuring Tyrese</td>\n",
       "      <td>What'Chu Like</td>\n",
       "      <td>['chicago rap', 'hip hop', 'hip pop', 'new jac...</td>\n",
       "      <td>Unrestricted</td>\n",
       "      <td>1.0</td>\n",
       "    </tr>\n",
       "  </tbody>\n",
       "</table>\n",
       "<p>31089 rows × 14 columns</p>\n",
       "</div>"
      ],
      "text/plain": [
       "            WeekID  Week Position         Song_x               Performer_x  \\\n",
       "0         2/2/2019              1        7 Rings             Ariana Grande   \n",
       "1        5/25/2019             11        7 Rings             Ariana Grande   \n",
       "2        4/20/2019              4        7 Rings             Ariana Grande   \n",
       "3         6/1/2019             12        7 Rings             Ariana Grande   \n",
       "4        3/30/2019              1        7 Rings             Ariana Grande   \n",
       "...            ...            ...            ...                       ...   \n",
       "320933   9/16/2000             58  What'Chu Like  Da Brat Featuring Tyrese   \n",
       "320934   9/23/2000             62  What'Chu Like  Da Brat Featuring Tyrese   \n",
       "320935   9/30/2000             65  What'Chu Like  Da Brat Featuring Tyrese   \n",
       "320936   10/7/2000             68  What'Chu Like  Da Brat Featuring Tyrese   \n",
       "320937  10/14/2000             68  What'Chu Like  Da Brat Featuring Tyrese   \n",
       "\n",
       "                                       SongID  Instance  \\\n",
       "0                        7 RingsAriana Grande         1   \n",
       "1                        7 RingsAriana Grande         1   \n",
       "2                        7 RingsAriana Grande         1   \n",
       "3                        7 RingsAriana Grande         1   \n",
       "4                        7 RingsAriana Grande         1   \n",
       "...                                       ...       ...   \n",
       "320933  What'Chu LikeDa Brat Featuring Tyrese         1   \n",
       "320934  What'Chu LikeDa Brat Featuring Tyrese         1   \n",
       "320935  What'Chu LikeDa Brat Featuring Tyrese         1   \n",
       "320936  What'Chu LikeDa Brat Featuring Tyrese         1   \n",
       "320937  What'Chu LikeDa Brat Featuring Tyrese         1   \n",
       "\n",
       "        Previous Week Position  Peak Position  Weeks on Chart  \\\n",
       "0                          NaN              1               1   \n",
       "1                         10.0              1              17   \n",
       "2                          3.0              1              12   \n",
       "3                         11.0              1              18   \n",
       "4                          1.0              1               9   \n",
       "...                        ...            ...             ...   \n",
       "320933                    49.0             26              16   \n",
       "320934                    58.0             26              17   \n",
       "320935                    62.0             26              18   \n",
       "320936                    65.0             26              19   \n",
       "320937                    68.0             26              20   \n",
       "\n",
       "                     Performer_y         Song_y  \\\n",
       "0                  Ariana Grande        7 Rings   \n",
       "1                  Ariana Grande        7 Rings   \n",
       "2                  Ariana Grande        7 Rings   \n",
       "3                  Ariana Grande        7 Rings   \n",
       "4                  Ariana Grande        7 Rings   \n",
       "...                          ...            ...   \n",
       "320933  Da Brat Featuring Tyrese  What'Chu Like   \n",
       "320934  Da Brat Featuring Tyrese  What'Chu Like   \n",
       "320935  Da Brat Featuring Tyrese  What'Chu Like   \n",
       "320936  Da Brat Featuring Tyrese  What'Chu Like   \n",
       "320937  Da Brat Featuring Tyrese  What'Chu Like   \n",
       "\n",
       "                                            spotify_genre spotify_track_album  \\\n",
       "0                   ['dance pop', 'pop', 'post-teen pop']              thank    \n",
       "1                   ['dance pop', 'pop', 'post-teen pop']              thank    \n",
       "2                   ['dance pop', 'pop', 'post-teen pop']              thank    \n",
       "3                   ['dance pop', 'pop', 'post-teen pop']              thank    \n",
       "4                   ['dance pop', 'pop', 'post-teen pop']              thank    \n",
       "...                                                   ...                 ...   \n",
       "320933  ['chicago rap', 'hip hop', 'hip pop', 'new jac...        Unrestricted   \n",
       "320934  ['chicago rap', 'hip hop', 'hip pop', 'new jac...        Unrestricted   \n",
       "320935  ['chicago rap', 'hip hop', 'hip pop', 'new jac...        Unrestricted   \n",
       "320936  ['chicago rap', 'hip hop', 'hip pop', 'new jac...        Unrestricted   \n",
       "320937  ['chicago rap', 'hip hop', 'hip pop', 'new jac...        Unrestricted   \n",
       "\n",
       "        spotify_track_explicit  \n",
       "0                          1.0  \n",
       "1                          1.0  \n",
       "2                          1.0  \n",
       "3                          1.0  \n",
       "4                          1.0  \n",
       "...                        ...  \n",
       "320933                     1.0  \n",
       "320934                     1.0  \n",
       "320935                     1.0  \n",
       "320936                     1.0  \n",
       "320937                     1.0  \n",
       "\n",
       "[31089 rows x 14 columns]"
      ]
     },
     "execution_count": 17,
     "metadata": {},
     "output_type": "execute_result"
    },
    {
     "data": {
      "application/javascript": [
       "\n",
       "            setTimeout(function() {\n",
       "                var nbb_cell_id = 17;\n",
       "                var nbb_unformatted_code = \"expl = full_table[full_table[\\\"spotify_track_explicit\\\"] == 1.0]\\nexpl\";\n",
       "                var nbb_formatted_code = \"expl = full_table[full_table[\\\"spotify_track_explicit\\\"] == 1.0]\\nexpl\";\n",
       "                var nbb_cells = Jupyter.notebook.get_cells();\n",
       "                for (var i = 0; i < nbb_cells.length; ++i) {\n",
       "                    if (nbb_cells[i].input_prompt_number == nbb_cell_id) {\n",
       "                        if (nbb_cells[i].get_text() == nbb_unformatted_code) {\n",
       "                             nbb_cells[i].set_text(nbb_formatted_code);\n",
       "                        }\n",
       "                        break;\n",
       "                    }\n",
       "                }\n",
       "            }, 500);\n",
       "            "
      ],
      "text/plain": [
       "<IPython.core.display.Javascript object>"
      ]
     },
     "metadata": {},
     "output_type": "display_data"
    }
   ],
   "source": [
    "expl = full_table[full_table[\"spotify_track_explicit\"] == 1.0]\n",
    "expl"
   ]
  },
  {
   "cell_type": "code",
   "execution_count": 21,
   "metadata": {},
   "outputs": [
    {
     "ename": "TypeError",
     "evalue": "argument of type 'float' is not iterable",
     "output_type": "error",
     "traceback": [
      "\u001b[1;31m---------------------------------------------------------------------------\u001b[0m",
      "\u001b[1;31mTypeError\u001b[0m                                 Traceback (most recent call last)",
      "\u001b[1;32m<ipython-input-21-15a94f8f0832>\u001b[0m in \u001b[0;36m<module>\u001b[1;34m\u001b[0m\n\u001b[0;32m      1\u001b[0m \u001b[1;31m# mask = full_table[\"spotify_genre\"].apply(lambda x: \"rap\" in x)\u001b[0m\u001b[1;33m\u001b[0m\u001b[1;33m\u001b[0m\u001b[1;33m\u001b[0m\u001b[0m\n\u001b[0;32m      2\u001b[0m \u001b[1;31m# rap = full_table[mask]\u001b[0m\u001b[1;33m\u001b[0m\u001b[1;33m\u001b[0m\u001b[1;33m\u001b[0m\u001b[0m\n\u001b[1;32m----> 3\u001b[1;33m \u001b[0mrap\u001b[0m \u001b[1;33m=\u001b[0m \u001b[0mfull_table\u001b[0m\u001b[1;33m[\u001b[0m\u001b[0mfull_table\u001b[0m\u001b[1;33m[\u001b[0m\u001b[1;34m\"spotify_genre\"\u001b[0m\u001b[1;33m]\u001b[0m\u001b[1;33m.\u001b[0m\u001b[0mapply\u001b[0m\u001b[1;33m(\u001b[0m\u001b[1;32mlambda\u001b[0m \u001b[0mx\u001b[0m\u001b[1;33m:\u001b[0m \u001b[1;34m\"rap\"\u001b[0m \u001b[1;32min\u001b[0m \u001b[0mx\u001b[0m\u001b[1;33m)\u001b[0m\u001b[1;33m]\u001b[0m\u001b[1;33m\u001b[0m\u001b[1;33m\u001b[0m\u001b[0m\n\u001b[0m",
      "\u001b[1;32m~\\anaconda3\\lib\\site-packages\\pandas\\core\\series.py\u001b[0m in \u001b[0;36mapply\u001b[1;34m(self, func, convert_dtype, args, **kwds)\u001b[0m\n\u001b[0;32m   3846\u001b[0m             \u001b[1;32melse\u001b[0m\u001b[1;33m:\u001b[0m\u001b[1;33m\u001b[0m\u001b[1;33m\u001b[0m\u001b[0m\n\u001b[0;32m   3847\u001b[0m                 \u001b[0mvalues\u001b[0m \u001b[1;33m=\u001b[0m \u001b[0mself\u001b[0m\u001b[1;33m.\u001b[0m\u001b[0mastype\u001b[0m\u001b[1;33m(\u001b[0m\u001b[0mobject\u001b[0m\u001b[1;33m)\u001b[0m\u001b[1;33m.\u001b[0m\u001b[0mvalues\u001b[0m\u001b[1;33m\u001b[0m\u001b[1;33m\u001b[0m\u001b[0m\n\u001b[1;32m-> 3848\u001b[1;33m                 \u001b[0mmapped\u001b[0m \u001b[1;33m=\u001b[0m \u001b[0mlib\u001b[0m\u001b[1;33m.\u001b[0m\u001b[0mmap_infer\u001b[0m\u001b[1;33m(\u001b[0m\u001b[0mvalues\u001b[0m\u001b[1;33m,\u001b[0m \u001b[0mf\u001b[0m\u001b[1;33m,\u001b[0m \u001b[0mconvert\u001b[0m\u001b[1;33m=\u001b[0m\u001b[0mconvert_dtype\u001b[0m\u001b[1;33m)\u001b[0m\u001b[1;33m\u001b[0m\u001b[1;33m\u001b[0m\u001b[0m\n\u001b[0m\u001b[0;32m   3849\u001b[0m \u001b[1;33m\u001b[0m\u001b[0m\n\u001b[0;32m   3850\u001b[0m         \u001b[1;32mif\u001b[0m \u001b[0mlen\u001b[0m\u001b[1;33m(\u001b[0m\u001b[0mmapped\u001b[0m\u001b[1;33m)\u001b[0m \u001b[1;32mand\u001b[0m \u001b[0misinstance\u001b[0m\u001b[1;33m(\u001b[0m\u001b[0mmapped\u001b[0m\u001b[1;33m[\u001b[0m\u001b[1;36m0\u001b[0m\u001b[1;33m]\u001b[0m\u001b[1;33m,\u001b[0m \u001b[0mSeries\u001b[0m\u001b[1;33m)\u001b[0m\u001b[1;33m:\u001b[0m\u001b[1;33m\u001b[0m\u001b[1;33m\u001b[0m\u001b[0m\n",
      "\u001b[1;32mpandas\\_libs\\lib.pyx\u001b[0m in \u001b[0;36mpandas._libs.lib.map_infer\u001b[1;34m()\u001b[0m\n",
      "\u001b[1;32m<ipython-input-21-15a94f8f0832>\u001b[0m in \u001b[0;36m<lambda>\u001b[1;34m(x)\u001b[0m\n\u001b[0;32m      1\u001b[0m \u001b[1;31m# mask = full_table[\"spotify_genre\"].apply(lambda x: \"rap\" in x)\u001b[0m\u001b[1;33m\u001b[0m\u001b[1;33m\u001b[0m\u001b[1;33m\u001b[0m\u001b[0m\n\u001b[0;32m      2\u001b[0m \u001b[1;31m# rap = full_table[mask]\u001b[0m\u001b[1;33m\u001b[0m\u001b[1;33m\u001b[0m\u001b[1;33m\u001b[0m\u001b[0m\n\u001b[1;32m----> 3\u001b[1;33m \u001b[0mrap\u001b[0m \u001b[1;33m=\u001b[0m \u001b[0mfull_table\u001b[0m\u001b[1;33m[\u001b[0m\u001b[0mfull_table\u001b[0m\u001b[1;33m[\u001b[0m\u001b[1;34m\"spotify_genre\"\u001b[0m\u001b[1;33m]\u001b[0m\u001b[1;33m.\u001b[0m\u001b[0mapply\u001b[0m\u001b[1;33m(\u001b[0m\u001b[1;32mlambda\u001b[0m \u001b[0mx\u001b[0m\u001b[1;33m:\u001b[0m \u001b[1;34m\"rap\"\u001b[0m \u001b[1;32min\u001b[0m \u001b[0mx\u001b[0m\u001b[1;33m)\u001b[0m\u001b[1;33m]\u001b[0m\u001b[1;33m\u001b[0m\u001b[1;33m\u001b[0m\u001b[0m\n\u001b[0m",
      "\u001b[1;31mTypeError\u001b[0m: argument of type 'float' is not iterable"
     ]
    },
    {
     "data": {
      "application/javascript": [
       "\n",
       "            setTimeout(function() {\n",
       "                var nbb_cell_id = 21;\n",
       "                var nbb_unformatted_code = \"# mask = full_table[\\\"spotify_genre\\\"].apply(lambda x: \\\"rap\\\" in x)\\n# rap = full_table[mask]\\nrap = full_table[full_table[\\\"spotify_genre\\\"].apply(lambda x: \\\"rap\\\" in x)]\";\n",
       "                var nbb_formatted_code = \"# mask = full_table[\\\"spotify_genre\\\"].apply(lambda x: \\\"rap\\\" in x)\\n# rap = full_table[mask]\\nrap = full_table[full_table[\\\"spotify_genre\\\"].apply(lambda x: \\\"rap\\\" in x)]\";\n",
       "                var nbb_cells = Jupyter.notebook.get_cells();\n",
       "                for (var i = 0; i < nbb_cells.length; ++i) {\n",
       "                    if (nbb_cells[i].input_prompt_number == nbb_cell_id) {\n",
       "                        if (nbb_cells[i].get_text() == nbb_unformatted_code) {\n",
       "                             nbb_cells[i].set_text(nbb_formatted_code);\n",
       "                        }\n",
       "                        break;\n",
       "                    }\n",
       "                }\n",
       "            }, 500);\n",
       "            "
      ],
      "text/plain": [
       "<IPython.core.display.Javascript object>"
      ]
     },
     "metadata": {},
     "output_type": "display_data"
    }
   ],
   "source": [
    "# mask = full_table[\"spotify_genre\"].apply(lambda x: \"rap\" in x)\n",
    "# rap = full_table[mask]\n",
    "rap = full_table[full_table[\"spotify_genre\"].apply(lambda x: \"rap\" in x)]"
   ]
  },
  {
   "cell_type": "code",
   "execution_count": null,
   "metadata": {},
   "outputs": [],
   "source": []
  },
  {
   "cell_type": "code",
   "execution_count": null,
   "metadata": {},
   "outputs": [],
   "source": []
  }
 ],
 "metadata": {
  "kernelspec": {
   "display_name": "Python 3",
   "language": "python",
   "name": "python3"
  },
  "language_info": {
   "codemirror_mode": {
    "name": "ipython",
    "version": 3
   },
   "file_extension": ".py",
   "mimetype": "text/x-python",
   "name": "python",
   "nbconvert_exporter": "python",
   "pygments_lexer": "ipython3",
   "version": "3.7.6"
  }
 },
 "nbformat": 4,
 "nbformat_minor": 4
}
