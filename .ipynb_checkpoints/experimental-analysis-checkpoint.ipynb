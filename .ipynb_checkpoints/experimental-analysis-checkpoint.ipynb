{
 "cells": [
  {
   "cell_type": "markdown",
   "metadata": {},
   "source": [
    "* With your research proposal in hand, it's time to conduct the analysis in Jupyter. Provide a complete research report using the framework introduced in the previous module. The report should tell the story to your intended audience and should include compelling visualizations and actionable insights. Walk through the analysis using clean, reproducible code. Include plenty of notes and comments to guide others through your thinking.\n",
    "\n",
    "* Along the way, consider issues in the experiment design. What bias might be influencing the analysis? Can you test for it? If you could collect new data in this domain, what changes would you make in the data collection process? What other variables or samples might be useful to test?"
   ]
  },
  {
   "cell_type": "code",
   "execution_count": 1,
   "metadata": {},
   "outputs": [
    {
     "data": {
      "application/javascript": [
       "\n",
       "            setTimeout(function() {\n",
       "                var nbb_cell_id = 1;\n",
       "                var nbb_unformatted_code = \"%reload_ext nb_black\";\n",
       "                var nbb_formatted_code = \"%reload_ext nb_black\";\n",
       "                var nbb_cells = Jupyter.notebook.get_cells();\n",
       "                for (var i = 0; i < nbb_cells.length; ++i) {\n",
       "                    if (nbb_cells[i].input_prompt_number == nbb_cell_id) {\n",
       "                        if (nbb_cells[i].get_text() == nbb_unformatted_code) {\n",
       "                             nbb_cells[i].set_text(nbb_formatted_code);\n",
       "                        }\n",
       "                        break;\n",
       "                    }\n",
       "                }\n",
       "            }, 500);\n",
       "            "
      ],
      "text/plain": [
       "<IPython.core.display.Javascript object>"
      ]
     },
     "metadata": {},
     "output_type": "display_data"
    }
   ],
   "source": [
    "%reload_ext nb_black"
   ]
  },
  {
   "cell_type": "code",
   "execution_count": 2,
   "metadata": {},
   "outputs": [
    {
     "data": {
      "application/javascript": [
       "\n",
       "            setTimeout(function() {\n",
       "                var nbb_cell_id = 2;\n",
       "                var nbb_unformatted_code = \"import pandas as pd\\nimport numpy as np\\nfrom scipy import stats\\nimport seaborn as sns\\nimport matplotlib.pyplot as plt\\nimport ast\\nfrom datetime import datetime\\n\\n%matplotlib inline\";\n",
       "                var nbb_formatted_code = \"import pandas as pd\\nimport numpy as np\\nfrom scipy import stats\\nimport seaborn as sns\\nimport matplotlib.pyplot as plt\\nimport ast\\nfrom datetime import datetime\\n\\n%matplotlib inline\";\n",
       "                var nbb_cells = Jupyter.notebook.get_cells();\n",
       "                for (var i = 0; i < nbb_cells.length; ++i) {\n",
       "                    if (nbb_cells[i].input_prompt_number == nbb_cell_id) {\n",
       "                        if (nbb_cells[i].get_text() == nbb_unformatted_code) {\n",
       "                             nbb_cells[i].set_text(nbb_formatted_code);\n",
       "                        }\n",
       "                        break;\n",
       "                    }\n",
       "                }\n",
       "            }, 500);\n",
       "            "
      ],
      "text/plain": [
       "<IPython.core.display.Javascript object>"
      ]
     },
     "metadata": {},
     "output_type": "display_data"
    }
   ],
   "source": [
    "import pandas as pd\n",
    "import numpy as np\n",
    "from scipy import stats\n",
    "import seaborn as sns\n",
    "import matplotlib.pyplot as plt\n",
    "import ast\n",
    "from datetime import datetime\n",
    "\n",
    "%matplotlib inline"
   ]
  },
  {
   "cell_type": "code",
   "execution_count": null,
   "metadata": {},
   "outputs": [],
   "source": [
    "hot_100 = pd.read_csv(\"data/Hot_Stuff.csv\")\n",
    "genres = pd.read_excel(\"data/Hot_100_Audio_Features.xlsx\")"
   ]
  },
  {
   "cell_type": "code",
   "execution_count": null,
   "metadata": {},
   "outputs": [],
   "source": [
    "genres[\"spotify_genre\"].explode().value_counts()"
   ]
  },
  {
   "cell_type": "code",
   "execution_count": null,
   "metadata": {},
   "outputs": [],
   "source": [
    "genres = genres.drop_duplicates()"
   ]
  },
  {
   "cell_type": "markdown",
   "metadata": {},
   "source": [
    "# Drop columns that are not needed"
   ]
  },
  {
   "cell_type": "code",
   "execution_count": null,
   "metadata": {},
   "outputs": [],
   "source": [
    "hot_100 = hot_100.drop(columns=[\"url\"])"
   ]
  },
  {
   "cell_type": "code",
   "execution_count": null,
   "metadata": {},
   "outputs": [],
   "source": [
    "genres = genres.drop(\n",
    "    columns=[\n",
    "        \"spotify_track_id\",\n",
    "        \"spotify_track_preview_url\",\n",
    "        \"spotify_track_duration_ms\",\n",
    "        \"spotify_track_popularity\",\n",
    "        \"danceability\",\n",
    "        \"energy\",\n",
    "        \"key\",\n",
    "        \"loudness\",\n",
    "        \"mode\",\n",
    "        \"acousticness\",\n",
    "        \"speechiness\",\n",
    "        \"liveness\",\n",
    "        \"instrumentalness\",\n",
    "        \"valence\",\n",
    "        \"tempo\",\n",
    "        \"time_signature\",\n",
    "    ]\n",
    ")"
   ]
  },
  {
   "cell_type": "markdown",
   "metadata": {},
   "source": [
    "# Basic table description data"
   ]
  },
  {
   "cell_type": "code",
   "execution_count": null,
   "metadata": {},
   "outputs": [],
   "source": [
    "hot_100.shape"
   ]
  },
  {
   "cell_type": "code",
   "execution_count": null,
   "metadata": {},
   "outputs": [],
   "source": [
    "hot_100.isna().sum()"
   ]
  },
  {
   "cell_type": "code",
   "execution_count": null,
   "metadata": {},
   "outputs": [],
   "source": [
    "hot_100.head()"
   ]
  },
  {
   "cell_type": "code",
   "execution_count": null,
   "metadata": {},
   "outputs": [],
   "source": [
    "hot_100.dtypes"
   ]
  },
  {
   "cell_type": "code",
   "execution_count": null,
   "metadata": {},
   "outputs": [],
   "source": [
    "genres.shape"
   ]
  },
  {
   "cell_type": "code",
   "execution_count": null,
   "metadata": {},
   "outputs": [],
   "source": [
    "genres.isna().mean()"
   ]
  },
  {
   "cell_type": "code",
   "execution_count": null,
   "metadata": {},
   "outputs": [],
   "source": [
    "genres.head()"
   ]
  },
  {
   "cell_type": "code",
   "execution_count": null,
   "metadata": {},
   "outputs": [],
   "source": [
    "genres.dtypes"
   ]
  },
  {
   "cell_type": "markdown",
   "metadata": {},
   "source": [
    "# Fill null values"
   ]
  },
  {
   "cell_type": "code",
   "execution_count": null,
   "metadata": {},
   "outputs": [],
   "source": [
    "genres[\"spotify_track_album\"].fillna(\" \", inplace=True)\n",
    "hot_100[\"Previous Week Position\"].fillna(int(0), inplace=True)\n",
    "genres[\"spotify_track_explicit\"].fillna(999, inplace=True)"
   ]
  },
  {
   "cell_type": "code",
   "execution_count": null,
   "metadata": {},
   "outputs": [],
   "source": [
    "hot_100 = hot_100.astype({\"Previous Week Position\": int})"
   ]
  },
  {
   "cell_type": "code",
   "execution_count": null,
   "metadata": {},
   "outputs": [],
   "source": [
    "genres[\"spotify_genre\"].fillna(\"[]\", inplace=True)\n",
    "genres[\"spotify_genre_list\"] = genres[\"spotify_genre\"].apply(ast.literal_eval)"
   ]
  },
  {
   "cell_type": "code",
   "execution_count": null,
   "metadata": {},
   "outputs": [],
   "source": [
    "genres = genres.astype({\"spotify_track_explicit\": int})"
   ]
  },
  {
   "cell_type": "markdown",
   "metadata": {},
   "source": [
    "# Join the 2 tables"
   ]
  },
  {
   "cell_type": "code",
   "execution_count": null,
   "metadata": {},
   "outputs": [],
   "source": [
    "full_table = hot_100.merge(genres, left_on=\"SongID\", right_on=\"SongID\")\n",
    "full_table"
   ]
  },
  {
   "cell_type": "markdown",
   "metadata": {},
   "source": [
    "# Remove unnecessary columns, re-label columns"
   ]
  },
  {
   "cell_type": "code",
   "execution_count": null,
   "metadata": {},
   "outputs": [],
   "source": [
    "full_table = full_table.drop(columns=[\"Performer_y\", \"Song_y\"])"
   ]
  },
  {
   "cell_type": "code",
   "execution_count": null,
   "metadata": {},
   "outputs": [],
   "source": [
    "full_table.rename(\n",
    "    columns={\n",
    "        \"WeekID\": \"week\",\n",
    "        \"Week Position\": \"week_pos\",\n",
    "        \"Song_x\": \"song\",\n",
    "        \"Performer_x\": \"artist\",\n",
    "        \"SongID\": \"song_id\",\n",
    "        \"Instance\": \"instance\",\n",
    "        \"Previous Week Position\": \"prev_week_pos\",\n",
    "        \"Peak Position\": \"peak_pos\",\n",
    "        \"Weeks on Chart\": \"weeks_on_chart\",\n",
    "        \"spotify_genre\": \"genre\",\n",
    "        \"spotify_genre_list\": \"genre_list\",\n",
    "        \"spotify_track_album\": \"album\",\n",
    "        \"spotify_track_explicit\": \"explicit\",\n",
    "    },\n",
    "    inplace=True,\n",
    ")"
   ]
  },
  {
   "cell_type": "markdown",
   "metadata": {},
   "source": [
    "# Format week to a date format"
   ]
  },
  {
   "cell_type": "code",
   "execution_count": null,
   "metadata": {},
   "outputs": [],
   "source": [
    "full_table[\"week\"] = full_table[\"week\"].apply(\n",
    "    lambda x: datetime.strptime(x, \"%m/%d/%Y\")\n",
    ")\n",
    "full_table[\"week\"] = pd.to_datetime(full_table[\"week\"])"
   ]
  },
  {
   "cell_type": "markdown",
   "metadata": {},
   "source": [
    "# Analysis"
   ]
  },
  {
   "cell_type": "code",
   "execution_count": null,
   "metadata": {},
   "outputs": [],
   "source": [
    "full_table.groupby(\"explicit\").count()"
   ]
  },
  {
   "cell_type": "code",
   "execution_count": null,
   "metadata": {},
   "outputs": [],
   "source": [
    "genre_list = [\"rap\", \"hip hop\", \"metal\", \"country\", \"pop\"]"
   ]
  },
  {
   "cell_type": "code",
   "execution_count": null,
   "metadata": {},
   "outputs": [],
   "source": [
    "rap = full_table[full_table[\"genre\"].apply(lambda x: \"rap\" in x)]\n",
    "rap.shape"
   ]
  },
  {
   "cell_type": "code",
   "execution_count": null,
   "metadata": {},
   "outputs": [],
   "source": [
    "hip_hop = full_table[full_table[\"genre\"].apply(lambda x: \"hip hop\" in x)]\n",
    "hip_hop.shape"
   ]
  },
  {
   "cell_type": "code",
   "execution_count": null,
   "metadata": {},
   "outputs": [],
   "source": [
    "metal = full_table[full_table[\"genre\"].apply(lambda x: \"metal\" in x)]\n",
    "metal.shape"
   ]
  },
  {
   "cell_type": "code",
   "execution_count": null,
   "metadata": {},
   "outputs": [],
   "source": [
    "country = full_table[full_table[\"genre\"].apply(lambda x: \"country\" in x)]\n",
    "country.shape"
   ]
  },
  {
   "cell_type": "code",
   "execution_count": null,
   "metadata": {},
   "outputs": [],
   "source": [
    "pop = full_table[full_table[\"genre\"].apply(lambda x: \"pop\" in x)]\n",
    "pop.shape"
   ]
  },
  {
   "cell_type": "code",
   "execution_count": null,
   "metadata": {},
   "outputs": [],
   "source": [
    "top_10 = full_table[full_table[\"week_pos\"] <= 100]\n",
    "top_10 = top_10.groupby([\"song_id\", \"genre\"]).mean()\n",
    "top_10 = top_10.reset_index()\n",
    "top_10"
   ]
  },
  {
   "cell_type": "code",
   "execution_count": null,
   "metadata": {},
   "outputs": [],
   "source": [
    "for genre in genre_list:\n",
    "    top_10[genre] = top_10[\"genre\"].str.contains(fr\"\\b{genre}\\b\")\n",
    "\n",
    "top_10"
   ]
  },
  {
   "cell_type": "code",
   "execution_count": null,
   "metadata": {},
   "outputs": [],
   "source": [
    "top_10.loc[top_10[\"pop\"], \"genre_label\"] = \"pop\"\n",
    "top_10.loc[top_10[\"rap\"] | top_10[\"hip hop\"], \"genre_label\"] = \"rap\"\n",
    "top_10.loc[top_10[\"metal\"], \"genre_label\"] = \"metal\"\n",
    "top_10.loc[top_10[\"country\"], \"genre_label\"] = \"country\"\n",
    "\n",
    "top_10[\"genre_label\"].value_counts()"
   ]
  },
  {
   "cell_type": "markdown",
   "metadata": {},
   "source": [
    "# Graphs"
   ]
  },
  {
   "cell_type": "markdown",
   "metadata": {},
   "source": [
    "# Put weight on the week_pos sum, peak_pos min, and the max weeks_on_chart"
   ]
  },
  {
   "cell_type": "code",
   "execution_count": null,
   "metadata": {},
   "outputs": [],
   "source": [
    "pop_grp = top_10[top_10[\"genre_label\"] == \"pop\"]\n",
    "rap_grp = top_10[top_10[\"genre_label\"] == \"rap\"]\n",
    "country_grp = top_10[top_10[\"genre_label\"] == \"country\"]\n",
    "metal_grp = top_10[top_10[\"genre_label\"] == \"metal\"]"
   ]
  },
  {
   "cell_type": "code",
   "execution_count": null,
   "metadata": {},
   "outputs": [],
   "source": [
    "plt.hist(pop_grp[\"week_pos\"])\n",
    "plt.hist(rap_grp[\"week_pos\"])\n",
    "plt.hist(country_grp[\"week_pos\"])\n",
    "plt.hist(metal_grp[\"week_pos\"])\n",
    "plt.plot()"
   ]
  },
  {
   "cell_type": "code",
   "execution_count": null,
   "metadata": {},
   "outputs": [],
   "source": [
    "stats.ttest_ind(full_table[\"week_pos\"], full_table[\"explicit\"])"
   ]
  },
  {
   "cell_type": "code",
   "execution_count": null,
   "metadata": {},
   "outputs": [],
   "source": [
    "full_table.dtypes"
   ]
  },
  {
   "cell_type": "code",
   "execution_count": null,
   "metadata": {},
   "outputs": [],
   "source": [
    "sns.violinplot(x=\"explicit\", y=\"week_pos\", data=top_10)\n",
    "plt.plot()"
   ]
  },
  {
   "cell_type": "code",
   "execution_count": null,
   "metadata": {},
   "outputs": [],
   "source": [
    "plt.hist(top_10[\"explicit\"])\n",
    "plt.hist(top_10[\"week_pos\"])\n",
    "plt.plot()"
   ]
  },
  {
   "cell_type": "code",
   "execution_count": null,
   "metadata": {},
   "outputs": [],
   "source": [
    "stats.ttest_ind(top_10[\"explicit\"], top_10[\"week_pos\"])"
   ]
  },
  {
   "cell_type": "code",
   "execution_count": null,
   "metadata": {},
   "outputs": [],
   "source": [
    "expl = full_table[full_table[\"explicit\"] == 1]\n",
    "not_expl = full_table[full_table[\"explicit\"] == 0]\n",
    "\n",
    "plt.hist(expl[\"week\"], alpha=0.9, color=\"red\")\n",
    "plt.hist(not_expl[\"week\"], alpha=0.5, color=\"green\")\n",
    "plt.plot()"
   ]
  },
  {
   "cell_type": "code",
   "execution_count": null,
   "metadata": {},
   "outputs": [],
   "source": [
    "country_expl = country[country[\"explicit\"] == 1]\n",
    "rap_expl = rap[rap[\"explicit\"] == 1]\n",
    "metal_expl = metal[metal[\"explicit\"] == 1]\n",
    "\n",
    "country_not_expl = country[country[\"explicit\"] == 0]\n",
    "rap_not_expl = rap[rap[\"explicit\"] == 0]\n",
    "metal_not_expl = metal[metal[\"explicit\"] == 0]"
   ]
  },
  {
   "cell_type": "code",
   "execution_count": null,
   "metadata": {},
   "outputs": [],
   "source": [
    "plt.hist(country_expl[\"week\"], alpha=0.9, color=\"red\")\n",
    "plt.hist(rap_expl[\"week\"], alpha=0.5, color=\"green\")\n",
    "plt.hist(metal_expl[\"week\"], alpha=0.5, color=\"blue\")\n",
    "plt.plot()"
   ]
  },
  {
   "cell_type": "code",
   "execution_count": null,
   "metadata": {},
   "outputs": [],
   "source": [
    "plt.hist(country_not_expl[\"week\"], alpha=0.5, color=\"red\")\n",
    "plt.hist(rap_not_expl[\"week\"], alpha=0.7, color=\"green\")\n",
    "plt.hist(metal_not_expl[\"week\"], alpha=0.5, color=\"blue\")\n",
    "plt.plot()"
   ]
  },
  {
   "cell_type": "code",
   "execution_count": null,
   "metadata": {},
   "outputs": [],
   "source": [
    "plt.hist(metal_expl[\"week\"], alpha=0.5, color=\"red\")\n",
    "plt.hist(metal_not_expl[\"week\"], alpha=0.5, color=\"green\")\n",
    "plt.plot()"
   ]
  },
  {
   "cell_type": "code",
   "execution_count": null,
   "metadata": {},
   "outputs": [],
   "source": [
    "# group = ess_data[['cntry', 'year', 'sclact']]\n",
    "# sns.violinplot(x='cntry', y='sclact', data=group)\n",
    "# plt.show()"
   ]
  },
  {
   "cell_type": "markdown",
   "metadata": {},
   "source": [
    "# Popularity before and after 1985"
   ]
  },
  {
   "cell_type": "code",
   "execution_count": null,
   "metadata": {},
   "outputs": [],
   "source": [
    "rap"
   ]
  },
  {
   "cell_type": "code",
   "execution_count": null,
   "metadata": {},
   "outputs": [],
   "source": [
    "rap_before_1985 = rap[rap[\"week\"] < \"1985-01-01\"]\n",
    "rap_after_1985 = rap[rap[\"week\"] > \"1985-01-01\"]\n",
    "stats.ttest_ind(rap_before_1985[\"week_pos\"], rap_after_1985[\"week_pos\"])"
   ]
  },
  {
   "cell_type": "code",
   "execution_count": null,
   "metadata": {},
   "outputs": [],
   "source": [
    "# sns.violinplot(x=\"week\", y=\"week_pos\", data=rap)"
   ]
  },
  {
   "cell_type": "code",
   "execution_count": null,
   "metadata": {},
   "outputs": [],
   "source": [
    "hip_hop_before_1985 = hip_hop[hip_hop[\"week\"] < \"1985-01-01\"]\n",
    "hip_hop_after_1985 = hip_hop[hip_hop[\"week\"] > \"1985-01-01\"]\n",
    "stats.ttest_ind(hip_hop_before_1985[\"week_pos\"], hip_hop_after_1985[\"week_pos\"])"
   ]
  },
  {
   "cell_type": "code",
   "execution_count": null,
   "metadata": {},
   "outputs": [],
   "source": [
    "country_before_1985 = country[country[\"week\"] < \"1985-01-01\"]\n",
    "country_after_1985 = country[country[\"week\"] > \"1985-01-01\"]\n",
    "stats.ttest_ind(country_before_1985[\"week_pos\"], country_after_1985[\"week_pos\"])"
   ]
  },
  {
   "cell_type": "code",
   "execution_count": null,
   "metadata": {},
   "outputs": [],
   "source": [
    "metal_before_1985 = metal[metal[\"week\"] < \"1985-01-01\"]\n",
    "metal_after_1985 = metal[metal[\"week\"] > \"1985-01-01\"]\n",
    "stats.ttest_ind(metal_before_1985[\"week_pos\"], metal_after_1985[\"week_pos\"])"
   ]
  },
  {
   "cell_type": "code",
   "execution_count": null,
   "metadata": {},
   "outputs": [],
   "source": [
    "pop_before_1985 = pop[pop[\"week\"] < \"1985-01-01\"]\n",
    "pop_after_1985 = pop[pop[\"week\"] > \"1985-01-01\"]\n",
    "stats.ttest_ind(pop_before_1985[\"week_pos\"], pop_after_1985[\"week_pos\"])"
   ]
  },
  {
   "cell_type": "code",
   "execution_count": null,
   "metadata": {},
   "outputs": [],
   "source": [
    "stats.ttest_ind()"
   ]
  }
 ],
 "metadata": {
  "kernelspec": {
   "display_name": "Python 3",
   "language": "python",
   "name": "python3"
  },
  "language_info": {
   "codemirror_mode": {
    "name": "ipython",
    "version": 3
   },
   "file_extension": ".py",
   "mimetype": "text/x-python",
   "name": "python",
   "nbconvert_exporter": "python",
   "pygments_lexer": "ipython3",
   "version": "3.7.6"
  }
 },
 "nbformat": 4,
 "nbformat_minor": 4
}
