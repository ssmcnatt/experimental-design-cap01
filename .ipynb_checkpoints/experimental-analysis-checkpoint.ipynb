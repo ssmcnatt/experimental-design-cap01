{
 "cells": [
  {
   "cell_type": "markdown",
   "metadata": {},
   "source": [
    "* With your research proposal in hand, it's time to conduct the analysis in Jupyter. Provide a complete research report using the framework introduced in the previous module. The report should tell the story to your intended audience and should include compelling visualizations and actionable insights. Walk through the analysis using clean, reproducible code. Include plenty of notes and comments to guide others through your thinking.\n",
    "\n",
    "* Along the way, consider issues in the experiment design. What bias might be influencing the analysis? Can you test for it? If you could collect new data in this domain, what changes would you make in the data collection process? What other variables or samples might be useful to test?"
   ]
  },
  {
   "cell_type": "code",
   "execution_count": 1,
   "metadata": {},
   "outputs": [
    {
     "data": {
      "application/javascript": [
       "\n",
       "            setTimeout(function() {\n",
       "                var nbb_cell_id = 1;\n",
       "                var nbb_unformatted_code = \"%reload_ext nb_black\";\n",
       "                var nbb_formatted_code = \"%reload_ext nb_black\";\n",
       "                var nbb_cells = Jupyter.notebook.get_cells();\n",
       "                for (var i = 0; i < nbb_cells.length; ++i) {\n",
       "                    if (nbb_cells[i].input_prompt_number == nbb_cell_id) {\n",
       "                        if (nbb_cells[i].get_text() == nbb_unformatted_code) {\n",
       "                             nbb_cells[i].set_text(nbb_formatted_code);\n",
       "                        }\n",
       "                        break;\n",
       "                    }\n",
       "                }\n",
       "            }, 500);\n",
       "            "
      ],
      "text/plain": [
       "<IPython.core.display.Javascript object>"
      ]
     },
     "metadata": {},
     "output_type": "display_data"
    }
   ],
   "source": [
    "%reload_ext nb_black"
   ]
  },
  {
   "cell_type": "code",
   "execution_count": 2,
   "metadata": {},
   "outputs": [
    {
     "data": {
      "application/javascript": [
       "\n",
       "            setTimeout(function() {\n",
       "                var nbb_cell_id = 2;\n",
       "                var nbb_unformatted_code = \"import pandas as pd\\nimport numpy as np\\nfrom scipy import stats\\nimport seaborn as sns\\nimport matplotlib.pyplot as plt\\nimport ast\\nfrom datetime import datetime\\n\\n%matplotlib inline\";\n",
       "                var nbb_formatted_code = \"import pandas as pd\\nimport numpy as np\\nfrom scipy import stats\\nimport seaborn as sns\\nimport matplotlib.pyplot as plt\\nimport ast\\nfrom datetime import datetime\\n\\n%matplotlib inline\";\n",
       "                var nbb_cells = Jupyter.notebook.get_cells();\n",
       "                for (var i = 0; i < nbb_cells.length; ++i) {\n",
       "                    if (nbb_cells[i].input_prompt_number == nbb_cell_id) {\n",
       "                        if (nbb_cells[i].get_text() == nbb_unformatted_code) {\n",
       "                             nbb_cells[i].set_text(nbb_formatted_code);\n",
       "                        }\n",
       "                        break;\n",
       "                    }\n",
       "                }\n",
       "            }, 500);\n",
       "            "
      ],
      "text/plain": [
       "<IPython.core.display.Javascript object>"
      ]
     },
     "metadata": {},
     "output_type": "display_data"
    }
   ],
   "source": [
    "import pandas as pd\n",
    "import numpy as np\n",
    "from scipy import stats\n",
    "import seaborn as sns\n",
    "import matplotlib.pyplot as plt\n",
    "import ast\n",
    "from datetime import datetime\n",
    "\n",
    "%matplotlib inline"
   ]
  },
  {
   "cell_type": "code",
   "execution_count": 3,
   "metadata": {},
   "outputs": [
    {
     "data": {
      "application/javascript": [
       "\n",
       "            setTimeout(function() {\n",
       "                var nbb_cell_id = 3;\n",
       "                var nbb_unformatted_code = \"hot_100 = pd.read_csv(\\\"data/Hot_Stuff.csv\\\")\\ngenres = pd.read_excel(\\\"data/Hot_100_Audio_Features.xlsx\\\")\";\n",
       "                var nbb_formatted_code = \"hot_100 = pd.read_csv(\\\"data/Hot_Stuff.csv\\\")\\ngenres = pd.read_excel(\\\"data/Hot_100_Audio_Features.xlsx\\\")\";\n",
       "                var nbb_cells = Jupyter.notebook.get_cells();\n",
       "                for (var i = 0; i < nbb_cells.length; ++i) {\n",
       "                    if (nbb_cells[i].input_prompt_number == nbb_cell_id) {\n",
       "                        if (nbb_cells[i].get_text() == nbb_unformatted_code) {\n",
       "                             nbb_cells[i].set_text(nbb_formatted_code);\n",
       "                        }\n",
       "                        break;\n",
       "                    }\n",
       "                }\n",
       "            }, 500);\n",
       "            "
      ],
      "text/plain": [
       "<IPython.core.display.Javascript object>"
      ]
     },
     "metadata": {},
     "output_type": "display_data"
    }
   ],
   "source": [
    "hot_100 = pd.read_csv(\"data/Hot_Stuff.csv\")\n",
    "genres = pd.read_excel(\"data/Hot_100_Audio_Features.xlsx\")"
   ]
  },
  {
   "cell_type": "code",
   "execution_count": 4,
   "metadata": {},
   "outputs": [
    {
     "data": {
      "text/plain": [
       "[]                                                                            2541\n",
       "['contemporary country', 'country', 'country road']                            315\n",
       "['contemporary country', 'country', 'country road', 'modern country rock']     279\n",
       "['dance pop', 'pop', 'post-teen pop']                                          252\n",
       "['glee club', 'hollywood', 'post-teen pop']                                    205\n",
       "                                                                              ... \n",
       "['post-grunge', 'rap rock', 'redneck']                                           1\n",
       "['grupera', 'latin', 'latin pop', 'mexican pop', 'ranchera']                     1\n",
       "['modern southern rock', 'southern rock']                                        1\n",
       "['j-pop', 'japanese singer-songwriter']                                          1\n",
       "['afropop', 'mande pop', 'mbalax', 'world']                                      1\n",
       "Name: spotify_genre, Length: 3275, dtype: int64"
      ]
     },
     "execution_count": 4,
     "metadata": {},
     "output_type": "execute_result"
    },
    {
     "data": {
      "application/javascript": [
       "\n",
       "            setTimeout(function() {\n",
       "                var nbb_cell_id = 4;\n",
       "                var nbb_unformatted_code = \"# genres.groupby(\\\"spotify_genre\\\").count()\\ngenres[\\\"spotify_genre\\\"].explode().value_counts()\";\n",
       "                var nbb_formatted_code = \"# genres.groupby(\\\"spotify_genre\\\").count()\\ngenres[\\\"spotify_genre\\\"].explode().value_counts()\";\n",
       "                var nbb_cells = Jupyter.notebook.get_cells();\n",
       "                for (var i = 0; i < nbb_cells.length; ++i) {\n",
       "                    if (nbb_cells[i].input_prompt_number == nbb_cell_id) {\n",
       "                        if (nbb_cells[i].get_text() == nbb_unformatted_code) {\n",
       "                             nbb_cells[i].set_text(nbb_formatted_code);\n",
       "                        }\n",
       "                        break;\n",
       "                    }\n",
       "                }\n",
       "            }, 500);\n",
       "            "
      ],
      "text/plain": [
       "<IPython.core.display.Javascript object>"
      ]
     },
     "metadata": {},
     "output_type": "display_data"
    }
   ],
   "source": [
    "# genres.groupby(\"spotify_genre\").count()\n",
    "genres[\"spotify_genre\"].explode().value_counts()"
   ]
  },
  {
   "cell_type": "code",
   "execution_count": 5,
   "metadata": {},
   "outputs": [
    {
     "data": {
      "application/javascript": [
       "\n",
       "            setTimeout(function() {\n",
       "                var nbb_cell_id = 5;\n",
       "                var nbb_unformatted_code = \"genres = genres.drop_duplicates()\";\n",
       "                var nbb_formatted_code = \"genres = genres.drop_duplicates()\";\n",
       "                var nbb_cells = Jupyter.notebook.get_cells();\n",
       "                for (var i = 0; i < nbb_cells.length; ++i) {\n",
       "                    if (nbb_cells[i].input_prompt_number == nbb_cell_id) {\n",
       "                        if (nbb_cells[i].get_text() == nbb_unformatted_code) {\n",
       "                             nbb_cells[i].set_text(nbb_formatted_code);\n",
       "                        }\n",
       "                        break;\n",
       "                    }\n",
       "                }\n",
       "            }, 500);\n",
       "            "
      ],
      "text/plain": [
       "<IPython.core.display.Javascript object>"
      ]
     },
     "metadata": {},
     "output_type": "display_data"
    }
   ],
   "source": [
    "genres = genres.drop_duplicates()"
   ]
  },
  {
   "cell_type": "markdown",
   "metadata": {},
   "source": [
    "# Drop columns that are not needed"
   ]
  },
  {
   "cell_type": "code",
   "execution_count": 6,
   "metadata": {},
   "outputs": [
    {
     "data": {
      "application/javascript": [
       "\n",
       "            setTimeout(function() {\n",
       "                var nbb_cell_id = 6;\n",
       "                var nbb_unformatted_code = \"hot_100 = hot_100.drop(columns=[\\\"url\\\"])\";\n",
       "                var nbb_formatted_code = \"hot_100 = hot_100.drop(columns=[\\\"url\\\"])\";\n",
       "                var nbb_cells = Jupyter.notebook.get_cells();\n",
       "                for (var i = 0; i < nbb_cells.length; ++i) {\n",
       "                    if (nbb_cells[i].input_prompt_number == nbb_cell_id) {\n",
       "                        if (nbb_cells[i].get_text() == nbb_unformatted_code) {\n",
       "                             nbb_cells[i].set_text(nbb_formatted_code);\n",
       "                        }\n",
       "                        break;\n",
       "                    }\n",
       "                }\n",
       "            }, 500);\n",
       "            "
      ],
      "text/plain": [
       "<IPython.core.display.Javascript object>"
      ]
     },
     "metadata": {},
     "output_type": "display_data"
    }
   ],
   "source": [
    "hot_100 = hot_100.drop(columns=[\"url\"])"
   ]
  },
  {
   "cell_type": "code",
   "execution_count": 7,
   "metadata": {},
   "outputs": [
    {
     "data": {
      "application/javascript": [
       "\n",
       "            setTimeout(function() {\n",
       "                var nbb_cell_id = 7;\n",
       "                var nbb_unformatted_code = \"genres = genres.drop(\\n    columns=[\\n        \\\"spotify_track_id\\\",\\n        \\\"spotify_track_preview_url\\\",\\n        \\\"spotify_track_duration_ms\\\",\\n        \\\"spotify_track_popularity\\\",\\n        \\\"danceability\\\",\\n        \\\"energy\\\",\\n        \\\"key\\\",\\n        \\\"loudness\\\",\\n        \\\"mode\\\",\\n        \\\"acousticness\\\",\\n        \\\"speechiness\\\",\\n        \\\"liveness\\\",\\n        \\\"instrumentalness\\\",\\n        \\\"valence\\\",\\n        \\\"tempo\\\",\\n        \\\"time_signature\\\",\\n    ]\\n)\";\n",
       "                var nbb_formatted_code = \"genres = genres.drop(\\n    columns=[\\n        \\\"spotify_track_id\\\",\\n        \\\"spotify_track_preview_url\\\",\\n        \\\"spotify_track_duration_ms\\\",\\n        \\\"spotify_track_popularity\\\",\\n        \\\"danceability\\\",\\n        \\\"energy\\\",\\n        \\\"key\\\",\\n        \\\"loudness\\\",\\n        \\\"mode\\\",\\n        \\\"acousticness\\\",\\n        \\\"speechiness\\\",\\n        \\\"liveness\\\",\\n        \\\"instrumentalness\\\",\\n        \\\"valence\\\",\\n        \\\"tempo\\\",\\n        \\\"time_signature\\\",\\n    ]\\n)\";\n",
       "                var nbb_cells = Jupyter.notebook.get_cells();\n",
       "                for (var i = 0; i < nbb_cells.length; ++i) {\n",
       "                    if (nbb_cells[i].input_prompt_number == nbb_cell_id) {\n",
       "                        if (nbb_cells[i].get_text() == nbb_unformatted_code) {\n",
       "                             nbb_cells[i].set_text(nbb_formatted_code);\n",
       "                        }\n",
       "                        break;\n",
       "                    }\n",
       "                }\n",
       "            }, 500);\n",
       "            "
      ],
      "text/plain": [
       "<IPython.core.display.Javascript object>"
      ]
     },
     "metadata": {},
     "output_type": "display_data"
    }
   ],
   "source": [
    "genres = genres.drop(\n",
    "    columns=[\n",
    "        \"spotify_track_id\",\n",
    "        \"spotify_track_preview_url\",\n",
    "        \"spotify_track_duration_ms\",\n",
    "        \"spotify_track_popularity\",\n",
    "        \"danceability\",\n",
    "        \"energy\",\n",
    "        \"key\",\n",
    "        \"loudness\",\n",
    "        \"mode\",\n",
    "        \"acousticness\",\n",
    "        \"speechiness\",\n",
    "        \"liveness\",\n",
    "        \"instrumentalness\",\n",
    "        \"valence\",\n",
    "        \"tempo\",\n",
    "        \"time_signature\",\n",
    "    ]\n",
    ")"
   ]
  },
  {
   "cell_type": "markdown",
   "metadata": {},
   "source": [
    "# Basic table description data"
   ]
  },
  {
   "cell_type": "code",
   "execution_count": 8,
   "metadata": {},
   "outputs": [
    {
     "data": {
      "text/plain": [
       "(320495, 9)"
      ]
     },
     "execution_count": 8,
     "metadata": {},
     "output_type": "execute_result"
    },
    {
     "data": {
      "application/javascript": [
       "\n",
       "            setTimeout(function() {\n",
       "                var nbb_cell_id = 8;\n",
       "                var nbb_unformatted_code = \"hot_100.shape\";\n",
       "                var nbb_formatted_code = \"hot_100.shape\";\n",
       "                var nbb_cells = Jupyter.notebook.get_cells();\n",
       "                for (var i = 0; i < nbb_cells.length; ++i) {\n",
       "                    if (nbb_cells[i].input_prompt_number == nbb_cell_id) {\n",
       "                        if (nbb_cells[i].get_text() == nbb_unformatted_code) {\n",
       "                             nbb_cells[i].set_text(nbb_formatted_code);\n",
       "                        }\n",
       "                        break;\n",
       "                    }\n",
       "                }\n",
       "            }, 500);\n",
       "            "
      ],
      "text/plain": [
       "<IPython.core.display.Javascript object>"
      ]
     },
     "metadata": {},
     "output_type": "display_data"
    }
   ],
   "source": [
    "hot_100.shape"
   ]
  },
  {
   "cell_type": "code",
   "execution_count": 9,
   "metadata": {},
   "outputs": [
    {
     "data": {
      "text/plain": [
       "WeekID                        0\n",
       "Week Position                 0\n",
       "Song                          0\n",
       "Performer                     0\n",
       "SongID                        0\n",
       "Instance                      0\n",
       "Previous Week Position    30784\n",
       "Peak Position                 0\n",
       "Weeks on Chart                0\n",
       "dtype: int64"
      ]
     },
     "execution_count": 9,
     "metadata": {},
     "output_type": "execute_result"
    },
    {
     "data": {
      "application/javascript": [
       "\n",
       "            setTimeout(function() {\n",
       "                var nbb_cell_id = 9;\n",
       "                var nbb_unformatted_code = \"hot_100.isna().sum()\";\n",
       "                var nbb_formatted_code = \"hot_100.isna().sum()\";\n",
       "                var nbb_cells = Jupyter.notebook.get_cells();\n",
       "                for (var i = 0; i < nbb_cells.length; ++i) {\n",
       "                    if (nbb_cells[i].input_prompt_number == nbb_cell_id) {\n",
       "                        if (nbb_cells[i].get_text() == nbb_unformatted_code) {\n",
       "                             nbb_cells[i].set_text(nbb_formatted_code);\n",
       "                        }\n",
       "                        break;\n",
       "                    }\n",
       "                }\n",
       "            }, 500);\n",
       "            "
      ],
      "text/plain": [
       "<IPython.core.display.Javascript object>"
      ]
     },
     "metadata": {},
     "output_type": "display_data"
    }
   ],
   "source": [
    "hot_100.isna().sum()"
   ]
  },
  {
   "cell_type": "code",
   "execution_count": 10,
   "metadata": {},
   "outputs": [
    {
     "data": {
      "text/html": [
       "<div>\n",
       "<style scoped>\n",
       "    .dataframe tbody tr th:only-of-type {\n",
       "        vertical-align: middle;\n",
       "    }\n",
       "\n",
       "    .dataframe tbody tr th {\n",
       "        vertical-align: top;\n",
       "    }\n",
       "\n",
       "    .dataframe thead th {\n",
       "        text-align: right;\n",
       "    }\n",
       "</style>\n",
       "<table border=\"1\" class=\"dataframe\">\n",
       "  <thead>\n",
       "    <tr style=\"text-align: right;\">\n",
       "      <th></th>\n",
       "      <th>WeekID</th>\n",
       "      <th>Week Position</th>\n",
       "      <th>Song</th>\n",
       "      <th>Performer</th>\n",
       "      <th>SongID</th>\n",
       "      <th>Instance</th>\n",
       "      <th>Previous Week Position</th>\n",
       "      <th>Peak Position</th>\n",
       "      <th>Weeks on Chart</th>\n",
       "    </tr>\n",
       "  </thead>\n",
       "  <tbody>\n",
       "    <tr>\n",
       "      <th>0</th>\n",
       "      <td>8/2/1958</td>\n",
       "      <td>1</td>\n",
       "      <td>Poor Little Fool</td>\n",
       "      <td>Ricky Nelson</td>\n",
       "      <td>Poor Little FoolRicky Nelson</td>\n",
       "      <td>1</td>\n",
       "      <td>NaN</td>\n",
       "      <td>1</td>\n",
       "      <td>1</td>\n",
       "    </tr>\n",
       "    <tr>\n",
       "      <th>1</th>\n",
       "      <td>12/2/1995</td>\n",
       "      <td>1</td>\n",
       "      <td>One Sweet Day</td>\n",
       "      <td>Mariah Carey &amp; Boyz II Men</td>\n",
       "      <td>One Sweet DayMariah Carey &amp; Boyz II Men</td>\n",
       "      <td>1</td>\n",
       "      <td>NaN</td>\n",
       "      <td>1</td>\n",
       "      <td>1</td>\n",
       "    </tr>\n",
       "    <tr>\n",
       "      <th>2</th>\n",
       "      <td>10/11/1997</td>\n",
       "      <td>1</td>\n",
       "      <td>Candle In The Wind 1997/Something About The Wa...</td>\n",
       "      <td>Elton John</td>\n",
       "      <td>Candle In The Wind 1997/Something About The Wa...</td>\n",
       "      <td>1</td>\n",
       "      <td>NaN</td>\n",
       "      <td>1</td>\n",
       "      <td>1</td>\n",
       "    </tr>\n",
       "    <tr>\n",
       "      <th>3</th>\n",
       "      <td>7/1/2006</td>\n",
       "      <td>1</td>\n",
       "      <td>Do I Make You Proud</td>\n",
       "      <td>Taylor Hicks</td>\n",
       "      <td>Do I Make You ProudTaylor Hicks</td>\n",
       "      <td>1</td>\n",
       "      <td>NaN</td>\n",
       "      <td>1</td>\n",
       "      <td>1</td>\n",
       "    </tr>\n",
       "    <tr>\n",
       "      <th>4</th>\n",
       "      <td>10/24/2009</td>\n",
       "      <td>1</td>\n",
       "      <td>3</td>\n",
       "      <td>Britney Spears</td>\n",
       "      <td>3Britney Spears</td>\n",
       "      <td>1</td>\n",
       "      <td>NaN</td>\n",
       "      <td>1</td>\n",
       "      <td>1</td>\n",
       "    </tr>\n",
       "  </tbody>\n",
       "</table>\n",
       "</div>"
      ],
      "text/plain": [
       "       WeekID  Week Position  \\\n",
       "0    8/2/1958              1   \n",
       "1   12/2/1995              1   \n",
       "2  10/11/1997              1   \n",
       "3    7/1/2006              1   \n",
       "4  10/24/2009              1   \n",
       "\n",
       "                                                Song  \\\n",
       "0                                   Poor Little Fool   \n",
       "1                                      One Sweet Day   \n",
       "2  Candle In The Wind 1997/Something About The Wa...   \n",
       "3                                Do I Make You Proud   \n",
       "4                                                  3   \n",
       "\n",
       "                    Performer  \\\n",
       "0                Ricky Nelson   \n",
       "1  Mariah Carey & Boyz II Men   \n",
       "2                  Elton John   \n",
       "3                Taylor Hicks   \n",
       "4              Britney Spears   \n",
       "\n",
       "                                              SongID  Instance  \\\n",
       "0                       Poor Little FoolRicky Nelson         1   \n",
       "1            One Sweet DayMariah Carey & Boyz II Men         1   \n",
       "2  Candle In The Wind 1997/Something About The Wa...         1   \n",
       "3                    Do I Make You ProudTaylor Hicks         1   \n",
       "4                                    3Britney Spears         1   \n",
       "\n",
       "   Previous Week Position  Peak Position  Weeks on Chart  \n",
       "0                     NaN              1               1  \n",
       "1                     NaN              1               1  \n",
       "2                     NaN              1               1  \n",
       "3                     NaN              1               1  \n",
       "4                     NaN              1               1  "
      ]
     },
     "execution_count": 10,
     "metadata": {},
     "output_type": "execute_result"
    },
    {
     "data": {
      "application/javascript": [
       "\n",
       "            setTimeout(function() {\n",
       "                var nbb_cell_id = 10;\n",
       "                var nbb_unformatted_code = \"hot_100.head()\";\n",
       "                var nbb_formatted_code = \"hot_100.head()\";\n",
       "                var nbb_cells = Jupyter.notebook.get_cells();\n",
       "                for (var i = 0; i < nbb_cells.length; ++i) {\n",
       "                    if (nbb_cells[i].input_prompt_number == nbb_cell_id) {\n",
       "                        if (nbb_cells[i].get_text() == nbb_unformatted_code) {\n",
       "                             nbb_cells[i].set_text(nbb_formatted_code);\n",
       "                        }\n",
       "                        break;\n",
       "                    }\n",
       "                }\n",
       "            }, 500);\n",
       "            "
      ],
      "text/plain": [
       "<IPython.core.display.Javascript object>"
      ]
     },
     "metadata": {},
     "output_type": "display_data"
    }
   ],
   "source": [
    "hot_100.head()"
   ]
  },
  {
   "cell_type": "code",
   "execution_count": 11,
   "metadata": {},
   "outputs": [
    {
     "data": {
      "text/plain": [
       "WeekID                     object\n",
       "Week Position               int64\n",
       "Song                       object\n",
       "Performer                  object\n",
       "SongID                     object\n",
       "Instance                    int64\n",
       "Previous Week Position    float64\n",
       "Peak Position               int64\n",
       "Weeks on Chart              int64\n",
       "dtype: object"
      ]
     },
     "execution_count": 11,
     "metadata": {},
     "output_type": "execute_result"
    },
    {
     "data": {
      "application/javascript": [
       "\n",
       "            setTimeout(function() {\n",
       "                var nbb_cell_id = 11;\n",
       "                var nbb_unformatted_code = \"hot_100.dtypes\";\n",
       "                var nbb_formatted_code = \"hot_100.dtypes\";\n",
       "                var nbb_cells = Jupyter.notebook.get_cells();\n",
       "                for (var i = 0; i < nbb_cells.length; ++i) {\n",
       "                    if (nbb_cells[i].input_prompt_number == nbb_cell_id) {\n",
       "                        if (nbb_cells[i].get_text() == nbb_unformatted_code) {\n",
       "                             nbb_cells[i].set_text(nbb_formatted_code);\n",
       "                        }\n",
       "                        break;\n",
       "                    }\n",
       "                }\n",
       "            }, 500);\n",
       "            "
      ],
      "text/plain": [
       "<IPython.core.display.Javascript object>"
      ]
     },
     "metadata": {},
     "output_type": "display_data"
    }
   ],
   "source": [
    "hot_100.dtypes"
   ]
  },
  {
   "cell_type": "code",
   "execution_count": 12,
   "metadata": {},
   "outputs": [
    {
     "data": {
      "text/plain": [
       "(28470, 6)"
      ]
     },
     "execution_count": 12,
     "metadata": {},
     "output_type": "execute_result"
    },
    {
     "data": {
      "application/javascript": [
       "\n",
       "            setTimeout(function() {\n",
       "                var nbb_cell_id = 12;\n",
       "                var nbb_unformatted_code = \"genres.shape\";\n",
       "                var nbb_formatted_code = \"genres.shape\";\n",
       "                var nbb_cells = Jupyter.notebook.get_cells();\n",
       "                for (var i = 0; i < nbb_cells.length; ++i) {\n",
       "                    if (nbb_cells[i].input_prompt_number == nbb_cell_id) {\n",
       "                        if (nbb_cells[i].get_text() == nbb_unformatted_code) {\n",
       "                             nbb_cells[i].set_text(nbb_formatted_code);\n",
       "                        }\n",
       "                        break;\n",
       "                    }\n",
       "                }\n",
       "            }, 500);\n",
       "            "
      ],
      "text/plain": [
       "<IPython.core.display.Javascript object>"
      ]
     },
     "metadata": {},
     "output_type": "display_data"
    }
   ],
   "source": [
    "genres.shape"
   ]
  },
  {
   "cell_type": "code",
   "execution_count": 13,
   "metadata": {},
   "outputs": [
    {
     "data": {
      "text/plain": [
       "SongID                    0.000000\n",
       "Performer                 0.000000\n",
       "Song                      0.000000\n",
       "spotify_genre             0.043133\n",
       "spotify_track_album       0.166737\n",
       "spotify_track_explicit    0.166526\n",
       "dtype: float64"
      ]
     },
     "execution_count": 13,
     "metadata": {},
     "output_type": "execute_result"
    },
    {
     "data": {
      "application/javascript": [
       "\n",
       "            setTimeout(function() {\n",
       "                var nbb_cell_id = 13;\n",
       "                var nbb_unformatted_code = \"genres.isna().mean()\";\n",
       "                var nbb_formatted_code = \"genres.isna().mean()\";\n",
       "                var nbb_cells = Jupyter.notebook.get_cells();\n",
       "                for (var i = 0; i < nbb_cells.length; ++i) {\n",
       "                    if (nbb_cells[i].input_prompt_number == nbb_cell_id) {\n",
       "                        if (nbb_cells[i].get_text() == nbb_unformatted_code) {\n",
       "                             nbb_cells[i].set_text(nbb_formatted_code);\n",
       "                        }\n",
       "                        break;\n",
       "                    }\n",
       "                }\n",
       "            }, 500);\n",
       "            "
      ],
      "text/plain": [
       "<IPython.core.display.Javascript object>"
      ]
     },
     "metadata": {},
     "output_type": "display_data"
    }
   ],
   "source": [
    "genres.isna().mean()"
   ]
  },
  {
   "cell_type": "code",
   "execution_count": 14,
   "metadata": {},
   "outputs": [
    {
     "data": {
      "text/html": [
       "<div>\n",
       "<style scoped>\n",
       "    .dataframe tbody tr th:only-of-type {\n",
       "        vertical-align: middle;\n",
       "    }\n",
       "\n",
       "    .dataframe tbody tr th {\n",
       "        vertical-align: top;\n",
       "    }\n",
       "\n",
       "    .dataframe thead th {\n",
       "        text-align: right;\n",
       "    }\n",
       "</style>\n",
       "<table border=\"1\" class=\"dataframe\">\n",
       "  <thead>\n",
       "    <tr style=\"text-align: right;\">\n",
       "      <th></th>\n",
       "      <th>SongID</th>\n",
       "      <th>Performer</th>\n",
       "      <th>Song</th>\n",
       "      <th>spotify_genre</th>\n",
       "      <th>spotify_track_album</th>\n",
       "      <th>spotify_track_explicit</th>\n",
       "    </tr>\n",
       "  </thead>\n",
       "  <tbody>\n",
       "    <tr>\n",
       "      <th>0</th>\n",
       "      <td>AdictoTainy, Anuel AA &amp; Ozuna</td>\n",
       "      <td>Tainy, Anuel AA &amp; Ozuna</td>\n",
       "      <td>Adicto</td>\n",
       "      <td>['pop reggaeton']</td>\n",
       "      <td>Adicto (with Anuel AA &amp; Ozuna)</td>\n",
       "      <td>0.0</td>\n",
       "    </tr>\n",
       "    <tr>\n",
       "      <th>1</th>\n",
       "      <td>The Ones That Didn't Make It Back HomeJustin M...</td>\n",
       "      <td>Justin Moore</td>\n",
       "      <td>The Ones That Didn't Make It Back Home</td>\n",
       "      <td>['arkansas country', 'contemporary country', '...</td>\n",
       "      <td>NaN</td>\n",
       "      <td>NaN</td>\n",
       "    </tr>\n",
       "    <tr>\n",
       "      <th>2</th>\n",
       "      <td>ShallowLady Gaga &amp; Bradley Cooper</td>\n",
       "      <td>Lady Gaga &amp; Bradley Cooper</td>\n",
       "      <td>Shallow</td>\n",
       "      <td>['dance pop', 'pop']</td>\n",
       "      <td>A Star Is Born Soundtrack</td>\n",
       "      <td>0.0</td>\n",
       "    </tr>\n",
       "    <tr>\n",
       "      <th>3</th>\n",
       "      <td>EnemiesPost Malone Featuring DaBaby</td>\n",
       "      <td>Post Malone Featuring DaBaby</td>\n",
       "      <td>Enemies</td>\n",
       "      <td>['dfw rap', 'melodic rap', 'rap']</td>\n",
       "      <td>Hollywood's Bleeding</td>\n",
       "      <td>1.0</td>\n",
       "    </tr>\n",
       "    <tr>\n",
       "      <th>4</th>\n",
       "      <td>Bacc At It AgainYella Beezy, Gucci Mane &amp; Quavo</td>\n",
       "      <td>Yella Beezy, Gucci Mane &amp; Quavo</td>\n",
       "      <td>Bacc At It Again</td>\n",
       "      <td>['dfw rap', 'rap', 'southern hip hop', 'trap']</td>\n",
       "      <td>Bacc At It Again</td>\n",
       "      <td>1.0</td>\n",
       "    </tr>\n",
       "  </tbody>\n",
       "</table>\n",
       "</div>"
      ],
      "text/plain": [
       "                                              SongID  \\\n",
       "0                      AdictoTainy, Anuel AA & Ozuna   \n",
       "1  The Ones That Didn't Make It Back HomeJustin M...   \n",
       "2                  ShallowLady Gaga & Bradley Cooper   \n",
       "3                EnemiesPost Malone Featuring DaBaby   \n",
       "4    Bacc At It AgainYella Beezy, Gucci Mane & Quavo   \n",
       "\n",
       "                         Performer                                    Song  \\\n",
       "0          Tainy, Anuel AA & Ozuna                                  Adicto   \n",
       "1                     Justin Moore  The Ones That Didn't Make It Back Home   \n",
       "2       Lady Gaga & Bradley Cooper                                 Shallow   \n",
       "3     Post Malone Featuring DaBaby                                 Enemies   \n",
       "4  Yella Beezy, Gucci Mane & Quavo                        Bacc At It Again   \n",
       "\n",
       "                                       spotify_genre  \\\n",
       "0                                  ['pop reggaeton']   \n",
       "1  ['arkansas country', 'contemporary country', '...   \n",
       "2                               ['dance pop', 'pop']   \n",
       "3                  ['dfw rap', 'melodic rap', 'rap']   \n",
       "4     ['dfw rap', 'rap', 'southern hip hop', 'trap']   \n",
       "\n",
       "              spotify_track_album  spotify_track_explicit  \n",
       "0  Adicto (with Anuel AA & Ozuna)                     0.0  \n",
       "1                             NaN                     NaN  \n",
       "2       A Star Is Born Soundtrack                     0.0  \n",
       "3            Hollywood's Bleeding                     1.0  \n",
       "4                Bacc At It Again                     1.0  "
      ]
     },
     "execution_count": 14,
     "metadata": {},
     "output_type": "execute_result"
    },
    {
     "data": {
      "application/javascript": [
       "\n",
       "            setTimeout(function() {\n",
       "                var nbb_cell_id = 14;\n",
       "                var nbb_unformatted_code = \"genres.head()\";\n",
       "                var nbb_formatted_code = \"genres.head()\";\n",
       "                var nbb_cells = Jupyter.notebook.get_cells();\n",
       "                for (var i = 0; i < nbb_cells.length; ++i) {\n",
       "                    if (nbb_cells[i].input_prompt_number == nbb_cell_id) {\n",
       "                        if (nbb_cells[i].get_text() == nbb_unformatted_code) {\n",
       "                             nbb_cells[i].set_text(nbb_formatted_code);\n",
       "                        }\n",
       "                        break;\n",
       "                    }\n",
       "                }\n",
       "            }, 500);\n",
       "            "
      ],
      "text/plain": [
       "<IPython.core.display.Javascript object>"
      ]
     },
     "metadata": {},
     "output_type": "display_data"
    }
   ],
   "source": [
    "genres.head()"
   ]
  },
  {
   "cell_type": "code",
   "execution_count": 15,
   "metadata": {},
   "outputs": [
    {
     "data": {
      "text/plain": [
       "SongID                     object\n",
       "Performer                  object\n",
       "Song                       object\n",
       "spotify_genre              object\n",
       "spotify_track_album        object\n",
       "spotify_track_explicit    float64\n",
       "dtype: object"
      ]
     },
     "execution_count": 15,
     "metadata": {},
     "output_type": "execute_result"
    },
    {
     "data": {
      "application/javascript": [
       "\n",
       "            setTimeout(function() {\n",
       "                var nbb_cell_id = 15;\n",
       "                var nbb_unformatted_code = \"genres.dtypes\";\n",
       "                var nbb_formatted_code = \"genres.dtypes\";\n",
       "                var nbb_cells = Jupyter.notebook.get_cells();\n",
       "                for (var i = 0; i < nbb_cells.length; ++i) {\n",
       "                    if (nbb_cells[i].input_prompt_number == nbb_cell_id) {\n",
       "                        if (nbb_cells[i].get_text() == nbb_unformatted_code) {\n",
       "                             nbb_cells[i].set_text(nbb_formatted_code);\n",
       "                        }\n",
       "                        break;\n",
       "                    }\n",
       "                }\n",
       "            }, 500);\n",
       "            "
      ],
      "text/plain": [
       "<IPython.core.display.Javascript object>"
      ]
     },
     "metadata": {},
     "output_type": "display_data"
    }
   ],
   "source": [
    "genres.dtypes"
   ]
  },
  {
   "cell_type": "markdown",
   "metadata": {},
   "source": [
    "# Fill null values, convert spotify_genre to a list"
   ]
  },
  {
   "cell_type": "code",
   "execution_count": 16,
   "metadata": {},
   "outputs": [
    {
     "data": {
      "application/javascript": [
       "\n",
       "            setTimeout(function() {\n",
       "                var nbb_cell_id = 16;\n",
       "                var nbb_unformatted_code = \"genres[\\\"spotify_track_album\\\"].fillna(\\\" \\\", inplace=True)\\nhot_100[\\\"Previous Week Position\\\"].fillna(int(0), inplace=True)\\ngenres[\\\"spotify_track_explicit\\\"].fillna(999, inplace=True)\";\n",
       "                var nbb_formatted_code = \"genres[\\\"spotify_track_album\\\"].fillna(\\\" \\\", inplace=True)\\nhot_100[\\\"Previous Week Position\\\"].fillna(int(0), inplace=True)\\ngenres[\\\"spotify_track_explicit\\\"].fillna(999, inplace=True)\";\n",
       "                var nbb_cells = Jupyter.notebook.get_cells();\n",
       "                for (var i = 0; i < nbb_cells.length; ++i) {\n",
       "                    if (nbb_cells[i].input_prompt_number == nbb_cell_id) {\n",
       "                        if (nbb_cells[i].get_text() == nbb_unformatted_code) {\n",
       "                             nbb_cells[i].set_text(nbb_formatted_code);\n",
       "                        }\n",
       "                        break;\n",
       "                    }\n",
       "                }\n",
       "            }, 500);\n",
       "            "
      ],
      "text/plain": [
       "<IPython.core.display.Javascript object>"
      ]
     },
     "metadata": {},
     "output_type": "display_data"
    }
   ],
   "source": [
    "genres[\"spotify_track_album\"].fillna(\" \", inplace=True)\n",
    "hot_100[\"Previous Week Position\"].fillna(int(0), inplace=True)\n",
    "genres[\"spotify_track_explicit\"].fillna(999, inplace=True)"
   ]
  },
  {
   "cell_type": "code",
   "execution_count": 17,
   "metadata": {},
   "outputs": [
    {
     "data": {
      "application/javascript": [
       "\n",
       "            setTimeout(function() {\n",
       "                var nbb_cell_id = 17;\n",
       "                var nbb_unformatted_code = \"hot_100 = hot_100.astype({\\\"Previous Week Position\\\": int})\";\n",
       "                var nbb_formatted_code = \"hot_100 = hot_100.astype({\\\"Previous Week Position\\\": int})\";\n",
       "                var nbb_cells = Jupyter.notebook.get_cells();\n",
       "                for (var i = 0; i < nbb_cells.length; ++i) {\n",
       "                    if (nbb_cells[i].input_prompt_number == nbb_cell_id) {\n",
       "                        if (nbb_cells[i].get_text() == nbb_unformatted_code) {\n",
       "                             nbb_cells[i].set_text(nbb_formatted_code);\n",
       "                        }\n",
       "                        break;\n",
       "                    }\n",
       "                }\n",
       "            }, 500);\n",
       "            "
      ],
      "text/plain": [
       "<IPython.core.display.Javascript object>"
      ]
     },
     "metadata": {},
     "output_type": "display_data"
    }
   ],
   "source": [
    "hot_100 = hot_100.astype({\"Previous Week Position\": int})"
   ]
  },
  {
   "cell_type": "code",
   "execution_count": 18,
   "metadata": {},
   "outputs": [
    {
     "data": {
      "application/javascript": [
       "\n",
       "            setTimeout(function() {\n",
       "                var nbb_cell_id = 18;\n",
       "                var nbb_unformatted_code = \"genres[\\\"spotify_genre\\\"].fillna(\\\"[]\\\", inplace=True)\\ngenres[\\\"spotify_genre_list\\\"] = genres[\\\"spotify_genre\\\"].apply(ast.literal_eval)\";\n",
       "                var nbb_formatted_code = \"genres[\\\"spotify_genre\\\"].fillna(\\\"[]\\\", inplace=True)\\ngenres[\\\"spotify_genre_list\\\"] = genres[\\\"spotify_genre\\\"].apply(ast.literal_eval)\";\n",
       "                var nbb_cells = Jupyter.notebook.get_cells();\n",
       "                for (var i = 0; i < nbb_cells.length; ++i) {\n",
       "                    if (nbb_cells[i].input_prompt_number == nbb_cell_id) {\n",
       "                        if (nbb_cells[i].get_text() == nbb_unformatted_code) {\n",
       "                             nbb_cells[i].set_text(nbb_formatted_code);\n",
       "                        }\n",
       "                        break;\n",
       "                    }\n",
       "                }\n",
       "            }, 500);\n",
       "            "
      ],
      "text/plain": [
       "<IPython.core.display.Javascript object>"
      ]
     },
     "metadata": {},
     "output_type": "display_data"
    }
   ],
   "source": [
    "genres[\"spotify_genre\"].fillna(\"[]\", inplace=True)\n",
    "genres[\"spotify_genre_list\"] = genres[\"spotify_genre\"].apply(ast.literal_eval)"
   ]
  },
  {
   "cell_type": "code",
   "execution_count": 19,
   "metadata": {},
   "outputs": [
    {
     "data": {
      "application/javascript": [
       "\n",
       "            setTimeout(function() {\n",
       "                var nbb_cell_id = 19;\n",
       "                var nbb_unformatted_code = \"# genres[\\\"spotify_track_explicit\\\"] = genres[\\\"spotify_track_explicit\\\"].map(\\n#     {1.0: int(1), 0.0: int(0)}\\n# )\\ngenres = genres.astype({\\\"spotify_track_explicit\\\": int})\";\n",
       "                var nbb_formatted_code = \"# genres[\\\"spotify_track_explicit\\\"] = genres[\\\"spotify_track_explicit\\\"].map(\\n#     {1.0: int(1), 0.0: int(0)}\\n# )\\ngenres = genres.astype({\\\"spotify_track_explicit\\\": int})\";\n",
       "                var nbb_cells = Jupyter.notebook.get_cells();\n",
       "                for (var i = 0; i < nbb_cells.length; ++i) {\n",
       "                    if (nbb_cells[i].input_prompt_number == nbb_cell_id) {\n",
       "                        if (nbb_cells[i].get_text() == nbb_unformatted_code) {\n",
       "                             nbb_cells[i].set_text(nbb_formatted_code);\n",
       "                        }\n",
       "                        break;\n",
       "                    }\n",
       "                }\n",
       "            }, 500);\n",
       "            "
      ],
      "text/plain": [
       "<IPython.core.display.Javascript object>"
      ]
     },
     "metadata": {},
     "output_type": "display_data"
    }
   ],
   "source": [
    "# genres[\"spotify_track_explicit\"] = genres[\"spotify_track_explicit\"].map(\n",
    "#     {1.0: int(1), 0.0: int(0)}\n",
    "# )\n",
    "genres = genres.astype({\"spotify_track_explicit\": int})"
   ]
  },
  {
   "cell_type": "markdown",
   "metadata": {},
   "source": [
    "# Join the 2 tables"
   ]
  },
  {
   "cell_type": "code",
   "execution_count": 20,
   "metadata": {},
   "outputs": [
    {
     "data": {
      "text/html": [
       "<div>\n",
       "<style scoped>\n",
       "    .dataframe tbody tr th:only-of-type {\n",
       "        vertical-align: middle;\n",
       "    }\n",
       "\n",
       "    .dataframe tbody tr th {\n",
       "        vertical-align: top;\n",
       "    }\n",
       "\n",
       "    .dataframe thead th {\n",
       "        text-align: right;\n",
       "    }\n",
       "</style>\n",
       "<table border=\"1\" class=\"dataframe\">\n",
       "  <thead>\n",
       "    <tr style=\"text-align: right;\">\n",
       "      <th></th>\n",
       "      <th>WeekID</th>\n",
       "      <th>Week Position</th>\n",
       "      <th>Song_x</th>\n",
       "      <th>Performer_x</th>\n",
       "      <th>SongID</th>\n",
       "      <th>Instance</th>\n",
       "      <th>Previous Week Position</th>\n",
       "      <th>Peak Position</th>\n",
       "      <th>Weeks on Chart</th>\n",
       "      <th>Performer_y</th>\n",
       "      <th>Song_y</th>\n",
       "      <th>spotify_genre</th>\n",
       "      <th>spotify_track_album</th>\n",
       "      <th>spotify_track_explicit</th>\n",
       "      <th>spotify_genre_list</th>\n",
       "    </tr>\n",
       "  </thead>\n",
       "  <tbody>\n",
       "    <tr>\n",
       "      <th>0</th>\n",
       "      <td>2/2/2019</td>\n",
       "      <td>1</td>\n",
       "      <td>7 Rings</td>\n",
       "      <td>Ariana Grande</td>\n",
       "      <td>7 RingsAriana Grande</td>\n",
       "      <td>1</td>\n",
       "      <td>0</td>\n",
       "      <td>1</td>\n",
       "      <td>1</td>\n",
       "      <td>Ariana Grande</td>\n",
       "      <td>7 Rings</td>\n",
       "      <td>['dance pop', 'pop', 'post-teen pop']</td>\n",
       "      <td>thank</td>\n",
       "      <td>1</td>\n",
       "      <td>[dance pop, pop, post-teen pop]</td>\n",
       "    </tr>\n",
       "    <tr>\n",
       "      <th>1</th>\n",
       "      <td>5/25/2019</td>\n",
       "      <td>11</td>\n",
       "      <td>7 Rings</td>\n",
       "      <td>Ariana Grande</td>\n",
       "      <td>7 RingsAriana Grande</td>\n",
       "      <td>1</td>\n",
       "      <td>10</td>\n",
       "      <td>1</td>\n",
       "      <td>17</td>\n",
       "      <td>Ariana Grande</td>\n",
       "      <td>7 Rings</td>\n",
       "      <td>['dance pop', 'pop', 'post-teen pop']</td>\n",
       "      <td>thank</td>\n",
       "      <td>1</td>\n",
       "      <td>[dance pop, pop, post-teen pop]</td>\n",
       "    </tr>\n",
       "    <tr>\n",
       "      <th>2</th>\n",
       "      <td>4/20/2019</td>\n",
       "      <td>4</td>\n",
       "      <td>7 Rings</td>\n",
       "      <td>Ariana Grande</td>\n",
       "      <td>7 RingsAriana Grande</td>\n",
       "      <td>1</td>\n",
       "      <td>3</td>\n",
       "      <td>1</td>\n",
       "      <td>12</td>\n",
       "      <td>Ariana Grande</td>\n",
       "      <td>7 Rings</td>\n",
       "      <td>['dance pop', 'pop', 'post-teen pop']</td>\n",
       "      <td>thank</td>\n",
       "      <td>1</td>\n",
       "      <td>[dance pop, pop, post-teen pop]</td>\n",
       "    </tr>\n",
       "    <tr>\n",
       "      <th>3</th>\n",
       "      <td>6/1/2019</td>\n",
       "      <td>12</td>\n",
       "      <td>7 Rings</td>\n",
       "      <td>Ariana Grande</td>\n",
       "      <td>7 RingsAriana Grande</td>\n",
       "      <td>1</td>\n",
       "      <td>11</td>\n",
       "      <td>1</td>\n",
       "      <td>18</td>\n",
       "      <td>Ariana Grande</td>\n",
       "      <td>7 Rings</td>\n",
       "      <td>['dance pop', 'pop', 'post-teen pop']</td>\n",
       "      <td>thank</td>\n",
       "      <td>1</td>\n",
       "      <td>[dance pop, pop, post-teen pop]</td>\n",
       "    </tr>\n",
       "    <tr>\n",
       "      <th>4</th>\n",
       "      <td>3/30/2019</td>\n",
       "      <td>1</td>\n",
       "      <td>7 Rings</td>\n",
       "      <td>Ariana Grande</td>\n",
       "      <td>7 RingsAriana Grande</td>\n",
       "      <td>1</td>\n",
       "      <td>1</td>\n",
       "      <td>1</td>\n",
       "      <td>9</td>\n",
       "      <td>Ariana Grande</td>\n",
       "      <td>7 Rings</td>\n",
       "      <td>['dance pop', 'pop', 'post-teen pop']</td>\n",
       "      <td>thank</td>\n",
       "      <td>1</td>\n",
       "      <td>[dance pop, pop, post-teen pop]</td>\n",
       "    </tr>\n",
       "    <tr>\n",
       "      <th>...</th>\n",
       "      <td>...</td>\n",
       "      <td>...</td>\n",
       "      <td>...</td>\n",
       "      <td>...</td>\n",
       "      <td>...</td>\n",
       "      <td>...</td>\n",
       "      <td>...</td>\n",
       "      <td>...</td>\n",
       "      <td>...</td>\n",
       "      <td>...</td>\n",
       "      <td>...</td>\n",
       "      <td>...</td>\n",
       "      <td>...</td>\n",
       "      <td>...</td>\n",
       "      <td>...</td>\n",
       "    </tr>\n",
       "    <tr>\n",
       "      <th>320602</th>\n",
       "      <td>8/25/1962</td>\n",
       "      <td>18</td>\n",
       "      <td>What's A Matter Baby (Is It Hurting You)</td>\n",
       "      <td>Timi Yuro</td>\n",
       "      <td>What's A Matter Baby (Is It Hurting You)Timi Yuro</td>\n",
       "      <td>1</td>\n",
       "      <td>23</td>\n",
       "      <td>18</td>\n",
       "      <td>7</td>\n",
       "      <td>Timi Yuro</td>\n",
       "      <td>What's A Matter Baby (Is It Hurting You)</td>\n",
       "      <td>['adult standards', 'brill building pop']</td>\n",
       "      <td>The Best Of Timi Yuro</td>\n",
       "      <td>0</td>\n",
       "      <td>[adult standards, brill building pop]</td>\n",
       "    </tr>\n",
       "    <tr>\n",
       "      <th>320603</th>\n",
       "      <td>9/1/1962</td>\n",
       "      <td>12</td>\n",
       "      <td>What's A Matter Baby (Is It Hurting You)</td>\n",
       "      <td>Timi Yuro</td>\n",
       "      <td>What's A Matter Baby (Is It Hurting You)Timi Yuro</td>\n",
       "      <td>1</td>\n",
       "      <td>18</td>\n",
       "      <td>12</td>\n",
       "      <td>8</td>\n",
       "      <td>Timi Yuro</td>\n",
       "      <td>What's A Matter Baby (Is It Hurting You)</td>\n",
       "      <td>['adult standards', 'brill building pop']</td>\n",
       "      <td>The Best Of Timi Yuro</td>\n",
       "      <td>0</td>\n",
       "      <td>[adult standards, brill building pop]</td>\n",
       "    </tr>\n",
       "    <tr>\n",
       "      <th>320604</th>\n",
       "      <td>9/8/1962</td>\n",
       "      <td>14</td>\n",
       "      <td>What's A Matter Baby (Is It Hurting You)</td>\n",
       "      <td>Timi Yuro</td>\n",
       "      <td>What's A Matter Baby (Is It Hurting You)Timi Yuro</td>\n",
       "      <td>1</td>\n",
       "      <td>12</td>\n",
       "      <td>12</td>\n",
       "      <td>9</td>\n",
       "      <td>Timi Yuro</td>\n",
       "      <td>What's A Matter Baby (Is It Hurting You)</td>\n",
       "      <td>['adult standards', 'brill building pop']</td>\n",
       "      <td>The Best Of Timi Yuro</td>\n",
       "      <td>0</td>\n",
       "      <td>[adult standards, brill building pop]</td>\n",
       "    </tr>\n",
       "    <tr>\n",
       "      <th>320605</th>\n",
       "      <td>9/15/1962</td>\n",
       "      <td>31</td>\n",
       "      <td>What's A Matter Baby (Is It Hurting You)</td>\n",
       "      <td>Timi Yuro</td>\n",
       "      <td>What's A Matter Baby (Is It Hurting You)Timi Yuro</td>\n",
       "      <td>1</td>\n",
       "      <td>14</td>\n",
       "      <td>12</td>\n",
       "      <td>10</td>\n",
       "      <td>Timi Yuro</td>\n",
       "      <td>What's A Matter Baby (Is It Hurting You)</td>\n",
       "      <td>['adult standards', 'brill building pop']</td>\n",
       "      <td>The Best Of Timi Yuro</td>\n",
       "      <td>0</td>\n",
       "      <td>[adult standards, brill building pop]</td>\n",
       "    </tr>\n",
       "    <tr>\n",
       "      <th>320606</th>\n",
       "      <td>9/22/1962</td>\n",
       "      <td>47</td>\n",
       "      <td>What's A Matter Baby (Is It Hurting You)</td>\n",
       "      <td>Timi Yuro</td>\n",
       "      <td>What's A Matter Baby (Is It Hurting You)Timi Yuro</td>\n",
       "      <td>1</td>\n",
       "      <td>31</td>\n",
       "      <td>12</td>\n",
       "      <td>11</td>\n",
       "      <td>Timi Yuro</td>\n",
       "      <td>What's A Matter Baby (Is It Hurting You)</td>\n",
       "      <td>['adult standards', 'brill building pop']</td>\n",
       "      <td>The Best Of Timi Yuro</td>\n",
       "      <td>0</td>\n",
       "      <td>[adult standards, brill building pop]</td>\n",
       "    </tr>\n",
       "  </tbody>\n",
       "</table>\n",
       "<p>320607 rows × 15 columns</p>\n",
       "</div>"
      ],
      "text/plain": [
       "           WeekID  Week Position                                    Song_x  \\\n",
       "0        2/2/2019              1                                   7 Rings   \n",
       "1       5/25/2019             11                                   7 Rings   \n",
       "2       4/20/2019              4                                   7 Rings   \n",
       "3        6/1/2019             12                                   7 Rings   \n",
       "4       3/30/2019              1                                   7 Rings   \n",
       "...           ...            ...                                       ...   \n",
       "320602  8/25/1962             18  What's A Matter Baby (Is It Hurting You)   \n",
       "320603   9/1/1962             12  What's A Matter Baby (Is It Hurting You)   \n",
       "320604   9/8/1962             14  What's A Matter Baby (Is It Hurting You)   \n",
       "320605  9/15/1962             31  What's A Matter Baby (Is It Hurting You)   \n",
       "320606  9/22/1962             47  What's A Matter Baby (Is It Hurting You)   \n",
       "\n",
       "          Performer_x                                             SongID  \\\n",
       "0       Ariana Grande                               7 RingsAriana Grande   \n",
       "1       Ariana Grande                               7 RingsAriana Grande   \n",
       "2       Ariana Grande                               7 RingsAriana Grande   \n",
       "3       Ariana Grande                               7 RingsAriana Grande   \n",
       "4       Ariana Grande                               7 RingsAriana Grande   \n",
       "...               ...                                                ...   \n",
       "320602      Timi Yuro  What's A Matter Baby (Is It Hurting You)Timi Yuro   \n",
       "320603      Timi Yuro  What's A Matter Baby (Is It Hurting You)Timi Yuro   \n",
       "320604      Timi Yuro  What's A Matter Baby (Is It Hurting You)Timi Yuro   \n",
       "320605      Timi Yuro  What's A Matter Baby (Is It Hurting You)Timi Yuro   \n",
       "320606      Timi Yuro  What's A Matter Baby (Is It Hurting You)Timi Yuro   \n",
       "\n",
       "        Instance  Previous Week Position  Peak Position  Weeks on Chart  \\\n",
       "0              1                       0              1               1   \n",
       "1              1                      10              1              17   \n",
       "2              1                       3              1              12   \n",
       "3              1                      11              1              18   \n",
       "4              1                       1              1               9   \n",
       "...          ...                     ...            ...             ...   \n",
       "320602         1                      23             18               7   \n",
       "320603         1                      18             12               8   \n",
       "320604         1                      12             12               9   \n",
       "320605         1                      14             12              10   \n",
       "320606         1                      31             12              11   \n",
       "\n",
       "          Performer_y                                    Song_y  \\\n",
       "0       Ariana Grande                                   7 Rings   \n",
       "1       Ariana Grande                                   7 Rings   \n",
       "2       Ariana Grande                                   7 Rings   \n",
       "3       Ariana Grande                                   7 Rings   \n",
       "4       Ariana Grande                                   7 Rings   \n",
       "...               ...                                       ...   \n",
       "320602      Timi Yuro  What's A Matter Baby (Is It Hurting You)   \n",
       "320603      Timi Yuro  What's A Matter Baby (Is It Hurting You)   \n",
       "320604      Timi Yuro  What's A Matter Baby (Is It Hurting You)   \n",
       "320605      Timi Yuro  What's A Matter Baby (Is It Hurting You)   \n",
       "320606      Timi Yuro  What's A Matter Baby (Is It Hurting You)   \n",
       "\n",
       "                                    spotify_genre    spotify_track_album  \\\n",
       "0           ['dance pop', 'pop', 'post-teen pop']                 thank    \n",
       "1           ['dance pop', 'pop', 'post-teen pop']                 thank    \n",
       "2           ['dance pop', 'pop', 'post-teen pop']                 thank    \n",
       "3           ['dance pop', 'pop', 'post-teen pop']                 thank    \n",
       "4           ['dance pop', 'pop', 'post-teen pop']                 thank    \n",
       "...                                           ...                    ...   \n",
       "320602  ['adult standards', 'brill building pop']  The Best Of Timi Yuro   \n",
       "320603  ['adult standards', 'brill building pop']  The Best Of Timi Yuro   \n",
       "320604  ['adult standards', 'brill building pop']  The Best Of Timi Yuro   \n",
       "320605  ['adult standards', 'brill building pop']  The Best Of Timi Yuro   \n",
       "320606  ['adult standards', 'brill building pop']  The Best Of Timi Yuro   \n",
       "\n",
       "        spotify_track_explicit                     spotify_genre_list  \n",
       "0                            1        [dance pop, pop, post-teen pop]  \n",
       "1                            1        [dance pop, pop, post-teen pop]  \n",
       "2                            1        [dance pop, pop, post-teen pop]  \n",
       "3                            1        [dance pop, pop, post-teen pop]  \n",
       "4                            1        [dance pop, pop, post-teen pop]  \n",
       "...                        ...                                    ...  \n",
       "320602                       0  [adult standards, brill building pop]  \n",
       "320603                       0  [adult standards, brill building pop]  \n",
       "320604                       0  [adult standards, brill building pop]  \n",
       "320605                       0  [adult standards, brill building pop]  \n",
       "320606                       0  [adult standards, brill building pop]  \n",
       "\n",
       "[320607 rows x 15 columns]"
      ]
     },
     "execution_count": 20,
     "metadata": {},
     "output_type": "execute_result"
    },
    {
     "data": {
      "application/javascript": [
       "\n",
       "            setTimeout(function() {\n",
       "                var nbb_cell_id = 20;\n",
       "                var nbb_unformatted_code = \"full_table = hot_100.merge(genres, left_on=\\\"SongID\\\", right_on=\\\"SongID\\\")\\nfull_table\";\n",
       "                var nbb_formatted_code = \"full_table = hot_100.merge(genres, left_on=\\\"SongID\\\", right_on=\\\"SongID\\\")\\nfull_table\";\n",
       "                var nbb_cells = Jupyter.notebook.get_cells();\n",
       "                for (var i = 0; i < nbb_cells.length; ++i) {\n",
       "                    if (nbb_cells[i].input_prompt_number == nbb_cell_id) {\n",
       "                        if (nbb_cells[i].get_text() == nbb_unformatted_code) {\n",
       "                             nbb_cells[i].set_text(nbb_formatted_code);\n",
       "                        }\n",
       "                        break;\n",
       "                    }\n",
       "                }\n",
       "            }, 500);\n",
       "            "
      ],
      "text/plain": [
       "<IPython.core.display.Javascript object>"
      ]
     },
     "metadata": {},
     "output_type": "display_data"
    }
   ],
   "source": [
    "full_table = hot_100.merge(genres, left_on=\"SongID\", right_on=\"SongID\")\n",
    "full_table"
   ]
  },
  {
   "cell_type": "markdown",
   "metadata": {},
   "source": [
    "# Remove unnecessary columns, re-label columns"
   ]
  },
  {
   "cell_type": "code",
   "execution_count": 21,
   "metadata": {},
   "outputs": [
    {
     "data": {
      "application/javascript": [
       "\n",
       "            setTimeout(function() {\n",
       "                var nbb_cell_id = 21;\n",
       "                var nbb_unformatted_code = \"full_table = full_table.drop(columns=[\\\"Performer_y\\\", \\\"Song_y\\\"])\";\n",
       "                var nbb_formatted_code = \"full_table = full_table.drop(columns=[\\\"Performer_y\\\", \\\"Song_y\\\"])\";\n",
       "                var nbb_cells = Jupyter.notebook.get_cells();\n",
       "                for (var i = 0; i < nbb_cells.length; ++i) {\n",
       "                    if (nbb_cells[i].input_prompt_number == nbb_cell_id) {\n",
       "                        if (nbb_cells[i].get_text() == nbb_unformatted_code) {\n",
       "                             nbb_cells[i].set_text(nbb_formatted_code);\n",
       "                        }\n",
       "                        break;\n",
       "                    }\n",
       "                }\n",
       "            }, 500);\n",
       "            "
      ],
      "text/plain": [
       "<IPython.core.display.Javascript object>"
      ]
     },
     "metadata": {},
     "output_type": "display_data"
    }
   ],
   "source": [
    "full_table = full_table.drop(columns=[\"Performer_y\", \"Song_y\"])"
   ]
  },
  {
   "cell_type": "code",
   "execution_count": 22,
   "metadata": {},
   "outputs": [
    {
     "data": {
      "application/javascript": [
       "\n",
       "            setTimeout(function() {\n",
       "                var nbb_cell_id = 22;\n",
       "                var nbb_unformatted_code = \"full_table.rename(\\n    columns={\\n        \\\"WeekID\\\": \\\"week\\\",\\n        \\\"Week Position\\\": \\\"week_pos\\\",\\n        \\\"Song_x\\\": \\\"song\\\",\\n        \\\"Performer_x\\\": \\\"artist\\\",\\n        \\\"SongID\\\": \\\"song_id\\\",\\n        \\\"Instance\\\": \\\"instance\\\",\\n        \\\"Previous Week Position\\\": \\\"prev_week_pos\\\",\\n        \\\"Peak Position\\\": \\\"peak_pos\\\",\\n        \\\"Weeks on Chart\\\": \\\"weeks_on_chart\\\",\\n        \\\"spotify_genre\\\": \\\"genre\\\",\\n        \\\"spotify_track_album\\\": \\\"album\\\",\\n        \\\"spotify_track_explicit\\\": \\\"explicit\\\",\\n    },\\n    inplace=True,\\n)\";\n",
       "                var nbb_formatted_code = \"full_table.rename(\\n    columns={\\n        \\\"WeekID\\\": \\\"week\\\",\\n        \\\"Week Position\\\": \\\"week_pos\\\",\\n        \\\"Song_x\\\": \\\"song\\\",\\n        \\\"Performer_x\\\": \\\"artist\\\",\\n        \\\"SongID\\\": \\\"song_id\\\",\\n        \\\"Instance\\\": \\\"instance\\\",\\n        \\\"Previous Week Position\\\": \\\"prev_week_pos\\\",\\n        \\\"Peak Position\\\": \\\"peak_pos\\\",\\n        \\\"Weeks on Chart\\\": \\\"weeks_on_chart\\\",\\n        \\\"spotify_genre\\\": \\\"genre\\\",\\n        \\\"spotify_track_album\\\": \\\"album\\\",\\n        \\\"spotify_track_explicit\\\": \\\"explicit\\\",\\n    },\\n    inplace=True,\\n)\";\n",
       "                var nbb_cells = Jupyter.notebook.get_cells();\n",
       "                for (var i = 0; i < nbb_cells.length; ++i) {\n",
       "                    if (nbb_cells[i].input_prompt_number == nbb_cell_id) {\n",
       "                        if (nbb_cells[i].get_text() == nbb_unformatted_code) {\n",
       "                             nbb_cells[i].set_text(nbb_formatted_code);\n",
       "                        }\n",
       "                        break;\n",
       "                    }\n",
       "                }\n",
       "            }, 500);\n",
       "            "
      ],
      "text/plain": [
       "<IPython.core.display.Javascript object>"
      ]
     },
     "metadata": {},
     "output_type": "display_data"
    }
   ],
   "source": [
    "full_table.rename(\n",
    "    columns={\n",
    "        \"WeekID\": \"week\",\n",
    "        \"Week Position\": \"week_pos\",\n",
    "        \"Song_x\": \"song\",\n",
    "        \"Performer_x\": \"artist\",\n",
    "        \"SongID\": \"song_id\",\n",
    "        \"Instance\": \"instance\",\n",
    "        \"Previous Week Position\": \"prev_week_pos\",\n",
    "        \"Peak Position\": \"peak_pos\",\n",
    "        \"Weeks on Chart\": \"weeks_on_chart\",\n",
    "        \"spotify_genre\": \"genre\",\n",
    "        \"spotify_track_album\": \"album\",\n",
    "        \"spotify_track_explicit\": \"explicit\",\n",
    "    },\n",
    "    inplace=True,\n",
    ")"
   ]
  },
  {
   "cell_type": "markdown",
   "metadata": {},
   "source": [
    "# Split week date by day, month, year"
   ]
  },
  {
   "cell_type": "code",
   "execution_count": 23,
   "metadata": {},
   "outputs": [
    {
     "data": {
      "application/javascript": [
       "\n",
       "            setTimeout(function() {\n",
       "                var nbb_cell_id = 23;\n",
       "                var nbb_unformatted_code = \"full_table[\\\"week\\\"] = full_table[\\\"week\\\"].apply(\\n    lambda x: datetime.strptime(x, \\\"%m/%d/%Y\\\")\\n)\\nfull_table[\\\"week\\\"] = pd.to_datetime(full_table[\\\"week\\\"])\";\n",
       "                var nbb_formatted_code = \"full_table[\\\"week\\\"] = full_table[\\\"week\\\"].apply(\\n    lambda x: datetime.strptime(x, \\\"%m/%d/%Y\\\")\\n)\\nfull_table[\\\"week\\\"] = pd.to_datetime(full_table[\\\"week\\\"])\";\n",
       "                var nbb_cells = Jupyter.notebook.get_cells();\n",
       "                for (var i = 0; i < nbb_cells.length; ++i) {\n",
       "                    if (nbb_cells[i].input_prompt_number == nbb_cell_id) {\n",
       "                        if (nbb_cells[i].get_text() == nbb_unformatted_code) {\n",
       "                             nbb_cells[i].set_text(nbb_formatted_code);\n",
       "                        }\n",
       "                        break;\n",
       "                    }\n",
       "                }\n",
       "            }, 500);\n",
       "            "
      ],
      "text/plain": [
       "<IPython.core.display.Javascript object>"
      ]
     },
     "metadata": {},
     "output_type": "display_data"
    }
   ],
   "source": [
    "full_table[\"week\"] = full_table[\"week\"].apply(\n",
    "    lambda x: datetime.strptime(x, \"%m/%d/%Y\")\n",
    ")\n",
    "full_table[\"week\"] = pd.to_datetime(full_table[\"week\"])"
   ]
  },
  {
   "cell_type": "code",
   "execution_count": 24,
   "metadata": {},
   "outputs": [
    {
     "data": {
      "text/html": [
       "<div>\n",
       "<style scoped>\n",
       "    .dataframe tbody tr th:only-of-type {\n",
       "        vertical-align: middle;\n",
       "    }\n",
       "\n",
       "    .dataframe tbody tr th {\n",
       "        vertical-align: top;\n",
       "    }\n",
       "\n",
       "    .dataframe thead th {\n",
       "        text-align: right;\n",
       "    }\n",
       "</style>\n",
       "<table border=\"1\" class=\"dataframe\">\n",
       "  <thead>\n",
       "    <tr style=\"text-align: right;\">\n",
       "      <th></th>\n",
       "      <th></th>\n",
       "      <th>week_pos</th>\n",
       "      <th>artist</th>\n",
       "      <th>song_id</th>\n",
       "      <th>instance</th>\n",
       "      <th>prev_week_pos</th>\n",
       "      <th>peak_pos</th>\n",
       "      <th>weeks_on_chart</th>\n",
       "      <th>genre</th>\n",
       "      <th>album</th>\n",
       "      <th>explicit</th>\n",
       "      <th>spotify_genre_list</th>\n",
       "    </tr>\n",
       "    <tr>\n",
       "      <th>song</th>\n",
       "      <th>week</th>\n",
       "      <th></th>\n",
       "      <th></th>\n",
       "      <th></th>\n",
       "      <th></th>\n",
       "      <th></th>\n",
       "      <th></th>\n",
       "      <th></th>\n",
       "      <th></th>\n",
       "      <th></th>\n",
       "      <th></th>\n",
       "      <th></th>\n",
       "    </tr>\n",
       "  </thead>\n",
       "  <tbody>\n",
       "    <tr>\n",
       "      <th rowspan=\"5\" valign=\"top\">7 Rings</th>\n",
       "      <th>2019-02-02</th>\n",
       "      <td>1</td>\n",
       "      <td>Ariana Grande</td>\n",
       "      <td>7 RingsAriana Grande</td>\n",
       "      <td>1</td>\n",
       "      <td>0</td>\n",
       "      <td>1</td>\n",
       "      <td>1</td>\n",
       "      <td>['dance pop', 'pop', 'post-teen pop']</td>\n",
       "      <td>thank</td>\n",
       "      <td>1</td>\n",
       "      <td>[dance pop, pop, post-teen pop]</td>\n",
       "    </tr>\n",
       "    <tr>\n",
       "      <th>2019-05-25</th>\n",
       "      <td>11</td>\n",
       "      <td>Ariana Grande</td>\n",
       "      <td>7 RingsAriana Grande</td>\n",
       "      <td>1</td>\n",
       "      <td>10</td>\n",
       "      <td>1</td>\n",
       "      <td>17</td>\n",
       "      <td>['dance pop', 'pop', 'post-teen pop']</td>\n",
       "      <td>thank</td>\n",
       "      <td>1</td>\n",
       "      <td>[dance pop, pop, post-teen pop]</td>\n",
       "    </tr>\n",
       "    <tr>\n",
       "      <th>2019-04-20</th>\n",
       "      <td>4</td>\n",
       "      <td>Ariana Grande</td>\n",
       "      <td>7 RingsAriana Grande</td>\n",
       "      <td>1</td>\n",
       "      <td>3</td>\n",
       "      <td>1</td>\n",
       "      <td>12</td>\n",
       "      <td>['dance pop', 'pop', 'post-teen pop']</td>\n",
       "      <td>thank</td>\n",
       "      <td>1</td>\n",
       "      <td>[dance pop, pop, post-teen pop]</td>\n",
       "    </tr>\n",
       "    <tr>\n",
       "      <th>2019-06-01</th>\n",
       "      <td>12</td>\n",
       "      <td>Ariana Grande</td>\n",
       "      <td>7 RingsAriana Grande</td>\n",
       "      <td>1</td>\n",
       "      <td>11</td>\n",
       "      <td>1</td>\n",
       "      <td>18</td>\n",
       "      <td>['dance pop', 'pop', 'post-teen pop']</td>\n",
       "      <td>thank</td>\n",
       "      <td>1</td>\n",
       "      <td>[dance pop, pop, post-teen pop]</td>\n",
       "    </tr>\n",
       "    <tr>\n",
       "      <th>2019-03-30</th>\n",
       "      <td>1</td>\n",
       "      <td>Ariana Grande</td>\n",
       "      <td>7 RingsAriana Grande</td>\n",
       "      <td>1</td>\n",
       "      <td>1</td>\n",
       "      <td>1</td>\n",
       "      <td>9</td>\n",
       "      <td>['dance pop', 'pop', 'post-teen pop']</td>\n",
       "      <td>thank</td>\n",
       "      <td>1</td>\n",
       "      <td>[dance pop, pop, post-teen pop]</td>\n",
       "    </tr>\n",
       "    <tr>\n",
       "      <th>...</th>\n",
       "      <th>...</th>\n",
       "      <td>...</td>\n",
       "      <td>...</td>\n",
       "      <td>...</td>\n",
       "      <td>...</td>\n",
       "      <td>...</td>\n",
       "      <td>...</td>\n",
       "      <td>...</td>\n",
       "      <td>...</td>\n",
       "      <td>...</td>\n",
       "      <td>...</td>\n",
       "      <td>...</td>\n",
       "    </tr>\n",
       "    <tr>\n",
       "      <th rowspan=\"5\" valign=\"top\">What's A Matter Baby (Is It Hurting You)</th>\n",
       "      <th>1962-08-25</th>\n",
       "      <td>18</td>\n",
       "      <td>Timi Yuro</td>\n",
       "      <td>What's A Matter Baby (Is It Hurting You)Timi Yuro</td>\n",
       "      <td>1</td>\n",
       "      <td>23</td>\n",
       "      <td>18</td>\n",
       "      <td>7</td>\n",
       "      <td>['adult standards', 'brill building pop']</td>\n",
       "      <td>The Best Of Timi Yuro</td>\n",
       "      <td>0</td>\n",
       "      <td>[adult standards, brill building pop]</td>\n",
       "    </tr>\n",
       "    <tr>\n",
       "      <th>1962-09-01</th>\n",
       "      <td>12</td>\n",
       "      <td>Timi Yuro</td>\n",
       "      <td>What's A Matter Baby (Is It Hurting You)Timi Yuro</td>\n",
       "      <td>1</td>\n",
       "      <td>18</td>\n",
       "      <td>12</td>\n",
       "      <td>8</td>\n",
       "      <td>['adult standards', 'brill building pop']</td>\n",
       "      <td>The Best Of Timi Yuro</td>\n",
       "      <td>0</td>\n",
       "      <td>[adult standards, brill building pop]</td>\n",
       "    </tr>\n",
       "    <tr>\n",
       "      <th>1962-09-08</th>\n",
       "      <td>14</td>\n",
       "      <td>Timi Yuro</td>\n",
       "      <td>What's A Matter Baby (Is It Hurting You)Timi Yuro</td>\n",
       "      <td>1</td>\n",
       "      <td>12</td>\n",
       "      <td>12</td>\n",
       "      <td>9</td>\n",
       "      <td>['adult standards', 'brill building pop']</td>\n",
       "      <td>The Best Of Timi Yuro</td>\n",
       "      <td>0</td>\n",
       "      <td>[adult standards, brill building pop]</td>\n",
       "    </tr>\n",
       "    <tr>\n",
       "      <th>1962-09-15</th>\n",
       "      <td>31</td>\n",
       "      <td>Timi Yuro</td>\n",
       "      <td>What's A Matter Baby (Is It Hurting You)Timi Yuro</td>\n",
       "      <td>1</td>\n",
       "      <td>14</td>\n",
       "      <td>12</td>\n",
       "      <td>10</td>\n",
       "      <td>['adult standards', 'brill building pop']</td>\n",
       "      <td>The Best Of Timi Yuro</td>\n",
       "      <td>0</td>\n",
       "      <td>[adult standards, brill building pop]</td>\n",
       "    </tr>\n",
       "    <tr>\n",
       "      <th>1962-09-22</th>\n",
       "      <td>47</td>\n",
       "      <td>Timi Yuro</td>\n",
       "      <td>What's A Matter Baby (Is It Hurting You)Timi Yuro</td>\n",
       "      <td>1</td>\n",
       "      <td>31</td>\n",
       "      <td>12</td>\n",
       "      <td>11</td>\n",
       "      <td>['adult standards', 'brill building pop']</td>\n",
       "      <td>The Best Of Timi Yuro</td>\n",
       "      <td>0</td>\n",
       "      <td>[adult standards, brill building pop]</td>\n",
       "    </tr>\n",
       "  </tbody>\n",
       "</table>\n",
       "<p>320607 rows × 11 columns</p>\n",
       "</div>"
      ],
      "text/plain": [
       "                                                     week_pos         artist  \\\n",
       "song                                     week                                  \n",
       "7 Rings                                  2019-02-02         1  Ariana Grande   \n",
       "                                         2019-05-25        11  Ariana Grande   \n",
       "                                         2019-04-20         4  Ariana Grande   \n",
       "                                         2019-06-01        12  Ariana Grande   \n",
       "                                         2019-03-30         1  Ariana Grande   \n",
       "...                                                       ...            ...   \n",
       "What's A Matter Baby (Is It Hurting You) 1962-08-25        18      Timi Yuro   \n",
       "                                         1962-09-01        12      Timi Yuro   \n",
       "                                         1962-09-08        14      Timi Yuro   \n",
       "                                         1962-09-15        31      Timi Yuro   \n",
       "                                         1962-09-22        47      Timi Yuro   \n",
       "\n",
       "                                                                                               song_id  \\\n",
       "song                                     week                                                            \n",
       "7 Rings                                  2019-02-02                               7 RingsAriana Grande   \n",
       "                                         2019-05-25                               7 RingsAriana Grande   \n",
       "                                         2019-04-20                               7 RingsAriana Grande   \n",
       "                                         2019-06-01                               7 RingsAriana Grande   \n",
       "                                         2019-03-30                               7 RingsAriana Grande   \n",
       "...                                                                                                ...   \n",
       "What's A Matter Baby (Is It Hurting You) 1962-08-25  What's A Matter Baby (Is It Hurting You)Timi Yuro   \n",
       "                                         1962-09-01  What's A Matter Baby (Is It Hurting You)Timi Yuro   \n",
       "                                         1962-09-08  What's A Matter Baby (Is It Hurting You)Timi Yuro   \n",
       "                                         1962-09-15  What's A Matter Baby (Is It Hurting You)Timi Yuro   \n",
       "                                         1962-09-22  What's A Matter Baby (Is It Hurting You)Timi Yuro   \n",
       "\n",
       "                                                     instance  prev_week_pos  \\\n",
       "song                                     week                                  \n",
       "7 Rings                                  2019-02-02         1              0   \n",
       "                                         2019-05-25         1             10   \n",
       "                                         2019-04-20         1              3   \n",
       "                                         2019-06-01         1             11   \n",
       "                                         2019-03-30         1              1   \n",
       "...                                                       ...            ...   \n",
       "What's A Matter Baby (Is It Hurting You) 1962-08-25         1             23   \n",
       "                                         1962-09-01         1             18   \n",
       "                                         1962-09-08         1             12   \n",
       "                                         1962-09-15         1             14   \n",
       "                                         1962-09-22         1             31   \n",
       "\n",
       "                                                     peak_pos  weeks_on_chart  \\\n",
       "song                                     week                                   \n",
       "7 Rings                                  2019-02-02         1               1   \n",
       "                                         2019-05-25         1              17   \n",
       "                                         2019-04-20         1              12   \n",
       "                                         2019-06-01         1              18   \n",
       "                                         2019-03-30         1               9   \n",
       "...                                                       ...             ...   \n",
       "What's A Matter Baby (Is It Hurting You) 1962-08-25        18               7   \n",
       "                                         1962-09-01        12               8   \n",
       "                                         1962-09-08        12               9   \n",
       "                                         1962-09-15        12              10   \n",
       "                                         1962-09-22        12              11   \n",
       "\n",
       "                                                                                         genre  \\\n",
       "song                                     week                                                    \n",
       "7 Rings                                  2019-02-02      ['dance pop', 'pop', 'post-teen pop']   \n",
       "                                         2019-05-25      ['dance pop', 'pop', 'post-teen pop']   \n",
       "                                         2019-04-20      ['dance pop', 'pop', 'post-teen pop']   \n",
       "                                         2019-06-01      ['dance pop', 'pop', 'post-teen pop']   \n",
       "                                         2019-03-30      ['dance pop', 'pop', 'post-teen pop']   \n",
       "...                                                                                        ...   \n",
       "What's A Matter Baby (Is It Hurting You) 1962-08-25  ['adult standards', 'brill building pop']   \n",
       "                                         1962-09-01  ['adult standards', 'brill building pop']   \n",
       "                                         1962-09-08  ['adult standards', 'brill building pop']   \n",
       "                                         1962-09-15  ['adult standards', 'brill building pop']   \n",
       "                                         1962-09-22  ['adult standards', 'brill building pop']   \n",
       "\n",
       "                                                                     album  \\\n",
       "song                                     week                                \n",
       "7 Rings                                  2019-02-02                 thank    \n",
       "                                         2019-05-25                 thank    \n",
       "                                         2019-04-20                 thank    \n",
       "                                         2019-06-01                 thank    \n",
       "                                         2019-03-30                 thank    \n",
       "...                                                                    ...   \n",
       "What's A Matter Baby (Is It Hurting You) 1962-08-25  The Best Of Timi Yuro   \n",
       "                                         1962-09-01  The Best Of Timi Yuro   \n",
       "                                         1962-09-08  The Best Of Timi Yuro   \n",
       "                                         1962-09-15  The Best Of Timi Yuro   \n",
       "                                         1962-09-22  The Best Of Timi Yuro   \n",
       "\n",
       "                                                     explicit  \\\n",
       "song                                     week                   \n",
       "7 Rings                                  2019-02-02         1   \n",
       "                                         2019-05-25         1   \n",
       "                                         2019-04-20         1   \n",
       "                                         2019-06-01         1   \n",
       "                                         2019-03-30         1   \n",
       "...                                                       ...   \n",
       "What's A Matter Baby (Is It Hurting You) 1962-08-25         0   \n",
       "                                         1962-09-01         0   \n",
       "                                         1962-09-08         0   \n",
       "                                         1962-09-15         0   \n",
       "                                         1962-09-22         0   \n",
       "\n",
       "                                                                        spotify_genre_list  \n",
       "song                                     week                                               \n",
       "7 Rings                                  2019-02-02        [dance pop, pop, post-teen pop]  \n",
       "                                         2019-05-25        [dance pop, pop, post-teen pop]  \n",
       "                                         2019-04-20        [dance pop, pop, post-teen pop]  \n",
       "                                         2019-06-01        [dance pop, pop, post-teen pop]  \n",
       "                                         2019-03-30        [dance pop, pop, post-teen pop]  \n",
       "...                                                                                    ...  \n",
       "What's A Matter Baby (Is It Hurting You) 1962-08-25  [adult standards, brill building pop]  \n",
       "                                         1962-09-01  [adult standards, brill building pop]  \n",
       "                                         1962-09-08  [adult standards, brill building pop]  \n",
       "                                         1962-09-15  [adult standards, brill building pop]  \n",
       "                                         1962-09-22  [adult standards, brill building pop]  \n",
       "\n",
       "[320607 rows x 11 columns]"
      ]
     },
     "execution_count": 24,
     "metadata": {},
     "output_type": "execute_result"
    },
    {
     "data": {
      "application/javascript": [
       "\n",
       "            setTimeout(function() {\n",
       "                var nbb_cell_id = 24;\n",
       "                var nbb_unformatted_code = \"full_table.set_index([\\\"song\\\", \\\"week\\\"])\";\n",
       "                var nbb_formatted_code = \"full_table.set_index([\\\"song\\\", \\\"week\\\"])\";\n",
       "                var nbb_cells = Jupyter.notebook.get_cells();\n",
       "                for (var i = 0; i < nbb_cells.length; ++i) {\n",
       "                    if (nbb_cells[i].input_prompt_number == nbb_cell_id) {\n",
       "                        if (nbb_cells[i].get_text() == nbb_unformatted_code) {\n",
       "                             nbb_cells[i].set_text(nbb_formatted_code);\n",
       "                        }\n",
       "                        break;\n",
       "                    }\n",
       "                }\n",
       "            }, 500);\n",
       "            "
      ],
      "text/plain": [
       "<IPython.core.display.Javascript object>"
      ]
     },
     "metadata": {},
     "output_type": "display_data"
    }
   ],
   "source": [
    "full_table.set_index([\"song\", \"week\"])"
   ]
  },
  {
   "cell_type": "code",
   "execution_count": 25,
   "metadata": {},
   "outputs": [
    {
     "data": {
      "text/html": [
       "<div>\n",
       "<style scoped>\n",
       "    .dataframe tbody tr th:only-of-type {\n",
       "        vertical-align: middle;\n",
       "    }\n",
       "\n",
       "    .dataframe tbody tr th {\n",
       "        vertical-align: top;\n",
       "    }\n",
       "\n",
       "    .dataframe thead th {\n",
       "        text-align: right;\n",
       "    }\n",
       "</style>\n",
       "<table border=\"1\" class=\"dataframe\">\n",
       "  <thead>\n",
       "    <tr style=\"text-align: right;\">\n",
       "      <th></th>\n",
       "      <th>week</th>\n",
       "      <th>week_pos</th>\n",
       "      <th>song</th>\n",
       "      <th>artist</th>\n",
       "      <th>song_id</th>\n",
       "      <th>instance</th>\n",
       "      <th>prev_week_pos</th>\n",
       "      <th>peak_pos</th>\n",
       "      <th>weeks_on_chart</th>\n",
       "      <th>genre</th>\n",
       "      <th>album</th>\n",
       "      <th>explicit</th>\n",
       "      <th>spotify_genre_list</th>\n",
       "    </tr>\n",
       "  </thead>\n",
       "  <tbody>\n",
       "    <tr>\n",
       "      <th>97609</th>\n",
       "      <td>1958-08-02</td>\n",
       "      <td>92</td>\n",
       "      <td>Bird Dog</td>\n",
       "      <td>The Everly Brothers</td>\n",
       "      <td>Bird DogThe Everly Brothers</td>\n",
       "      <td>1</td>\n",
       "      <td>0</td>\n",
       "      <td>92</td>\n",
       "      <td>1</td>\n",
       "      <td>['adult standards', 'brill building pop', 'bub...</td>\n",
       "      <td>The Very Best of The Everly Brothers</td>\n",
       "      <td>0</td>\n",
       "      <td>[adult standards, brill building pop, bubblegu...</td>\n",
       "    </tr>\n",
       "    <tr>\n",
       "      <th>287128</th>\n",
       "      <td>1958-08-02</td>\n",
       "      <td>65</td>\n",
       "      <td>You're Making A Mistake</td>\n",
       "      <td>The Platters</td>\n",
       "      <td>You're Making A MistakeThe Platters</td>\n",
       "      <td>1</td>\n",
       "      <td>0</td>\n",
       "      <td>65</td>\n",
       "      <td>1</td>\n",
       "      <td>['adult standards', 'brill building pop', 'doo...</td>\n",
       "      <td>The Magic Touch: An Anthology</td>\n",
       "      <td>0</td>\n",
       "      <td>[adult standards, brill building pop, doo-wop,...</td>\n",
       "    </tr>\n",
       "    <tr>\n",
       "      <th>60397</th>\n",
       "      <td>1958-08-02</td>\n",
       "      <td>94</td>\n",
       "      <td>She Was Only Seventeen (He Was One Year More)</td>\n",
       "      <td>Marty Robbins</td>\n",
       "      <td>She Was Only Seventeen (He Was One Year More)M...</td>\n",
       "      <td>1</td>\n",
       "      <td>0</td>\n",
       "      <td>94</td>\n",
       "      <td>1</td>\n",
       "      <td>['cowboy western', 'nashville sound']</td>\n",
       "      <td></td>\n",
       "      <td>999</td>\n",
       "      <td>[cowboy western, nashville sound]</td>\n",
       "    </tr>\n",
       "    <tr>\n",
       "      <th>110396</th>\n",
       "      <td>1958-08-02</td>\n",
       "      <td>47</td>\n",
       "      <td>I Wonder Why</td>\n",
       "      <td>Dion &amp; The Belmonts</td>\n",
       "      <td>I Wonder WhyDion &amp; The Belmonts</td>\n",
       "      <td>1</td>\n",
       "      <td>0</td>\n",
       "      <td>47</td>\n",
       "      <td>1</td>\n",
       "      <td>['canadian pop', 'dance pop']</td>\n",
       "      <td>Presenting Dion And The Belmonts</td>\n",
       "      <td>0</td>\n",
       "      <td>[canadian pop, dance pop]</td>\n",
       "    </tr>\n",
       "    <tr>\n",
       "      <th>103600</th>\n",
       "      <td>1958-08-02</td>\n",
       "      <td>17</td>\n",
       "      <td>Endless Sleep</td>\n",
       "      <td>Jody Reynolds</td>\n",
       "      <td>Endless SleepJody Reynolds</td>\n",
       "      <td>1</td>\n",
       "      <td>0</td>\n",
       "      <td>17</td>\n",
       "      <td>1</td>\n",
       "      <td>[]</td>\n",
       "      <td>Endless Sleep - Rockabilly Best</td>\n",
       "      <td>0</td>\n",
       "      <td>[]</td>\n",
       "    </tr>\n",
       "    <tr>\n",
       "      <th>...</th>\n",
       "      <td>...</td>\n",
       "      <td>...</td>\n",
       "      <td>...</td>\n",
       "      <td>...</td>\n",
       "      <td>...</td>\n",
       "      <td>...</td>\n",
       "      <td>...</td>\n",
       "      <td>...</td>\n",
       "      <td>...</td>\n",
       "      <td>...</td>\n",
       "      <td>...</td>\n",
       "      <td>...</td>\n",
       "      <td>...</td>\n",
       "    </tr>\n",
       "    <tr>\n",
       "      <th>37914</th>\n",
       "      <td>2019-12-28</td>\n",
       "      <td>6</td>\n",
       "      <td>A Holly Jolly Christmas</td>\n",
       "      <td>Burl Ives</td>\n",
       "      <td>A Holly Jolly ChristmasBurl Ives</td>\n",
       "      <td>4</td>\n",
       "      <td>10</td>\n",
       "      <td>6</td>\n",
       "      <td>13</td>\n",
       "      <td>['adult standards', 'american folk revival']</td>\n",
       "      <td>Have A Holly Jolly Christmas</td>\n",
       "      <td>0</td>\n",
       "      <td>[adult standards, american folk revival]</td>\n",
       "    </tr>\n",
       "    <tr>\n",
       "      <th>108621</th>\n",
       "      <td>2019-12-28</td>\n",
       "      <td>28</td>\n",
       "      <td>Let It Snow, Let It Snow, Let It Snow</td>\n",
       "      <td>Dean Martin</td>\n",
       "      <td>Let It Snow, Let It Snow, Let It SnowDean Martin</td>\n",
       "      <td>2</td>\n",
       "      <td>24</td>\n",
       "      <td>24</td>\n",
       "      <td>7</td>\n",
       "      <td>['adult standards', 'easy listening', 'lounge']</td>\n",
       "      <td>A Winter Romance</td>\n",
       "      <td>0</td>\n",
       "      <td>[adult standards, easy listening, lounge]</td>\n",
       "    </tr>\n",
       "    <tr>\n",
       "      <th>115973</th>\n",
       "      <td>2019-12-28</td>\n",
       "      <td>70</td>\n",
       "      <td>Heart On Ice</td>\n",
       "      <td>Rod Wave</td>\n",
       "      <td>Heart On IceRod Wave</td>\n",
       "      <td>1</td>\n",
       "      <td>65</td>\n",
       "      <td>54</td>\n",
       "      <td>6</td>\n",
       "      <td>['florida rap']</td>\n",
       "      <td>PTSD</td>\n",
       "      <td>1</td>\n",
       "      <td>[florida rap]</td>\n",
       "    </tr>\n",
       "    <tr>\n",
       "      <th>52624</th>\n",
       "      <td>2019-12-28</td>\n",
       "      <td>5</td>\n",
       "      <td>Futsal Shuffle 2020</td>\n",
       "      <td>Lil Uzi Vert</td>\n",
       "      <td>Futsal Shuffle 2020Lil Uzi Vert</td>\n",
       "      <td>1</td>\n",
       "      <td>0</td>\n",
       "      <td>5</td>\n",
       "      <td>1</td>\n",
       "      <td>['melodic rap', 'philly rap', 'pop rap', 'rap'...</td>\n",
       "      <td>Futsal Shuffle 2020</td>\n",
       "      <td>1</td>\n",
       "      <td>[melodic rap, philly rap, pop rap, rap, trap]</td>\n",
       "    </tr>\n",
       "    <tr>\n",
       "      <th>195435</th>\n",
       "      <td>2019-12-28</td>\n",
       "      <td>86</td>\n",
       "      <td>Golden</td>\n",
       "      <td>Harry Styles</td>\n",
       "      <td>GoldenHarry Styles</td>\n",
       "      <td>1</td>\n",
       "      <td>0</td>\n",
       "      <td>86</td>\n",
       "      <td>1</td>\n",
       "      <td>['dance pop', 'pop', 'post-teen pop']</td>\n",
       "      <td>Fine Line</td>\n",
       "      <td>0</td>\n",
       "      <td>[dance pop, pop, post-teen pop]</td>\n",
       "    </tr>\n",
       "  </tbody>\n",
       "</table>\n",
       "<p>320607 rows × 13 columns</p>\n",
       "</div>"
      ],
      "text/plain": [
       "             week  week_pos                                           song  \\\n",
       "97609  1958-08-02        92                                       Bird Dog   \n",
       "287128 1958-08-02        65                        You're Making A Mistake   \n",
       "60397  1958-08-02        94  She Was Only Seventeen (He Was One Year More)   \n",
       "110396 1958-08-02        47                                   I Wonder Why   \n",
       "103600 1958-08-02        17                                  Endless Sleep   \n",
       "...           ...       ...                                            ...   \n",
       "37914  2019-12-28         6                        A Holly Jolly Christmas   \n",
       "108621 2019-12-28        28          Let It Snow, Let It Snow, Let It Snow   \n",
       "115973 2019-12-28        70                                   Heart On Ice   \n",
       "52624  2019-12-28         5                            Futsal Shuffle 2020   \n",
       "195435 2019-12-28        86                                         Golden   \n",
       "\n",
       "                     artist  \\\n",
       "97609   The Everly Brothers   \n",
       "287128         The Platters   \n",
       "60397         Marty Robbins   \n",
       "110396  Dion & The Belmonts   \n",
       "103600        Jody Reynolds   \n",
       "...                     ...   \n",
       "37914             Burl Ives   \n",
       "108621          Dean Martin   \n",
       "115973             Rod Wave   \n",
       "52624          Lil Uzi Vert   \n",
       "195435         Harry Styles   \n",
       "\n",
       "                                                  song_id  instance  \\\n",
       "97609                         Bird DogThe Everly Brothers         1   \n",
       "287128                You're Making A MistakeThe Platters         1   \n",
       "60397   She Was Only Seventeen (He Was One Year More)M...         1   \n",
       "110396                    I Wonder WhyDion & The Belmonts         1   \n",
       "103600                         Endless SleepJody Reynolds         1   \n",
       "...                                                   ...       ...   \n",
       "37914                    A Holly Jolly ChristmasBurl Ives         4   \n",
       "108621   Let It Snow, Let It Snow, Let It SnowDean Martin         2   \n",
       "115973                               Heart On IceRod Wave         1   \n",
       "52624                     Futsal Shuffle 2020Lil Uzi Vert         1   \n",
       "195435                                 GoldenHarry Styles         1   \n",
       "\n",
       "        prev_week_pos  peak_pos  weeks_on_chart  \\\n",
       "97609               0        92               1   \n",
       "287128              0        65               1   \n",
       "60397               0        94               1   \n",
       "110396              0        47               1   \n",
       "103600              0        17               1   \n",
       "...               ...       ...             ...   \n",
       "37914              10         6              13   \n",
       "108621             24        24               7   \n",
       "115973             65        54               6   \n",
       "52624               0         5               1   \n",
       "195435              0        86               1   \n",
       "\n",
       "                                                    genre  \\\n",
       "97609   ['adult standards', 'brill building pop', 'bub...   \n",
       "287128  ['adult standards', 'brill building pop', 'doo...   \n",
       "60397               ['cowboy western', 'nashville sound']   \n",
       "110396                      ['canadian pop', 'dance pop']   \n",
       "103600                                                 []   \n",
       "...                                                   ...   \n",
       "37914        ['adult standards', 'american folk revival']   \n",
       "108621    ['adult standards', 'easy listening', 'lounge']   \n",
       "115973                                    ['florida rap']   \n",
       "52624   ['melodic rap', 'philly rap', 'pop rap', 'rap'...   \n",
       "195435              ['dance pop', 'pop', 'post-teen pop']   \n",
       "\n",
       "                                       album  explicit  \\\n",
       "97609   The Very Best of The Everly Brothers         0   \n",
       "287128         The Magic Touch: An Anthology         0   \n",
       "60397                                              999   \n",
       "110396      Presenting Dion And The Belmonts         0   \n",
       "103600       Endless Sleep - Rockabilly Best         0   \n",
       "...                                      ...       ...   \n",
       "37914           Have A Holly Jolly Christmas         0   \n",
       "108621                      A Winter Romance         0   \n",
       "115973                                  PTSD         1   \n",
       "52624                    Futsal Shuffle 2020         1   \n",
       "195435                             Fine Line         0   \n",
       "\n",
       "                                       spotify_genre_list  \n",
       "97609   [adult standards, brill building pop, bubblegu...  \n",
       "287128  [adult standards, brill building pop, doo-wop,...  \n",
       "60397                   [cowboy western, nashville sound]  \n",
       "110396                          [canadian pop, dance pop]  \n",
       "103600                                                 []  \n",
       "...                                                   ...  \n",
       "37914            [adult standards, american folk revival]  \n",
       "108621          [adult standards, easy listening, lounge]  \n",
       "115973                                      [florida rap]  \n",
       "52624       [melodic rap, philly rap, pop rap, rap, trap]  \n",
       "195435                    [dance pop, pop, post-teen pop]  \n",
       "\n",
       "[320607 rows x 13 columns]"
      ]
     },
     "execution_count": 25,
     "metadata": {},
     "output_type": "execute_result"
    },
    {
     "data": {
      "application/javascript": [
       "\n",
       "            setTimeout(function() {\n",
       "                var nbb_cell_id = 25;\n",
       "                var nbb_unformatted_code = \"full_table.sort_values(by=\\\"week\\\")\";\n",
       "                var nbb_formatted_code = \"full_table.sort_values(by=\\\"week\\\")\";\n",
       "                var nbb_cells = Jupyter.notebook.get_cells();\n",
       "                for (var i = 0; i < nbb_cells.length; ++i) {\n",
       "                    if (nbb_cells[i].input_prompt_number == nbb_cell_id) {\n",
       "                        if (nbb_cells[i].get_text() == nbb_unformatted_code) {\n",
       "                             nbb_cells[i].set_text(nbb_formatted_code);\n",
       "                        }\n",
       "                        break;\n",
       "                    }\n",
       "                }\n",
       "            }, 500);\n",
       "            "
      ],
      "text/plain": [
       "<IPython.core.display.Javascript object>"
      ]
     },
     "metadata": {},
     "output_type": "display_data"
    }
   ],
   "source": [
    "full_table.sort_values(by=\"week\")"
   ]
  },
  {
   "cell_type": "markdown",
   "metadata": {},
   "source": [
    "# Analysis"
   ]
  },
  {
   "cell_type": "code",
   "execution_count": 26,
   "metadata": {},
   "outputs": [
    {
     "data": {
      "text/html": [
       "<div>\n",
       "<style scoped>\n",
       "    .dataframe tbody tr th:only-of-type {\n",
       "        vertical-align: middle;\n",
       "    }\n",
       "\n",
       "    .dataframe tbody tr th {\n",
       "        vertical-align: top;\n",
       "    }\n",
       "\n",
       "    .dataframe thead th {\n",
       "        text-align: right;\n",
       "    }\n",
       "</style>\n",
       "<table border=\"1\" class=\"dataframe\">\n",
       "  <thead>\n",
       "    <tr style=\"text-align: right;\">\n",
       "      <th></th>\n",
       "      <th>week</th>\n",
       "      <th>week_pos</th>\n",
       "      <th>song</th>\n",
       "      <th>artist</th>\n",
       "      <th>song_id</th>\n",
       "      <th>instance</th>\n",
       "      <th>prev_week_pos</th>\n",
       "      <th>peak_pos</th>\n",
       "      <th>weeks_on_chart</th>\n",
       "      <th>genre</th>\n",
       "      <th>album</th>\n",
       "      <th>spotify_genre_list</th>\n",
       "    </tr>\n",
       "    <tr>\n",
       "      <th>explicit</th>\n",
       "      <th></th>\n",
       "      <th></th>\n",
       "      <th></th>\n",
       "      <th></th>\n",
       "      <th></th>\n",
       "      <th></th>\n",
       "      <th></th>\n",
       "      <th></th>\n",
       "      <th></th>\n",
       "      <th></th>\n",
       "      <th></th>\n",
       "      <th></th>\n",
       "    </tr>\n",
       "  </thead>\n",
       "  <tbody>\n",
       "    <tr>\n",
       "      <th>0</th>\n",
       "      <td>249361</td>\n",
       "      <td>249361</td>\n",
       "      <td>249361</td>\n",
       "      <td>249361</td>\n",
       "      <td>249361</td>\n",
       "      <td>249361</td>\n",
       "      <td>249361</td>\n",
       "      <td>249361</td>\n",
       "      <td>249361</td>\n",
       "      <td>249361</td>\n",
       "      <td>249361</td>\n",
       "      <td>249361</td>\n",
       "    </tr>\n",
       "    <tr>\n",
       "      <th>1</th>\n",
       "      <td>31060</td>\n",
       "      <td>31060</td>\n",
       "      <td>31060</td>\n",
       "      <td>31060</td>\n",
       "      <td>31060</td>\n",
       "      <td>31060</td>\n",
       "      <td>31060</td>\n",
       "      <td>31060</td>\n",
       "      <td>31060</td>\n",
       "      <td>31060</td>\n",
       "      <td>31060</td>\n",
       "      <td>31060</td>\n",
       "    </tr>\n",
       "    <tr>\n",
       "      <th>999</th>\n",
       "      <td>40186</td>\n",
       "      <td>40186</td>\n",
       "      <td>40186</td>\n",
       "      <td>40186</td>\n",
       "      <td>40186</td>\n",
       "      <td>40186</td>\n",
       "      <td>40186</td>\n",
       "      <td>40186</td>\n",
       "      <td>40186</td>\n",
       "      <td>40186</td>\n",
       "      <td>40186</td>\n",
       "      <td>40186</td>\n",
       "    </tr>\n",
       "  </tbody>\n",
       "</table>\n",
       "</div>"
      ],
      "text/plain": [
       "            week  week_pos    song  artist  song_id  instance  prev_week_pos  \\\n",
       "explicit                                                                       \n",
       "0         249361    249361  249361  249361   249361    249361         249361   \n",
       "1          31060     31060   31060   31060    31060     31060          31060   \n",
       "999        40186     40186   40186   40186    40186     40186          40186   \n",
       "\n",
       "          peak_pos  weeks_on_chart   genre   album  spotify_genre_list  \n",
       "explicit                                                                \n",
       "0           249361          249361  249361  249361              249361  \n",
       "1            31060           31060   31060   31060               31060  \n",
       "999          40186           40186   40186   40186               40186  "
      ]
     },
     "execution_count": 26,
     "metadata": {},
     "output_type": "execute_result"
    },
    {
     "data": {
      "application/javascript": [
       "\n",
       "            setTimeout(function() {\n",
       "                var nbb_cell_id = 26;\n",
       "                var nbb_unformatted_code = \"full_table.groupby(\\\"explicit\\\").count()\";\n",
       "                var nbb_formatted_code = \"full_table.groupby(\\\"explicit\\\").count()\";\n",
       "                var nbb_cells = Jupyter.notebook.get_cells();\n",
       "                for (var i = 0; i < nbb_cells.length; ++i) {\n",
       "                    if (nbb_cells[i].input_prompt_number == nbb_cell_id) {\n",
       "                        if (nbb_cells[i].get_text() == nbb_unformatted_code) {\n",
       "                             nbb_cells[i].set_text(nbb_formatted_code);\n",
       "                        }\n",
       "                        break;\n",
       "                    }\n",
       "                }\n",
       "            }, 500);\n",
       "            "
      ],
      "text/plain": [
       "<IPython.core.display.Javascript object>"
      ]
     },
     "metadata": {},
     "output_type": "display_data"
    }
   ],
   "source": [
    "full_table.groupby(\"explicit\").count()"
   ]
  },
  {
   "cell_type": "code",
   "execution_count": 27,
   "metadata": {},
   "outputs": [
    {
     "data": {
      "text/plain": [
       "(46606, 13)"
      ]
     },
     "execution_count": 27,
     "metadata": {},
     "output_type": "execute_result"
    },
    {
     "data": {
      "application/javascript": [
       "\n",
       "            setTimeout(function() {\n",
       "                var nbb_cell_id = 27;\n",
       "                var nbb_unformatted_code = \"rap = full_table[full_table[\\\"genre\\\"].apply(lambda x: \\\"rap\\\" in x)]\\nrap.shape\";\n",
       "                var nbb_formatted_code = \"rap = full_table[full_table[\\\"genre\\\"].apply(lambda x: \\\"rap\\\" in x)]\\nrap.shape\";\n",
       "                var nbb_cells = Jupyter.notebook.get_cells();\n",
       "                for (var i = 0; i < nbb_cells.length; ++i) {\n",
       "                    if (nbb_cells[i].input_prompt_number == nbb_cell_id) {\n",
       "                        if (nbb_cells[i].get_text() == nbb_unformatted_code) {\n",
       "                             nbb_cells[i].set_text(nbb_formatted_code);\n",
       "                        }\n",
       "                        break;\n",
       "                    }\n",
       "                }\n",
       "            }, 500);\n",
       "            "
      ],
      "text/plain": [
       "<IPython.core.display.Javascript object>"
      ]
     },
     "metadata": {},
     "output_type": "display_data"
    }
   ],
   "source": [
    "rap = full_table[full_table[\"genre\"].apply(lambda x: \"rap\" in x)]\n",
    "rap.shape"
   ]
  },
  {
   "cell_type": "code",
   "execution_count": 28,
   "metadata": {},
   "outputs": [
    {
     "data": {
      "text/plain": [
       "(34862, 13)"
      ]
     },
     "execution_count": 28,
     "metadata": {},
     "output_type": "execute_result"
    },
    {
     "data": {
      "application/javascript": [
       "\n",
       "            setTimeout(function() {\n",
       "                var nbb_cell_id = 28;\n",
       "                var nbb_unformatted_code = \"hip_hop = full_table[full_table[\\\"genre\\\"].apply(lambda x: \\\"hip hop\\\" in x)]\\nhip_hop.shape\";\n",
       "                var nbb_formatted_code = \"hip_hop = full_table[full_table[\\\"genre\\\"].apply(lambda x: \\\"hip hop\\\" in x)]\\nhip_hop.shape\";\n",
       "                var nbb_cells = Jupyter.notebook.get_cells();\n",
       "                for (var i = 0; i < nbb_cells.length; ++i) {\n",
       "                    if (nbb_cells[i].input_prompt_number == nbb_cell_id) {\n",
       "                        if (nbb_cells[i].get_text() == nbb_unformatted_code) {\n",
       "                             nbb_cells[i].set_text(nbb_formatted_code);\n",
       "                        }\n",
       "                        break;\n",
       "                    }\n",
       "                }\n",
       "            }, 500);\n",
       "            "
      ],
      "text/plain": [
       "<IPython.core.display.Javascript object>"
      ]
     },
     "metadata": {},
     "output_type": "display_data"
    }
   ],
   "source": [
    "hip_hop = full_table[full_table[\"genre\"].apply(lambda x: \"hip hop\" in x)]\n",
    "hip_hop.shape"
   ]
  },
  {
   "cell_type": "code",
   "execution_count": 29,
   "metadata": {},
   "outputs": [
    {
     "data": {
      "text/plain": [
       "(11936, 13)"
      ]
     },
     "execution_count": 29,
     "metadata": {},
     "output_type": "execute_result"
    },
    {
     "data": {
      "application/javascript": [
       "\n",
       "            setTimeout(function() {\n",
       "                var nbb_cell_id = 29;\n",
       "                var nbb_unformatted_code = \"metal = full_table[full_table[\\\"genre\\\"].apply(lambda x: \\\"metal\\\" in x)]\\nmetal.shape\";\n",
       "                var nbb_formatted_code = \"metal = full_table[full_table[\\\"genre\\\"].apply(lambda x: \\\"metal\\\" in x)]\\nmetal.shape\";\n",
       "                var nbb_cells = Jupyter.notebook.get_cells();\n",
       "                for (var i = 0; i < nbb_cells.length; ++i) {\n",
       "                    if (nbb_cells[i].input_prompt_number == nbb_cell_id) {\n",
       "                        if (nbb_cells[i].get_text() == nbb_unformatted_code) {\n",
       "                             nbb_cells[i].set_text(nbb_formatted_code);\n",
       "                        }\n",
       "                        break;\n",
       "                    }\n",
       "                }\n",
       "            }, 500);\n",
       "            "
      ],
      "text/plain": [
       "<IPython.core.display.Javascript object>"
      ]
     },
     "metadata": {},
     "output_type": "display_data"
    }
   ],
   "source": [
    "metal = full_table[full_table[\"genre\"].apply(lambda x: \"metal\" in x)]\n",
    "metal.shape"
   ]
  },
  {
   "cell_type": "code",
   "execution_count": 30,
   "metadata": {},
   "outputs": [
    {
     "data": {
      "text/html": [
       "<div>\n",
       "<style scoped>\n",
       "    .dataframe tbody tr th:only-of-type {\n",
       "        vertical-align: middle;\n",
       "    }\n",
       "\n",
       "    .dataframe tbody tr th {\n",
       "        vertical-align: top;\n",
       "    }\n",
       "\n",
       "    .dataframe thead th {\n",
       "        text-align: right;\n",
       "    }\n",
       "</style>\n",
       "<table border=\"1\" class=\"dataframe\">\n",
       "  <thead>\n",
       "    <tr style=\"text-align: right;\">\n",
       "      <th></th>\n",
       "      <th></th>\n",
       "      <th>week_pos</th>\n",
       "      <th>instance</th>\n",
       "      <th>prev_week_pos</th>\n",
       "      <th>peak_pos</th>\n",
       "      <th>weeks_on_chart</th>\n",
       "      <th>explicit</th>\n",
       "    </tr>\n",
       "    <tr>\n",
       "      <th>song_id</th>\n",
       "      <th>genre</th>\n",
       "      <th></th>\n",
       "      <th></th>\n",
       "      <th></th>\n",
       "      <th></th>\n",
       "      <th></th>\n",
       "      <th></th>\n",
       "    </tr>\n",
       "  </thead>\n",
       "  <tbody>\n",
       "    <tr>\n",
       "      <th>#9 DreamJohn Lennon</th>\n",
       "      <th>['album rock', 'classic rock', 'folk rock', 'mellow gold', 'rock']</th>\n",
       "      <td>9.500000</td>\n",
       "      <td>1.0</td>\n",
       "      <td>11.500000</td>\n",
       "      <td>9.500000</td>\n",
       "      <td>9.500000</td>\n",
       "      <td>0.0</td>\n",
       "    </tr>\n",
       "    <tr>\n",
       "      <th>'03 Bonnie &amp; ClydeJay-Z Featuring Beyonce Knowles</th>\n",
       "      <th>['east coast hip hop', 'hip hop', 'pop rap', 'rap', 'southern hip hop']</th>\n",
       "      <td>5.909091</td>\n",
       "      <td>1.0</td>\n",
       "      <td>6.000000</td>\n",
       "      <td>4.636364</td>\n",
       "      <td>12.000000</td>\n",
       "      <td>1.0</td>\n",
       "    </tr>\n",
       "    <tr>\n",
       "      <th>'65 Love AffairPaul Davis</th>\n",
       "      <th>['album rock', 'bubblegum pop', 'country rock', 'folk rock', 'mellow gold', 'new wave pop', 'soft rock', 'yacht rock']</th>\n",
       "      <td>7.714286</td>\n",
       "      <td>1.0</td>\n",
       "      <td>8.285714</td>\n",
       "      <td>7.285714</td>\n",
       "      <td>12.000000</td>\n",
       "      <td>0.0</td>\n",
       "    </tr>\n",
       "    <tr>\n",
       "      <th>('til) I Kissed YouThe Everly Brothers</th>\n",
       "      <th>['adult standards', 'brill building pop', 'bubblegum pop', 'folk rock', 'lounge', 'mellow gold', 'rock-and-roll', 'rockabilly', 'sunshine pop']</th>\n",
       "      <td>4.714286</td>\n",
       "      <td>1.0</td>\n",
       "      <td>5.857143</td>\n",
       "      <td>4.428571</td>\n",
       "      <td>7.000000</td>\n",
       "      <td>0.0</td>\n",
       "    </tr>\n",
       "    <tr>\n",
       "      <th>(Can't Live Without Your) Love And AffectionNelson</th>\n",
       "      <th>['classic country pop', 'country', 'nashville sound', 'outlaw country', 'singer-songwriter', 'texas country']</th>\n",
       "      <td>5.428571</td>\n",
       "      <td>1.0</td>\n",
       "      <td>5.714286</td>\n",
       "      <td>3.142857</td>\n",
       "      <td>13.000000</td>\n",
       "      <td>0.0</td>\n",
       "    </tr>\n",
       "    <tr>\n",
       "      <th>...</th>\n",
       "      <th>...</th>\n",
       "      <td>...</td>\n",
       "      <td>...</td>\n",
       "      <td>...</td>\n",
       "      <td>...</td>\n",
       "      <td>...</td>\n",
       "      <td>...</td>\n",
       "    </tr>\n",
       "    <tr>\n",
       "      <th>Yummy Yummy YummyOhio Express</th>\n",
       "      <th>['bubblegum pop']</th>\n",
       "      <td>4.800000</td>\n",
       "      <td>1.0</td>\n",
       "      <td>8.800000</td>\n",
       "      <td>4.800000</td>\n",
       "      <td>7.000000</td>\n",
       "      <td>0.0</td>\n",
       "    </tr>\n",
       "    <tr>\n",
       "      <th>ZEZEKodak Black Featuring Travis Scott &amp; Offset</th>\n",
       "      <th>['florida rap', 'hip hop', 'melodic rap', 'miami hip hop', 'pop rap', 'rap', 'southern hip hop', 'trap']</th>\n",
       "      <td>7.846154</td>\n",
       "      <td>1.0</td>\n",
       "      <td>7.615385</td>\n",
       "      <td>2.000000</td>\n",
       "      <td>7.230769</td>\n",
       "      <td>1.0</td>\n",
       "    </tr>\n",
       "    <tr>\n",
       "      <th>Zip-A-Dee Doo-DahBob B. Soxx And The Blue Jeans</th>\n",
       "      <th>['brill building pop']</th>\n",
       "      <td>8.666667</td>\n",
       "      <td>1.0</td>\n",
       "      <td>11.333333</td>\n",
       "      <td>8.666667</td>\n",
       "      <td>8.000000</td>\n",
       "      <td>999.0</td>\n",
       "    </tr>\n",
       "    <tr>\n",
       "      <th>everything i wantedBillie Eilish</th>\n",
       "      <th>['electropop', 'pop']</th>\n",
       "      <td>8.000000</td>\n",
       "      <td>1.0</td>\n",
       "      <td>74.000000</td>\n",
       "      <td>8.000000</td>\n",
       "      <td>2.000000</td>\n",
       "      <td>0.0</td>\n",
       "    </tr>\n",
       "    <tr>\n",
       "      <th>iSpyKYLE Featuring Lil Yachty</th>\n",
       "      <th>['pop rap', 'rap']</th>\n",
       "      <td>7.125000</td>\n",
       "      <td>1.0</td>\n",
       "      <td>7.875000</td>\n",
       "      <td>4.875000</td>\n",
       "      <td>16.375000</td>\n",
       "      <td>1.0</td>\n",
       "    </tr>\n",
       "  </tbody>\n",
       "</table>\n",
       "<p>4820 rows × 6 columns</p>\n",
       "</div>"
      ],
      "text/plain": [
       "                                                                                                       week_pos  \\\n",
       "song_id                                            genre                                                          \n",
       "#9 DreamJohn Lennon                                ['album rock', 'classic rock', 'folk rock', 'me...  9.500000   \n",
       "'03 Bonnie & ClydeJay-Z Featuring Beyonce Knowles  ['east coast hip hop', 'hip hop', 'pop rap', 'r...  5.909091   \n",
       "'65 Love AffairPaul Davis                          ['album rock', 'bubblegum pop', 'country rock',...  7.714286   \n",
       "('til) I Kissed YouThe Everly Brothers             ['adult standards', 'brill building pop', 'bubb...  4.714286   \n",
       "(Can't Live Without Your) Love And AffectionNelson ['classic country pop', 'country', 'nashville s...  5.428571   \n",
       "...                                                                                                         ...   \n",
       "Yummy Yummy YummyOhio Express                      ['bubblegum pop']                                   4.800000   \n",
       "ZEZEKodak Black Featuring Travis Scott & Offset    ['florida rap', 'hip hop', 'melodic rap', 'miam...  7.846154   \n",
       "Zip-A-Dee Doo-DahBob B. Soxx And The Blue Jeans    ['brill building pop']                              8.666667   \n",
       "everything i wantedBillie Eilish                   ['electropop', 'pop']                               8.000000   \n",
       "iSpyKYLE Featuring Lil Yachty                      ['pop rap', 'rap']                                  7.125000   \n",
       "\n",
       "                                                                                                       instance  \\\n",
       "song_id                                            genre                                                          \n",
       "#9 DreamJohn Lennon                                ['album rock', 'classic rock', 'folk rock', 'me...       1.0   \n",
       "'03 Bonnie & ClydeJay-Z Featuring Beyonce Knowles  ['east coast hip hop', 'hip hop', 'pop rap', 'r...       1.0   \n",
       "'65 Love AffairPaul Davis                          ['album rock', 'bubblegum pop', 'country rock',...       1.0   \n",
       "('til) I Kissed YouThe Everly Brothers             ['adult standards', 'brill building pop', 'bubb...       1.0   \n",
       "(Can't Live Without Your) Love And AffectionNelson ['classic country pop', 'country', 'nashville s...       1.0   \n",
       "...                                                                                                         ...   \n",
       "Yummy Yummy YummyOhio Express                      ['bubblegum pop']                                        1.0   \n",
       "ZEZEKodak Black Featuring Travis Scott & Offset    ['florida rap', 'hip hop', 'melodic rap', 'miam...       1.0   \n",
       "Zip-A-Dee Doo-DahBob B. Soxx And The Blue Jeans    ['brill building pop']                                   1.0   \n",
       "everything i wantedBillie Eilish                   ['electropop', 'pop']                                    1.0   \n",
       "iSpyKYLE Featuring Lil Yachty                      ['pop rap', 'rap']                                       1.0   \n",
       "\n",
       "                                                                                                       prev_week_pos  \\\n",
       "song_id                                            genre                                                               \n",
       "#9 DreamJohn Lennon                                ['album rock', 'classic rock', 'folk rock', 'me...      11.500000   \n",
       "'03 Bonnie & ClydeJay-Z Featuring Beyonce Knowles  ['east coast hip hop', 'hip hop', 'pop rap', 'r...       6.000000   \n",
       "'65 Love AffairPaul Davis                          ['album rock', 'bubblegum pop', 'country rock',...       8.285714   \n",
       "('til) I Kissed YouThe Everly Brothers             ['adult standards', 'brill building pop', 'bubb...       5.857143   \n",
       "(Can't Live Without Your) Love And AffectionNelson ['classic country pop', 'country', 'nashville s...       5.714286   \n",
       "...                                                                                                              ...   \n",
       "Yummy Yummy YummyOhio Express                      ['bubblegum pop']                                        8.800000   \n",
       "ZEZEKodak Black Featuring Travis Scott & Offset    ['florida rap', 'hip hop', 'melodic rap', 'miam...       7.615385   \n",
       "Zip-A-Dee Doo-DahBob B. Soxx And The Blue Jeans    ['brill building pop']                                  11.333333   \n",
       "everything i wantedBillie Eilish                   ['electropop', 'pop']                                   74.000000   \n",
       "iSpyKYLE Featuring Lil Yachty                      ['pop rap', 'rap']                                       7.875000   \n",
       "\n",
       "                                                                                                       peak_pos  \\\n",
       "song_id                                            genre                                                          \n",
       "#9 DreamJohn Lennon                                ['album rock', 'classic rock', 'folk rock', 'me...  9.500000   \n",
       "'03 Bonnie & ClydeJay-Z Featuring Beyonce Knowles  ['east coast hip hop', 'hip hop', 'pop rap', 'r...  4.636364   \n",
       "'65 Love AffairPaul Davis                          ['album rock', 'bubblegum pop', 'country rock',...  7.285714   \n",
       "('til) I Kissed YouThe Everly Brothers             ['adult standards', 'brill building pop', 'bubb...  4.428571   \n",
       "(Can't Live Without Your) Love And AffectionNelson ['classic country pop', 'country', 'nashville s...  3.142857   \n",
       "...                                                                                                         ...   \n",
       "Yummy Yummy YummyOhio Express                      ['bubblegum pop']                                   4.800000   \n",
       "ZEZEKodak Black Featuring Travis Scott & Offset    ['florida rap', 'hip hop', 'melodic rap', 'miam...  2.000000   \n",
       "Zip-A-Dee Doo-DahBob B. Soxx And The Blue Jeans    ['brill building pop']                              8.666667   \n",
       "everything i wantedBillie Eilish                   ['electropop', 'pop']                               8.000000   \n",
       "iSpyKYLE Featuring Lil Yachty                      ['pop rap', 'rap']                                  4.875000   \n",
       "\n",
       "                                                                                                       weeks_on_chart  \\\n",
       "song_id                                            genre                                                                \n",
       "#9 DreamJohn Lennon                                ['album rock', 'classic rock', 'folk rock', 'me...        9.500000   \n",
       "'03 Bonnie & ClydeJay-Z Featuring Beyonce Knowles  ['east coast hip hop', 'hip hop', 'pop rap', 'r...       12.000000   \n",
       "'65 Love AffairPaul Davis                          ['album rock', 'bubblegum pop', 'country rock',...       12.000000   \n",
       "('til) I Kissed YouThe Everly Brothers             ['adult standards', 'brill building pop', 'bubb...        7.000000   \n",
       "(Can't Live Without Your) Love And AffectionNelson ['classic country pop', 'country', 'nashville s...       13.000000   \n",
       "...                                                                                                               ...   \n",
       "Yummy Yummy YummyOhio Express                      ['bubblegum pop']                                         7.000000   \n",
       "ZEZEKodak Black Featuring Travis Scott & Offset    ['florida rap', 'hip hop', 'melodic rap', 'miam...        7.230769   \n",
       "Zip-A-Dee Doo-DahBob B. Soxx And The Blue Jeans    ['brill building pop']                                    8.000000   \n",
       "everything i wantedBillie Eilish                   ['electropop', 'pop']                                     2.000000   \n",
       "iSpyKYLE Featuring Lil Yachty                      ['pop rap', 'rap']                                       16.375000   \n",
       "\n",
       "                                                                                                       explicit  \n",
       "song_id                                            genre                                                         \n",
       "#9 DreamJohn Lennon                                ['album rock', 'classic rock', 'folk rock', 'me...       0.0  \n",
       "'03 Bonnie & ClydeJay-Z Featuring Beyonce Knowles  ['east coast hip hop', 'hip hop', 'pop rap', 'r...       1.0  \n",
       "'65 Love AffairPaul Davis                          ['album rock', 'bubblegum pop', 'country rock',...       0.0  \n",
       "('til) I Kissed YouThe Everly Brothers             ['adult standards', 'brill building pop', 'bubb...       0.0  \n",
       "(Can't Live Without Your) Love And AffectionNelson ['classic country pop', 'country', 'nashville s...       0.0  \n",
       "...                                                                                                         ...  \n",
       "Yummy Yummy YummyOhio Express                      ['bubblegum pop']                                        0.0  \n",
       "ZEZEKodak Black Featuring Travis Scott & Offset    ['florida rap', 'hip hop', 'melodic rap', 'miam...       1.0  \n",
       "Zip-A-Dee Doo-DahBob B. Soxx And The Blue Jeans    ['brill building pop']                                 999.0  \n",
       "everything i wantedBillie Eilish                   ['electropop', 'pop']                                    0.0  \n",
       "iSpyKYLE Featuring Lil Yachty                      ['pop rap', 'rap']                                       1.0  \n",
       "\n",
       "[4820 rows x 6 columns]"
      ]
     },
     "execution_count": 30,
     "metadata": {},
     "output_type": "execute_result"
    },
    {
     "data": {
      "application/javascript": [
       "\n",
       "            setTimeout(function() {\n",
       "                var nbb_cell_id = 30;\n",
       "                var nbb_unformatted_code = \"top_25 = full_table[full_table[\\\"week_pos\\\"] <= 10]\\ntop_25.groupby([\\\"song_id\\\", \\\"genre\\\"]).mean()\";\n",
       "                var nbb_formatted_code = \"top_25 = full_table[full_table[\\\"week_pos\\\"] <= 10]\\ntop_25.groupby([\\\"song_id\\\", \\\"genre\\\"]).mean()\";\n",
       "                var nbb_cells = Jupyter.notebook.get_cells();\n",
       "                for (var i = 0; i < nbb_cells.length; ++i) {\n",
       "                    if (nbb_cells[i].input_prompt_number == nbb_cell_id) {\n",
       "                        if (nbb_cells[i].get_text() == nbb_unformatted_code) {\n",
       "                             nbb_cells[i].set_text(nbb_formatted_code);\n",
       "                        }\n",
       "                        break;\n",
       "                    }\n",
       "                }\n",
       "            }, 500);\n",
       "            "
      ],
      "text/plain": [
       "<IPython.core.display.Javascript object>"
      ]
     },
     "metadata": {},
     "output_type": "display_data"
    }
   ],
   "source": [
    "top_25 = full_table[full_table[\"week_pos\"] <= 10]\n",
    "top_25.groupby([\"song_id\", \"genre\"]).mean()"
   ]
  },
  {
   "cell_type": "markdown",
   "metadata": {},
   "source": [
    "# Graphs"
   ]
  },
  {
   "cell_type": "markdown",
   "metadata": {},
   "source": [
    "# Put weight on the week_pos sum, peak_pos min, and the max weeks_on_chart"
   ]
  },
  {
   "cell_type": "code",
   "execution_count": 35,
   "metadata": {},
   "outputs": [
    {
     "data": {
      "text/plain": [
       "Ttest_indResult(statistic=-127.4968978771606, pvalue=0.0)"
      ]
     },
     "execution_count": 35,
     "metadata": {},
     "output_type": "execute_result"
    },
    {
     "data": {
      "application/javascript": [
       "\n",
       "            setTimeout(function() {\n",
       "                var nbb_cell_id = 35;\n",
       "                var nbb_unformatted_code = \"stats.ttest_ind(full_table[\\\"week_pos\\\"], full_table[\\\"explicit\\\"])\";\n",
       "                var nbb_formatted_code = \"stats.ttest_ind(full_table[\\\"week_pos\\\"], full_table[\\\"explicit\\\"])\";\n",
       "                var nbb_cells = Jupyter.notebook.get_cells();\n",
       "                for (var i = 0; i < nbb_cells.length; ++i) {\n",
       "                    if (nbb_cells[i].input_prompt_number == nbb_cell_id) {\n",
       "                        if (nbb_cells[i].get_text() == nbb_unformatted_code) {\n",
       "                             nbb_cells[i].set_text(nbb_formatted_code);\n",
       "                        }\n",
       "                        break;\n",
       "                    }\n",
       "                }\n",
       "            }, 500);\n",
       "            "
      ],
      "text/plain": [
       "<IPython.core.display.Javascript object>"
      ]
     },
     "metadata": {},
     "output_type": "display_data"
    }
   ],
   "source": [
    "stats.ttest_ind(full_table[\"week_pos\"], full_table[\"explicit\"])"
   ]
  },
  {
   "cell_type": "code",
   "execution_count": 36,
   "metadata": {},
   "outputs": [
    {
     "data": {
      "text/plain": [
       "week                  datetime64[ns]\n",
       "week_pos                       int64\n",
       "song                          object\n",
       "artist                        object\n",
       "song_id                       object\n",
       "instance                       int64\n",
       "prev_week_pos                  int32\n",
       "peak_pos                       int64\n",
       "weeks_on_chart                 int64\n",
       "genre                         object\n",
       "album                         object\n",
       "explicit                       int32\n",
       "spotify_genre_list            object\n",
       "dtype: object"
      ]
     },
     "execution_count": 36,
     "metadata": {},
     "output_type": "execute_result"
    },
    {
     "data": {
      "application/javascript": [
       "\n",
       "            setTimeout(function() {\n",
       "                var nbb_cell_id = 36;\n",
       "                var nbb_unformatted_code = \"full_table.dtypes\";\n",
       "                var nbb_formatted_code = \"full_table.dtypes\";\n",
       "                var nbb_cells = Jupyter.notebook.get_cells();\n",
       "                for (var i = 0; i < nbb_cells.length; ++i) {\n",
       "                    if (nbb_cells[i].input_prompt_number == nbb_cell_id) {\n",
       "                        if (nbb_cells[i].get_text() == nbb_unformatted_code) {\n",
       "                             nbb_cells[i].set_text(nbb_formatted_code);\n",
       "                        }\n",
       "                        break;\n",
       "                    }\n",
       "                }\n",
       "            }, 500);\n",
       "            "
      ],
      "text/plain": [
       "<IPython.core.display.Javascript object>"
      ]
     },
     "metadata": {},
     "output_type": "display_data"
    }
   ],
   "source": [
    "full_table.dtypes"
   ]
  },
  {
   "cell_type": "code",
   "execution_count": 37,
   "metadata": {},
   "outputs": [
    {
     "data": {
      "text/plain": [
       "[]"
      ]
     },
     "execution_count": 37,
     "metadata": {},
     "output_type": "execute_result"
    },
    {
     "data": {
      "image/png": "[encoded data removed]",
      "text/plain": [
       "<Figure size 432x288 with 1 Axes>"
      ]
     },
     "metadata": {
      "needs_background": "light"
     },
     "output_type": "display_data"
    },
    {
     "data": {
      "application/javascript": [
       "\n",
       "            setTimeout(function() {\n",
       "                var nbb_cell_id = 37;\n",
       "                var nbb_unformatted_code = \"expl = full_table[full_table[\\\"explicit\\\"] == 1]\\nnot_expl = full_table[full_table[\\\"explicit\\\"] == 0]\\n\\nplt.hist(expl[\\\"week\\\"], alpha=0.9, color=\\\"red\\\")\\nplt.hist(not_expl[\\\"week\\\"], alpha=0.5, color=\\\"green\\\")\\nplt.plot()\";\n",
       "                var nbb_formatted_code = \"expl = full_table[full_table[\\\"explicit\\\"] == 1]\\nnot_expl = full_table[full_table[\\\"explicit\\\"] == 0]\\n\\nplt.hist(expl[\\\"week\\\"], alpha=0.9, color=\\\"red\\\")\\nplt.hist(not_expl[\\\"week\\\"], alpha=0.5, color=\\\"green\\\")\\nplt.plot()\";\n",
       "                var nbb_cells = Jupyter.notebook.get_cells();\n",
       "                for (var i = 0; i < nbb_cells.length; ++i) {\n",
       "                    if (nbb_cells[i].input_prompt_number == nbb_cell_id) {\n",
       "                        if (nbb_cells[i].get_text() == nbb_unformatted_code) {\n",
       "                             nbb_cells[i].set_text(nbb_formatted_code);\n",
       "                        }\n",
       "                        break;\n",
       "                    }\n",
       "                }\n",
       "            }, 500);\n",
       "            "
      ],
      "text/plain": [
       "<IPython.core.display.Javascript object>"
      ]
     },
     "metadata": {},
     "output_type": "display_data"
    }
   ],
   "source": [
    "expl = full_table[full_table[\"explicit\"] == 1]\n",
    "not_expl = full_table[full_table[\"explicit\"] == 0]\n",
    "\n",
    "plt.hist(expl[\"week\"], alpha=0.9, color=\"red\")\n",
    "plt.hist(not_expl[\"week\"], alpha=0.5, color=\"green\")\n",
    "plt.plot()"
   ]
  },
  {
   "cell_type": "code",
   "execution_count": null,
   "metadata": {},
   "outputs": [],
   "source": []
  }
 ],
 "metadata": {
  "kernelspec": {
   "display_name": "Python 3",
   "language": "python",
   "name": "python3"
  },
  "language_info": {
   "codemirror_mode": {
    "name": "ipython",
    "version": 3
   },
   "file_extension": ".py",
   "mimetype": "text/x-python",
   "name": "python",
   "nbconvert_exporter": "python",
   "pygments_lexer": "ipython3",
   "version": "3.7.6"
  }
 },
 "nbformat": 4,
 "nbformat_minor": 4
}
