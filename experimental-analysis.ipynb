{
 "cells": [
  {
   "cell_type": "markdown",
   "metadata": {},
   "source": [
    "# I have the following hypothesis:\n",
    "\n",
    "* In the mid to late 1980's, there was a big push to put a warning label on records and CD's that were deemed 'explicit' and had suggestive or 'satanic' lyrics. This was supposed to help parents monitor the music their children were buying. I propose it had the opposite effect. Albums and music with explicit lyrics and images were more popular after the mid to late 1980's.\n",
    "\n",
    "I will test this hypothesis by creating different groups of data separated by genre, explicit vs non-explicit, and a combination of both. I will also separate out the 'Top 10' songs, so that I can test the popularity of songs. The graphs and statistical data will compare these groups before and after an arbritary date (sometime between 1985 and 1990). If songs and albums with explicit lyrics and images (rap, hip-hop, heavy metal, etc.) were more popular than non-explicit songs after a certain year, it would suggest my hypothesis is correct."
   ]
  },
  {
   "cell_type": "code",
   "execution_count": null,
   "metadata": {},
   "outputs": [],
   "source": [
    "%reload_ext nb_black"
   ]
  },
  {
   "cell_type": "code",
   "execution_count": null,
   "metadata": {},
   "outputs": [],
   "source": [
    "import pandas as pd\n",
    "from scipy import stats\n",
    "import seaborn as sns\n",
    "import matplotlib.pyplot as plt\n",
    "from statsmodels.graphics.gofplots import qqplot\n",
    "from statsmodels.stats.multitest import multipletests\n",
    "import ast\n",
    "from datetime import datetime\n",
    "\n",
    "%matplotlib inline"
   ]
  },
  {
   "cell_type": "markdown",
   "metadata": {},
   "source": [
    "# Read dataframes, drop duplicate genres"
   ]
  },
  {
   "cell_type": "code",
   "execution_count": null,
   "metadata": {},
   "outputs": [],
   "source": [
    "hot_100 = pd.read_csv(\"data/Hot_Stuff.csv\")\n",
    "spotify = pd.read_excel(\"data/Hot_100_Audio_Features.xlsx\")"
   ]
  },
  {
   "cell_type": "code",
   "execution_count": null,
   "metadata": {},
   "outputs": [],
   "source": [
    "spotify[\"spotify_genre\"].explode().value_counts()"
   ]
  },
  {
   "cell_type": "code",
   "execution_count": null,
   "metadata": {},
   "outputs": [],
   "source": [
    "spotify = spotify.drop_duplicates()"
   ]
  },
  {
   "cell_type": "markdown",
   "metadata": {},
   "source": [
    "# Drop columns that are not needed"
   ]
  },
  {
   "cell_type": "code",
   "execution_count": null,
   "metadata": {},
   "outputs": [],
   "source": [
    "hot_100 = hot_100.drop(columns=[\"url\"])"
   ]
  },
  {
   "cell_type": "code",
   "execution_count": null,
   "metadata": {},
   "outputs": [],
   "source": [
    "spotify = spotify.drop(\n",
    "    columns=[\n",
    "        \"spotify_track_id\",\n",
    "        \"spotify_track_preview_url\",\n",
    "        \"spotify_track_duration_ms\",\n",
    "        \"spotify_track_popularity\",\n",
    "        \"danceability\",\n",
    "        \"energy\",\n",
    "        \"key\",\n",
    "        \"loudness\",\n",
    "        \"mode\",\n",
    "        \"acousticness\",\n",
    "        \"speechiness\",\n",
    "        \"liveness\",\n",
    "        \"instrumentalness\",\n",
    "        \"valence\",\n",
    "        \"tempo\",\n",
    "        \"time_signature\",\n",
    "    ]\n",
    ")"
   ]
  },
  {
   "cell_type": "markdown",
   "metadata": {},
   "source": [
    "# Basic table description data"
   ]
  },
  {
   "cell_type": "code",
   "execution_count": null,
   "metadata": {},
   "outputs": [],
   "source": [
    "hot_100.shape"
   ]
  },
  {
   "cell_type": "code",
   "execution_count": null,
   "metadata": {
    "scrolled": true
   },
   "outputs": [],
   "source": [
    "hot_100.isna().sum()"
   ]
  },
  {
   "cell_type": "code",
   "execution_count": null,
   "metadata": {},
   "outputs": [],
   "source": [
    "hot_100.head()"
   ]
  },
  {
   "cell_type": "code",
   "execution_count": null,
   "metadata": {},
   "outputs": [],
   "source": [
    "hot_100.dtypes"
   ]
  },
  {
   "cell_type": "code",
   "execution_count": null,
   "metadata": {},
   "outputs": [],
   "source": [
    "spotify.shape"
   ]
  },
  {
   "cell_type": "code",
   "execution_count": null,
   "metadata": {},
   "outputs": [],
   "source": [
    "spotify.isna().mean()"
   ]
  },
  {
   "cell_type": "code",
   "execution_count": null,
   "metadata": {},
   "outputs": [],
   "source": [
    "spotify.head()"
   ]
  },
  {
   "cell_type": "code",
   "execution_count": null,
   "metadata": {},
   "outputs": [],
   "source": [
    "spotify.dtypes"
   ]
  },
  {
   "cell_type": "markdown",
   "metadata": {},
   "source": [
    "# Fill null values, convert previous week position to an integer"
   ]
  },
  {
   "cell_type": "code",
   "execution_count": null,
   "metadata": {},
   "outputs": [],
   "source": [
    "spotify[\"spotify_track_album\"].fillna(\" \", inplace=True)\n",
    "hot_100[\"Previous Week Position\"].fillna(int(0), inplace=True)"
   ]
  },
  {
   "cell_type": "code",
   "execution_count": null,
   "metadata": {},
   "outputs": [],
   "source": [
    "hot_100 = hot_100.astype({\"Previous Week Position\": int})"
   ]
  },
  {
   "cell_type": "code",
   "execution_count": null,
   "metadata": {},
   "outputs": [],
   "source": [
    "spotify[\"spotify_genre\"].fillna(\"[]\", inplace=True)\n",
    "spotify[\"spotify_genre_list\"] = spotify[\"spotify_genre\"].apply(ast.literal_eval)"
   ]
  },
  {
   "cell_type": "markdown",
   "metadata": {},
   "source": [
    "# Join the 2 tables by SongID (song and performer)"
   ]
  },
  {
   "cell_type": "code",
   "execution_count": null,
   "metadata": {},
   "outputs": [],
   "source": [
    "full_table = hot_100.merge(spotify, left_on=\"SongID\", right_on=\"SongID\")\n",
    "full_table"
   ]
  },
  {
   "cell_type": "markdown",
   "metadata": {},
   "source": [
    "# Remove unnecessary columns, re-label columns"
   ]
  },
  {
   "cell_type": "code",
   "execution_count": null,
   "metadata": {},
   "outputs": [],
   "source": [
    "full_table = full_table.drop(columns=[\"Performer_y\", \"Song_y\"])"
   ]
  },
  {
   "cell_type": "code",
   "execution_count": null,
   "metadata": {},
   "outputs": [],
   "source": [
    "full_table.rename(\n",
    "    columns={\n",
    "        \"WeekID\": \"week\",\n",
    "        \"Week Position\": \"week_pos\",\n",
    "        \"Song_x\": \"song\",\n",
    "        \"Performer_x\": \"artist\",\n",
    "        \"SongID\": \"song_id\",\n",
    "        \"Instance\": \"instance\",\n",
    "        \"Previous Week Position\": \"prev_week_pos\",\n",
    "        \"Peak Position\": \"peak_pos\",\n",
    "        \"Weeks on Chart\": \"weeks_on_chart\",\n",
    "        \"spotify_genre\": \"genre_str\",\n",
    "        \"spotify_genre_list\": \"genre_list\",\n",
    "        \"spotify_track_album\": \"album\",\n",
    "        \"spotify_track_explicit\": \"explicit\",\n",
    "    },\n",
    "    inplace=True,\n",
    ")"
   ]
  },
  {
   "cell_type": "markdown",
   "metadata": {},
   "source": [
    "# Format week to a date format"
   ]
  },
  {
   "cell_type": "code",
   "execution_count": null,
   "metadata": {},
   "outputs": [],
   "source": [
    "full_table[\"week\"] = full_table[\"week\"].apply(\n",
    "    lambda x: datetime.strptime(x, \"%m/%d/%Y\")\n",
    ")\n",
    "full_table[\"week\"] = pd.to_datetime(full_table[\"week\"])"
   ]
  },
  {
   "cell_type": "markdown",
   "metadata": {},
   "source": [
    "# Put month and year in new columns"
   ]
  },
  {
   "cell_type": "code",
   "execution_count": null,
   "metadata": {},
   "outputs": [],
   "source": [
    "full_table[\"year\"], full_table[\"month\"] = (\n",
    "    full_table[\"week\"].dt.year,\n",
    "    full_table[\"week\"].dt.month,\n",
    ")"
   ]
  },
  {
   "cell_type": "markdown",
   "metadata": {},
   "source": [
    "# Check explicit vs not explicit counts for reference"
   ]
  },
  {
   "cell_type": "code",
   "execution_count": null,
   "metadata": {},
   "outputs": [],
   "source": [
    "full_table[\"explicit\"].value_counts()"
   ]
  },
  {
   "cell_type": "markdown",
   "metadata": {},
   "source": [
    "# Create a table with means, only use songs in the top 75 to make the dataframe a little smaller.  This is the main table used in analysis."
   ]
  },
  {
   "cell_type": "code",
   "execution_count": null,
   "metadata": {},
   "outputs": [],
   "source": [
    "top_song_limit = 75\n",
    "top_songs = full_table[full_table[\"week_pos\"] <= top_song_limit]\n",
    "top_songs = top_songs.groupby([\"song_id\", \"genre_str\"]).mean()\n",
    "top_songs = top_songs.reset_index()"
   ]
  },
  {
   "cell_type": "code",
   "execution_count": null,
   "metadata": {},
   "outputs": [],
   "source": [
    "top_songs[\"year\"] = round(top_songs[\"year\"])\n",
    "top_songs[\"month\"] = round(top_songs[\"month\"])\n",
    "top_songs"
   ]
  },
  {
   "cell_type": "markdown",
   "metadata": {},
   "source": [
    "# Add a genre label column.  Evaluate all of the genres in the list, and make a single genre decision.  Because there are lots of songs with a 'pop' genre, I override those with the other genres."
   ]
  },
  {
   "cell_type": "code",
   "execution_count": null,
   "metadata": {},
   "outputs": [],
   "source": [
    "genre_list = [\"rap\", \"hip hop\", \"metal\", \"country\", \"pop\"]"
   ]
  },
  {
   "cell_type": "code",
   "execution_count": null,
   "metadata": {},
   "outputs": [],
   "source": [
    "for genre in genre_list:\n",
    "    top_songs[genre] = top_songs[\"genre_str\"].str.contains(fr\"\\b{genre}\\b\")"
   ]
  },
  {
   "cell_type": "code",
   "execution_count": null,
   "metadata": {},
   "outputs": [],
   "source": [
    "top_songs.loc[top_songs[\"pop\"], \"genre_label\"] = \"pop\"\n",
    "top_songs.loc[top_songs[\"rap\"] | top_songs[\"hip hop\"], \"genre_label\"] = \"rap_hiphop\"\n",
    "top_songs.loc[top_songs[\"metal\"], \"genre_label\"] = \"metal\"\n",
    "top_songs.loc[top_songs[\"country\"], \"genre_label\"] = \"country\"\n",
    "\n",
    "top_songs[\"genre_label\"].value_counts()"
   ]
  },
  {
   "cell_type": "markdown",
   "metadata": {},
   "source": [
    "# Split the top songs by genre.  These violin plots are interesting because they show:\n",
    "\n",
    "* There were very few 'explicit' songs before 1990\n",
    "* Rap and hip-hop became popular right after the PMRC was formed in 1985\n",
    "* Rap has many more explicit songs than not explicit songs"
   ]
  },
  {
   "cell_type": "code",
   "execution_count": null,
   "metadata": {},
   "outputs": [],
   "source": [
    "pop = top_songs[top_songs[\"genre_label\"] == \"pop\"]\n",
    "rap_hiphop = top_songs[top_songs[\"genre_label\"] == \"rap_hiphop\"]\n",
    "country = top_songs[top_songs[\"genre_label\"] == \"country\"]\n",
    "metal = top_songs[top_songs[\"genre_label\"] == \"metal\"]"
   ]
  },
  {
   "cell_type": "code",
   "execution_count": null,
   "metadata": {},
   "outputs": [],
   "source": [
    "ax = sns.violinplot(x=\"explicit\", y=\"year\", data=top_songs)\n",
    "ax.set_xticklabels([\"Not Explicit\", \"Explicit\"])\n",
    "ax.set_xlabel(\"\")\n",
    "plt.savefig(\"violin_expl.png\")\n",
    "plt.show()"
   ]
  },
  {
   "cell_type": "code",
   "execution_count": null,
   "metadata": {},
   "outputs": [],
   "source": [
    "ax = sns.violinplot(x=\"genre_label\", y=\"year\", data=top_songs)\n",
    "ax.set_xticklabels([\"Pop\", \"Rap/Hip-Hop\", \"Country\", \"Heavy Metal\"])\n",
    "ax.set_xlabel(\"\")\n",
    "plt.savefig(\"violin_genre.png\")\n",
    "plt.show()"
   ]
  },
  {
   "cell_type": "code",
   "execution_count": null,
   "metadata": {},
   "outputs": [],
   "source": [
    "plt.hist(pop[\"explicit\"], label=\"pop\")\n",
    "plt.hist(rap_hiphop[\"explicit\"], label=\"rap/hip hop\")\n",
    "plt.hist(country[\"explicit\"], label=\"country\")\n",
    "plt.hist(metal[\"explicit\"], label=\"metal\")\n",
    "plt.legend()\n",
    "plt.plot()"
   ]
  },
  {
   "cell_type": "markdown",
   "metadata": {},
   "source": [
    "## ANOVA Assumption Check - Popularity by genre \n",
    "### The week position is the mean of all the weekly Hot 100 positions of each song."
   ]
  },
  {
   "cell_type": "code",
   "execution_count": null,
   "metadata": {},
   "outputs": [],
   "source": [
    "qqplot(rap_hiphop[\"week_pos\"], line=\"s\")\n",
    "plt.show()"
   ]
  },
  {
   "cell_type": "code",
   "execution_count": null,
   "metadata": {},
   "outputs": [],
   "source": [
    "qqplot(metal[\"week_pos\"], line=\"s\")\n",
    "plt.show()"
   ]
  },
  {
   "cell_type": "code",
   "execution_count": null,
   "metadata": {},
   "outputs": [],
   "source": [
    "qqplot(country[\"week_pos\"], line=\"s\")\n",
    "plt.show()"
   ]
  },
  {
   "cell_type": "code",
   "execution_count": null,
   "metadata": {
    "scrolled": true
   },
   "outputs": [],
   "source": [
    "qqplot(pop[\"week_pos\"], line=\"s\")\n",
    "plt.show()"
   ]
  },
  {
   "cell_type": "markdown",
   "metadata": {},
   "source": [
    "# These plots show the data is not normalized, so I will perform the non-perimetric tests"
   ]
  },
  {
   "cell_type": "markdown",
   "metadata": {},
   "source": [
    "\n",
    "## Kruskal Wallis test - Popularity by genre"
   ]
  },
  {
   "cell_type": "code",
   "execution_count": null,
   "metadata": {},
   "outputs": [],
   "source": [
    "plt.hist(pop[\"week_pos\"], label=\"pop\")\n",
    "plt.hist(rap_hiphop[\"week_pos\"], label=\"rap/hip hop\")\n",
    "plt.hist(country[\"week_pos\"], label=\"country\")\n",
    "plt.hist(metal[\"week_pos\"], label=\"metal\")\n",
    "plt.xlabel(\"Hot 100 Ranking\")\n",
    "plt.ylabel(\"# of Songs\")\n",
    "plt.legend()\n",
    "plt.savefig(\"hist_genre.png\")\n",
    "plt.plot()"
   ]
  },
  {
   "cell_type": "markdown",
   "metadata": {},
   "source": [
    "# This plot further shows the data is not normalized, so I will perform the non-perimetric tests"
   ]
  },
  {
   "cell_type": "code",
   "execution_count": null,
   "metadata": {},
   "outputs": [],
   "source": [
    "_, p = stats.kruskal(\n",
    "    pop[\"week_pos\"], rap_hiphop[\"week_pos\"], country[\"week_pos\"], metal[\"week_pos\"]\n",
    ")\n",
    "p"
   ]
  },
  {
   "cell_type": "markdown",
   "metadata": {},
   "source": [
    "## At least one median between the is genres is different"
   ]
  },
  {
   "cell_type": "code",
   "execution_count": null,
   "metadata": {},
   "outputs": [],
   "source": [
    "_, p1 = stats.mannwhitneyu(pop[\"week_pos\"], rap_hiphop[\"week_pos\"])\n",
    "_, p2 = stats.mannwhitneyu(pop[\"week_pos\"], country[\"week_pos\"])\n",
    "_, p3 = stats.mannwhitneyu(pop[\"week_pos\"], metal[\"week_pos\"])\n",
    "_, p4 = stats.mannwhitneyu(rap_hiphop[\"week_pos\"], country[\"week_pos\"])\n",
    "_, p5 = stats.mannwhitneyu(rap_hiphop[\"week_pos\"], metal[\"week_pos\"])\n",
    "_, p6 = stats.mannwhitneyu(country[\"week_pos\"], metal[\"week_pos\"])\n",
    "\n",
    "\n",
    "p_values = [p1, p2, p3, p4, p5, p6]\n",
    "reject, corr_p, sidak, bonf = multipletests(p_values, alpha=0.05)"
   ]
  },
  {
   "cell_type": "code",
   "execution_count": null,
   "metadata": {},
   "outputs": [],
   "source": [
    "reject"
   ]
  },
  {
   "cell_type": "code",
   "execution_count": null,
   "metadata": {},
   "outputs": [],
   "source": [
    "corr_p"
   ]
  },
  {
   "cell_type": "code",
   "execution_count": null,
   "metadata": {},
   "outputs": [],
   "source": [
    "sidak"
   ]
  },
  {
   "cell_type": "code",
   "execution_count": null,
   "metadata": {},
   "outputs": [],
   "source": [
    "bonf"
   ]
  },
  {
   "cell_type": "markdown",
   "metadata": {},
   "source": [
    "## Based on our analysis we found:\n",
    "\n",
    "* The mean rank of at least one of our samples is significantly different than the others\n",
    "* There is a significant difference in mean rank between the popularity of pop and rap/hip-hop\n",
    "* There is a significant difference in mean rank between the popularity of rap/hip-hop and metal"
   ]
  },
  {
   "cell_type": "markdown",
   "metadata": {},
   "source": [
    "## ANOVA Assumption Check - Explicit vs not explicit by year"
   ]
  },
  {
   "cell_type": "code",
   "execution_count": null,
   "metadata": {},
   "outputs": [],
   "source": [
    "sns.violinplot(x=\"explicit\", y=\"year\", data=top_songs)\n",
    "plt.show()"
   ]
  },
  {
   "cell_type": "code",
   "execution_count": null,
   "metadata": {},
   "outputs": [],
   "source": [
    "top_songs[\"explicit\"].value_counts()"
   ]
  },
  {
   "cell_type": "markdown",
   "metadata": {},
   "source": [
    "### I added rap and hip-hop to the tests because it became popular right after the PMRC was formed in 1985"
   ]
  },
  {
   "cell_type": "code",
   "execution_count": null,
   "metadata": {},
   "outputs": [],
   "source": [
    "top_expl = top_songs[top_songs[\"explicit\"] == 1]\n",
    "top_not_expl = top_songs[top_songs[\"explicit\"] == 0]\n",
    "\n",
    "rap_hiphop_expl = rap_hiphop[rap_hiphop[\"explicit\"] == 1]\n",
    "rap_hiphop_not_expl = rap_hiphop[rap_hiphop[\"explicit\"] == 0]"
   ]
  },
  {
   "cell_type": "code",
   "execution_count": null,
   "metadata": {},
   "outputs": [],
   "source": [
    "top_expl.sort_values(\"year\").head()"
   ]
  },
  {
   "cell_type": "code",
   "execution_count": null,
   "metadata": {},
   "outputs": [],
   "source": [
    "top_not_expl.sort_values(\"year\").head()"
   ]
  },
  {
   "cell_type": "markdown",
   "metadata": {},
   "source": [
    "# I'm only analyzing explicit songs after 1985 because there were so few of them before 1985"
   ]
  },
  {
   "cell_type": "code",
   "execution_count": null,
   "metadata": {},
   "outputs": [],
   "source": [
    "top_expl = top_expl[top_expl[\"year\"] > 1985]\n",
    "top_expl"
   ]
  },
  {
   "cell_type": "code",
   "execution_count": null,
   "metadata": {},
   "outputs": [],
   "source": [
    "qqplot(top_songs[\"year\"], line=\"s\")\n",
    "plt.show()"
   ]
  },
  {
   "cell_type": "code",
   "execution_count": null,
   "metadata": {},
   "outputs": [],
   "source": [
    "qqplot(rap_hiphop[\"year\"], line=\"s\")\n",
    "plt.show()"
   ]
  },
  {
   "cell_type": "markdown",
   "metadata": {},
   "source": [
    "# These plots show the data is not normalized, so I will perform the non-perimetric tests"
   ]
  },
  {
   "cell_type": "markdown",
   "metadata": {},
   "source": [
    "## Kruskal Wallis - Explicit vs not explicit by year"
   ]
  },
  {
   "cell_type": "code",
   "execution_count": null,
   "metadata": {},
   "outputs": [],
   "source": [
    "_, p = stats.kruskal(\n",
    "    top_expl[\"year\"],\n",
    "    top_not_expl[\"year\"],\n",
    "    rap_hiphop_expl[\"year\"],\n",
    "    rap_hiphop_not_expl[\"year\"],\n",
    ")\n",
    "p"
   ]
  },
  {
   "cell_type": "code",
   "execution_count": null,
   "metadata": {},
   "outputs": [],
   "source": [
    "_, p1 = stats.mannwhitneyu(top_expl[\"year\"], top_not_expl[\"year\"])\n",
    "_, p2 = stats.mannwhitneyu(top_expl[\"year\"], rap_hiphop_expl[\"year\"])\n",
    "_, p3 = stats.mannwhitneyu(top_expl[\"year\"], rap_hiphop_not_expl[\"year\"])\n",
    "\n",
    "_, p4 = stats.mannwhitneyu(top_not_expl[\"year\"], rap_hiphop_expl[\"year\"])\n",
    "_, p5 = stats.mannwhitneyu(top_not_expl[\"year\"], rap_hiphop_not_expl[\"year\"])\n",
    "_, p6 = stats.mannwhitneyu(rap_hiphop_expl[\"year\"], rap_hiphop_not_expl[\"year\"])\n",
    "\n",
    "\n",
    "p_values = [p1, p2, p3, p4, p5, p6]\n",
    "reject, corr_p, sidak, bonf = multipletests(p_values, alpha=0.05)"
   ]
  },
  {
   "cell_type": "code",
   "execution_count": null,
   "metadata": {},
   "outputs": [],
   "source": [
    "reject"
   ]
  },
  {
   "cell_type": "code",
   "execution_count": null,
   "metadata": {},
   "outputs": [],
   "source": [
    "corr_p"
   ]
  },
  {
   "cell_type": "code",
   "execution_count": null,
   "metadata": {},
   "outputs": [],
   "source": [
    "sidak"
   ]
  },
  {
   "cell_type": "code",
   "execution_count": null,
   "metadata": {},
   "outputs": [],
   "source": [
    "bonf"
   ]
  },
  {
   "cell_type": "markdown",
   "metadata": {},
   "source": [
    "# Conclusions:\n",
    "## 1)\n",
    "* There were very few 'explicit' songs before 1990\n",
    "* Rap and hip-hop became popular right after the PMRC was formed in 1985\n",
    "* Rap has many more explicit songs than not explicit songs\n",
    "\n",
    "## 2)\n",
    "* There is a significant difference in mean rank between the popularity of pop songs and rap/hip-hop songs\n",
    "* There is a significant difference in mean rank between the popularity of rap/hip-hop songs and metal songs\n",
    "\n",
    "## 3)\n",
    "* There is a significant difference in mean rank between the popularity of explicit songs and non-explicit songs\n",
    "* There is a significant difference in mean rank between the popularity of explicit rap songs and all non-explicit songs"
   ]
  },
  {
   "cell_type": "code",
   "execution_count": null,
   "metadata": {},
   "outputs": [],
   "source": []
  }
 ],
 "metadata": {
  "kernelspec": {
   "display_name": "Python 3",
   "language": "python",
   "name": "python3"
  },
  "language_info": {
   "codemirror_mode": {
    "name": "ipython",
    "version": 3
   },
   "file_extension": ".py",
   "mimetype": "text/x-python",
   "name": "python",
   "nbconvert_exporter": "python",
   "pygments_lexer": "ipython3",
   "version": "3.8.3"
  }
 },
 "nbformat": 4,
 "nbformat_minor": 4
}
