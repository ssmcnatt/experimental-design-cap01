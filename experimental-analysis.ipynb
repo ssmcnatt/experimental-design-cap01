{
 "cells": [
  {
   "cell_type": "markdown",
   "metadata": {},
   "source": [
    "# I have the following hypothesis:\n",
    "\n",
    "* In the mid to late 1980's, there was a big push to put a warning label on records and CD's that were deemed 'explicit' and had suggestive or 'satanic' lyrics. This was supposed to help parents monitor the music their children were buying. I propose it had the opposite effect. Albums and music with explicit lyrics and images were more popular after the mid to late 1980's.\n",
    "\n",
    "I will test this hypothesis by creating different groups of data separated by genre, explicit vs non-explicit, and a combination of both. I will also separate out the 'Top 10' songs, so that I can test the popularity of songs. The graphs and statistical data will compare these groups before and after an arbritary date (sometime between 1985 and 1990). If songs and albums with explicit lyrics and images (rap, hip-hop, heavy metal, etc.) were more popular than non-explicit songs after a certain year, it would suggest my hypothesis is correct."
   ]
  },
  {
   "cell_type": "code",
   "execution_count": 1,
   "metadata": {},
   "outputs": [
    {
     "data": {
      "application/javascript": [
       "\n",
       "            setTimeout(function() {\n",
       "                var nbb_cell_id = 1;\n",
       "                var nbb_unformatted_code = \"%reload_ext nb_black\";\n",
       "                var nbb_formatted_code = \"%reload_ext nb_black\";\n",
       "                var nbb_cells = Jupyter.notebook.get_cells();\n",
       "                for (var i = 0; i < nbb_cells.length; ++i) {\n",
       "                    if (nbb_cells[i].input_prompt_number == nbb_cell_id) {\n",
       "                        if (nbb_cells[i].get_text() == nbb_unformatted_code) {\n",
       "                             nbb_cells[i].set_text(nbb_formatted_code);\n",
       "                        }\n",
       "                        break;\n",
       "                    }\n",
       "                }\n",
       "            }, 500);\n",
       "            "
      ],
      "text/plain": [
       "<IPython.core.display.Javascript object>"
      ]
     },
     "metadata": {},
     "output_type": "display_data"
    }
   ],
   "source": [
    "%reload_ext nb_black"
   ]
  },
  {
   "cell_type": "code",
   "execution_count": 2,
   "metadata": {},
   "outputs": [
    {
     "data": {
      "application/javascript": [
       "\n",
       "            setTimeout(function() {\n",
       "                var nbb_cell_id = 2;\n",
       "                var nbb_unformatted_code = \"import pandas as pd\\nfrom scipy import stats\\nimport seaborn as sns\\nimport matplotlib.pyplot as plt\\nfrom statsmodels.graphics.gofplots import qqplot\\nfrom statsmodels.stats.multitest import multipletests\\nimport ast\\nfrom datetime import datetime\\n\\n%matplotlib inline\";\n",
       "                var nbb_formatted_code = \"import pandas as pd\\nfrom scipy import stats\\nimport seaborn as sns\\nimport matplotlib.pyplot as plt\\nfrom statsmodels.graphics.gofplots import qqplot\\nfrom statsmodels.stats.multitest import multipletests\\nimport ast\\nfrom datetime import datetime\\n\\n%matplotlib inline\";\n",
       "                var nbb_cells = Jupyter.notebook.get_cells();\n",
       "                for (var i = 0; i < nbb_cells.length; ++i) {\n",
       "                    if (nbb_cells[i].input_prompt_number == nbb_cell_id) {\n",
       "                        if (nbb_cells[i].get_text() == nbb_unformatted_code) {\n",
       "                             nbb_cells[i].set_text(nbb_formatted_code);\n",
       "                        }\n",
       "                        break;\n",
       "                    }\n",
       "                }\n",
       "            }, 500);\n",
       "            "
      ],
      "text/plain": [
       "<IPython.core.display.Javascript object>"
      ]
     },
     "metadata": {},
     "output_type": "display_data"
    }
   ],
   "source": [
    "import pandas as pd\n",
    "from scipy import stats\n",
    "import seaborn as sns\n",
    "import matplotlib.pyplot as plt\n",
    "from statsmodels.graphics.gofplots import qqplot\n",
    "from statsmodels.stats.multitest import multipletests\n",
    "import ast\n",
    "from datetime import datetime\n",
    "\n",
    "%matplotlib inline"
   ]
  },
  {
   "cell_type": "markdown",
   "metadata": {},
   "source": [
    "# Read dataframes, drop duplicate genres"
   ]
  },
  {
   "cell_type": "code",
   "execution_count": 3,
   "metadata": {},
   "outputs": [
    {
     "data": {
      "application/javascript": [
       "\n",
       "            setTimeout(function() {\n",
       "                var nbb_cell_id = 3;\n",
       "                var nbb_unformatted_code = \"hot_100 = pd.read_csv(\\\"data/Hot_Stuff.csv\\\")\\nspotify = pd.read_excel(\\\"data/Hot_100_Audio_Features.xlsx\\\")\";\n",
       "                var nbb_formatted_code = \"hot_100 = pd.read_csv(\\\"data/Hot_Stuff.csv\\\")\\nspotify = pd.read_excel(\\\"data/Hot_100_Audio_Features.xlsx\\\")\";\n",
       "                var nbb_cells = Jupyter.notebook.get_cells();\n",
       "                for (var i = 0; i < nbb_cells.length; ++i) {\n",
       "                    if (nbb_cells[i].input_prompt_number == nbb_cell_id) {\n",
       "                        if (nbb_cells[i].get_text() == nbb_unformatted_code) {\n",
       "                             nbb_cells[i].set_text(nbb_formatted_code);\n",
       "                        }\n",
       "                        break;\n",
       "                    }\n",
       "                }\n",
       "            }, 500);\n",
       "            "
      ],
      "text/plain": [
       "<IPython.core.display.Javascript object>"
      ]
     },
     "metadata": {},
     "output_type": "display_data"
    }
   ],
   "source": [
    "hot_100 = pd.read_csv(\"data/Hot_Stuff.csv\")\n",
    "spotify = pd.read_excel(\"data/Hot_100_Audio_Features.xlsx\")"
   ]
  },
  {
   "cell_type": "code",
   "execution_count": 4,
   "metadata": {},
   "outputs": [
    {
     "data": {
      "text/plain": [
       "[]                                                                                                                                                     2541\n",
       "['contemporary country', 'country', 'country road']                                                                                                     315\n",
       "['contemporary country', 'country', 'country road', 'modern country rock']                                                                              279\n",
       "['dance pop', 'pop', 'post-teen pop']                                                                                                                   252\n",
       "['glee club', 'hollywood', 'post-teen pop']                                                                                                             205\n",
       "                                                                                                                                                       ... \n",
       "['alternative metal', 'alternative rock', 'dance-punk', 'garage rock', 'indie pop', 'indie rock', 'la indie', 'modern rock', 'post-grunge', 'rock']       1\n",
       "['post-disco soul']                                                                                                                                       1\n",
       "['hawaiian hip hop', 'pop', 'rap']                                                                                                                        1\n",
       "['disco', 'philly soul', 'post-disco', 'quiet storm']                                                                                                     1\n",
       "['electropop', 'indie electropop', 'indie pop', 'indie poptimism', 'indietronica', 'la pop', 'pop', 'pop edm', 'tropical house']                          1\n",
       "Name: spotify_genre, Length: 3275, dtype: int64"
      ]
     },
     "execution_count": 4,
     "metadata": {},
     "output_type": "execute_result"
    },
    {
     "data": {
      "application/javascript": [
       "\n",
       "            setTimeout(function() {\n",
       "                var nbb_cell_id = 4;\n",
       "                var nbb_unformatted_code = \"spotify[\\\"spotify_genre\\\"].explode().value_counts()\";\n",
       "                var nbb_formatted_code = \"spotify[\\\"spotify_genre\\\"].explode().value_counts()\";\n",
       "                var nbb_cells = Jupyter.notebook.get_cells();\n",
       "                for (var i = 0; i < nbb_cells.length; ++i) {\n",
       "                    if (nbb_cells[i].input_prompt_number == nbb_cell_id) {\n",
       "                        if (nbb_cells[i].get_text() == nbb_unformatted_code) {\n",
       "                             nbb_cells[i].set_text(nbb_formatted_code);\n",
       "                        }\n",
       "                        break;\n",
       "                    }\n",
       "                }\n",
       "            }, 500);\n",
       "            "
      ],
      "text/plain": [
       "<IPython.core.display.Javascript object>"
      ]
     },
     "metadata": {},
     "output_type": "display_data"
    }
   ],
   "source": [
    "spotify[\"spotify_genre\"].explode().value_counts()"
   ]
  },
  {
   "cell_type": "code",
   "execution_count": 5,
   "metadata": {},
   "outputs": [
    {
     "data": {
      "application/javascript": [
       "\n",
       "            setTimeout(function() {\n",
       "                var nbb_cell_id = 5;\n",
       "                var nbb_unformatted_code = \"spotify = spotify.drop_duplicates()\";\n",
       "                var nbb_formatted_code = \"spotify = spotify.drop_duplicates()\";\n",
       "                var nbb_cells = Jupyter.notebook.get_cells();\n",
       "                for (var i = 0; i < nbb_cells.length; ++i) {\n",
       "                    if (nbb_cells[i].input_prompt_number == nbb_cell_id) {\n",
       "                        if (nbb_cells[i].get_text() == nbb_unformatted_code) {\n",
       "                             nbb_cells[i].set_text(nbb_formatted_code);\n",
       "                        }\n",
       "                        break;\n",
       "                    }\n",
       "                }\n",
       "            }, 500);\n",
       "            "
      ],
      "text/plain": [
       "<IPython.core.display.Javascript object>"
      ]
     },
     "metadata": {},
     "output_type": "display_data"
    }
   ],
   "source": [
    "spotify = spotify.drop_duplicates()"
   ]
  },
  {
   "cell_type": "markdown",
   "metadata": {},
   "source": [
    "# Drop columns that are not needed"
   ]
  },
  {
   "cell_type": "code",
   "execution_count": 6,
   "metadata": {},
   "outputs": [
    {
     "data": {
      "application/javascript": [
       "\n",
       "            setTimeout(function() {\n",
       "                var nbb_cell_id = 6;\n",
       "                var nbb_unformatted_code = \"hot_100 = hot_100.drop(columns=[\\\"url\\\"])\";\n",
       "                var nbb_formatted_code = \"hot_100 = hot_100.drop(columns=[\\\"url\\\"])\";\n",
       "                var nbb_cells = Jupyter.notebook.get_cells();\n",
       "                for (var i = 0; i < nbb_cells.length; ++i) {\n",
       "                    if (nbb_cells[i].input_prompt_number == nbb_cell_id) {\n",
       "                        if (nbb_cells[i].get_text() == nbb_unformatted_code) {\n",
       "                             nbb_cells[i].set_text(nbb_formatted_code);\n",
       "                        }\n",
       "                        break;\n",
       "                    }\n",
       "                }\n",
       "            }, 500);\n",
       "            "
      ],
      "text/plain": [
       "<IPython.core.display.Javascript object>"
      ]
     },
     "metadata": {},
     "output_type": "display_data"
    }
   ],
   "source": [
    "hot_100 = hot_100.drop(columns=[\"url\"])"
   ]
  },
  {
   "cell_type": "code",
   "execution_count": 7,
   "metadata": {},
   "outputs": [
    {
     "data": {
      "application/javascript": [
       "\n",
       "            setTimeout(function() {\n",
       "                var nbb_cell_id = 7;\n",
       "                var nbb_unformatted_code = \"spotify = spotify.drop(\\n    columns=[\\n        \\\"spotify_track_id\\\",\\n        \\\"spotify_track_preview_url\\\",\\n        \\\"spotify_track_duration_ms\\\",\\n        \\\"spotify_track_popularity\\\",\\n        \\\"danceability\\\",\\n        \\\"energy\\\",\\n        \\\"key\\\",\\n        \\\"loudness\\\",\\n        \\\"mode\\\",\\n        \\\"acousticness\\\",\\n        \\\"speechiness\\\",\\n        \\\"liveness\\\",\\n        \\\"instrumentalness\\\",\\n        \\\"valence\\\",\\n        \\\"tempo\\\",\\n        \\\"time_signature\\\",\\n    ]\\n)\";\n",
       "                var nbb_formatted_code = \"spotify = spotify.drop(\\n    columns=[\\n        \\\"spotify_track_id\\\",\\n        \\\"spotify_track_preview_url\\\",\\n        \\\"spotify_track_duration_ms\\\",\\n        \\\"spotify_track_popularity\\\",\\n        \\\"danceability\\\",\\n        \\\"energy\\\",\\n        \\\"key\\\",\\n        \\\"loudness\\\",\\n        \\\"mode\\\",\\n        \\\"acousticness\\\",\\n        \\\"speechiness\\\",\\n        \\\"liveness\\\",\\n        \\\"instrumentalness\\\",\\n        \\\"valence\\\",\\n        \\\"tempo\\\",\\n        \\\"time_signature\\\",\\n    ]\\n)\";\n",
       "                var nbb_cells = Jupyter.notebook.get_cells();\n",
       "                for (var i = 0; i < nbb_cells.length; ++i) {\n",
       "                    if (nbb_cells[i].input_prompt_number == nbb_cell_id) {\n",
       "                        if (nbb_cells[i].get_text() == nbb_unformatted_code) {\n",
       "                             nbb_cells[i].set_text(nbb_formatted_code);\n",
       "                        }\n",
       "                        break;\n",
       "                    }\n",
       "                }\n",
       "            }, 500);\n",
       "            "
      ],
      "text/plain": [
       "<IPython.core.display.Javascript object>"
      ]
     },
     "metadata": {},
     "output_type": "display_data"
    }
   ],
   "source": [
    "spotify = spotify.drop(\n",
    "    columns=[\n",
    "        \"spotify_track_id\",\n",
    "        \"spotify_track_preview_url\",\n",
    "        \"spotify_track_duration_ms\",\n",
    "        \"spotify_track_popularity\",\n",
    "        \"danceability\",\n",
    "        \"energy\",\n",
    "        \"key\",\n",
    "        \"loudness\",\n",
    "        \"mode\",\n",
    "        \"acousticness\",\n",
    "        \"speechiness\",\n",
    "        \"liveness\",\n",
    "        \"instrumentalness\",\n",
    "        \"valence\",\n",
    "        \"tempo\",\n",
    "        \"time_signature\",\n",
    "    ]\n",
    ")"
   ]
  },
  {
   "cell_type": "markdown",
   "metadata": {},
   "source": [
    "# Basic table description data"
   ]
  },
  {
   "cell_type": "code",
   "execution_count": 8,
   "metadata": {},
   "outputs": [
    {
     "data": {
      "text/plain": [
       "(320495, 9)"
      ]
     },
     "execution_count": 8,
     "metadata": {},
     "output_type": "execute_result"
    },
    {
     "data": {
      "application/javascript": [
       "\n",
       "            setTimeout(function() {\n",
       "                var nbb_cell_id = 8;\n",
       "                var nbb_unformatted_code = \"hot_100.shape\";\n",
       "                var nbb_formatted_code = \"hot_100.shape\";\n",
       "                var nbb_cells = Jupyter.notebook.get_cells();\n",
       "                for (var i = 0; i < nbb_cells.length; ++i) {\n",
       "                    if (nbb_cells[i].input_prompt_number == nbb_cell_id) {\n",
       "                        if (nbb_cells[i].get_text() == nbb_unformatted_code) {\n",
       "                             nbb_cells[i].set_text(nbb_formatted_code);\n",
       "                        }\n",
       "                        break;\n",
       "                    }\n",
       "                }\n",
       "            }, 500);\n",
       "            "
      ],
      "text/plain": [
       "<IPython.core.display.Javascript object>"
      ]
     },
     "metadata": {},
     "output_type": "display_data"
    }
   ],
   "source": [
    "hot_100.shape"
   ]
  },
  {
   "cell_type": "code",
   "execution_count": 9,
   "metadata": {
    "scrolled": true
   },
   "outputs": [
    {
     "data": {
      "text/plain": [
       "WeekID                        0\n",
       "Week Position                 0\n",
       "Song                          0\n",
       "Performer                     0\n",
       "SongID                        0\n",
       "Instance                      0\n",
       "Previous Week Position    30784\n",
       "Peak Position                 0\n",
       "Weeks on Chart                0\n",
       "dtype: int64"
      ]
     },
     "execution_count": 9,
     "metadata": {},
     "output_type": "execute_result"
    },
    {
     "data": {
      "application/javascript": [
       "\n",
       "            setTimeout(function() {\n",
       "                var nbb_cell_id = 9;\n",
       "                var nbb_unformatted_code = \"hot_100.isna().sum()\";\n",
       "                var nbb_formatted_code = \"hot_100.isna().sum()\";\n",
       "                var nbb_cells = Jupyter.notebook.get_cells();\n",
       "                for (var i = 0; i < nbb_cells.length; ++i) {\n",
       "                    if (nbb_cells[i].input_prompt_number == nbb_cell_id) {\n",
       "                        if (nbb_cells[i].get_text() == nbb_unformatted_code) {\n",
       "                             nbb_cells[i].set_text(nbb_formatted_code);\n",
       "                        }\n",
       "                        break;\n",
       "                    }\n",
       "                }\n",
       "            }, 500);\n",
       "            "
      ],
      "text/plain": [
       "<IPython.core.display.Javascript object>"
      ]
     },
     "metadata": {},
     "output_type": "display_data"
    }
   ],
   "source": [
    "hot_100.isna().sum()"
   ]
  },
  {
   "cell_type": "code",
   "execution_count": 10,
   "metadata": {},
   "outputs": [
    {
     "data": {
      "text/html": [
       "<div>\n",
       "<style scoped>\n",
       "    .dataframe tbody tr th:only-of-type {\n",
       "        vertical-align: middle;\n",
       "    }\n",
       "\n",
       "    .dataframe tbody tr th {\n",
       "        vertical-align: top;\n",
       "    }\n",
       "\n",
       "    .dataframe thead th {\n",
       "        text-align: right;\n",
       "    }\n",
       "</style>\n",
       "<table border=\"1\" class=\"dataframe\">\n",
       "  <thead>\n",
       "    <tr style=\"text-align: right;\">\n",
       "      <th></th>\n",
       "      <th>WeekID</th>\n",
       "      <th>Week Position</th>\n",
       "      <th>Song</th>\n",
       "      <th>Performer</th>\n",
       "      <th>SongID</th>\n",
       "      <th>Instance</th>\n",
       "      <th>Previous Week Position</th>\n",
       "      <th>Peak Position</th>\n",
       "      <th>Weeks on Chart</th>\n",
       "    </tr>\n",
       "  </thead>\n",
       "  <tbody>\n",
       "    <tr>\n",
       "      <th>0</th>\n",
       "      <td>8/2/1958</td>\n",
       "      <td>1</td>\n",
       "      <td>Poor Little Fool</td>\n",
       "      <td>Ricky Nelson</td>\n",
       "      <td>Poor Little FoolRicky Nelson</td>\n",
       "      <td>1</td>\n",
       "      <td>NaN</td>\n",
       "      <td>1</td>\n",
       "      <td>1</td>\n",
       "    </tr>\n",
       "    <tr>\n",
       "      <th>1</th>\n",
       "      <td>12/2/1995</td>\n",
       "      <td>1</td>\n",
       "      <td>One Sweet Day</td>\n",
       "      <td>Mariah Carey &amp; Boyz II Men</td>\n",
       "      <td>One Sweet DayMariah Carey &amp; Boyz II Men</td>\n",
       "      <td>1</td>\n",
       "      <td>NaN</td>\n",
       "      <td>1</td>\n",
       "      <td>1</td>\n",
       "    </tr>\n",
       "    <tr>\n",
       "      <th>2</th>\n",
       "      <td>10/11/1997</td>\n",
       "      <td>1</td>\n",
       "      <td>Candle In The Wind 1997/Something About The Wa...</td>\n",
       "      <td>Elton John</td>\n",
       "      <td>Candle In The Wind 1997/Something About The Wa...</td>\n",
       "      <td>1</td>\n",
       "      <td>NaN</td>\n",
       "      <td>1</td>\n",
       "      <td>1</td>\n",
       "    </tr>\n",
       "    <tr>\n",
       "      <th>3</th>\n",
       "      <td>7/1/2006</td>\n",
       "      <td>1</td>\n",
       "      <td>Do I Make You Proud</td>\n",
       "      <td>Taylor Hicks</td>\n",
       "      <td>Do I Make You ProudTaylor Hicks</td>\n",
       "      <td>1</td>\n",
       "      <td>NaN</td>\n",
       "      <td>1</td>\n",
       "      <td>1</td>\n",
       "    </tr>\n",
       "    <tr>\n",
       "      <th>4</th>\n",
       "      <td>10/24/2009</td>\n",
       "      <td>1</td>\n",
       "      <td>3</td>\n",
       "      <td>Britney Spears</td>\n",
       "      <td>3Britney Spears</td>\n",
       "      <td>1</td>\n",
       "      <td>NaN</td>\n",
       "      <td>1</td>\n",
       "      <td>1</td>\n",
       "    </tr>\n",
       "  </tbody>\n",
       "</table>\n",
       "</div>"
      ],
      "text/plain": [
       "       WeekID  Week Position  \\\n",
       "0    8/2/1958              1   \n",
       "1   12/2/1995              1   \n",
       "2  10/11/1997              1   \n",
       "3    7/1/2006              1   \n",
       "4  10/24/2009              1   \n",
       "\n",
       "                                                Song  \\\n",
       "0                                   Poor Little Fool   \n",
       "1                                      One Sweet Day   \n",
       "2  Candle In The Wind 1997/Something About The Wa...   \n",
       "3                                Do I Make You Proud   \n",
       "4                                                  3   \n",
       "\n",
       "                    Performer  \\\n",
       "0                Ricky Nelson   \n",
       "1  Mariah Carey & Boyz II Men   \n",
       "2                  Elton John   \n",
       "3                Taylor Hicks   \n",
       "4              Britney Spears   \n",
       "\n",
       "                                              SongID  Instance  \\\n",
       "0                       Poor Little FoolRicky Nelson         1   \n",
       "1            One Sweet DayMariah Carey & Boyz II Men         1   \n",
       "2  Candle In The Wind 1997/Something About The Wa...         1   \n",
       "3                    Do I Make You ProudTaylor Hicks         1   \n",
       "4                                    3Britney Spears         1   \n",
       "\n",
       "   Previous Week Position  Peak Position  Weeks on Chart  \n",
       "0                     NaN              1               1  \n",
       "1                     NaN              1               1  \n",
       "2                     NaN              1               1  \n",
       "3                     NaN              1               1  \n",
       "4                     NaN              1               1  "
      ]
     },
     "execution_count": 10,
     "metadata": {},
     "output_type": "execute_result"
    },
    {
     "data": {
      "application/javascript": [
       "\n",
       "            setTimeout(function() {\n",
       "                var nbb_cell_id = 10;\n",
       "                var nbb_unformatted_code = \"hot_100.head()\";\n",
       "                var nbb_formatted_code = \"hot_100.head()\";\n",
       "                var nbb_cells = Jupyter.notebook.get_cells();\n",
       "                for (var i = 0; i < nbb_cells.length; ++i) {\n",
       "                    if (nbb_cells[i].input_prompt_number == nbb_cell_id) {\n",
       "                        if (nbb_cells[i].get_text() == nbb_unformatted_code) {\n",
       "                             nbb_cells[i].set_text(nbb_formatted_code);\n",
       "                        }\n",
       "                        break;\n",
       "                    }\n",
       "                }\n",
       "            }, 500);\n",
       "            "
      ],
      "text/plain": [
       "<IPython.core.display.Javascript object>"
      ]
     },
     "metadata": {},
     "output_type": "display_data"
    }
   ],
   "source": [
    "hot_100.head()"
   ]
  },
  {
   "cell_type": "code",
   "execution_count": 11,
   "metadata": {},
   "outputs": [
    {
     "data": {
      "text/plain": [
       "WeekID                     object\n",
       "Week Position               int64\n",
       "Song                       object\n",
       "Performer                  object\n",
       "SongID                     object\n",
       "Instance                    int64\n",
       "Previous Week Position    float64\n",
       "Peak Position               int64\n",
       "Weeks on Chart              int64\n",
       "dtype: object"
      ]
     },
     "execution_count": 11,
     "metadata": {},
     "output_type": "execute_result"
    },
    {
     "data": {
      "application/javascript": [
       "\n",
       "            setTimeout(function() {\n",
       "                var nbb_cell_id = 11;\n",
       "                var nbb_unformatted_code = \"hot_100.dtypes\";\n",
       "                var nbb_formatted_code = \"hot_100.dtypes\";\n",
       "                var nbb_cells = Jupyter.notebook.get_cells();\n",
       "                for (var i = 0; i < nbb_cells.length; ++i) {\n",
       "                    if (nbb_cells[i].input_prompt_number == nbb_cell_id) {\n",
       "                        if (nbb_cells[i].get_text() == nbb_unformatted_code) {\n",
       "                             nbb_cells[i].set_text(nbb_formatted_code);\n",
       "                        }\n",
       "                        break;\n",
       "                    }\n",
       "                }\n",
       "            }, 500);\n",
       "            "
      ],
      "text/plain": [
       "<IPython.core.display.Javascript object>"
      ]
     },
     "metadata": {},
     "output_type": "display_data"
    }
   ],
   "source": [
    "hot_100.dtypes"
   ]
  },
  {
   "cell_type": "code",
   "execution_count": 12,
   "metadata": {},
   "outputs": [
    {
     "data": {
      "text/plain": [
       "(28470, 6)"
      ]
     },
     "execution_count": 12,
     "metadata": {},
     "output_type": "execute_result"
    },
    {
     "data": {
      "application/javascript": [
       "\n",
       "            setTimeout(function() {\n",
       "                var nbb_cell_id = 12;\n",
       "                var nbb_unformatted_code = \"spotify.shape\";\n",
       "                var nbb_formatted_code = \"spotify.shape\";\n",
       "                var nbb_cells = Jupyter.notebook.get_cells();\n",
       "                for (var i = 0; i < nbb_cells.length; ++i) {\n",
       "                    if (nbb_cells[i].input_prompt_number == nbb_cell_id) {\n",
       "                        if (nbb_cells[i].get_text() == nbb_unformatted_code) {\n",
       "                             nbb_cells[i].set_text(nbb_formatted_code);\n",
       "                        }\n",
       "                        break;\n",
       "                    }\n",
       "                }\n",
       "            }, 500);\n",
       "            "
      ],
      "text/plain": [
       "<IPython.core.display.Javascript object>"
      ]
     },
     "metadata": {},
     "output_type": "display_data"
    }
   ],
   "source": [
    "spotify.shape"
   ]
  },
  {
   "cell_type": "code",
   "execution_count": 13,
   "metadata": {},
   "outputs": [
    {
     "data": {
      "text/plain": [
       "SongID                    0.000000\n",
       "Performer                 0.000000\n",
       "Song                      0.000000\n",
       "spotify_genre             0.043133\n",
       "spotify_track_album       0.166737\n",
       "spotify_track_explicit    0.166526\n",
       "dtype: float64"
      ]
     },
     "execution_count": 13,
     "metadata": {},
     "output_type": "execute_result"
    },
    {
     "data": {
      "application/javascript": [
       "\n",
       "            setTimeout(function() {\n",
       "                var nbb_cell_id = 13;\n",
       "                var nbb_unformatted_code = \"spotify.isna().mean()\";\n",
       "                var nbb_formatted_code = \"spotify.isna().mean()\";\n",
       "                var nbb_cells = Jupyter.notebook.get_cells();\n",
       "                for (var i = 0; i < nbb_cells.length; ++i) {\n",
       "                    if (nbb_cells[i].input_prompt_number == nbb_cell_id) {\n",
       "                        if (nbb_cells[i].get_text() == nbb_unformatted_code) {\n",
       "                             nbb_cells[i].set_text(nbb_formatted_code);\n",
       "                        }\n",
       "                        break;\n",
       "                    }\n",
       "                }\n",
       "            }, 500);\n",
       "            "
      ],
      "text/plain": [
       "<IPython.core.display.Javascript object>"
      ]
     },
     "metadata": {},
     "output_type": "display_data"
    }
   ],
   "source": [
    "spotify.isna().mean()"
   ]
  },
  {
   "cell_type": "code",
   "execution_count": 14,
   "metadata": {},
   "outputs": [
    {
     "data": {
      "text/html": [
       "<div>\n",
       "<style scoped>\n",
       "    .dataframe tbody tr th:only-of-type {\n",
       "        vertical-align: middle;\n",
       "    }\n",
       "\n",
       "    .dataframe tbody tr th {\n",
       "        vertical-align: top;\n",
       "    }\n",
       "\n",
       "    .dataframe thead th {\n",
       "        text-align: right;\n",
       "    }\n",
       "</style>\n",
       "<table border=\"1\" class=\"dataframe\">\n",
       "  <thead>\n",
       "    <tr style=\"text-align: right;\">\n",
       "      <th></th>\n",
       "      <th>SongID</th>\n",
       "      <th>Performer</th>\n",
       "      <th>Song</th>\n",
       "      <th>spotify_genre</th>\n",
       "      <th>spotify_track_album</th>\n",
       "      <th>spotify_track_explicit</th>\n",
       "    </tr>\n",
       "  </thead>\n",
       "  <tbody>\n",
       "    <tr>\n",
       "      <th>0</th>\n",
       "      <td>AdictoTainy, Anuel AA &amp; Ozuna</td>\n",
       "      <td>Tainy, Anuel AA &amp; Ozuna</td>\n",
       "      <td>Adicto</td>\n",
       "      <td>['pop reggaeton']</td>\n",
       "      <td>Adicto (with Anuel AA &amp; Ozuna)</td>\n",
       "      <td>0.0</td>\n",
       "    </tr>\n",
       "    <tr>\n",
       "      <th>1</th>\n",
       "      <td>The Ones That Didn't Make It Back HomeJustin M...</td>\n",
       "      <td>Justin Moore</td>\n",
       "      <td>The Ones That Didn't Make It Back Home</td>\n",
       "      <td>['arkansas country', 'contemporary country', '...</td>\n",
       "      <td>NaN</td>\n",
       "      <td>NaN</td>\n",
       "    </tr>\n",
       "    <tr>\n",
       "      <th>2</th>\n",
       "      <td>ShallowLady Gaga &amp; Bradley Cooper</td>\n",
       "      <td>Lady Gaga &amp; Bradley Cooper</td>\n",
       "      <td>Shallow</td>\n",
       "      <td>['dance pop', 'pop']</td>\n",
       "      <td>A Star Is Born Soundtrack</td>\n",
       "      <td>0.0</td>\n",
       "    </tr>\n",
       "    <tr>\n",
       "      <th>3</th>\n",
       "      <td>EnemiesPost Malone Featuring DaBaby</td>\n",
       "      <td>Post Malone Featuring DaBaby</td>\n",
       "      <td>Enemies</td>\n",
       "      <td>['dfw rap', 'melodic rap', 'rap']</td>\n",
       "      <td>Hollywood's Bleeding</td>\n",
       "      <td>1.0</td>\n",
       "    </tr>\n",
       "    <tr>\n",
       "      <th>4</th>\n",
       "      <td>Bacc At It AgainYella Beezy, Gucci Mane &amp; Quavo</td>\n",
       "      <td>Yella Beezy, Gucci Mane &amp; Quavo</td>\n",
       "      <td>Bacc At It Again</td>\n",
       "      <td>['dfw rap', 'rap', 'southern hip hop', 'trap']</td>\n",
       "      <td>Bacc At It Again</td>\n",
       "      <td>1.0</td>\n",
       "    </tr>\n",
       "  </tbody>\n",
       "</table>\n",
       "</div>"
      ],
      "text/plain": [
       "                                              SongID  \\\n",
       "0                      AdictoTainy, Anuel AA & Ozuna   \n",
       "1  The Ones That Didn't Make It Back HomeJustin M...   \n",
       "2                  ShallowLady Gaga & Bradley Cooper   \n",
       "3                EnemiesPost Malone Featuring DaBaby   \n",
       "4    Bacc At It AgainYella Beezy, Gucci Mane & Quavo   \n",
       "\n",
       "                         Performer                                    Song  \\\n",
       "0          Tainy, Anuel AA & Ozuna                                  Adicto   \n",
       "1                     Justin Moore  The Ones That Didn't Make It Back Home   \n",
       "2       Lady Gaga & Bradley Cooper                                 Shallow   \n",
       "3     Post Malone Featuring DaBaby                                 Enemies   \n",
       "4  Yella Beezy, Gucci Mane & Quavo                        Bacc At It Again   \n",
       "\n",
       "                                       spotify_genre  \\\n",
       "0                                  ['pop reggaeton']   \n",
       "1  ['arkansas country', 'contemporary country', '...   \n",
       "2                               ['dance pop', 'pop']   \n",
       "3                  ['dfw rap', 'melodic rap', 'rap']   \n",
       "4     ['dfw rap', 'rap', 'southern hip hop', 'trap']   \n",
       "\n",
       "              spotify_track_album  spotify_track_explicit  \n",
       "0  Adicto (with Anuel AA & Ozuna)                     0.0  \n",
       "1                             NaN                     NaN  \n",
       "2       A Star Is Born Soundtrack                     0.0  \n",
       "3            Hollywood's Bleeding                     1.0  \n",
       "4                Bacc At It Again                     1.0  "
      ]
     },
     "execution_count": 14,
     "metadata": {},
     "output_type": "execute_result"
    },
    {
     "data": {
      "application/javascript": [
       "\n",
       "            setTimeout(function() {\n",
       "                var nbb_cell_id = 14;\n",
       "                var nbb_unformatted_code = \"spotify.head()\";\n",
       "                var nbb_formatted_code = \"spotify.head()\";\n",
       "                var nbb_cells = Jupyter.notebook.get_cells();\n",
       "                for (var i = 0; i < nbb_cells.length; ++i) {\n",
       "                    if (nbb_cells[i].input_prompt_number == nbb_cell_id) {\n",
       "                        if (nbb_cells[i].get_text() == nbb_unformatted_code) {\n",
       "                             nbb_cells[i].set_text(nbb_formatted_code);\n",
       "                        }\n",
       "                        break;\n",
       "                    }\n",
       "                }\n",
       "            }, 500);\n",
       "            "
      ],
      "text/plain": [
       "<IPython.core.display.Javascript object>"
      ]
     },
     "metadata": {},
     "output_type": "display_data"
    }
   ],
   "source": [
    "spotify.head()"
   ]
  },
  {
   "cell_type": "code",
   "execution_count": 15,
   "metadata": {},
   "outputs": [
    {
     "data": {
      "text/plain": [
       "SongID                     object\n",
       "Performer                  object\n",
       "Song                       object\n",
       "spotify_genre              object\n",
       "spotify_track_album        object\n",
       "spotify_track_explicit    float64\n",
       "dtype: object"
      ]
     },
     "execution_count": 15,
     "metadata": {},
     "output_type": "execute_result"
    },
    {
     "data": {
      "application/javascript": [
       "\n",
       "            setTimeout(function() {\n",
       "                var nbb_cell_id = 15;\n",
       "                var nbb_unformatted_code = \"spotify.dtypes\";\n",
       "                var nbb_formatted_code = \"spotify.dtypes\";\n",
       "                var nbb_cells = Jupyter.notebook.get_cells();\n",
       "                for (var i = 0; i < nbb_cells.length; ++i) {\n",
       "                    if (nbb_cells[i].input_prompt_number == nbb_cell_id) {\n",
       "                        if (nbb_cells[i].get_text() == nbb_unformatted_code) {\n",
       "                             nbb_cells[i].set_text(nbb_formatted_code);\n",
       "                        }\n",
       "                        break;\n",
       "                    }\n",
       "                }\n",
       "            }, 500);\n",
       "            "
      ],
      "text/plain": [
       "<IPython.core.display.Javascript object>"
      ]
     },
     "metadata": {},
     "output_type": "display_data"
    }
   ],
   "source": [
    "spotify.dtypes"
   ]
  },
  {
   "cell_type": "markdown",
   "metadata": {},
   "source": [
    "# Fill null values, convert previous week position to an integer"
   ]
  },
  {
   "cell_type": "code",
   "execution_count": 16,
   "metadata": {},
   "outputs": [
    {
     "data": {
      "application/javascript": [
       "\n",
       "            setTimeout(function() {\n",
       "                var nbb_cell_id = 16;\n",
       "                var nbb_unformatted_code = \"spotify[\\\"spotify_track_album\\\"].fillna(\\\" \\\", inplace=True)\\nhot_100[\\\"Previous Week Position\\\"].fillna(int(0), inplace=True)\";\n",
       "                var nbb_formatted_code = \"spotify[\\\"spotify_track_album\\\"].fillna(\\\" \\\", inplace=True)\\nhot_100[\\\"Previous Week Position\\\"].fillna(int(0), inplace=True)\";\n",
       "                var nbb_cells = Jupyter.notebook.get_cells();\n",
       "                for (var i = 0; i < nbb_cells.length; ++i) {\n",
       "                    if (nbb_cells[i].input_prompt_number == nbb_cell_id) {\n",
       "                        if (nbb_cells[i].get_text() == nbb_unformatted_code) {\n",
       "                             nbb_cells[i].set_text(nbb_formatted_code);\n",
       "                        }\n",
       "                        break;\n",
       "                    }\n",
       "                }\n",
       "            }, 500);\n",
       "            "
      ],
      "text/plain": [
       "<IPython.core.display.Javascript object>"
      ]
     },
     "metadata": {},
     "output_type": "display_data"
    }
   ],
   "source": [
    "spotify[\"spotify_track_album\"].fillna(\" \", inplace=True)\n",
    "hot_100[\"Previous Week Position\"].fillna(int(0), inplace=True)"
   ]
  },
  {
   "cell_type": "code",
   "execution_count": 17,
   "metadata": {},
   "outputs": [
    {
     "data": {
      "application/javascript": [
       "\n",
       "            setTimeout(function() {\n",
       "                var nbb_cell_id = 17;\n",
       "                var nbb_unformatted_code = \"hot_100 = hot_100.astype({\\\"Previous Week Position\\\": int})\";\n",
       "                var nbb_formatted_code = \"hot_100 = hot_100.astype({\\\"Previous Week Position\\\": int})\";\n",
       "                var nbb_cells = Jupyter.notebook.get_cells();\n",
       "                for (var i = 0; i < nbb_cells.length; ++i) {\n",
       "                    if (nbb_cells[i].input_prompt_number == nbb_cell_id) {\n",
       "                        if (nbb_cells[i].get_text() == nbb_unformatted_code) {\n",
       "                             nbb_cells[i].set_text(nbb_formatted_code);\n",
       "                        }\n",
       "                        break;\n",
       "                    }\n",
       "                }\n",
       "            }, 500);\n",
       "            "
      ],
      "text/plain": [
       "<IPython.core.display.Javascript object>"
      ]
     },
     "metadata": {},
     "output_type": "display_data"
    }
   ],
   "source": [
    "hot_100 = hot_100.astype({\"Previous Week Position\": int})"
   ]
  },
  {
   "cell_type": "code",
   "execution_count": 18,
   "metadata": {},
   "outputs": [
    {
     "data": {
      "application/javascript": [
       "\n",
       "            setTimeout(function() {\n",
       "                var nbb_cell_id = 18;\n",
       "                var nbb_unformatted_code = \"spotify[\\\"spotify_genre\\\"].fillna(\\\"[]\\\", inplace=True)\\nspotify[\\\"spotify_genre_list\\\"] = spotify[\\\"spotify_genre\\\"].apply(ast.literal_eval)\";\n",
       "                var nbb_formatted_code = \"spotify[\\\"spotify_genre\\\"].fillna(\\\"[]\\\", inplace=True)\\nspotify[\\\"spotify_genre_list\\\"] = spotify[\\\"spotify_genre\\\"].apply(ast.literal_eval)\";\n",
       "                var nbb_cells = Jupyter.notebook.get_cells();\n",
       "                for (var i = 0; i < nbb_cells.length; ++i) {\n",
       "                    if (nbb_cells[i].input_prompt_number == nbb_cell_id) {\n",
       "                        if (nbb_cells[i].get_text() == nbb_unformatted_code) {\n",
       "                             nbb_cells[i].set_text(nbb_formatted_code);\n",
       "                        }\n",
       "                        break;\n",
       "                    }\n",
       "                }\n",
       "            }, 500);\n",
       "            "
      ],
      "text/plain": [
       "<IPython.core.display.Javascript object>"
      ]
     },
     "metadata": {},
     "output_type": "display_data"
    }
   ],
   "source": [
    "spotify[\"spotify_genre\"].fillna(\"[]\", inplace=True)\n",
    "spotify[\"spotify_genre_list\"] = spotify[\"spotify_genre\"].apply(ast.literal_eval)"
   ]
  },
  {
   "cell_type": "markdown",
   "metadata": {},
   "source": [
    "# Join the 2 tables by SongID (song and performer)"
   ]
  },
  {
   "cell_type": "code",
   "execution_count": 19,
   "metadata": {},
   "outputs": [
    {
     "data": {
      "text/html": [
       "<div>\n",
       "<style scoped>\n",
       "    .dataframe tbody tr th:only-of-type {\n",
       "        vertical-align: middle;\n",
       "    }\n",
       "\n",
       "    .dataframe tbody tr th {\n",
       "        vertical-align: top;\n",
       "    }\n",
       "\n",
       "    .dataframe thead th {\n",
       "        text-align: right;\n",
       "    }\n",
       "</style>\n",
       "<table border=\"1\" class=\"dataframe\">\n",
       "  <thead>\n",
       "    <tr style=\"text-align: right;\">\n",
       "      <th></th>\n",
       "      <th>WeekID</th>\n",
       "      <th>Week Position</th>\n",
       "      <th>Song_x</th>\n",
       "      <th>Performer_x</th>\n",
       "      <th>SongID</th>\n",
       "      <th>Instance</th>\n",
       "      <th>Previous Week Position</th>\n",
       "      <th>Peak Position</th>\n",
       "      <th>Weeks on Chart</th>\n",
       "      <th>Performer_y</th>\n",
       "      <th>Song_y</th>\n",
       "      <th>spotify_genre</th>\n",
       "      <th>spotify_track_album</th>\n",
       "      <th>spotify_track_explicit</th>\n",
       "      <th>spotify_genre_list</th>\n",
       "    </tr>\n",
       "  </thead>\n",
       "  <tbody>\n",
       "    <tr>\n",
       "      <th>0</th>\n",
       "      <td>2/2/2019</td>\n",
       "      <td>1</td>\n",
       "      <td>7 Rings</td>\n",
       "      <td>Ariana Grande</td>\n",
       "      <td>7 RingsAriana Grande</td>\n",
       "      <td>1</td>\n",
       "      <td>0</td>\n",
       "      <td>1</td>\n",
       "      <td>1</td>\n",
       "      <td>Ariana Grande</td>\n",
       "      <td>7 Rings</td>\n",
       "      <td>['dance pop', 'pop', 'post-teen pop']</td>\n",
       "      <td>thank</td>\n",
       "      <td>1.0</td>\n",
       "      <td>[dance pop, pop, post-teen pop]</td>\n",
       "    </tr>\n",
       "    <tr>\n",
       "      <th>1</th>\n",
       "      <td>5/25/2019</td>\n",
       "      <td>11</td>\n",
       "      <td>7 Rings</td>\n",
       "      <td>Ariana Grande</td>\n",
       "      <td>7 RingsAriana Grande</td>\n",
       "      <td>1</td>\n",
       "      <td>10</td>\n",
       "      <td>1</td>\n",
       "      <td>17</td>\n",
       "      <td>Ariana Grande</td>\n",
       "      <td>7 Rings</td>\n",
       "      <td>['dance pop', 'pop', 'post-teen pop']</td>\n",
       "      <td>thank</td>\n",
       "      <td>1.0</td>\n",
       "      <td>[dance pop, pop, post-teen pop]</td>\n",
       "    </tr>\n",
       "    <tr>\n",
       "      <th>2</th>\n",
       "      <td>4/20/2019</td>\n",
       "      <td>4</td>\n",
       "      <td>7 Rings</td>\n",
       "      <td>Ariana Grande</td>\n",
       "      <td>7 RingsAriana Grande</td>\n",
       "      <td>1</td>\n",
       "      <td>3</td>\n",
       "      <td>1</td>\n",
       "      <td>12</td>\n",
       "      <td>Ariana Grande</td>\n",
       "      <td>7 Rings</td>\n",
       "      <td>['dance pop', 'pop', 'post-teen pop']</td>\n",
       "      <td>thank</td>\n",
       "      <td>1.0</td>\n",
       "      <td>[dance pop, pop, post-teen pop]</td>\n",
       "    </tr>\n",
       "    <tr>\n",
       "      <th>3</th>\n",
       "      <td>6/1/2019</td>\n",
       "      <td>12</td>\n",
       "      <td>7 Rings</td>\n",
       "      <td>Ariana Grande</td>\n",
       "      <td>7 RingsAriana Grande</td>\n",
       "      <td>1</td>\n",
       "      <td>11</td>\n",
       "      <td>1</td>\n",
       "      <td>18</td>\n",
       "      <td>Ariana Grande</td>\n",
       "      <td>7 Rings</td>\n",
       "      <td>['dance pop', 'pop', 'post-teen pop']</td>\n",
       "      <td>thank</td>\n",
       "      <td>1.0</td>\n",
       "      <td>[dance pop, pop, post-teen pop]</td>\n",
       "    </tr>\n",
       "    <tr>\n",
       "      <th>4</th>\n",
       "      <td>3/30/2019</td>\n",
       "      <td>1</td>\n",
       "      <td>7 Rings</td>\n",
       "      <td>Ariana Grande</td>\n",
       "      <td>7 RingsAriana Grande</td>\n",
       "      <td>1</td>\n",
       "      <td>1</td>\n",
       "      <td>1</td>\n",
       "      <td>9</td>\n",
       "      <td>Ariana Grande</td>\n",
       "      <td>7 Rings</td>\n",
       "      <td>['dance pop', 'pop', 'post-teen pop']</td>\n",
       "      <td>thank</td>\n",
       "      <td>1.0</td>\n",
       "      <td>[dance pop, pop, post-teen pop]</td>\n",
       "    </tr>\n",
       "    <tr>\n",
       "      <th>...</th>\n",
       "      <td>...</td>\n",
       "      <td>...</td>\n",
       "      <td>...</td>\n",
       "      <td>...</td>\n",
       "      <td>...</td>\n",
       "      <td>...</td>\n",
       "      <td>...</td>\n",
       "      <td>...</td>\n",
       "      <td>...</td>\n",
       "      <td>...</td>\n",
       "      <td>...</td>\n",
       "      <td>...</td>\n",
       "      <td>...</td>\n",
       "      <td>...</td>\n",
       "      <td>...</td>\n",
       "    </tr>\n",
       "    <tr>\n",
       "      <th>320602</th>\n",
       "      <td>8/25/1962</td>\n",
       "      <td>18</td>\n",
       "      <td>What's A Matter Baby (Is It Hurting You)</td>\n",
       "      <td>Timi Yuro</td>\n",
       "      <td>What's A Matter Baby (Is It Hurting You)Timi Yuro</td>\n",
       "      <td>1</td>\n",
       "      <td>23</td>\n",
       "      <td>18</td>\n",
       "      <td>7</td>\n",
       "      <td>Timi Yuro</td>\n",
       "      <td>What's A Matter Baby (Is It Hurting You)</td>\n",
       "      <td>['adult standards', 'brill building pop']</td>\n",
       "      <td>The Best Of Timi Yuro</td>\n",
       "      <td>0.0</td>\n",
       "      <td>[adult standards, brill building pop]</td>\n",
       "    </tr>\n",
       "    <tr>\n",
       "      <th>320603</th>\n",
       "      <td>9/1/1962</td>\n",
       "      <td>12</td>\n",
       "      <td>What's A Matter Baby (Is It Hurting You)</td>\n",
       "      <td>Timi Yuro</td>\n",
       "      <td>What's A Matter Baby (Is It Hurting You)Timi Yuro</td>\n",
       "      <td>1</td>\n",
       "      <td>18</td>\n",
       "      <td>12</td>\n",
       "      <td>8</td>\n",
       "      <td>Timi Yuro</td>\n",
       "      <td>What's A Matter Baby (Is It Hurting You)</td>\n",
       "      <td>['adult standards', 'brill building pop']</td>\n",
       "      <td>The Best Of Timi Yuro</td>\n",
       "      <td>0.0</td>\n",
       "      <td>[adult standards, brill building pop]</td>\n",
       "    </tr>\n",
       "    <tr>\n",
       "      <th>320604</th>\n",
       "      <td>9/8/1962</td>\n",
       "      <td>14</td>\n",
       "      <td>What's A Matter Baby (Is It Hurting You)</td>\n",
       "      <td>Timi Yuro</td>\n",
       "      <td>What's A Matter Baby (Is It Hurting You)Timi Yuro</td>\n",
       "      <td>1</td>\n",
       "      <td>12</td>\n",
       "      <td>12</td>\n",
       "      <td>9</td>\n",
       "      <td>Timi Yuro</td>\n",
       "      <td>What's A Matter Baby (Is It Hurting You)</td>\n",
       "      <td>['adult standards', 'brill building pop']</td>\n",
       "      <td>The Best Of Timi Yuro</td>\n",
       "      <td>0.0</td>\n",
       "      <td>[adult standards, brill building pop]</td>\n",
       "    </tr>\n",
       "    <tr>\n",
       "      <th>320605</th>\n",
       "      <td>9/15/1962</td>\n",
       "      <td>31</td>\n",
       "      <td>What's A Matter Baby (Is It Hurting You)</td>\n",
       "      <td>Timi Yuro</td>\n",
       "      <td>What's A Matter Baby (Is It Hurting You)Timi Yuro</td>\n",
       "      <td>1</td>\n",
       "      <td>14</td>\n",
       "      <td>12</td>\n",
       "      <td>10</td>\n",
       "      <td>Timi Yuro</td>\n",
       "      <td>What's A Matter Baby (Is It Hurting You)</td>\n",
       "      <td>['adult standards', 'brill building pop']</td>\n",
       "      <td>The Best Of Timi Yuro</td>\n",
       "      <td>0.0</td>\n",
       "      <td>[adult standards, brill building pop]</td>\n",
       "    </tr>\n",
       "    <tr>\n",
       "      <th>320606</th>\n",
       "      <td>9/22/1962</td>\n",
       "      <td>47</td>\n",
       "      <td>What's A Matter Baby (Is It Hurting You)</td>\n",
       "      <td>Timi Yuro</td>\n",
       "      <td>What's A Matter Baby (Is It Hurting You)Timi Yuro</td>\n",
       "      <td>1</td>\n",
       "      <td>31</td>\n",
       "      <td>12</td>\n",
       "      <td>11</td>\n",
       "      <td>Timi Yuro</td>\n",
       "      <td>What's A Matter Baby (Is It Hurting You)</td>\n",
       "      <td>['adult standards', 'brill building pop']</td>\n",
       "      <td>The Best Of Timi Yuro</td>\n",
       "      <td>0.0</td>\n",
       "      <td>[adult standards, brill building pop]</td>\n",
       "    </tr>\n",
       "  </tbody>\n",
       "</table>\n",
       "<p>320607 rows × 15 columns</p>\n",
       "</div>"
      ],
      "text/plain": [
       "           WeekID  Week Position                                    Song_x  \\\n",
       "0        2/2/2019              1                                   7 Rings   \n",
       "1       5/25/2019             11                                   7 Rings   \n",
       "2       4/20/2019              4                                   7 Rings   \n",
       "3        6/1/2019             12                                   7 Rings   \n",
       "4       3/30/2019              1                                   7 Rings   \n",
       "...           ...            ...                                       ...   \n",
       "320602  8/25/1962             18  What's A Matter Baby (Is It Hurting You)   \n",
       "320603   9/1/1962             12  What's A Matter Baby (Is It Hurting You)   \n",
       "320604   9/8/1962             14  What's A Matter Baby (Is It Hurting You)   \n",
       "320605  9/15/1962             31  What's A Matter Baby (Is It Hurting You)   \n",
       "320606  9/22/1962             47  What's A Matter Baby (Is It Hurting You)   \n",
       "\n",
       "          Performer_x                                             SongID  \\\n",
       "0       Ariana Grande                               7 RingsAriana Grande   \n",
       "1       Ariana Grande                               7 RingsAriana Grande   \n",
       "2       Ariana Grande                               7 RingsAriana Grande   \n",
       "3       Ariana Grande                               7 RingsAriana Grande   \n",
       "4       Ariana Grande                               7 RingsAriana Grande   \n",
       "...               ...                                                ...   \n",
       "320602      Timi Yuro  What's A Matter Baby (Is It Hurting You)Timi Yuro   \n",
       "320603      Timi Yuro  What's A Matter Baby (Is It Hurting You)Timi Yuro   \n",
       "320604      Timi Yuro  What's A Matter Baby (Is It Hurting You)Timi Yuro   \n",
       "320605      Timi Yuro  What's A Matter Baby (Is It Hurting You)Timi Yuro   \n",
       "320606      Timi Yuro  What's A Matter Baby (Is It Hurting You)Timi Yuro   \n",
       "\n",
       "        Instance  Previous Week Position  Peak Position  Weeks on Chart  \\\n",
       "0              1                       0              1               1   \n",
       "1              1                      10              1              17   \n",
       "2              1                       3              1              12   \n",
       "3              1                      11              1              18   \n",
       "4              1                       1              1               9   \n",
       "...          ...                     ...            ...             ...   \n",
       "320602         1                      23             18               7   \n",
       "320603         1                      18             12               8   \n",
       "320604         1                      12             12               9   \n",
       "320605         1                      14             12              10   \n",
       "320606         1                      31             12              11   \n",
       "\n",
       "          Performer_y                                    Song_y  \\\n",
       "0       Ariana Grande                                   7 Rings   \n",
       "1       Ariana Grande                                   7 Rings   \n",
       "2       Ariana Grande                                   7 Rings   \n",
       "3       Ariana Grande                                   7 Rings   \n",
       "4       Ariana Grande                                   7 Rings   \n",
       "...               ...                                       ...   \n",
       "320602      Timi Yuro  What's A Matter Baby (Is It Hurting You)   \n",
       "320603      Timi Yuro  What's A Matter Baby (Is It Hurting You)   \n",
       "320604      Timi Yuro  What's A Matter Baby (Is It Hurting You)   \n",
       "320605      Timi Yuro  What's A Matter Baby (Is It Hurting You)   \n",
       "320606      Timi Yuro  What's A Matter Baby (Is It Hurting You)   \n",
       "\n",
       "                                    spotify_genre    spotify_track_album  \\\n",
       "0           ['dance pop', 'pop', 'post-teen pop']                 thank    \n",
       "1           ['dance pop', 'pop', 'post-teen pop']                 thank    \n",
       "2           ['dance pop', 'pop', 'post-teen pop']                 thank    \n",
       "3           ['dance pop', 'pop', 'post-teen pop']                 thank    \n",
       "4           ['dance pop', 'pop', 'post-teen pop']                 thank    \n",
       "...                                           ...                    ...   \n",
       "320602  ['adult standards', 'brill building pop']  The Best Of Timi Yuro   \n",
       "320603  ['adult standards', 'brill building pop']  The Best Of Timi Yuro   \n",
       "320604  ['adult standards', 'brill building pop']  The Best Of Timi Yuro   \n",
       "320605  ['adult standards', 'brill building pop']  The Best Of Timi Yuro   \n",
       "320606  ['adult standards', 'brill building pop']  The Best Of Timi Yuro   \n",
       "\n",
       "        spotify_track_explicit                     spotify_genre_list  \n",
       "0                          1.0        [dance pop, pop, post-teen pop]  \n",
       "1                          1.0        [dance pop, pop, post-teen pop]  \n",
       "2                          1.0        [dance pop, pop, post-teen pop]  \n",
       "3                          1.0        [dance pop, pop, post-teen pop]  \n",
       "4                          1.0        [dance pop, pop, post-teen pop]  \n",
       "...                        ...                                    ...  \n",
       "320602                     0.0  [adult standards, brill building pop]  \n",
       "320603                     0.0  [adult standards, brill building pop]  \n",
       "320604                     0.0  [adult standards, brill building pop]  \n",
       "320605                     0.0  [adult standards, brill building pop]  \n",
       "320606                     0.0  [adult standards, brill building pop]  \n",
       "\n",
       "[320607 rows x 15 columns]"
      ]
     },
     "execution_count": 19,
     "metadata": {},
     "output_type": "execute_result"
    },
    {
     "data": {
      "application/javascript": [
       "\n",
       "            setTimeout(function() {\n",
       "                var nbb_cell_id = 19;\n",
       "                var nbb_unformatted_code = \"full_table = hot_100.merge(spotify, left_on=\\\"SongID\\\", right_on=\\\"SongID\\\")\\nfull_table\";\n",
       "                var nbb_formatted_code = \"full_table = hot_100.merge(spotify, left_on=\\\"SongID\\\", right_on=\\\"SongID\\\")\\nfull_table\";\n",
       "                var nbb_cells = Jupyter.notebook.get_cells();\n",
       "                for (var i = 0; i < nbb_cells.length; ++i) {\n",
       "                    if (nbb_cells[i].input_prompt_number == nbb_cell_id) {\n",
       "                        if (nbb_cells[i].get_text() == nbb_unformatted_code) {\n",
       "                             nbb_cells[i].set_text(nbb_formatted_code);\n",
       "                        }\n",
       "                        break;\n",
       "                    }\n",
       "                }\n",
       "            }, 500);\n",
       "            "
      ],
      "text/plain": [
       "<IPython.core.display.Javascript object>"
      ]
     },
     "metadata": {},
     "output_type": "display_data"
    }
   ],
   "source": [
    "full_table = hot_100.merge(spotify, left_on=\"SongID\", right_on=\"SongID\")\n",
    "full_table"
   ]
  },
  {
   "cell_type": "markdown",
   "metadata": {},
   "source": [
    "# Remove unnecessary columns, re-label columns"
   ]
  },
  {
   "cell_type": "code",
   "execution_count": 20,
   "metadata": {},
   "outputs": [
    {
     "data": {
      "application/javascript": [
       "\n",
       "            setTimeout(function() {\n",
       "                var nbb_cell_id = 20;\n",
       "                var nbb_unformatted_code = \"full_table = full_table.drop(columns=[\\\"Performer_y\\\", \\\"Song_y\\\"])\";\n",
       "                var nbb_formatted_code = \"full_table = full_table.drop(columns=[\\\"Performer_y\\\", \\\"Song_y\\\"])\";\n",
       "                var nbb_cells = Jupyter.notebook.get_cells();\n",
       "                for (var i = 0; i < nbb_cells.length; ++i) {\n",
       "                    if (nbb_cells[i].input_prompt_number == nbb_cell_id) {\n",
       "                        if (nbb_cells[i].get_text() == nbb_unformatted_code) {\n",
       "                             nbb_cells[i].set_text(nbb_formatted_code);\n",
       "                        }\n",
       "                        break;\n",
       "                    }\n",
       "                }\n",
       "            }, 500);\n",
       "            "
      ],
      "text/plain": [
       "<IPython.core.display.Javascript object>"
      ]
     },
     "metadata": {},
     "output_type": "display_data"
    }
   ],
   "source": [
    "full_table = full_table.drop(columns=[\"Performer_y\", \"Song_y\"])"
   ]
  },
  {
   "cell_type": "code",
   "execution_count": 21,
   "metadata": {},
   "outputs": [
    {
     "data": {
      "application/javascript": [
       "\n",
       "            setTimeout(function() {\n",
       "                var nbb_cell_id = 21;\n",
       "                var nbb_unformatted_code = \"full_table.rename(\\n    columns={\\n        \\\"WeekID\\\": \\\"week\\\",\\n        \\\"Week Position\\\": \\\"week_pos\\\",\\n        \\\"Song_x\\\": \\\"song\\\",\\n        \\\"Performer_x\\\": \\\"artist\\\",\\n        \\\"SongID\\\": \\\"song_id\\\",\\n        \\\"Instance\\\": \\\"instance\\\",\\n        \\\"Previous Week Position\\\": \\\"prev_week_pos\\\",\\n        \\\"Peak Position\\\": \\\"peak_pos\\\",\\n        \\\"Weeks on Chart\\\": \\\"weeks_on_chart\\\",\\n        \\\"spotify_genre\\\": \\\"genre_str\\\",\\n        \\\"spotify_genre_list\\\": \\\"genre_list\\\",\\n        \\\"spotify_track_album\\\": \\\"album\\\",\\n        \\\"spotify_track_explicit\\\": \\\"explicit\\\",\\n    },\\n    inplace=True,\\n)\";\n",
       "                var nbb_formatted_code = \"full_table.rename(\\n    columns={\\n        \\\"WeekID\\\": \\\"week\\\",\\n        \\\"Week Position\\\": \\\"week_pos\\\",\\n        \\\"Song_x\\\": \\\"song\\\",\\n        \\\"Performer_x\\\": \\\"artist\\\",\\n        \\\"SongID\\\": \\\"song_id\\\",\\n        \\\"Instance\\\": \\\"instance\\\",\\n        \\\"Previous Week Position\\\": \\\"prev_week_pos\\\",\\n        \\\"Peak Position\\\": \\\"peak_pos\\\",\\n        \\\"Weeks on Chart\\\": \\\"weeks_on_chart\\\",\\n        \\\"spotify_genre\\\": \\\"genre_str\\\",\\n        \\\"spotify_genre_list\\\": \\\"genre_list\\\",\\n        \\\"spotify_track_album\\\": \\\"album\\\",\\n        \\\"spotify_track_explicit\\\": \\\"explicit\\\",\\n    },\\n    inplace=True,\\n)\";\n",
       "                var nbb_cells = Jupyter.notebook.get_cells();\n",
       "                for (var i = 0; i < nbb_cells.length; ++i) {\n",
       "                    if (nbb_cells[i].input_prompt_number == nbb_cell_id) {\n",
       "                        if (nbb_cells[i].get_text() == nbb_unformatted_code) {\n",
       "                             nbb_cells[i].set_text(nbb_formatted_code);\n",
       "                        }\n",
       "                        break;\n",
       "                    }\n",
       "                }\n",
       "            }, 500);\n",
       "            "
      ],
      "text/plain": [
       "<IPython.core.display.Javascript object>"
      ]
     },
     "metadata": {},
     "output_type": "display_data"
    }
   ],
   "source": [
    "full_table.rename(\n",
    "    columns={\n",
    "        \"WeekID\": \"week\",\n",
    "        \"Week Position\": \"week_pos\",\n",
    "        \"Song_x\": \"song\",\n",
    "        \"Performer_x\": \"artist\",\n",
    "        \"SongID\": \"song_id\",\n",
    "        \"Instance\": \"instance\",\n",
    "        \"Previous Week Position\": \"prev_week_pos\",\n",
    "        \"Peak Position\": \"peak_pos\",\n",
    "        \"Weeks on Chart\": \"weeks_on_chart\",\n",
    "        \"spotify_genre\": \"genre_str\",\n",
    "        \"spotify_genre_list\": \"genre_list\",\n",
    "        \"spotify_track_album\": \"album\",\n",
    "        \"spotify_track_explicit\": \"explicit\",\n",
    "    },\n",
    "    inplace=True,\n",
    ")"
   ]
  },
  {
   "cell_type": "markdown",
   "metadata": {},
   "source": [
    "# Format week to a date format"
   ]
  },
  {
   "cell_type": "code",
   "execution_count": 22,
   "metadata": {},
   "outputs": [
    {
     "data": {
      "application/javascript": [
       "\n",
       "            setTimeout(function() {\n",
       "                var nbb_cell_id = 22;\n",
       "                var nbb_unformatted_code = \"full_table[\\\"week\\\"] = full_table[\\\"week\\\"].apply(\\n    lambda x: datetime.strptime(x, \\\"%m/%d/%Y\\\")\\n)\\nfull_table[\\\"week\\\"] = pd.to_datetime(full_table[\\\"week\\\"])\";\n",
       "                var nbb_formatted_code = \"full_table[\\\"week\\\"] = full_table[\\\"week\\\"].apply(\\n    lambda x: datetime.strptime(x, \\\"%m/%d/%Y\\\")\\n)\\nfull_table[\\\"week\\\"] = pd.to_datetime(full_table[\\\"week\\\"])\";\n",
       "                var nbb_cells = Jupyter.notebook.get_cells();\n",
       "                for (var i = 0; i < nbb_cells.length; ++i) {\n",
       "                    if (nbb_cells[i].input_prompt_number == nbb_cell_id) {\n",
       "                        if (nbb_cells[i].get_text() == nbb_unformatted_code) {\n",
       "                             nbb_cells[i].set_text(nbb_formatted_code);\n",
       "                        }\n",
       "                        break;\n",
       "                    }\n",
       "                }\n",
       "            }, 500);\n",
       "            "
      ],
      "text/plain": [
       "<IPython.core.display.Javascript object>"
      ]
     },
     "metadata": {},
     "output_type": "display_data"
    }
   ],
   "source": [
    "full_table[\"week\"] = full_table[\"week\"].apply(\n",
    "    lambda x: datetime.strptime(x, \"%m/%d/%Y\")\n",
    ")\n",
    "full_table[\"week\"] = pd.to_datetime(full_table[\"week\"])"
   ]
  },
  {
   "cell_type": "markdown",
   "metadata": {},
   "source": [
    "# Put month and year in new columns"
   ]
  },
  {
   "cell_type": "code",
   "execution_count": 23,
   "metadata": {},
   "outputs": [
    {
     "data": {
      "application/javascript": [
       "\n",
       "            setTimeout(function() {\n",
       "                var nbb_cell_id = 23;\n",
       "                var nbb_unformatted_code = \"full_table[\\\"year\\\"], full_table[\\\"month\\\"] = (\\n    full_table[\\\"week\\\"].dt.year,\\n    full_table[\\\"week\\\"].dt.month,\\n)\";\n",
       "                var nbb_formatted_code = \"full_table[\\\"year\\\"], full_table[\\\"month\\\"] = (\\n    full_table[\\\"week\\\"].dt.year,\\n    full_table[\\\"week\\\"].dt.month,\\n)\";\n",
       "                var nbb_cells = Jupyter.notebook.get_cells();\n",
       "                for (var i = 0; i < nbb_cells.length; ++i) {\n",
       "                    if (nbb_cells[i].input_prompt_number == nbb_cell_id) {\n",
       "                        if (nbb_cells[i].get_text() == nbb_unformatted_code) {\n",
       "                             nbb_cells[i].set_text(nbb_formatted_code);\n",
       "                        }\n",
       "                        break;\n",
       "                    }\n",
       "                }\n",
       "            }, 500);\n",
       "            "
      ],
      "text/plain": [
       "<IPython.core.display.Javascript object>"
      ]
     },
     "metadata": {},
     "output_type": "display_data"
    }
   ],
   "source": [
    "full_table[\"year\"], full_table[\"month\"] = (\n",
    "    full_table[\"week\"].dt.year,\n",
    "    full_table[\"week\"].dt.month,\n",
    ")"
   ]
  },
  {
   "cell_type": "markdown",
   "metadata": {},
   "source": [
    "# Check explicit vs not explicit counts for reference"
   ]
  },
  {
   "cell_type": "code",
   "execution_count": 24,
   "metadata": {},
   "outputs": [
    {
     "data": {
      "text/plain": [
       "0.0    249361\n",
       "1.0     31060\n",
       "Name: explicit, dtype: int64"
      ]
     },
     "execution_count": 24,
     "metadata": {},
     "output_type": "execute_result"
    },
    {
     "data": {
      "application/javascript": [
       "\n",
       "            setTimeout(function() {\n",
       "                var nbb_cell_id = 24;\n",
       "                var nbb_unformatted_code = \"full_table[\\\"explicit\\\"].value_counts()\";\n",
       "                var nbb_formatted_code = \"full_table[\\\"explicit\\\"].value_counts()\";\n",
       "                var nbb_cells = Jupyter.notebook.get_cells();\n",
       "                for (var i = 0; i < nbb_cells.length; ++i) {\n",
       "                    if (nbb_cells[i].input_prompt_number == nbb_cell_id) {\n",
       "                        if (nbb_cells[i].get_text() == nbb_unformatted_code) {\n",
       "                             nbb_cells[i].set_text(nbb_formatted_code);\n",
       "                        }\n",
       "                        break;\n",
       "                    }\n",
       "                }\n",
       "            }, 500);\n",
       "            "
      ],
      "text/plain": [
       "<IPython.core.display.Javascript object>"
      ]
     },
     "metadata": {},
     "output_type": "display_data"
    }
   ],
   "source": [
    "full_table[\"explicit\"].value_counts()"
   ]
  },
  {
   "cell_type": "markdown",
   "metadata": {},
   "source": [
    "# Create a table with means, only use songs in the top 75 to make the dataframe a little smaller.  This is the main table used in analysis."
   ]
  },
  {
   "cell_type": "code",
   "execution_count": 25,
   "metadata": {},
   "outputs": [
    {
     "data": {
      "application/javascript": [
       "\n",
       "            setTimeout(function() {\n",
       "                var nbb_cell_id = 25;\n",
       "                var nbb_unformatted_code = \"top_song_limit = 75\\ntop_songs = full_table[full_table[\\\"week_pos\\\"] <= top_song_limit]\\ntop_songs = top_songs.groupby([\\\"song_id\\\", \\\"genre_str\\\"]).mean()\\ntop_songs = top_songs.reset_index()\";\n",
       "                var nbb_formatted_code = \"top_song_limit = 75\\ntop_songs = full_table[full_table[\\\"week_pos\\\"] <= top_song_limit]\\ntop_songs = top_songs.groupby([\\\"song_id\\\", \\\"genre_str\\\"]).mean()\\ntop_songs = top_songs.reset_index()\";\n",
       "                var nbb_cells = Jupyter.notebook.get_cells();\n",
       "                for (var i = 0; i < nbb_cells.length; ++i) {\n",
       "                    if (nbb_cells[i].input_prompt_number == nbb_cell_id) {\n",
       "                        if (nbb_cells[i].get_text() == nbb_unformatted_code) {\n",
       "                             nbb_cells[i].set_text(nbb_formatted_code);\n",
       "                        }\n",
       "                        break;\n",
       "                    }\n",
       "                }\n",
       "            }, 500);\n",
       "            "
      ],
      "text/plain": [
       "<IPython.core.display.Javascript object>"
      ]
     },
     "metadata": {},
     "output_type": "display_data"
    }
   ],
   "source": [
    "top_song_limit = 75\n",
    "top_songs = full_table[full_table[\"week_pos\"] <= top_song_limit]\n",
    "top_songs = top_songs.groupby([\"song_id\", \"genre_str\"]).mean()\n",
    "top_songs = top_songs.reset_index()"
   ]
  },
  {
   "cell_type": "code",
   "execution_count": 26,
   "metadata": {},
   "outputs": [
    {
     "data": {
      "text/html": [
       "<div>\n",
       "<style scoped>\n",
       "    .dataframe tbody tr th:only-of-type {\n",
       "        vertical-align: middle;\n",
       "    }\n",
       "\n",
       "    .dataframe tbody tr th {\n",
       "        vertical-align: top;\n",
       "    }\n",
       "\n",
       "    .dataframe thead th {\n",
       "        text-align: right;\n",
       "    }\n",
       "</style>\n",
       "<table border=\"1\" class=\"dataframe\">\n",
       "  <thead>\n",
       "    <tr style=\"text-align: right;\">\n",
       "      <th></th>\n",
       "      <th>song_id</th>\n",
       "      <th>genre_str</th>\n",
       "      <th>week_pos</th>\n",
       "      <th>instance</th>\n",
       "      <th>prev_week_pos</th>\n",
       "      <th>peak_pos</th>\n",
       "      <th>weeks_on_chart</th>\n",
       "      <th>explicit</th>\n",
       "      <th>year</th>\n",
       "      <th>month</th>\n",
       "    </tr>\n",
       "  </thead>\n",
       "  <tbody>\n",
       "    <tr>\n",
       "      <th>0</th>\n",
       "      <td>\"B\" GirlsYoung And Restless</td>\n",
       "      <td>[]</td>\n",
       "      <td>61.750000</td>\n",
       "      <td>1.0</td>\n",
       "      <td>62.125000</td>\n",
       "      <td>57.125000</td>\n",
       "      <td>6.5</td>\n",
       "      <td>0.0</td>\n",
       "      <td>1990.0</td>\n",
       "      <td>6.0</td>\n",
       "    </tr>\n",
       "    <tr>\n",
       "      <th>1</th>\n",
       "      <td>\"Cherry Cherry\" from Hot August NightNeil Diamond</td>\n",
       "      <td>['adult standards', 'brill building pop', 'fol...</td>\n",
       "      <td>43.888889</td>\n",
       "      <td>1.0</td>\n",
       "      <td>47.555556</td>\n",
       "      <td>41.666667</td>\n",
       "      <td>6.0</td>\n",
       "      <td>0.0</td>\n",
       "      <td>1973.0</td>\n",
       "      <td>4.0</td>\n",
       "    </tr>\n",
       "    <tr>\n",
       "      <th>2</th>\n",
       "      <td>\"Having A Party\" MedleyThe Ovations (Featuring...</td>\n",
       "      <td>['memphis soul', 'southern soul']</td>\n",
       "      <td>64.800000</td>\n",
       "      <td>1.0</td>\n",
       "      <td>68.200000</td>\n",
       "      <td>63.600000</td>\n",
       "      <td>7.0</td>\n",
       "      <td>NaN</td>\n",
       "      <td>1973.0</td>\n",
       "      <td>11.0</td>\n",
       "    </tr>\n",
       "    <tr>\n",
       "      <th>3</th>\n",
       "      <td>\"Joy\" Pt. IIsaac Hayes</td>\n",
       "      <td>['classic soul', 'disco', 'funk', 'jazz funk',...</td>\n",
       "      <td>42.222222</td>\n",
       "      <td>1.0</td>\n",
       "      <td>37.555556</td>\n",
       "      <td>40.888889</td>\n",
       "      <td>5.0</td>\n",
       "      <td>NaN</td>\n",
       "      <td>1974.0</td>\n",
       "      <td>4.0</td>\n",
       "    </tr>\n",
       "    <tr>\n",
       "      <th>4</th>\n",
       "      <td>\"Roots\" MedleyQuincy Jones</td>\n",
       "      <td>['adult standards', 'disco', 'funk', 'jazz fun...</td>\n",
       "      <td>62.000000</td>\n",
       "      <td>1.0</td>\n",
       "      <td>66.750000</td>\n",
       "      <td>62.000000</td>\n",
       "      <td>4.5</td>\n",
       "      <td>NaN</td>\n",
       "      <td>1977.0</td>\n",
       "      <td>4.0</td>\n",
       "    </tr>\n",
       "    <tr>\n",
       "      <th>...</th>\n",
       "      <td>...</td>\n",
       "      <td>...</td>\n",
       "      <td>...</td>\n",
       "      <td>...</td>\n",
       "      <td>...</td>\n",
       "      <td>...</td>\n",
       "      <td>...</td>\n",
       "      <td>...</td>\n",
       "      <td>...</td>\n",
       "      <td>...</td>\n",
       "    </tr>\n",
       "    <tr>\n",
       "      <th>21834</th>\n",
       "      <td>teachmeMusiq Soulchild</td>\n",
       "      <td>['alternative r&amp;b', 'dance pop', 'neo soul', '...</td>\n",
       "      <td>56.117647</td>\n",
       "      <td>1.0</td>\n",
       "      <td>57.117647</td>\n",
       "      <td>49.823529</td>\n",
       "      <td>12.0</td>\n",
       "      <td>0.0</td>\n",
       "      <td>2007.0</td>\n",
       "      <td>8.0</td>\n",
       "    </tr>\n",
       "    <tr>\n",
       "      <th>21835</th>\n",
       "      <td>whoa (mind in awe)XXXTENTACION</td>\n",
       "      <td>['emo rap', 'miami hip hop']</td>\n",
       "      <td>37.000000</td>\n",
       "      <td>1.0</td>\n",
       "      <td>0.000000</td>\n",
       "      <td>37.000000</td>\n",
       "      <td>1.0</td>\n",
       "      <td>0.0</td>\n",
       "      <td>2018.0</td>\n",
       "      <td>12.0</td>\n",
       "    </tr>\n",
       "    <tr>\n",
       "      <th>21836</th>\n",
       "      <td>whoknowsMusiq</td>\n",
       "      <td>['alternative r&amp;b', 'dance pop', 'neo soul', '...</td>\n",
       "      <td>70.600000</td>\n",
       "      <td>1.0</td>\n",
       "      <td>56.200000</td>\n",
       "      <td>67.800000</td>\n",
       "      <td>3.0</td>\n",
       "      <td>0.0</td>\n",
       "      <td>2004.0</td>\n",
       "      <td>5.0</td>\n",
       "    </tr>\n",
       "    <tr>\n",
       "      <th>21837</th>\n",
       "      <td>www.memoryAlan Jackson</td>\n",
       "      <td>['contemporary country', 'country', 'country r...</td>\n",
       "      <td>57.166667</td>\n",
       "      <td>1.0</td>\n",
       "      <td>51.583333</td>\n",
       "      <td>51.500000</td>\n",
       "      <td>6.5</td>\n",
       "      <td>NaN</td>\n",
       "      <td>2000.0</td>\n",
       "      <td>9.0</td>\n",
       "    </tr>\n",
       "    <tr>\n",
       "      <th>21838</th>\n",
       "      <td>¿Dònde Està Santa Claus? (Where Is Santa Claus...</td>\n",
       "      <td>['novelty']</td>\n",
       "      <td>53.250000</td>\n",
       "      <td>1.0</td>\n",
       "      <td>41.500000</td>\n",
       "      <td>53.250000</td>\n",
       "      <td>2.5</td>\n",
       "      <td>NaN</td>\n",
       "      <td>1958.0</td>\n",
       "      <td>9.0</td>\n",
       "    </tr>\n",
       "  </tbody>\n",
       "</table>\n",
       "<p>21839 rows × 10 columns</p>\n",
       "</div>"
      ],
      "text/plain": [
       "                                                 song_id  \\\n",
       "0                            \"B\" GirlsYoung And Restless   \n",
       "1      \"Cherry Cherry\" from Hot August NightNeil Diamond   \n",
       "2      \"Having A Party\" MedleyThe Ovations (Featuring...   \n",
       "3                                 \"Joy\" Pt. IIsaac Hayes   \n",
       "4                             \"Roots\" MedleyQuincy Jones   \n",
       "...                                                  ...   \n",
       "21834                             teachmeMusiq Soulchild   \n",
       "21835                     whoa (mind in awe)XXXTENTACION   \n",
       "21836                                      whoknowsMusiq   \n",
       "21837                             www.memoryAlan Jackson   \n",
       "21838  ¿Dònde Està Santa Claus? (Where Is Santa Claus...   \n",
       "\n",
       "                                               genre_str   week_pos  instance  \\\n",
       "0                                                     []  61.750000       1.0   \n",
       "1      ['adult standards', 'brill building pop', 'fol...  43.888889       1.0   \n",
       "2                      ['memphis soul', 'southern soul']  64.800000       1.0   \n",
       "3      ['classic soul', 'disco', 'funk', 'jazz funk',...  42.222222       1.0   \n",
       "4      ['adult standards', 'disco', 'funk', 'jazz fun...  62.000000       1.0   \n",
       "...                                                  ...        ...       ...   \n",
       "21834  ['alternative r&b', 'dance pop', 'neo soul', '...  56.117647       1.0   \n",
       "21835                       ['emo rap', 'miami hip hop']  37.000000       1.0   \n",
       "21836  ['alternative r&b', 'dance pop', 'neo soul', '...  70.600000       1.0   \n",
       "21837  ['contemporary country', 'country', 'country r...  57.166667       1.0   \n",
       "21838                                        ['novelty']  53.250000       1.0   \n",
       "\n",
       "       prev_week_pos   peak_pos  weeks_on_chart  explicit    year  month  \n",
       "0          62.125000  57.125000             6.5       0.0  1990.0    6.0  \n",
       "1          47.555556  41.666667             6.0       0.0  1973.0    4.0  \n",
       "2          68.200000  63.600000             7.0       NaN  1973.0   11.0  \n",
       "3          37.555556  40.888889             5.0       NaN  1974.0    4.0  \n",
       "4          66.750000  62.000000             4.5       NaN  1977.0    4.0  \n",
       "...              ...        ...             ...       ...     ...    ...  \n",
       "21834      57.117647  49.823529            12.0       0.0  2007.0    8.0  \n",
       "21835       0.000000  37.000000             1.0       0.0  2018.0   12.0  \n",
       "21836      56.200000  67.800000             3.0       0.0  2004.0    5.0  \n",
       "21837      51.583333  51.500000             6.5       NaN  2000.0    9.0  \n",
       "21838      41.500000  53.250000             2.5       NaN  1958.0    9.0  \n",
       "\n",
       "[21839 rows x 10 columns]"
      ]
     },
     "execution_count": 26,
     "metadata": {},
     "output_type": "execute_result"
    },
    {
     "data": {
      "application/javascript": [
       "\n",
       "            setTimeout(function() {\n",
       "                var nbb_cell_id = 26;\n",
       "                var nbb_unformatted_code = \"top_songs[\\\"year\\\"] = round(top_songs[\\\"year\\\"])\\ntop_songs[\\\"month\\\"] = round(top_songs[\\\"month\\\"])\\ntop_songs\";\n",
       "                var nbb_formatted_code = \"top_songs[\\\"year\\\"] = round(top_songs[\\\"year\\\"])\\ntop_songs[\\\"month\\\"] = round(top_songs[\\\"month\\\"])\\ntop_songs\";\n",
       "                var nbb_cells = Jupyter.notebook.get_cells();\n",
       "                for (var i = 0; i < nbb_cells.length; ++i) {\n",
       "                    if (nbb_cells[i].input_prompt_number == nbb_cell_id) {\n",
       "                        if (nbb_cells[i].get_text() == nbb_unformatted_code) {\n",
       "                             nbb_cells[i].set_text(nbb_formatted_code);\n",
       "                        }\n",
       "                        break;\n",
       "                    }\n",
       "                }\n",
       "            }, 500);\n",
       "            "
      ],
      "text/plain": [
       "<IPython.core.display.Javascript object>"
      ]
     },
     "metadata": {},
     "output_type": "display_data"
    }
   ],
   "source": [
    "top_songs[\"year\"] = round(top_songs[\"year\"])\n",
    "top_songs[\"month\"] = round(top_songs[\"month\"])\n",
    "top_songs"
   ]
  },
  {
   "cell_type": "markdown",
   "metadata": {},
   "source": [
    "# Add a genre label column.  Evaluate all of the genres in the list, and make a single genre decision.  Because there are lots of songs with a 'pop' genre, I override those with the other genres."
   ]
  },
  {
   "cell_type": "code",
   "execution_count": 27,
   "metadata": {},
   "outputs": [
    {
     "data": {
      "application/javascript": [
       "\n",
       "            setTimeout(function() {\n",
       "                var nbb_cell_id = 27;\n",
       "                var nbb_unformatted_code = \"genre_list = [\\\"rap\\\", \\\"hip hop\\\", \\\"metal\\\", \\\"country\\\", \\\"pop\\\"]\";\n",
       "                var nbb_formatted_code = \"genre_list = [\\\"rap\\\", \\\"hip hop\\\", \\\"metal\\\", \\\"country\\\", \\\"pop\\\"]\";\n",
       "                var nbb_cells = Jupyter.notebook.get_cells();\n",
       "                for (var i = 0; i < nbb_cells.length; ++i) {\n",
       "                    if (nbb_cells[i].input_prompt_number == nbb_cell_id) {\n",
       "                        if (nbb_cells[i].get_text() == nbb_unformatted_code) {\n",
       "                             nbb_cells[i].set_text(nbb_formatted_code);\n",
       "                        }\n",
       "                        break;\n",
       "                    }\n",
       "                }\n",
       "            }, 500);\n",
       "            "
      ],
      "text/plain": [
       "<IPython.core.display.Javascript object>"
      ]
     },
     "metadata": {},
     "output_type": "display_data"
    }
   ],
   "source": [
    "genre_list = [\"rap\", \"hip hop\", \"metal\", \"country\", \"pop\"]"
   ]
  },
  {
   "cell_type": "code",
   "execution_count": 28,
   "metadata": {},
   "outputs": [
    {
     "data": {
      "application/javascript": [
       "\n",
       "            setTimeout(function() {\n",
       "                var nbb_cell_id = 28;\n",
       "                var nbb_unformatted_code = \"for genre in genre_list:\\n    top_songs[genre] = top_songs[\\\"genre_str\\\"].str.contains(fr\\\"\\\\b{genre}\\\\b\\\")\";\n",
       "                var nbb_formatted_code = \"for genre in genre_list:\\n    top_songs[genre] = top_songs[\\\"genre_str\\\"].str.contains(fr\\\"\\\\b{genre}\\\\b\\\")\";\n",
       "                var nbb_cells = Jupyter.notebook.get_cells();\n",
       "                for (var i = 0; i < nbb_cells.length; ++i) {\n",
       "                    if (nbb_cells[i].input_prompt_number == nbb_cell_id) {\n",
       "                        if (nbb_cells[i].get_text() == nbb_unformatted_code) {\n",
       "                             nbb_cells[i].set_text(nbb_formatted_code);\n",
       "                        }\n",
       "                        break;\n",
       "                    }\n",
       "                }\n",
       "            }, 500);\n",
       "            "
      ],
      "text/plain": [
       "<IPython.core.display.Javascript object>"
      ]
     },
     "metadata": {},
     "output_type": "display_data"
    }
   ],
   "source": [
    "for genre in genre_list:\n",
    "    top_songs[genre] = top_songs[\"genre_str\"].str.contains(fr\"\\b{genre}\\b\")"
   ]
  },
  {
   "cell_type": "code",
   "execution_count": 29,
   "metadata": {},
   "outputs": [
    {
     "data": {
      "text/plain": [
       "pop           7164\n",
       "rap_hiphop    2836\n",
       "country       2578\n",
       "metal          671\n",
       "Name: genre_label, dtype: int64"
      ]
     },
     "execution_count": 29,
     "metadata": {},
     "output_type": "execute_result"
    },
    {
     "data": {
      "application/javascript": [
       "\n",
       "            setTimeout(function() {\n",
       "                var nbb_cell_id = 29;\n",
       "                var nbb_unformatted_code = \"top_songs.loc[top_songs[\\\"pop\\\"], \\\"genre_label\\\"] = \\\"pop\\\"\\ntop_songs.loc[top_songs[\\\"rap\\\"] | top_songs[\\\"hip hop\\\"], \\\"genre_label\\\"] = \\\"rap_hiphop\\\"\\ntop_songs.loc[top_songs[\\\"metal\\\"], \\\"genre_label\\\"] = \\\"metal\\\"\\ntop_songs.loc[top_songs[\\\"country\\\"], \\\"genre_label\\\"] = \\\"country\\\"\\n\\ntop_songs[\\\"genre_label\\\"].value_counts()\";\n",
       "                var nbb_formatted_code = \"top_songs.loc[top_songs[\\\"pop\\\"], \\\"genre_label\\\"] = \\\"pop\\\"\\ntop_songs.loc[top_songs[\\\"rap\\\"] | top_songs[\\\"hip hop\\\"], \\\"genre_label\\\"] = \\\"rap_hiphop\\\"\\ntop_songs.loc[top_songs[\\\"metal\\\"], \\\"genre_label\\\"] = \\\"metal\\\"\\ntop_songs.loc[top_songs[\\\"country\\\"], \\\"genre_label\\\"] = \\\"country\\\"\\n\\ntop_songs[\\\"genre_label\\\"].value_counts()\";\n",
       "                var nbb_cells = Jupyter.notebook.get_cells();\n",
       "                for (var i = 0; i < nbb_cells.length; ++i) {\n",
       "                    if (nbb_cells[i].input_prompt_number == nbb_cell_id) {\n",
       "                        if (nbb_cells[i].get_text() == nbb_unformatted_code) {\n",
       "                             nbb_cells[i].set_text(nbb_formatted_code);\n",
       "                        }\n",
       "                        break;\n",
       "                    }\n",
       "                }\n",
       "            }, 500);\n",
       "            "
      ],
      "text/plain": [
       "<IPython.core.display.Javascript object>"
      ]
     },
     "metadata": {},
     "output_type": "display_data"
    }
   ],
   "source": [
    "top_songs.loc[top_songs[\"pop\"], \"genre_label\"] = \"pop\"\n",
    "top_songs.loc[top_songs[\"rap\"] | top_songs[\"hip hop\"], \"genre_label\"] = \"rap_hiphop\"\n",
    "top_songs.loc[top_songs[\"metal\"], \"genre_label\"] = \"metal\"\n",
    "top_songs.loc[top_songs[\"country\"], \"genre_label\"] = \"country\"\n",
    "\n",
    "top_songs[\"genre_label\"].value_counts()"
   ]
  },
  {
   "cell_type": "markdown",
   "metadata": {},
   "source": [
    "# Split the top songs by genre.  These violin plots are interesting because they show:\n",
    "\n",
    "* There were very few 'explicit' songs before 1990\n",
    "* Rap and hip-hop became popular right after the PMRC was formed in 1985\n",
    "* Rap has many more explicit songs than not explicit songs"
   ]
  },
  {
   "cell_type": "code",
   "execution_count": 30,
   "metadata": {},
   "outputs": [
    {
     "data": {
      "application/javascript": [
       "\n",
       "            setTimeout(function() {\n",
       "                var nbb_cell_id = 30;\n",
       "                var nbb_unformatted_code = \"pop = top_songs[top_songs[\\\"genre_label\\\"] == \\\"pop\\\"]\\nrap_hiphop = top_songs[top_songs[\\\"genre_label\\\"] == \\\"rap_hiphop\\\"]\\ncountry = top_songs[top_songs[\\\"genre_label\\\"] == \\\"country\\\"]\\nmetal = top_songs[top_songs[\\\"genre_label\\\"] == \\\"metal\\\"]\";\n",
       "                var nbb_formatted_code = \"pop = top_songs[top_songs[\\\"genre_label\\\"] == \\\"pop\\\"]\\nrap_hiphop = top_songs[top_songs[\\\"genre_label\\\"] == \\\"rap_hiphop\\\"]\\ncountry = top_songs[top_songs[\\\"genre_label\\\"] == \\\"country\\\"]\\nmetal = top_songs[top_songs[\\\"genre_label\\\"] == \\\"metal\\\"]\";\n",
       "                var nbb_cells = Jupyter.notebook.get_cells();\n",
       "                for (var i = 0; i < nbb_cells.length; ++i) {\n",
       "                    if (nbb_cells[i].input_prompt_number == nbb_cell_id) {\n",
       "                        if (nbb_cells[i].get_text() == nbb_unformatted_code) {\n",
       "                             nbb_cells[i].set_text(nbb_formatted_code);\n",
       "                        }\n",
       "                        break;\n",
       "                    }\n",
       "                }\n",
       "            }, 500);\n",
       "            "
      ],
      "text/plain": [
       "<IPython.core.display.Javascript object>"
      ]
     },
     "metadata": {},
     "output_type": "display_data"
    }
   ],
   "source": [
    "pop = top_songs[top_songs[\"genre_label\"] == \"pop\"]\n",
    "rap_hiphop = top_songs[top_songs[\"genre_label\"] == \"rap_hiphop\"]\n",
    "country = top_songs[top_songs[\"genre_label\"] == \"country\"]\n",
    "metal = top_songs[top_songs[\"genre_label\"] == \"metal\"]"
   ]
  },
  {
   "cell_type": "code",
   "execution_count": 31,
   "metadata": {},
   "outputs": [
    {
     "data": {
      "image/png": "[encoded data removed]",
      "text/plain": [
       "<Figure size 432x288 with 1 Axes>"
      ]
     },
     "metadata": {
      "needs_background": "light"
     },
     "output_type": "display_data"
    },
    {
     "data": {
      "application/javascript": [
       "\n",
       "            setTimeout(function() {\n",
       "                var nbb_cell_id = 31;\n",
       "                var nbb_unformatted_code = \"ax = sns.violinplot(x=\\\"explicit\\\", y=\\\"year\\\", data=top_songs)\\nax.set_xticklabels([\\\"Not Explicit\\\", \\\"Explicit\\\"])\\nax.set_xlabel(\\\"\\\")\\nplt.savefig(\\\"violin_expl.png\\\")\\nplt.show()\";\n",
       "                var nbb_formatted_code = \"ax = sns.violinplot(x=\\\"explicit\\\", y=\\\"year\\\", data=top_songs)\\nax.set_xticklabels([\\\"Not Explicit\\\", \\\"Explicit\\\"])\\nax.set_xlabel(\\\"\\\")\\nplt.savefig(\\\"violin_expl.png\\\")\\nplt.show()\";\n",
       "                var nbb_cells = Jupyter.notebook.get_cells();\n",
       "                for (var i = 0; i < nbb_cells.length; ++i) {\n",
       "                    if (nbb_cells[i].input_prompt_number == nbb_cell_id) {\n",
       "                        if (nbb_cells[i].get_text() == nbb_unformatted_code) {\n",
       "                             nbb_cells[i].set_text(nbb_formatted_code);\n",
       "                        }\n",
       "                        break;\n",
       "                    }\n",
       "                }\n",
       "            }, 500);\n",
       "            "
      ],
      "text/plain": [
       "<IPython.core.display.Javascript object>"
      ]
     },
     "metadata": {},
     "output_type": "display_data"
    }
   ],
   "source": [
    "ax = sns.violinplot(x=\"explicit\", y=\"year\", data=top_songs)\n",
    "ax.set_xticklabels([\"Not Explicit\", \"Explicit\"])\n",
    "ax.set_xlabel(\"\")\n",
    "plt.savefig(\"violin_expl.png\")\n",
    "plt.show()"
   ]
  },
  {
   "cell_type": "code",
   "execution_count": 32,
   "metadata": {},
   "outputs": [
    {
     "data": {
      "image/png": "[encoded data removed]",
      "text/plain": [
       "<Figure size 432x288 with 1 Axes>"
      ]
     },
     "metadata": {
      "needs_background": "light"
     },
     "output_type": "display_data"
    },
    {
     "data": {
      "application/javascript": [
       "\n",
       "            setTimeout(function() {\n",
       "                var nbb_cell_id = 32;\n",
       "                var nbb_unformatted_code = \"ax = sns.violinplot(x=\\\"genre_label\\\", y=\\\"year\\\", data=top_songs)\\nax.set_xticklabels([\\\"Pop\\\", \\\"Rap/Hip-Hop\\\", \\\"Country\\\", \\\"Heavy Metal\\\"])\\nax.set_xlabel(\\\"\\\")\\nplt.savefig(\\\"violin_genre.png\\\")\\nplt.show()\";\n",
       "                var nbb_formatted_code = \"ax = sns.violinplot(x=\\\"genre_label\\\", y=\\\"year\\\", data=top_songs)\\nax.set_xticklabels([\\\"Pop\\\", \\\"Rap/Hip-Hop\\\", \\\"Country\\\", \\\"Heavy Metal\\\"])\\nax.set_xlabel(\\\"\\\")\\nplt.savefig(\\\"violin_genre.png\\\")\\nplt.show()\";\n",
       "                var nbb_cells = Jupyter.notebook.get_cells();\n",
       "                for (var i = 0; i < nbb_cells.length; ++i) {\n",
       "                    if (nbb_cells[i].input_prompt_number == nbb_cell_id) {\n",
       "                        if (nbb_cells[i].get_text() == nbb_unformatted_code) {\n",
       "                             nbb_cells[i].set_text(nbb_formatted_code);\n",
       "                        }\n",
       "                        break;\n",
       "                    }\n",
       "                }\n",
       "            }, 500);\n",
       "            "
      ],
      "text/plain": [
       "<IPython.core.display.Javascript object>"
      ]
     },
     "metadata": {},
     "output_type": "display_data"
    }
   ],
   "source": [
    "ax = sns.violinplot(x=\"genre_label\", y=\"year\", data=top_songs)\n",
    "ax.set_xticklabels([\"Pop\", \"Rap/Hip-Hop\", \"Country\", \"Heavy Metal\"])\n",
    "ax.set_xlabel(\"\")\n",
    "plt.savefig(\"violin_genre.png\")\n",
    "plt.show()"
   ]
  },
  {
   "cell_type": "code",
   "execution_count": 33,
   "metadata": {},
   "outputs": [
    {
     "name": "stderr",
     "output_type": "stream",
     "text": [
      "C:\\Users\\Steve\\anaconda3\\lib\\site-packages\\numpy\\lib\\histograms.py:839: RuntimeWarning: invalid value encountered in greater_equal\n",
      "  keep = (tmp_a >= first_edge)\n",
      "C:\\Users\\Steve\\anaconda3\\lib\\site-packages\\numpy\\lib\\histograms.py:840: RuntimeWarning: invalid value encountered in less_equal\n",
      "  keep &= (tmp_a <= last_edge)\n"
     ]
    },
    {
     "data": {
      "text/plain": [
       "[]"
      ]
     },
     "execution_count": 33,
     "metadata": {},
     "output_type": "execute_result"
    },
    {
     "data": {
      "image/png": "[encoded data removed]",
      "text/plain": [
       "<Figure size 432x288 with 1 Axes>"
      ]
     },
     "metadata": {
      "needs_background": "light"
     },
     "output_type": "display_data"
    },
    {
     "data": {
      "application/javascript": [
       "\n",
       "            setTimeout(function() {\n",
       "                var nbb_cell_id = 33;\n",
       "                var nbb_unformatted_code = \"plt.hist(pop[\\\"explicit\\\"], label=\\\"pop\\\")\\nplt.hist(rap_hiphop[\\\"explicit\\\"], label=\\\"rap/hip hop\\\")\\nplt.hist(country[\\\"explicit\\\"], label=\\\"country\\\")\\nplt.hist(metal[\\\"explicit\\\"], label=\\\"metal\\\")\\nplt.legend()\\nplt.plot()\";\n",
       "                var nbb_formatted_code = \"plt.hist(pop[\\\"explicit\\\"], label=\\\"pop\\\")\\nplt.hist(rap_hiphop[\\\"explicit\\\"], label=\\\"rap/hip hop\\\")\\nplt.hist(country[\\\"explicit\\\"], label=\\\"country\\\")\\nplt.hist(metal[\\\"explicit\\\"], label=\\\"metal\\\")\\nplt.legend()\\nplt.plot()\";\n",
       "                var nbb_cells = Jupyter.notebook.get_cells();\n",
       "                for (var i = 0; i < nbb_cells.length; ++i) {\n",
       "                    if (nbb_cells[i].input_prompt_number == nbb_cell_id) {\n",
       "                        if (nbb_cells[i].get_text() == nbb_unformatted_code) {\n",
       "                             nbb_cells[i].set_text(nbb_formatted_code);\n",
       "                        }\n",
       "                        break;\n",
       "                    }\n",
       "                }\n",
       "            }, 500);\n",
       "            "
      ],
      "text/plain": [
       "<IPython.core.display.Javascript object>"
      ]
     },
     "metadata": {},
     "output_type": "display_data"
    }
   ],
   "source": [
    "plt.hist(pop[\"explicit\"], label=\"pop\")\n",
    "plt.hist(rap_hiphop[\"explicit\"], label=\"rap/hip hop\")\n",
    "plt.hist(country[\"explicit\"], label=\"country\")\n",
    "plt.hist(metal[\"explicit\"], label=\"metal\")\n",
    "plt.legend()\n",
    "plt.plot()"
   ]
  },
  {
   "cell_type": "markdown",
   "metadata": {},
   "source": [
    "## ANOVA Assumption Check - Popularity by genre \n",
    "### The week position is the mean of all the weekly Hot 100 positions of each song."
   ]
  },
  {
   "cell_type": "code",
   "execution_count": 34,
   "metadata": {},
   "outputs": [
    {
     "data": {
      "image/png": "[encoded data removed]",
      "text/plain": [
       "<Figure size 432x288 with 1 Axes>"
      ]
     },
     "metadata": {
      "needs_background": "light"
     },
     "output_type": "display_data"
    },
    {
     "data": {
      "application/javascript": [
       "\n",
       "            setTimeout(function() {\n",
       "                var nbb_cell_id = 34;\n",
       "                var nbb_unformatted_code = \"qqplot(rap_hiphop[\\\"week_pos\\\"], line=\\\"s\\\")\\nplt.show()\";\n",
       "                var nbb_formatted_code = \"qqplot(rap_hiphop[\\\"week_pos\\\"], line=\\\"s\\\")\\nplt.show()\";\n",
       "                var nbb_cells = Jupyter.notebook.get_cells();\n",
       "                for (var i = 0; i < nbb_cells.length; ++i) {\n",
       "                    if (nbb_cells[i].input_prompt_number == nbb_cell_id) {\n",
       "                        if (nbb_cells[i].get_text() == nbb_unformatted_code) {\n",
       "                             nbb_cells[i].set_text(nbb_formatted_code);\n",
       "                        }\n",
       "                        break;\n",
       "                    }\n",
       "                }\n",
       "            }, 500);\n",
       "            "
      ],
      "text/plain": [
       "<IPython.core.display.Javascript object>"
      ]
     },
     "metadata": {},
     "output_type": "display_data"
    }
   ],
   "source": [
    "qqplot(rap_hiphop[\"week_pos\"], line=\"s\")\n",
    "plt.show()"
   ]
  },
  {
   "cell_type": "code",
   "execution_count": 35,
   "metadata": {},
   "outputs": [
    {
     "data": {
      "image/png": "[encoded data removed]",
      "text/plain": [
       "<Figure size 432x288 with 1 Axes>"
      ]
     },
     "metadata": {
      "needs_background": "light"
     },
     "output_type": "display_data"
    },
    {
     "data": {
      "application/javascript": [
       "\n",
       "            setTimeout(function() {\n",
       "                var nbb_cell_id = 35;\n",
       "                var nbb_unformatted_code = \"qqplot(metal[\\\"week_pos\\\"], line=\\\"s\\\")\\nplt.show()\";\n",
       "                var nbb_formatted_code = \"qqplot(metal[\\\"week_pos\\\"], line=\\\"s\\\")\\nplt.show()\";\n",
       "                var nbb_cells = Jupyter.notebook.get_cells();\n",
       "                for (var i = 0; i < nbb_cells.length; ++i) {\n",
       "                    if (nbb_cells[i].input_prompt_number == nbb_cell_id) {\n",
       "                        if (nbb_cells[i].get_text() == nbb_unformatted_code) {\n",
       "                             nbb_cells[i].set_text(nbb_formatted_code);\n",
       "                        }\n",
       "                        break;\n",
       "                    }\n",
       "                }\n",
       "            }, 500);\n",
       "            "
      ],
      "text/plain": [
       "<IPython.core.display.Javascript object>"
      ]
     },
     "metadata": {},
     "output_type": "display_data"
    }
   ],
   "source": [
    "qqplot(metal[\"week_pos\"], line=\"s\")\n",
    "plt.show()"
   ]
  },
  {
   "cell_type": "code",
   "execution_count": 36,
   "metadata": {},
   "outputs": [
    {
     "data": {
      "image/png": "[encoded data removed]",
      "text/plain": [
       "<Figure size 432x288 with 1 Axes>"
      ]
     },
     "metadata": {
      "needs_background": "light"
     },
     "output_type": "display_data"
    },
    {
     "data": {
      "application/javascript": [
       "\n",
       "            setTimeout(function() {\n",
       "                var nbb_cell_id = 36;\n",
       "                var nbb_unformatted_code = \"qqplot(country[\\\"week_pos\\\"], line=\\\"s\\\")\\nplt.show()\";\n",
       "                var nbb_formatted_code = \"qqplot(country[\\\"week_pos\\\"], line=\\\"s\\\")\\nplt.show()\";\n",
       "                var nbb_cells = Jupyter.notebook.get_cells();\n",
       "                for (var i = 0; i < nbb_cells.length; ++i) {\n",
       "                    if (nbb_cells[i].input_prompt_number == nbb_cell_id) {\n",
       "                        if (nbb_cells[i].get_text() == nbb_unformatted_code) {\n",
       "                             nbb_cells[i].set_text(nbb_formatted_code);\n",
       "                        }\n",
       "                        break;\n",
       "                    }\n",
       "                }\n",
       "            }, 500);\n",
       "            "
      ],
      "text/plain": [
       "<IPython.core.display.Javascript object>"
      ]
     },
     "metadata": {},
     "output_type": "display_data"
    }
   ],
   "source": [
    "qqplot(country[\"week_pos\"], line=\"s\")\n",
    "plt.show()"
   ]
  },
  {
   "cell_type": "code",
   "execution_count": 37,
   "metadata": {
    "scrolled": true
   },
   "outputs": [
    {
     "data": {
      "image/png": "[encoded data removed]",
      "text/plain": [
       "<Figure size 432x288 with 1 Axes>"
      ]
     },
     "metadata": {
      "needs_background": "light"
     },
     "output_type": "display_data"
    },
    {
     "data": {
      "application/javascript": [
       "\n",
       "            setTimeout(function() {\n",
       "                var nbb_cell_id = 37;\n",
       "                var nbb_unformatted_code = \"qqplot(pop[\\\"week_pos\\\"], line=\\\"s\\\")\\nplt.show()\";\n",
       "                var nbb_formatted_code = \"qqplot(pop[\\\"week_pos\\\"], line=\\\"s\\\")\\nplt.show()\";\n",
       "                var nbb_cells = Jupyter.notebook.get_cells();\n",
       "                for (var i = 0; i < nbb_cells.length; ++i) {\n",
       "                    if (nbb_cells[i].input_prompt_number == nbb_cell_id) {\n",
       "                        if (nbb_cells[i].get_text() == nbb_unformatted_code) {\n",
       "                             nbb_cells[i].set_text(nbb_formatted_code);\n",
       "                        }\n",
       "                        break;\n",
       "                    }\n",
       "                }\n",
       "            }, 500);\n",
       "            "
      ],
      "text/plain": [
       "<IPython.core.display.Javascript object>"
      ]
     },
     "metadata": {},
     "output_type": "display_data"
    }
   ],
   "source": [
    "qqplot(pop[\"week_pos\"], line=\"s\")\n",
    "plt.show()"
   ]
  },
  {
   "cell_type": "markdown",
   "metadata": {},
   "source": [
    "# These plots show the data is not normalized, so I will perform the non-perimetric tests"
   ]
  },
  {
   "cell_type": "markdown",
   "metadata": {},
   "source": [
    "\n",
    "## Kruskal Wallis test - Popularity by genre"
   ]
  },
  {
   "cell_type": "code",
   "execution_count": 38,
   "metadata": {},
   "outputs": [
    {
     "data": {
      "text/plain": [
       "[]"
      ]
     },
     "execution_count": 38,
     "metadata": {},
     "output_type": "execute_result"
    },
    {
     "data": {
      "image/png": "[encoded data removed]",
      "text/plain": [
       "<Figure size 432x288 with 1 Axes>"
      ]
     },
     "metadata": {
      "needs_background": "light"
     },
     "output_type": "display_data"
    },
    {
     "data": {
      "application/javascript": [
       "\n",
       "            setTimeout(function() {\n",
       "                var nbb_cell_id = 38;\n",
       "                var nbb_unformatted_code = \"plt.hist(pop[\\\"week_pos\\\"], label=\\\"pop\\\")\\nplt.hist(rap_hiphop[\\\"week_pos\\\"], label=\\\"rap/hip hop\\\")\\nplt.hist(country[\\\"week_pos\\\"], label=\\\"country\\\")\\nplt.hist(metal[\\\"week_pos\\\"], label=\\\"metal\\\")\\nplt.xlabel(\\\"Hot 100 Ranking\\\")\\nplt.ylabel(\\\"# of Songs\\\")\\nplt.legend()\\nplt.savefig(\\\"hist_genre.png\\\")\\nplt.plot()\";\n",
       "                var nbb_formatted_code = \"plt.hist(pop[\\\"week_pos\\\"], label=\\\"pop\\\")\\nplt.hist(rap_hiphop[\\\"week_pos\\\"], label=\\\"rap/hip hop\\\")\\nplt.hist(country[\\\"week_pos\\\"], label=\\\"country\\\")\\nplt.hist(metal[\\\"week_pos\\\"], label=\\\"metal\\\")\\nplt.xlabel(\\\"Hot 100 Ranking\\\")\\nplt.ylabel(\\\"# of Songs\\\")\\nplt.legend()\\nplt.savefig(\\\"hist_genre.png\\\")\\nplt.plot()\";\n",
       "                var nbb_cells = Jupyter.notebook.get_cells();\n",
       "                for (var i = 0; i < nbb_cells.length; ++i) {\n",
       "                    if (nbb_cells[i].input_prompt_number == nbb_cell_id) {\n",
       "                        if (nbb_cells[i].get_text() == nbb_unformatted_code) {\n",
       "                             nbb_cells[i].set_text(nbb_formatted_code);\n",
       "                        }\n",
       "                        break;\n",
       "                    }\n",
       "                }\n",
       "            }, 500);\n",
       "            "
      ],
      "text/plain": [
       "<IPython.core.display.Javascript object>"
      ]
     },
     "metadata": {},
     "output_type": "display_data"
    }
   ],
   "source": [
    "plt.hist(pop[\"week_pos\"], label=\"pop\")\n",
    "plt.hist(rap_hiphop[\"week_pos\"], label=\"rap/hip hop\")\n",
    "plt.hist(country[\"week_pos\"], label=\"country\")\n",
    "plt.hist(metal[\"week_pos\"], label=\"metal\")\n",
    "plt.xlabel(\"Hot 100 Ranking\")\n",
    "plt.ylabel(\"# of Songs\")\n",
    "plt.legend()\n",
    "plt.savefig(\"hist_genre.png\")\n",
    "plt.plot()"
   ]
  },
  {
   "cell_type": "markdown",
   "metadata": {},
   "source": [
    "# This plot further shows the data is not normalized, so I will perform the non-perimetric tests"
   ]
  },
  {
   "cell_type": "code",
   "execution_count": 39,
   "metadata": {},
   "outputs": [
    {
     "data": {
      "text/plain": [
       "1.753006111660896e-102"
      ]
     },
     "execution_count": 39,
     "metadata": {},
     "output_type": "execute_result"
    },
    {
     "data": {
      "application/javascript": [
       "\n",
       "            setTimeout(function() {\n",
       "                var nbb_cell_id = 39;\n",
       "                var nbb_unformatted_code = \"_, p = stats.kruskal(\\n    pop[\\\"week_pos\\\"], rap_hiphop[\\\"week_pos\\\"], country[\\\"week_pos\\\"], metal[\\\"week_pos\\\"]\\n)\\np\";\n",
       "                var nbb_formatted_code = \"_, p = stats.kruskal(\\n    pop[\\\"week_pos\\\"], rap_hiphop[\\\"week_pos\\\"], country[\\\"week_pos\\\"], metal[\\\"week_pos\\\"]\\n)\\np\";\n",
       "                var nbb_cells = Jupyter.notebook.get_cells();\n",
       "                for (var i = 0; i < nbb_cells.length; ++i) {\n",
       "                    if (nbb_cells[i].input_prompt_number == nbb_cell_id) {\n",
       "                        if (nbb_cells[i].get_text() == nbb_unformatted_code) {\n",
       "                             nbb_cells[i].set_text(nbb_formatted_code);\n",
       "                        }\n",
       "                        break;\n",
       "                    }\n",
       "                }\n",
       "            }, 500);\n",
       "            "
      ],
      "text/plain": [
       "<IPython.core.display.Javascript object>"
      ]
     },
     "metadata": {},
     "output_type": "display_data"
    }
   ],
   "source": [
    "_, p = stats.kruskal(\n",
    "    pop[\"week_pos\"], rap_hiphop[\"week_pos\"], country[\"week_pos\"], metal[\"week_pos\"]\n",
    ")\n",
    "p"
   ]
  },
  {
   "cell_type": "markdown",
   "metadata": {},
   "source": [
    "## At least one median between the is genres is different"
   ]
  },
  {
   "cell_type": "code",
   "execution_count": 40,
   "metadata": {},
   "outputs": [
    {
     "data": {
      "application/javascript": [
       "\n",
       "            setTimeout(function() {\n",
       "                var nbb_cell_id = 40;\n",
       "                var nbb_unformatted_code = \"_, p1 = stats.mannwhitneyu(pop[\\\"week_pos\\\"], rap_hiphop[\\\"week_pos\\\"])\\n_, p2 = stats.mannwhitneyu(pop[\\\"week_pos\\\"], country[\\\"week_pos\\\"])\\n_, p3 = stats.mannwhitneyu(pop[\\\"week_pos\\\"], metal[\\\"week_pos\\\"])\\n_, p4 = stats.mannwhitneyu(rap_hiphop[\\\"week_pos\\\"], country[\\\"week_pos\\\"])\\n_, p5 = stats.mannwhitneyu(rap_hiphop[\\\"week_pos\\\"], metal[\\\"week_pos\\\"])\\n_, p6 = stats.mannwhitneyu(country[\\\"week_pos\\\"], metal[\\\"week_pos\\\"])\\n\\n\\np_values = [p1, p2, p3, p4, p5, p6]\\nreject, corr_p, sidak, bonf = multipletests(p_values, alpha=0.05)\";\n",
       "                var nbb_formatted_code = \"_, p1 = stats.mannwhitneyu(pop[\\\"week_pos\\\"], rap_hiphop[\\\"week_pos\\\"])\\n_, p2 = stats.mannwhitneyu(pop[\\\"week_pos\\\"], country[\\\"week_pos\\\"])\\n_, p3 = stats.mannwhitneyu(pop[\\\"week_pos\\\"], metal[\\\"week_pos\\\"])\\n_, p4 = stats.mannwhitneyu(rap_hiphop[\\\"week_pos\\\"], country[\\\"week_pos\\\"])\\n_, p5 = stats.mannwhitneyu(rap_hiphop[\\\"week_pos\\\"], metal[\\\"week_pos\\\"])\\n_, p6 = stats.mannwhitneyu(country[\\\"week_pos\\\"], metal[\\\"week_pos\\\"])\\n\\n\\np_values = [p1, p2, p3, p4, p5, p6]\\nreject, corr_p, sidak, bonf = multipletests(p_values, alpha=0.05)\";\n",
       "                var nbb_cells = Jupyter.notebook.get_cells();\n",
       "                for (var i = 0; i < nbb_cells.length; ++i) {\n",
       "                    if (nbb_cells[i].input_prompt_number == nbb_cell_id) {\n",
       "                        if (nbb_cells[i].get_text() == nbb_unformatted_code) {\n",
       "                             nbb_cells[i].set_text(nbb_formatted_code);\n",
       "                        }\n",
       "                        break;\n",
       "                    }\n",
       "                }\n",
       "            }, 500);\n",
       "            "
      ],
      "text/plain": [
       "<IPython.core.display.Javascript object>"
      ]
     },
     "metadata": {},
     "output_type": "display_data"
    }
   ],
   "source": [
    "_, p1 = stats.mannwhitneyu(pop[\"week_pos\"], rap_hiphop[\"week_pos\"])\n",
    "_, p2 = stats.mannwhitneyu(pop[\"week_pos\"], country[\"week_pos\"])\n",
    "_, p3 = stats.mannwhitneyu(pop[\"week_pos\"], metal[\"week_pos\"])\n",
    "_, p4 = stats.mannwhitneyu(rap_hiphop[\"week_pos\"], country[\"week_pos\"])\n",
    "_, p5 = stats.mannwhitneyu(rap_hiphop[\"week_pos\"], metal[\"week_pos\"])\n",
    "_, p6 = stats.mannwhitneyu(country[\"week_pos\"], metal[\"week_pos\"])\n",
    "\n",
    "\n",
    "p_values = [p1, p2, p3, p4, p5, p6]\n",
    "reject, corr_p, sidak, bonf = multipletests(p_values, alpha=0.05)"
   ]
  },
  {
   "cell_type": "code",
   "execution_count": 41,
   "metadata": {},
   "outputs": [
    {
     "data": {
      "text/plain": [
       "array([ True,  True,  True,  True,  True, False])"
      ]
     },
     "execution_count": 41,
     "metadata": {},
     "output_type": "execute_result"
    },
    {
     "data": {
      "application/javascript": [
       "\n",
       "            setTimeout(function() {\n",
       "                var nbb_cell_id = 41;\n",
       "                var nbb_unformatted_code = \"reject\";\n",
       "                var nbb_formatted_code = \"reject\";\n",
       "                var nbb_cells = Jupyter.notebook.get_cells();\n",
       "                for (var i = 0; i < nbb_cells.length; ++i) {\n",
       "                    if (nbb_cells[i].input_prompt_number == nbb_cell_id) {\n",
       "                        if (nbb_cells[i].get_text() == nbb_unformatted_code) {\n",
       "                             nbb_cells[i].set_text(nbb_formatted_code);\n",
       "                        }\n",
       "                        break;\n",
       "                    }\n",
       "                }\n",
       "            }, 500);\n",
       "            "
      ],
      "text/plain": [
       "<IPython.core.display.Javascript object>"
      ]
     },
     "metadata": {},
     "output_type": "display_data"
    }
   ],
   "source": [
    "reject"
   ]
  },
  {
   "cell_type": "code",
   "execution_count": 42,
   "metadata": {},
   "outputs": [
    {
     "data": {
      "text/plain": [
       "array([4.82947016e-14, 0.00000000e+00, 0.00000000e+00, 0.00000000e+00,\n",
       "       1.29012820e-07, 1.26633124e-01])"
      ]
     },
     "execution_count": 42,
     "metadata": {},
     "output_type": "execute_result"
    },
    {
     "data": {
      "application/javascript": [
       "\n",
       "            setTimeout(function() {\n",
       "                var nbb_cell_id = 42;\n",
       "                var nbb_unformatted_code = \"corr_p\";\n",
       "                var nbb_formatted_code = \"corr_p\";\n",
       "                var nbb_cells = Jupyter.notebook.get_cells();\n",
       "                for (var i = 0; i < nbb_cells.length; ++i) {\n",
       "                    if (nbb_cells[i].input_prompt_number == nbb_cell_id) {\n",
       "                        if (nbb_cells[i].get_text() == nbb_unformatted_code) {\n",
       "                             nbb_cells[i].set_text(nbb_formatted_code);\n",
       "                        }\n",
       "                        break;\n",
       "                    }\n",
       "                }\n",
       "            }, 500);\n",
       "            "
      ],
      "text/plain": [
       "<IPython.core.display.Javascript object>"
      ]
     },
     "metadata": {},
     "output_type": "display_data"
    }
   ],
   "source": [
    "corr_p"
   ]
  },
  {
   "cell_type": "code",
   "execution_count": 43,
   "metadata": {},
   "outputs": [
    {
     "data": {
      "text/plain": [
       "0.008512444610847103"
      ]
     },
     "execution_count": 43,
     "metadata": {},
     "output_type": "execute_result"
    },
    {
     "data": {
      "application/javascript": [
       "\n",
       "            setTimeout(function() {\n",
       "                var nbb_cell_id = 43;\n",
       "                var nbb_unformatted_code = \"sidak\";\n",
       "                var nbb_formatted_code = \"sidak\";\n",
       "                var nbb_cells = Jupyter.notebook.get_cells();\n",
       "                for (var i = 0; i < nbb_cells.length; ++i) {\n",
       "                    if (nbb_cells[i].input_prompt_number == nbb_cell_id) {\n",
       "                        if (nbb_cells[i].get_text() == nbb_unformatted_code) {\n",
       "                             nbb_cells[i].set_text(nbb_formatted_code);\n",
       "                        }\n",
       "                        break;\n",
       "                    }\n",
       "                }\n",
       "            }, 500);\n",
       "            "
      ],
      "text/plain": [
       "<IPython.core.display.Javascript object>"
      ]
     },
     "metadata": {},
     "output_type": "display_data"
    }
   ],
   "source": [
    "sidak"
   ]
  },
  {
   "cell_type": "code",
   "execution_count": 44,
   "metadata": {},
   "outputs": [
    {
     "data": {
      "text/plain": [
       "0.008333333333333333"
      ]
     },
     "execution_count": 44,
     "metadata": {},
     "output_type": "execute_result"
    },
    {
     "data": {
      "application/javascript": [
       "\n",
       "            setTimeout(function() {\n",
       "                var nbb_cell_id = 44;\n",
       "                var nbb_unformatted_code = \"bonf\";\n",
       "                var nbb_formatted_code = \"bonf\";\n",
       "                var nbb_cells = Jupyter.notebook.get_cells();\n",
       "                for (var i = 0; i < nbb_cells.length; ++i) {\n",
       "                    if (nbb_cells[i].input_prompt_number == nbb_cell_id) {\n",
       "                        if (nbb_cells[i].get_text() == nbb_unformatted_code) {\n",
       "                             nbb_cells[i].set_text(nbb_formatted_code);\n",
       "                        }\n",
       "                        break;\n",
       "                    }\n",
       "                }\n",
       "            }, 500);\n",
       "            "
      ],
      "text/plain": [
       "<IPython.core.display.Javascript object>"
      ]
     },
     "metadata": {},
     "output_type": "display_data"
    }
   ],
   "source": [
    "bonf"
   ]
  },
  {
   "cell_type": "markdown",
   "metadata": {},
   "source": [
    "## Based on our analysis we found:\n",
    "\n",
    "* The mean rank of at least one of our samples is significantly different than the others\n",
    "* There is a significant difference in mean rank between the popularity of pop and rap/hip-hop\n",
    "* There is a significant difference in mean rank between the popularity of rap/hip-hop and metal"
   ]
  },
  {
   "cell_type": "markdown",
   "metadata": {},
   "source": [
    "## ANOVA Assumption Check - Explicit vs not explicit by year"
   ]
  },
  {
   "cell_type": "code",
   "execution_count": 45,
   "metadata": {},
   "outputs": [
    {
     "data": {
      "image/png": "[encoded data removed]",
      "text/plain": [
       "<Figure size 432x288 with 1 Axes>"
      ]
     },
     "metadata": {
      "needs_background": "light"
     },
     "output_type": "display_data"
    },
    {
     "data": {
      "application/javascript": [
       "\n",
       "            setTimeout(function() {\n",
       "                var nbb_cell_id = 45;\n",
       "                var nbb_unformatted_code = \"sns.violinplot(x=\\\"explicit\\\", y=\\\"year\\\", data=top_songs)\\nplt.show()\";\n",
       "                var nbb_formatted_code = \"sns.violinplot(x=\\\"explicit\\\", y=\\\"year\\\", data=top_songs)\\nplt.show()\";\n",
       "                var nbb_cells = Jupyter.notebook.get_cells();\n",
       "                for (var i = 0; i < nbb_cells.length; ++i) {\n",
       "                    if (nbb_cells[i].input_prompt_number == nbb_cell_id) {\n",
       "                        if (nbb_cells[i].get_text() == nbb_unformatted_code) {\n",
       "                             nbb_cells[i].set_text(nbb_formatted_code);\n",
       "                        }\n",
       "                        break;\n",
       "                    }\n",
       "                }\n",
       "            }, 500);\n",
       "            "
      ],
      "text/plain": [
       "<IPython.core.display.Javascript object>"
      ]
     },
     "metadata": {},
     "output_type": "display_data"
    }
   ],
   "source": [
    "sns.violinplot(x=\"explicit\", y=\"year\", data=top_songs)\n",
    "plt.show()"
   ]
  },
  {
   "cell_type": "code",
   "execution_count": 46,
   "metadata": {},
   "outputs": [
    {
     "data": {
      "text/plain": [
       "0.0    16776\n",
       "1.0     1920\n",
       "Name: explicit, dtype: int64"
      ]
     },
     "execution_count": 46,
     "metadata": {},
     "output_type": "execute_result"
    },
    {
     "data": {
      "application/javascript": [
       "\n",
       "            setTimeout(function() {\n",
       "                var nbb_cell_id = 46;\n",
       "                var nbb_unformatted_code = \"top_songs[\\\"explicit\\\"].value_counts()\";\n",
       "                var nbb_formatted_code = \"top_songs[\\\"explicit\\\"].value_counts()\";\n",
       "                var nbb_cells = Jupyter.notebook.get_cells();\n",
       "                for (var i = 0; i < nbb_cells.length; ++i) {\n",
       "                    if (nbb_cells[i].input_prompt_number == nbb_cell_id) {\n",
       "                        if (nbb_cells[i].get_text() == nbb_unformatted_code) {\n",
       "                             nbb_cells[i].set_text(nbb_formatted_code);\n",
       "                        }\n",
       "                        break;\n",
       "                    }\n",
       "                }\n",
       "            }, 500);\n",
       "            "
      ],
      "text/plain": [
       "<IPython.core.display.Javascript object>"
      ]
     },
     "metadata": {},
     "output_type": "display_data"
    }
   ],
   "source": [
    "top_songs[\"explicit\"].value_counts()"
   ]
  },
  {
   "cell_type": "markdown",
   "metadata": {},
   "source": [
    "### I added rap and hip-hop to the tests because it became popular right after the PMRC was formed in 1985"
   ]
  },
  {
   "cell_type": "code",
   "execution_count": 47,
   "metadata": {},
   "outputs": [
    {
     "data": {
      "application/javascript": [
       "\n",
       "            setTimeout(function() {\n",
       "                var nbb_cell_id = 47;\n",
       "                var nbb_unformatted_code = \"top_expl = top_songs[top_songs[\\\"explicit\\\"] == 1]\\ntop_not_expl = top_songs[top_songs[\\\"explicit\\\"] == 0]\\n\\nrap_hiphop_expl = rap_hiphop[rap_hiphop[\\\"explicit\\\"] == 1]\\nrap_hiphop_not_expl = rap_hiphop[rap_hiphop[\\\"explicit\\\"] == 0]\";\n",
       "                var nbb_formatted_code = \"top_expl = top_songs[top_songs[\\\"explicit\\\"] == 1]\\ntop_not_expl = top_songs[top_songs[\\\"explicit\\\"] == 0]\\n\\nrap_hiphop_expl = rap_hiphop[rap_hiphop[\\\"explicit\\\"] == 1]\\nrap_hiphop_not_expl = rap_hiphop[rap_hiphop[\\\"explicit\\\"] == 0]\";\n",
       "                var nbb_cells = Jupyter.notebook.get_cells();\n",
       "                for (var i = 0; i < nbb_cells.length; ++i) {\n",
       "                    if (nbb_cells[i].input_prompt_number == nbb_cell_id) {\n",
       "                        if (nbb_cells[i].get_text() == nbb_unformatted_code) {\n",
       "                             nbb_cells[i].set_text(nbb_formatted_code);\n",
       "                        }\n",
       "                        break;\n",
       "                    }\n",
       "                }\n",
       "            }, 500);\n",
       "            "
      ],
      "text/plain": [
       "<IPython.core.display.Javascript object>"
      ]
     },
     "metadata": {},
     "output_type": "display_data"
    }
   ],
   "source": [
    "top_expl = top_songs[top_songs[\"explicit\"] == 1]\n",
    "top_not_expl = top_songs[top_songs[\"explicit\"] == 0]\n",
    "\n",
    "rap_hiphop_expl = rap_hiphop[rap_hiphop[\"explicit\"] == 1]\n",
    "rap_hiphop_not_expl = rap_hiphop[rap_hiphop[\"explicit\"] == 0]"
   ]
  },
  {
   "cell_type": "code",
   "execution_count": 48,
   "metadata": {},
   "outputs": [
    {
     "data": {
      "text/html": [
       "<div>\n",
       "<style scoped>\n",
       "    .dataframe tbody tr th:only-of-type {\n",
       "        vertical-align: middle;\n",
       "    }\n",
       "\n",
       "    .dataframe tbody tr th {\n",
       "        vertical-align: top;\n",
       "    }\n",
       "\n",
       "    .dataframe thead th {\n",
       "        text-align: right;\n",
       "    }\n",
       "</style>\n",
       "<table border=\"1\" class=\"dataframe\">\n",
       "  <thead>\n",
       "    <tr style=\"text-align: right;\">\n",
       "      <th></th>\n",
       "      <th>song_id</th>\n",
       "      <th>genre_str</th>\n",
       "      <th>week_pos</th>\n",
       "      <th>instance</th>\n",
       "      <th>prev_week_pos</th>\n",
       "      <th>peak_pos</th>\n",
       "      <th>weeks_on_chart</th>\n",
       "      <th>explicit</th>\n",
       "      <th>year</th>\n",
       "      <th>month</th>\n",
       "      <th>rap</th>\n",
       "      <th>hip hop</th>\n",
       "      <th>metal</th>\n",
       "      <th>country</th>\n",
       "      <th>pop</th>\n",
       "      <th>genre_label</th>\n",
       "    </tr>\n",
       "  </thead>\n",
       "  <tbody>\n",
       "    <tr>\n",
       "      <th>9256</th>\n",
       "      <td>In A MomentThe Intrigues</td>\n",
       "      <td>[]</td>\n",
       "      <td>45.272727</td>\n",
       "      <td>1.0</td>\n",
       "      <td>48.363636</td>\n",
       "      <td>42.818182</td>\n",
       "      <td>9.0</td>\n",
       "      <td>1.0</td>\n",
       "      <td>1969.0</td>\n",
       "      <td>9.0</td>\n",
       "      <td>False</td>\n",
       "      <td>False</td>\n",
       "      <td>False</td>\n",
       "      <td>False</td>\n",
       "      <td>False</td>\n",
       "      <td>NaN</td>\n",
       "    </tr>\n",
       "    <tr>\n",
       "      <th>19589</th>\n",
       "      <td>Uncle John's BandThe Grateful Dead</td>\n",
       "      <td>['plunder']</td>\n",
       "      <td>71.000000</td>\n",
       "      <td>1.0</td>\n",
       "      <td>73.500000</td>\n",
       "      <td>71.000000</td>\n",
       "      <td>5.5</td>\n",
       "      <td>1.0</td>\n",
       "      <td>1970.0</td>\n",
       "      <td>9.0</td>\n",
       "      <td>False</td>\n",
       "      <td>False</td>\n",
       "      <td>False</td>\n",
       "      <td>False</td>\n",
       "      <td>False</td>\n",
       "      <td>NaN</td>\n",
       "    </tr>\n",
       "    <tr>\n",
       "      <th>9931</th>\n",
       "      <td>Jungle LoveThe Steve Miller Band</td>\n",
       "      <td>[]</td>\n",
       "      <td>39.666667</td>\n",
       "      <td>1.0</td>\n",
       "      <td>40.583333</td>\n",
       "      <td>32.250000</td>\n",
       "      <td>7.5</td>\n",
       "      <td>1.0</td>\n",
       "      <td>1977.0</td>\n",
       "      <td>9.0</td>\n",
       "      <td>False</td>\n",
       "      <td>False</td>\n",
       "      <td>False</td>\n",
       "      <td>False</td>\n",
       "      <td>False</td>\n",
       "      <td>NaN</td>\n",
       "    </tr>\n",
       "    <tr>\n",
       "      <th>9215</th>\n",
       "      <td>If You're Not Back In Love By MondayMillie Jac...</td>\n",
       "      <td>['classic soul', 'motown', 'quiet storm', 'sou...</td>\n",
       "      <td>50.666667</td>\n",
       "      <td>1.0</td>\n",
       "      <td>52.444444</td>\n",
       "      <td>48.444444</td>\n",
       "      <td>7.0</td>\n",
       "      <td>1.0</td>\n",
       "      <td>1977.0</td>\n",
       "      <td>7.0</td>\n",
       "      <td>False</td>\n",
       "      <td>False</td>\n",
       "      <td>False</td>\n",
       "      <td>False</td>\n",
       "      <td>False</td>\n",
       "      <td>NaN</td>\n",
       "    </tr>\n",
       "    <tr>\n",
       "      <th>12075</th>\n",
       "      <td>Midnight RendezvousThe Babys</td>\n",
       "      <td>['album rock', 'classic rock', 'hard rock', 'm...</td>\n",
       "      <td>72.000000</td>\n",
       "      <td>1.0</td>\n",
       "      <td>76.000000</td>\n",
       "      <td>72.000000</td>\n",
       "      <td>3.0</td>\n",
       "      <td>1.0</td>\n",
       "      <td>1980.0</td>\n",
       "      <td>5.0</td>\n",
       "      <td>False</td>\n",
       "      <td>False</td>\n",
       "      <td>False</td>\n",
       "      <td>False</td>\n",
       "      <td>False</td>\n",
       "      <td>NaN</td>\n",
       "    </tr>\n",
       "  </tbody>\n",
       "</table>\n",
       "</div>"
      ],
      "text/plain": [
       "                                                 song_id  \\\n",
       "9256                            In A MomentThe Intrigues   \n",
       "19589                 Uncle John's BandThe Grateful Dead   \n",
       "9931                    Jungle LoveThe Steve Miller Band   \n",
       "9215   If You're Not Back In Love By MondayMillie Jac...   \n",
       "12075                       Midnight RendezvousThe Babys   \n",
       "\n",
       "                                               genre_str   week_pos  instance  \\\n",
       "9256                                                  []  45.272727       1.0   \n",
       "19589                                        ['plunder']  71.000000       1.0   \n",
       "9931                                                  []  39.666667       1.0   \n",
       "9215   ['classic soul', 'motown', 'quiet storm', 'sou...  50.666667       1.0   \n",
       "12075  ['album rock', 'classic rock', 'hard rock', 'm...  72.000000       1.0   \n",
       "\n",
       "       prev_week_pos   peak_pos  weeks_on_chart  explicit    year  month  \\\n",
       "9256       48.363636  42.818182             9.0       1.0  1969.0    9.0   \n",
       "19589      73.500000  71.000000             5.5       1.0  1970.0    9.0   \n",
       "9931       40.583333  32.250000             7.5       1.0  1977.0    9.0   \n",
       "9215       52.444444  48.444444             7.0       1.0  1977.0    7.0   \n",
       "12075      76.000000  72.000000             3.0       1.0  1980.0    5.0   \n",
       "\n",
       "         rap  hip hop  metal  country    pop genre_label  \n",
       "9256   False    False  False    False  False         NaN  \n",
       "19589  False    False  False    False  False         NaN  \n",
       "9931   False    False  False    False  False         NaN  \n",
       "9215   False    False  False    False  False         NaN  \n",
       "12075  False    False  False    False  False         NaN  "
      ]
     },
     "execution_count": 48,
     "metadata": {},
     "output_type": "execute_result"
    },
    {
     "data": {
      "application/javascript": [
       "\n",
       "            setTimeout(function() {\n",
       "                var nbb_cell_id = 48;\n",
       "                var nbb_unformatted_code = \"top_expl.sort_values(\\\"year\\\").head()\";\n",
       "                var nbb_formatted_code = \"top_expl.sort_values(\\\"year\\\").head()\";\n",
       "                var nbb_cells = Jupyter.notebook.get_cells();\n",
       "                for (var i = 0; i < nbb_cells.length; ++i) {\n",
       "                    if (nbb_cells[i].input_prompt_number == nbb_cell_id) {\n",
       "                        if (nbb_cells[i].get_text() == nbb_unformatted_code) {\n",
       "                             nbb_cells[i].set_text(nbb_formatted_code);\n",
       "                        }\n",
       "                        break;\n",
       "                    }\n",
       "                }\n",
       "            }, 500);\n",
       "            "
      ],
      "text/plain": [
       "<IPython.core.display.Javascript object>"
      ]
     },
     "metadata": {},
     "output_type": "display_data"
    }
   ],
   "source": [
    "top_expl.sort_values(\"year\").head()"
   ]
  },
  {
   "cell_type": "code",
   "execution_count": 49,
   "metadata": {},
   "outputs": [
    {
     "data": {
      "text/html": [
       "<div>\n",
       "<style scoped>\n",
       "    .dataframe tbody tr th:only-of-type {\n",
       "        vertical-align: middle;\n",
       "    }\n",
       "\n",
       "    .dataframe tbody tr th {\n",
       "        vertical-align: top;\n",
       "    }\n",
       "\n",
       "    .dataframe thead th {\n",
       "        text-align: right;\n",
       "    }\n",
       "</style>\n",
       "<table border=\"1\" class=\"dataframe\">\n",
       "  <thead>\n",
       "    <tr style=\"text-align: right;\">\n",
       "      <th></th>\n",
       "      <th>song_id</th>\n",
       "      <th>genre_str</th>\n",
       "      <th>week_pos</th>\n",
       "      <th>instance</th>\n",
       "      <th>prev_week_pos</th>\n",
       "      <th>peak_pos</th>\n",
       "      <th>weeks_on_chart</th>\n",
       "      <th>explicit</th>\n",
       "      <th>year</th>\n",
       "      <th>month</th>\n",
       "      <th>rap</th>\n",
       "      <th>hip hop</th>\n",
       "      <th>metal</th>\n",
       "      <th>country</th>\n",
       "      <th>pop</th>\n",
       "      <th>genre_label</th>\n",
       "    </tr>\n",
       "  </thead>\n",
       "  <tbody>\n",
       "    <tr>\n",
       "      <th>10961</th>\n",
       "      <td>Little StarThe Elegants</td>\n",
       "      <td>['doo-wop', 'rhythm and blues']</td>\n",
       "      <td>10.066667</td>\n",
       "      <td>1.0</td>\n",
       "      <td>7.400000</td>\n",
       "      <td>3.066667</td>\n",
       "      <td>8.0</td>\n",
       "      <td>0.0</td>\n",
       "      <td>1958.0</td>\n",
       "      <td>9.0</td>\n",
       "      <td>False</td>\n",
       "      <td>False</td>\n",
       "      <td>False</td>\n",
       "      <td>False</td>\n",
       "      <td>False</td>\n",
       "      <td>NaN</td>\n",
       "    </tr>\n",
       "    <tr>\n",
       "      <th>11540</th>\n",
       "      <td>Love You Most Of AllSam Cooke</td>\n",
       "      <td>['adult standards', 'brill building pop', 'cla...</td>\n",
       "      <td>44.071429</td>\n",
       "      <td>1.0</td>\n",
       "      <td>40.928571</td>\n",
       "      <td>39.000000</td>\n",
       "      <td>7.5</td>\n",
       "      <td>0.0</td>\n",
       "      <td>1958.0</td>\n",
       "      <td>6.0</td>\n",
       "      <td>False</td>\n",
       "      <td>False</td>\n",
       "      <td>False</td>\n",
       "      <td>False</td>\n",
       "      <td>True</td>\n",
       "      <td>pop</td>\n",
       "    </tr>\n",
       "    <tr>\n",
       "      <th>11443</th>\n",
       "      <td>Love Of My LifeThe Everly Brothers</td>\n",
       "      <td>['adult standards', 'brill building pop', 'bub...</td>\n",
       "      <td>53.666667</td>\n",
       "      <td>1.0</td>\n",
       "      <td>68.666667</td>\n",
       "      <td>45.333333</td>\n",
       "      <td>3.0</td>\n",
       "      <td>0.0</td>\n",
       "      <td>1958.0</td>\n",
       "      <td>12.0</td>\n",
       "      <td>False</td>\n",
       "      <td>False</td>\n",
       "      <td>False</td>\n",
       "      <td>False</td>\n",
       "      <td>True</td>\n",
       "      <td>pop</td>\n",
       "    </tr>\n",
       "    <tr>\n",
       "      <th>3232</th>\n",
       "      <td>Come Closer To Me (Acercate Mas)Nat King Cole</td>\n",
       "      <td>['adult standards']</td>\n",
       "      <td>51.666667</td>\n",
       "      <td>1.0</td>\n",
       "      <td>43.777778</td>\n",
       "      <td>44.555556</td>\n",
       "      <td>5.0</td>\n",
       "      <td>0.0</td>\n",
       "      <td>1958.0</td>\n",
       "      <td>8.0</td>\n",
       "      <td>False</td>\n",
       "      <td>False</td>\n",
       "      <td>False</td>\n",
       "      <td>False</td>\n",
       "      <td>False</td>\n",
       "      <td>NaN</td>\n",
       "    </tr>\n",
       "    <tr>\n",
       "      <th>11351</th>\n",
       "      <td>Love Is All We NeedTommy Edwards</td>\n",
       "      <td>['deep adult standards', 'doo-wop']</td>\n",
       "      <td>32.428571</td>\n",
       "      <td>1.0</td>\n",
       "      <td>34.500000</td>\n",
       "      <td>23.071429</td>\n",
       "      <td>8.5</td>\n",
       "      <td>0.0</td>\n",
       "      <td>1958.0</td>\n",
       "      <td>8.0</td>\n",
       "      <td>False</td>\n",
       "      <td>False</td>\n",
       "      <td>False</td>\n",
       "      <td>False</td>\n",
       "      <td>False</td>\n",
       "      <td>NaN</td>\n",
       "    </tr>\n",
       "  </tbody>\n",
       "</table>\n",
       "</div>"
      ],
      "text/plain": [
       "                                             song_id  \\\n",
       "10961                        Little StarThe Elegants   \n",
       "11540                  Love You Most Of AllSam Cooke   \n",
       "11443             Love Of My LifeThe Everly Brothers   \n",
       "3232   Come Closer To Me (Acercate Mas)Nat King Cole   \n",
       "11351               Love Is All We NeedTommy Edwards   \n",
       "\n",
       "                                               genre_str   week_pos  instance  \\\n",
       "10961                    ['doo-wop', 'rhythm and blues']  10.066667       1.0   \n",
       "11540  ['adult standards', 'brill building pop', 'cla...  44.071429       1.0   \n",
       "11443  ['adult standards', 'brill building pop', 'bub...  53.666667       1.0   \n",
       "3232                                 ['adult standards']  51.666667       1.0   \n",
       "11351                ['deep adult standards', 'doo-wop']  32.428571       1.0   \n",
       "\n",
       "       prev_week_pos   peak_pos  weeks_on_chart  explicit    year  month  \\\n",
       "10961       7.400000   3.066667             8.0       0.0  1958.0    9.0   \n",
       "11540      40.928571  39.000000             7.5       0.0  1958.0    6.0   \n",
       "11443      68.666667  45.333333             3.0       0.0  1958.0   12.0   \n",
       "3232       43.777778  44.555556             5.0       0.0  1958.0    8.0   \n",
       "11351      34.500000  23.071429             8.5       0.0  1958.0    8.0   \n",
       "\n",
       "         rap  hip hop  metal  country    pop genre_label  \n",
       "10961  False    False  False    False  False         NaN  \n",
       "11540  False    False  False    False   True         pop  \n",
       "11443  False    False  False    False   True         pop  \n",
       "3232   False    False  False    False  False         NaN  \n",
       "11351  False    False  False    False  False         NaN  "
      ]
     },
     "execution_count": 49,
     "metadata": {},
     "output_type": "execute_result"
    },
    {
     "data": {
      "application/javascript": [
       "\n",
       "            setTimeout(function() {\n",
       "                var nbb_cell_id = 49;\n",
       "                var nbb_unformatted_code = \"top_not_expl.sort_values(\\\"year\\\").head()\";\n",
       "                var nbb_formatted_code = \"top_not_expl.sort_values(\\\"year\\\").head()\";\n",
       "                var nbb_cells = Jupyter.notebook.get_cells();\n",
       "                for (var i = 0; i < nbb_cells.length; ++i) {\n",
       "                    if (nbb_cells[i].input_prompt_number == nbb_cell_id) {\n",
       "                        if (nbb_cells[i].get_text() == nbb_unformatted_code) {\n",
       "                             nbb_cells[i].set_text(nbb_formatted_code);\n",
       "                        }\n",
       "                        break;\n",
       "                    }\n",
       "                }\n",
       "            }, 500);\n",
       "            "
      ],
      "text/plain": [
       "<IPython.core.display.Javascript object>"
      ]
     },
     "metadata": {},
     "output_type": "display_data"
    }
   ],
   "source": [
    "top_not_expl.sort_values(\"year\").head()"
   ]
  },
  {
   "cell_type": "markdown",
   "metadata": {},
   "source": [
    "# I'm only analyzing explicit songs after 1985 because there were so few of them before 1985"
   ]
  },
  {
   "cell_type": "code",
   "execution_count": 50,
   "metadata": {},
   "outputs": [
    {
     "data": {
      "text/html": [
       "<div>\n",
       "<style scoped>\n",
       "    .dataframe tbody tr th:only-of-type {\n",
       "        vertical-align: middle;\n",
       "    }\n",
       "\n",
       "    .dataframe tbody tr th {\n",
       "        vertical-align: top;\n",
       "    }\n",
       "\n",
       "    .dataframe thead th {\n",
       "        text-align: right;\n",
       "    }\n",
       "</style>\n",
       "<table border=\"1\" class=\"dataframe\">\n",
       "  <thead>\n",
       "    <tr style=\"text-align: right;\">\n",
       "      <th></th>\n",
       "      <th>song_id</th>\n",
       "      <th>genre_str</th>\n",
       "      <th>week_pos</th>\n",
       "      <th>instance</th>\n",
       "      <th>prev_week_pos</th>\n",
       "      <th>peak_pos</th>\n",
       "      <th>weeks_on_chart</th>\n",
       "      <th>explicit</th>\n",
       "      <th>year</th>\n",
       "      <th>month</th>\n",
       "      <th>rap</th>\n",
       "      <th>hip hop</th>\n",
       "      <th>metal</th>\n",
       "      <th>country</th>\n",
       "      <th>pop</th>\n",
       "      <th>genre_label</th>\n",
       "    </tr>\n",
       "  </thead>\n",
       "  <tbody>\n",
       "    <tr>\n",
       "      <th>6</th>\n",
       "      <td>#1Nelly</td>\n",
       "      <td>['dance pop', 'hip hop', 'pop', 'pop rap', 'ra...</td>\n",
       "      <td>40.100000</td>\n",
       "      <td>1.000000</td>\n",
       "      <td>36.500000</td>\n",
       "      <td>31.850000</td>\n",
       "      <td>10.500000</td>\n",
       "      <td>1.0</td>\n",
       "      <td>2001.0</td>\n",
       "      <td>7.0</td>\n",
       "      <td>True</td>\n",
       "      <td>True</td>\n",
       "      <td>False</td>\n",
       "      <td>False</td>\n",
       "      <td>True</td>\n",
       "      <td>rap_hiphop</td>\n",
       "    </tr>\n",
       "    <tr>\n",
       "      <th>11</th>\n",
       "      <td>$ave Dat MoneyLil Dicky Featuring Fetty Wap &amp; ...</td>\n",
       "      <td>['pop rap', 'rap']</td>\n",
       "      <td>72.333333</td>\n",
       "      <td>2.333333</td>\n",
       "      <td>52.666667</td>\n",
       "      <td>72.333333</td>\n",
       "      <td>7.666667</td>\n",
       "      <td>1.0</td>\n",
       "      <td>2016.0</td>\n",
       "      <td>4.0</td>\n",
       "      <td>True</td>\n",
       "      <td>False</td>\n",
       "      <td>False</td>\n",
       "      <td>False</td>\n",
       "      <td>True</td>\n",
       "      <td>rap_hiphop</td>\n",
       "    </tr>\n",
       "    <tr>\n",
       "      <th>12</th>\n",
       "      <td>'03 Bonnie &amp; ClydeJay-Z Featuring Beyonce Knowles</td>\n",
       "      <td>['east coast hip hop', 'hip hop', 'pop rap', '...</td>\n",
       "      <td>16.478261</td>\n",
       "      <td>1.000000</td>\n",
       "      <td>14.478261</td>\n",
       "      <td>10.086957</td>\n",
       "      <td>12.000000</td>\n",
       "      <td>1.0</td>\n",
       "      <td>2003.0</td>\n",
       "      <td>6.0</td>\n",
       "      <td>True</td>\n",
       "      <td>True</td>\n",
       "      <td>False</td>\n",
       "      <td>False</td>\n",
       "      <td>True</td>\n",
       "      <td>rap_hiphop</td>\n",
       "    </tr>\n",
       "    <tr>\n",
       "      <th>198</th>\n",
       "      <td>***FlawlessBeyonce Featuring Nicki Minaj Or Ch...</td>\n",
       "      <td>['dance pop', 'pop', 'pop rap', 'r&amp;b']</td>\n",
       "      <td>64.500000</td>\n",
       "      <td>2.000000</td>\n",
       "      <td>49.250000</td>\n",
       "      <td>41.000000</td>\n",
       "      <td>11.750000</td>\n",
       "      <td>1.0</td>\n",
       "      <td>2014.0</td>\n",
       "      <td>9.0</td>\n",
       "      <td>True</td>\n",
       "      <td>False</td>\n",
       "      <td>False</td>\n",
       "      <td>False</td>\n",
       "      <td>True</td>\n",
       "      <td>rap_hiphop</td>\n",
       "    </tr>\n",
       "    <tr>\n",
       "      <th>202</th>\n",
       "      <td>0 To 100 / The Catch UpDrake</td>\n",
       "      <td>['canadian hip hop', 'canadian pop', 'hip hop'...</td>\n",
       "      <td>48.000000</td>\n",
       "      <td>1.000000</td>\n",
       "      <td>44.800000</td>\n",
       "      <td>41.150000</td>\n",
       "      <td>10.500000</td>\n",
       "      <td>1.0</td>\n",
       "      <td>2014.0</td>\n",
       "      <td>10.0</td>\n",
       "      <td>True</td>\n",
       "      <td>True</td>\n",
       "      <td>False</td>\n",
       "      <td>False</td>\n",
       "      <td>True</td>\n",
       "      <td>rap_hiphop</td>\n",
       "    </tr>\n",
       "    <tr>\n",
       "      <th>...</th>\n",
       "      <td>...</td>\n",
       "      <td>...</td>\n",
       "      <td>...</td>\n",
       "      <td>...</td>\n",
       "      <td>...</td>\n",
       "      <td>...</td>\n",
       "      <td>...</td>\n",
       "      <td>...</td>\n",
       "      <td>...</td>\n",
       "      <td>...</td>\n",
       "      <td>...</td>\n",
       "      <td>...</td>\n",
       "      <td>...</td>\n",
       "      <td>...</td>\n",
       "      <td>...</td>\n",
       "      <td>...</td>\n",
       "    </tr>\n",
       "    <tr>\n",
       "      <th>21815</th>\n",
       "      <td>ZEZEKodak Black Featuring Travis Scott &amp; Offset</td>\n",
       "      <td>['florida rap', 'hip hop', 'melodic rap', 'mia...</td>\n",
       "      <td>16.240000</td>\n",
       "      <td>1.000000</td>\n",
       "      <td>14.280000</td>\n",
       "      <td>2.000000</td>\n",
       "      <td>13.000000</td>\n",
       "      <td>1.0</td>\n",
       "      <td>2019.0</td>\n",
       "      <td>6.0</td>\n",
       "      <td>True</td>\n",
       "      <td>True</td>\n",
       "      <td>False</td>\n",
       "      <td>False</td>\n",
       "      <td>True</td>\n",
       "      <td>rap_hiphop</td>\n",
       "    </tr>\n",
       "    <tr>\n",
       "      <th>21817</th>\n",
       "      <td>Zack And CodeinePost Malone</td>\n",
       "      <td>['dfw rap', 'melodic rap', 'rap']</td>\n",
       "      <td>43.000000</td>\n",
       "      <td>1.000000</td>\n",
       "      <td>11.500000</td>\n",
       "      <td>23.000000</td>\n",
       "      <td>1.500000</td>\n",
       "      <td>1.0</td>\n",
       "      <td>2018.0</td>\n",
       "      <td>5.0</td>\n",
       "      <td>True</td>\n",
       "      <td>False</td>\n",
       "      <td>False</td>\n",
       "      <td>False</td>\n",
       "      <td>False</td>\n",
       "      <td>rap_hiphop</td>\n",
       "    </tr>\n",
       "    <tr>\n",
       "      <th>21830</th>\n",
       "      <td>iKendrick Lamar</td>\n",
       "      <td>['conscious hip hop', 'hip hop', 'rap', 'west ...</td>\n",
       "      <td>51.555556</td>\n",
       "      <td>1.000000</td>\n",
       "      <td>44.666667</td>\n",
       "      <td>39.000000</td>\n",
       "      <td>5.000000</td>\n",
       "      <td>1.0</td>\n",
       "      <td>2014.0</td>\n",
       "      <td>11.0</td>\n",
       "      <td>True</td>\n",
       "      <td>True</td>\n",
       "      <td>False</td>\n",
       "      <td>False</td>\n",
       "      <td>False</td>\n",
       "      <td>rap_hiphop</td>\n",
       "    </tr>\n",
       "    <tr>\n",
       "      <th>21831</th>\n",
       "      <td>iPHONEDaBaby &amp; Nicki Minaj</td>\n",
       "      <td>['nc hip hop', 'rap']</td>\n",
       "      <td>43.000000</td>\n",
       "      <td>1.000000</td>\n",
       "      <td>0.000000</td>\n",
       "      <td>43.000000</td>\n",
       "      <td>1.000000</td>\n",
       "      <td>1.0</td>\n",
       "      <td>2019.0</td>\n",
       "      <td>10.0</td>\n",
       "      <td>True</td>\n",
       "      <td>True</td>\n",
       "      <td>False</td>\n",
       "      <td>False</td>\n",
       "      <td>False</td>\n",
       "      <td>rap_hiphop</td>\n",
       "    </tr>\n",
       "    <tr>\n",
       "      <th>21832</th>\n",
       "      <td>iSpyKYLE Featuring Lil Yachty</td>\n",
       "      <td>['pop rap', 'rap']</td>\n",
       "      <td>21.310345</td>\n",
       "      <td>1.000000</td>\n",
       "      <td>22.482759</td>\n",
       "      <td>12.965517</td>\n",
       "      <td>16.000000</td>\n",
       "      <td>1.0</td>\n",
       "      <td>2017.0</td>\n",
       "      <td>4.0</td>\n",
       "      <td>True</td>\n",
       "      <td>False</td>\n",
       "      <td>False</td>\n",
       "      <td>False</td>\n",
       "      <td>True</td>\n",
       "      <td>rap_hiphop</td>\n",
       "    </tr>\n",
       "  </tbody>\n",
       "</table>\n",
       "<p>1913 rows × 16 columns</p>\n",
       "</div>"
      ],
      "text/plain": [
       "                                                 song_id  \\\n",
       "6                                                #1Nelly   \n",
       "11     $ave Dat MoneyLil Dicky Featuring Fetty Wap & ...   \n",
       "12     '03 Bonnie & ClydeJay-Z Featuring Beyonce Knowles   \n",
       "198    ***FlawlessBeyonce Featuring Nicki Minaj Or Ch...   \n",
       "202                         0 To 100 / The Catch UpDrake   \n",
       "...                                                  ...   \n",
       "21815    ZEZEKodak Black Featuring Travis Scott & Offset   \n",
       "21817                        Zack And CodeinePost Malone   \n",
       "21830                                    iKendrick Lamar   \n",
       "21831                         iPHONEDaBaby & Nicki Minaj   \n",
       "21832                      iSpyKYLE Featuring Lil Yachty   \n",
       "\n",
       "                                               genre_str   week_pos  instance  \\\n",
       "6      ['dance pop', 'hip hop', 'pop', 'pop rap', 'ra...  40.100000  1.000000   \n",
       "11                                    ['pop rap', 'rap']  72.333333  2.333333   \n",
       "12     ['east coast hip hop', 'hip hop', 'pop rap', '...  16.478261  1.000000   \n",
       "198               ['dance pop', 'pop', 'pop rap', 'r&b']  64.500000  2.000000   \n",
       "202    ['canadian hip hop', 'canadian pop', 'hip hop'...  48.000000  1.000000   \n",
       "...                                                  ...        ...       ...   \n",
       "21815  ['florida rap', 'hip hop', 'melodic rap', 'mia...  16.240000  1.000000   \n",
       "21817                  ['dfw rap', 'melodic rap', 'rap']  43.000000  1.000000   \n",
       "21830  ['conscious hip hop', 'hip hop', 'rap', 'west ...  51.555556  1.000000   \n",
       "21831                              ['nc hip hop', 'rap']  43.000000  1.000000   \n",
       "21832                                 ['pop rap', 'rap']  21.310345  1.000000   \n",
       "\n",
       "       prev_week_pos   peak_pos  weeks_on_chart  explicit    year  month  \\\n",
       "6          36.500000  31.850000       10.500000       1.0  2001.0    7.0   \n",
       "11         52.666667  72.333333        7.666667       1.0  2016.0    4.0   \n",
       "12         14.478261  10.086957       12.000000       1.0  2003.0    6.0   \n",
       "198        49.250000  41.000000       11.750000       1.0  2014.0    9.0   \n",
       "202        44.800000  41.150000       10.500000       1.0  2014.0   10.0   \n",
       "...              ...        ...             ...       ...     ...    ...   \n",
       "21815      14.280000   2.000000       13.000000       1.0  2019.0    6.0   \n",
       "21817      11.500000  23.000000        1.500000       1.0  2018.0    5.0   \n",
       "21830      44.666667  39.000000        5.000000       1.0  2014.0   11.0   \n",
       "21831       0.000000  43.000000        1.000000       1.0  2019.0   10.0   \n",
       "21832      22.482759  12.965517       16.000000       1.0  2017.0    4.0   \n",
       "\n",
       "        rap  hip hop  metal  country    pop genre_label  \n",
       "6      True     True  False    False   True  rap_hiphop  \n",
       "11     True    False  False    False   True  rap_hiphop  \n",
       "12     True     True  False    False   True  rap_hiphop  \n",
       "198    True    False  False    False   True  rap_hiphop  \n",
       "202    True     True  False    False   True  rap_hiphop  \n",
       "...     ...      ...    ...      ...    ...         ...  \n",
       "21815  True     True  False    False   True  rap_hiphop  \n",
       "21817  True    False  False    False  False  rap_hiphop  \n",
       "21830  True     True  False    False  False  rap_hiphop  \n",
       "21831  True     True  False    False  False  rap_hiphop  \n",
       "21832  True    False  False    False   True  rap_hiphop  \n",
       "\n",
       "[1913 rows x 16 columns]"
      ]
     },
     "execution_count": 50,
     "metadata": {},
     "output_type": "execute_result"
    },
    {
     "data": {
      "application/javascript": [
       "\n",
       "            setTimeout(function() {\n",
       "                var nbb_cell_id = 50;\n",
       "                var nbb_unformatted_code = \"top_expl = top_expl[top_expl[\\\"year\\\"] > 1985]\\ntop_expl\";\n",
       "                var nbb_formatted_code = \"top_expl = top_expl[top_expl[\\\"year\\\"] > 1985]\\ntop_expl\";\n",
       "                var nbb_cells = Jupyter.notebook.get_cells();\n",
       "                for (var i = 0; i < nbb_cells.length; ++i) {\n",
       "                    if (nbb_cells[i].input_prompt_number == nbb_cell_id) {\n",
       "                        if (nbb_cells[i].get_text() == nbb_unformatted_code) {\n",
       "                             nbb_cells[i].set_text(nbb_formatted_code);\n",
       "                        }\n",
       "                        break;\n",
       "                    }\n",
       "                }\n",
       "            }, 500);\n",
       "            "
      ],
      "text/plain": [
       "<IPython.core.display.Javascript object>"
      ]
     },
     "metadata": {},
     "output_type": "display_data"
    }
   ],
   "source": [
    "top_expl = top_expl[top_expl[\"year\"] > 1985]\n",
    "top_expl"
   ]
  },
  {
   "cell_type": "code",
   "execution_count": 51,
   "metadata": {},
   "outputs": [
    {
     "data": {
      "image/png": "[encoded data removed]",
      "text/plain": [
       "<Figure size 432x288 with 1 Axes>"
      ]
     },
     "metadata": {
      "needs_background": "light"
     },
     "output_type": "display_data"
    },
    {
     "data": {
      "application/javascript": [
       "\n",
       "            setTimeout(function() {\n",
       "                var nbb_cell_id = 51;\n",
       "                var nbb_unformatted_code = \"qqplot(top_songs[\\\"year\\\"], line=\\\"s\\\")\\nplt.show()\";\n",
       "                var nbb_formatted_code = \"qqplot(top_songs[\\\"year\\\"], line=\\\"s\\\")\\nplt.show()\";\n",
       "                var nbb_cells = Jupyter.notebook.get_cells();\n",
       "                for (var i = 0; i < nbb_cells.length; ++i) {\n",
       "                    if (nbb_cells[i].input_prompt_number == nbb_cell_id) {\n",
       "                        if (nbb_cells[i].get_text() == nbb_unformatted_code) {\n",
       "                             nbb_cells[i].set_text(nbb_formatted_code);\n",
       "                        }\n",
       "                        break;\n",
       "                    }\n",
       "                }\n",
       "            }, 500);\n",
       "            "
      ],
      "text/plain": [
       "<IPython.core.display.Javascript object>"
      ]
     },
     "metadata": {},
     "output_type": "display_data"
    }
   ],
   "source": [
    "qqplot(top_songs[\"year\"], line=\"s\")\n",
    "plt.show()"
   ]
  },
  {
   "cell_type": "code",
   "execution_count": 52,
   "metadata": {},
   "outputs": [
    {
     "data": {
      "image/png": "[encoded data removed]",
      "text/plain": [
       "<Figure size 432x288 with 1 Axes>"
      ]
     },
     "metadata": {
      "needs_background": "light"
     },
     "output_type": "display_data"
    },
    {
     "data": {
      "application/javascript": [
       "\n",
       "            setTimeout(function() {\n",
       "                var nbb_cell_id = 52;\n",
       "                var nbb_unformatted_code = \"qqplot(rap_hiphop[\\\"year\\\"], line=\\\"s\\\")\\nplt.show()\";\n",
       "                var nbb_formatted_code = \"qqplot(rap_hiphop[\\\"year\\\"], line=\\\"s\\\")\\nplt.show()\";\n",
       "                var nbb_cells = Jupyter.notebook.get_cells();\n",
       "                for (var i = 0; i < nbb_cells.length; ++i) {\n",
       "                    if (nbb_cells[i].input_prompt_number == nbb_cell_id) {\n",
       "                        if (nbb_cells[i].get_text() == nbb_unformatted_code) {\n",
       "                             nbb_cells[i].set_text(nbb_formatted_code);\n",
       "                        }\n",
       "                        break;\n",
       "                    }\n",
       "                }\n",
       "            }, 500);\n",
       "            "
      ],
      "text/plain": [
       "<IPython.core.display.Javascript object>"
      ]
     },
     "metadata": {},
     "output_type": "display_data"
    }
   ],
   "source": [
    "qqplot(rap_hiphop[\"year\"], line=\"s\")\n",
    "plt.show()"
   ]
  },
  {
   "cell_type": "markdown",
   "metadata": {},
   "source": [
    "# These plots show the data is not normalized, so I will perform the non-perimetric tests"
   ]
  },
  {
   "cell_type": "markdown",
   "metadata": {},
   "source": [
    "## Kruskal Wallis - Explicit vs not explicit by year"
   ]
  },
  {
   "cell_type": "code",
   "execution_count": 53,
   "metadata": {},
   "outputs": [
    {
     "data": {
      "text/plain": [
       "0.0"
      ]
     },
     "execution_count": 53,
     "metadata": {},
     "output_type": "execute_result"
    },
    {
     "data": {
      "application/javascript": [
       "\n",
       "            setTimeout(function() {\n",
       "                var nbb_cell_id = 53;\n",
       "                var nbb_unformatted_code = \"_, p = stats.kruskal(\\n    top_expl[\\\"year\\\"],\\n    top_not_expl[\\\"year\\\"],\\n    rap_hiphop_expl[\\\"year\\\"],\\n    rap_hiphop_not_expl[\\\"year\\\"],\\n)\\np\";\n",
       "                var nbb_formatted_code = \"_, p = stats.kruskal(\\n    top_expl[\\\"year\\\"],\\n    top_not_expl[\\\"year\\\"],\\n    rap_hiphop_expl[\\\"year\\\"],\\n    rap_hiphop_not_expl[\\\"year\\\"],\\n)\\np\";\n",
       "                var nbb_cells = Jupyter.notebook.get_cells();\n",
       "                for (var i = 0; i < nbb_cells.length; ++i) {\n",
       "                    if (nbb_cells[i].input_prompt_number == nbb_cell_id) {\n",
       "                        if (nbb_cells[i].get_text() == nbb_unformatted_code) {\n",
       "                             nbb_cells[i].set_text(nbb_formatted_code);\n",
       "                        }\n",
       "                        break;\n",
       "                    }\n",
       "                }\n",
       "            }, 500);\n",
       "            "
      ],
      "text/plain": [
       "<IPython.core.display.Javascript object>"
      ]
     },
     "metadata": {},
     "output_type": "display_data"
    }
   ],
   "source": [
    "_, p = stats.kruskal(\n",
    "    top_expl[\"year\"],\n",
    "    top_not_expl[\"year\"],\n",
    "    rap_hiphop_expl[\"year\"],\n",
    "    rap_hiphop_not_expl[\"year\"],\n",
    ")\n",
    "p"
   ]
  },
  {
   "cell_type": "code",
   "execution_count": 54,
   "metadata": {},
   "outputs": [
    {
     "data": {
      "application/javascript": [
       "\n",
       "            setTimeout(function() {\n",
       "                var nbb_cell_id = 54;\n",
       "                var nbb_unformatted_code = \"_, p1 = stats.mannwhitneyu(top_expl[\\\"year\\\"], top_not_expl[\\\"year\\\"])\\n_, p2 = stats.mannwhitneyu(top_expl[\\\"year\\\"], rap_hiphop_expl[\\\"year\\\"])\\n_, p3 = stats.mannwhitneyu(top_expl[\\\"year\\\"], rap_hiphop_not_expl[\\\"year\\\"])\\n\\n_, p4 = stats.mannwhitneyu(top_not_expl[\\\"year\\\"], rap_hiphop_expl[\\\"year\\\"])\\n_, p5 = stats.mannwhitneyu(top_not_expl[\\\"year\\\"], rap_hiphop_not_expl[\\\"year\\\"])\\n_, p6 = stats.mannwhitneyu(rap_hiphop_expl[\\\"year\\\"], rap_hiphop_not_expl[\\\"year\\\"])\\n\\n\\np_values = [p1, p2, p3, p4, p5, p6]\\nreject, corr_p, sidak, bonf = multipletests(p_values, alpha=0.05)\";\n",
       "                var nbb_formatted_code = \"_, p1 = stats.mannwhitneyu(top_expl[\\\"year\\\"], top_not_expl[\\\"year\\\"])\\n_, p2 = stats.mannwhitneyu(top_expl[\\\"year\\\"], rap_hiphop_expl[\\\"year\\\"])\\n_, p3 = stats.mannwhitneyu(top_expl[\\\"year\\\"], rap_hiphop_not_expl[\\\"year\\\"])\\n\\n_, p4 = stats.mannwhitneyu(top_not_expl[\\\"year\\\"], rap_hiphop_expl[\\\"year\\\"])\\n_, p5 = stats.mannwhitneyu(top_not_expl[\\\"year\\\"], rap_hiphop_not_expl[\\\"year\\\"])\\n_, p6 = stats.mannwhitneyu(rap_hiphop_expl[\\\"year\\\"], rap_hiphop_not_expl[\\\"year\\\"])\\n\\n\\np_values = [p1, p2, p3, p4, p5, p6]\\nreject, corr_p, sidak, bonf = multipletests(p_values, alpha=0.05)\";\n",
       "                var nbb_cells = Jupyter.notebook.get_cells();\n",
       "                for (var i = 0; i < nbb_cells.length; ++i) {\n",
       "                    if (nbb_cells[i].input_prompt_number == nbb_cell_id) {\n",
       "                        if (nbb_cells[i].get_text() == nbb_unformatted_code) {\n",
       "                             nbb_cells[i].set_text(nbb_formatted_code);\n",
       "                        }\n",
       "                        break;\n",
       "                    }\n",
       "                }\n",
       "            }, 500);\n",
       "            "
      ],
      "text/plain": [
       "<IPython.core.display.Javascript object>"
      ]
     },
     "metadata": {},
     "output_type": "display_data"
    }
   ],
   "source": [
    "_, p1 = stats.mannwhitneyu(top_expl[\"year\"], top_not_expl[\"year\"])\n",
    "_, p2 = stats.mannwhitneyu(top_expl[\"year\"], rap_hiphop_expl[\"year\"])\n",
    "_, p3 = stats.mannwhitneyu(top_expl[\"year\"], rap_hiphop_not_expl[\"year\"])\n",
    "\n",
    "_, p4 = stats.mannwhitneyu(top_not_expl[\"year\"], rap_hiphop_expl[\"year\"])\n",
    "_, p5 = stats.mannwhitneyu(top_not_expl[\"year\"], rap_hiphop_not_expl[\"year\"])\n",
    "_, p6 = stats.mannwhitneyu(rap_hiphop_expl[\"year\"], rap_hiphop_not_expl[\"year\"])\n",
    "\n",
    "\n",
    "p_values = [p1, p2, p3, p4, p5, p6]\n",
    "reject, corr_p, sidak, bonf = multipletests(p_values, alpha=0.05)"
   ]
  },
  {
   "cell_type": "code",
   "execution_count": 55,
   "metadata": {},
   "outputs": [
    {
     "data": {
      "text/plain": [
       "array([ True, False,  True,  True,  True,  True])"
      ]
     },
     "execution_count": 55,
     "metadata": {},
     "output_type": "execute_result"
    },
    {
     "data": {
      "application/javascript": [
       "\n",
       "            setTimeout(function() {\n",
       "                var nbb_cell_id = 55;\n",
       "                var nbb_unformatted_code = \"reject\";\n",
       "                var nbb_formatted_code = \"reject\";\n",
       "                var nbb_cells = Jupyter.notebook.get_cells();\n",
       "                for (var i = 0; i < nbb_cells.length; ++i) {\n",
       "                    if (nbb_cells[i].input_prompt_number == nbb_cell_id) {\n",
       "                        if (nbb_cells[i].get_text() == nbb_unformatted_code) {\n",
       "                             nbb_cells[i].set_text(nbb_formatted_code);\n",
       "                        }\n",
       "                        break;\n",
       "                    }\n",
       "                }\n",
       "            }, 500);\n",
       "            "
      ],
      "text/plain": [
       "<IPython.core.display.Javascript object>"
      ]
     },
     "metadata": {},
     "output_type": "display_data"
    }
   ],
   "source": [
    "reject"
   ]
  },
  {
   "cell_type": "code",
   "execution_count": 56,
   "metadata": {},
   "outputs": [
    {
     "data": {
      "text/plain": [
       "array([0.        , 0.06343273, 0.        , 0.        , 0.        ,\n",
       "       0.        ])"
      ]
     },
     "execution_count": 56,
     "metadata": {},
     "output_type": "execute_result"
    },
    {
     "data": {
      "application/javascript": [
       "\n",
       "            setTimeout(function() {\n",
       "                var nbb_cell_id = 56;\n",
       "                var nbb_unformatted_code = \"corr_p\";\n",
       "                var nbb_formatted_code = \"corr_p\";\n",
       "                var nbb_cells = Jupyter.notebook.get_cells();\n",
       "                for (var i = 0; i < nbb_cells.length; ++i) {\n",
       "                    if (nbb_cells[i].input_prompt_number == nbb_cell_id) {\n",
       "                        if (nbb_cells[i].get_text() == nbb_unformatted_code) {\n",
       "                             nbb_cells[i].set_text(nbb_formatted_code);\n",
       "                        }\n",
       "                        break;\n",
       "                    }\n",
       "                }\n",
       "            }, 500);\n",
       "            "
      ],
      "text/plain": [
       "<IPython.core.display.Javascript object>"
      ]
     },
     "metadata": {},
     "output_type": "display_data"
    }
   ],
   "source": [
    "corr_p"
   ]
  },
  {
   "cell_type": "code",
   "execution_count": 57,
   "metadata": {},
   "outputs": [
    {
     "data": {
      "text/plain": [
       "0.008512444610847103"
      ]
     },
     "execution_count": 57,
     "metadata": {},
     "output_type": "execute_result"
    },
    {
     "data": {
      "application/javascript": [
       "\n",
       "            setTimeout(function() {\n",
       "                var nbb_cell_id = 57;\n",
       "                var nbb_unformatted_code = \"sidak\";\n",
       "                var nbb_formatted_code = \"sidak\";\n",
       "                var nbb_cells = Jupyter.notebook.get_cells();\n",
       "                for (var i = 0; i < nbb_cells.length; ++i) {\n",
       "                    if (nbb_cells[i].input_prompt_number == nbb_cell_id) {\n",
       "                        if (nbb_cells[i].get_text() == nbb_unformatted_code) {\n",
       "                             nbb_cells[i].set_text(nbb_formatted_code);\n",
       "                        }\n",
       "                        break;\n",
       "                    }\n",
       "                }\n",
       "            }, 500);\n",
       "            "
      ],
      "text/plain": [
       "<IPython.core.display.Javascript object>"
      ]
     },
     "metadata": {},
     "output_type": "display_data"
    }
   ],
   "source": [
    "sidak"
   ]
  },
  {
   "cell_type": "code",
   "execution_count": 58,
   "metadata": {},
   "outputs": [
    {
     "data": {
      "text/plain": [
       "0.008333333333333333"
      ]
     },
     "execution_count": 58,
     "metadata": {},
     "output_type": "execute_result"
    },
    {
     "data": {
      "application/javascript": [
       "\n",
       "            setTimeout(function() {\n",
       "                var nbb_cell_id = 58;\n",
       "                var nbb_unformatted_code = \"bonf\";\n",
       "                var nbb_formatted_code = \"bonf\";\n",
       "                var nbb_cells = Jupyter.notebook.get_cells();\n",
       "                for (var i = 0; i < nbb_cells.length; ++i) {\n",
       "                    if (nbb_cells[i].input_prompt_number == nbb_cell_id) {\n",
       "                        if (nbb_cells[i].get_text() == nbb_unformatted_code) {\n",
       "                             nbb_cells[i].set_text(nbb_formatted_code);\n",
       "                        }\n",
       "                        break;\n",
       "                    }\n",
       "                }\n",
       "            }, 500);\n",
       "            "
      ],
      "text/plain": [
       "<IPython.core.display.Javascript object>"
      ]
     },
     "metadata": {},
     "output_type": "display_data"
    }
   ],
   "source": [
    "bonf"
   ]
  },
  {
   "cell_type": "markdown",
   "metadata": {},
   "source": [
    "# Conclusions:\n",
    "## 1)\n",
    "* There were very few 'explicit' songs before 1990\n",
    "* Rap and hip-hop became popular right after the PMRC was formed in 1985\n",
    "* Rap has many more explicit songs than not explicit songs\n",
    "\n",
    "## 2)\n",
    "* There is a significant difference in mean rank between the popularity of pop songs and rap/hip-hop songs\n",
    "* There is a significant difference in mean rank between the popularity of rap/hip-hop songs and metal songs\n",
    "\n",
    "## 3)\n",
    "* There is a significant difference in mean rank between the popularity of explicit songs and non-explicit songs\n",
    "* There is a significant difference in mean rank between the popularity of explicit rap songs and all non-explicit songs"
   ]
  },
  {
   "cell_type": "code",
   "execution_count": null,
   "metadata": {},
   "outputs": [],
   "source": []
  }
 ],
 "metadata": {
  "kernelspec": {
   "display_name": "Python 3",
   "language": "python",
   "name": "python3"
  },
  "language_info": {
   "codemirror_mode": {
    "name": "ipython",
    "version": 3
   },
   "file_extension": ".py",
   "mimetype": "text/x-python",
   "name": "python",
   "nbconvert_exporter": "python",
   "pygments_lexer": "ipython3",
   "version": "3.8.3"
  }
 },
 "nbformat": 4,
 "nbformat_minor": 4
}
