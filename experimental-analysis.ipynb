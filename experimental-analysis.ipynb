{
 "cells": [
  {
   "cell_type": "markdown",
   "metadata": {},
   "source": [
    "* With your research proposal in hand, it's time to conduct the analysis in Jupyter. Provide a complete research report using the framework introduced in the previous module. The report should tell the story to your intended audience and should include compelling visualizations and actionable insights. Walk through the analysis using clean, reproducible code. Include plenty of notes and comments to guide others through your thinking.\n",
    "\n",
    "* Along the way, consider issues in the experiment design. What bias might be influencing the analysis? Can you test for it? If you could collect new data in this domain, what changes would you make in the data collection process? What other variables or samples might be useful to test?"
   ]
  },
  {
   "cell_type": "code",
   "execution_count": 1,
   "metadata": {},
   "outputs": [
    {
     "data": {
      "application/javascript": [
       "\n",
       "            setTimeout(function() {\n",
       "                var nbb_cell_id = 1;\n",
       "                var nbb_unformatted_code = \"%reload_ext nb_black\";\n",
       "                var nbb_formatted_code = \"%reload_ext nb_black\";\n",
       "                var nbb_cells = Jupyter.notebook.get_cells();\n",
       "                for (var i = 0; i < nbb_cells.length; ++i) {\n",
       "                    if (nbb_cells[i].input_prompt_number == nbb_cell_id) {\n",
       "                        if (nbb_cells[i].get_text() == nbb_unformatted_code) {\n",
       "                             nbb_cells[i].set_text(nbb_formatted_code);\n",
       "                        }\n",
       "                        break;\n",
       "                    }\n",
       "                }\n",
       "            }, 500);\n",
       "            "
      ],
      "text/plain": [
       "<IPython.core.display.Javascript object>"
      ]
     },
     "metadata": {},
     "output_type": "display_data"
    }
   ],
   "source": [
    "%reload_ext nb_black"
   ]
  },
  {
   "cell_type": "code",
   "execution_count": 2,
   "metadata": {},
   "outputs": [
    {
     "data": {
      "application/javascript": [
       "\n",
       "            setTimeout(function() {\n",
       "                var nbb_cell_id = 2;\n",
       "                var nbb_unformatted_code = \"import pandas as pd\\nimport numpy as np\\nfrom scipy import stats\\nimport seaborn as sns\\nimport matplotlib.pyplot as plt\\nimport ast\\nfrom datetime import datetime\\n\\n%matplotlib inline\";\n",
       "                var nbb_formatted_code = \"import pandas as pd\\nimport numpy as np\\nfrom scipy import stats\\nimport seaborn as sns\\nimport matplotlib.pyplot as plt\\nimport ast\\nfrom datetime import datetime\\n\\n%matplotlib inline\";\n",
       "                var nbb_cells = Jupyter.notebook.get_cells();\n",
       "                for (var i = 0; i < nbb_cells.length; ++i) {\n",
       "                    if (nbb_cells[i].input_prompt_number == nbb_cell_id) {\n",
       "                        if (nbb_cells[i].get_text() == nbb_unformatted_code) {\n",
       "                             nbb_cells[i].set_text(nbb_formatted_code);\n",
       "                        }\n",
       "                        break;\n",
       "                    }\n",
       "                }\n",
       "            }, 500);\n",
       "            "
      ],
      "text/plain": [
       "<IPython.core.display.Javascript object>"
      ]
     },
     "metadata": {},
     "output_type": "display_data"
    }
   ],
   "source": [
    "import pandas as pd\n",
    "import numpy as np\n",
    "from scipy import stats\n",
    "import seaborn as sns\n",
    "import matplotlib.pyplot as plt\n",
    "import ast\n",
    "from datetime import datetime\n",
    "\n",
    "%matplotlib inline"
   ]
  },
  {
   "cell_type": "code",
   "execution_count": 3,
   "metadata": {},
   "outputs": [
    {
     "data": {
      "application/javascript": [
       "\n",
       "            setTimeout(function() {\n",
       "                var nbb_cell_id = 3;\n",
       "                var nbb_unformatted_code = \"hot_100 = pd.read_csv(\\\"data/Hot_Stuff.csv\\\")\\ngenres = pd.read_excel(\\\"data/Hot_100_Audio_Features.xlsx\\\")\";\n",
       "                var nbb_formatted_code = \"hot_100 = pd.read_csv(\\\"data/Hot_Stuff.csv\\\")\\ngenres = pd.read_excel(\\\"data/Hot_100_Audio_Features.xlsx\\\")\";\n",
       "                var nbb_cells = Jupyter.notebook.get_cells();\n",
       "                for (var i = 0; i < nbb_cells.length; ++i) {\n",
       "                    if (nbb_cells[i].input_prompt_number == nbb_cell_id) {\n",
       "                        if (nbb_cells[i].get_text() == nbb_unformatted_code) {\n",
       "                             nbb_cells[i].set_text(nbb_formatted_code);\n",
       "                        }\n",
       "                        break;\n",
       "                    }\n",
       "                }\n",
       "            }, 500);\n",
       "            "
      ],
      "text/plain": [
       "<IPython.core.display.Javascript object>"
      ]
     },
     "metadata": {},
     "output_type": "display_data"
    }
   ],
   "source": [
    "hot_100 = pd.read_csv(\"data/Hot_Stuff.csv\")\n",
    "genres = pd.read_excel(\"data/Hot_100_Audio_Features.xlsx\")"
   ]
  },
  {
   "cell_type": "code",
   "execution_count": 4,
   "metadata": {},
   "outputs": [
    {
     "data": {
      "text/plain": [
       "[]                                                                                                                                                         2541\n",
       "['contemporary country', 'country', 'country road']                                                                                                         315\n",
       "['contemporary country', 'country', 'country road', 'modern country rock']                                                                                  279\n",
       "['dance pop', 'pop', 'post-teen pop']                                                                                                                       252\n",
       "['glee club', 'hollywood', 'post-teen pop']                                                                                                                 205\n",
       "                                                                                                                                                           ... \n",
       "['classic schlager', 'schlager', 'volksmusik']                                                                                                                1\n",
       "['australian pop', 'pop', 'viral pop']                                                                                                                        1\n",
       "['adult standards', 'contemporary vocal jazz', 'lounge', 'vocal jazz']                                                                                        1\n",
       "['blues rock', 'classic rock', 'country rock', 'electric blues', 'folk rock', 'jam band', 'mellow gold', 'modern blues', 'roots rock', 'southern rock']       1\n",
       "['classic country pop', 'cowboy western', 'oklahoma country']                                                                                                 1\n",
       "Name: spotify_genre, Length: 3275, dtype: int64"
      ]
     },
     "execution_count": 4,
     "metadata": {},
     "output_type": "execute_result"
    },
    {
     "data": {
      "application/javascript": [
       "\n",
       "            setTimeout(function() {\n",
       "                var nbb_cell_id = 4;\n",
       "                var nbb_unformatted_code = \"genres[\\\"spotify_genre\\\"].explode().value_counts()\";\n",
       "                var nbb_formatted_code = \"genres[\\\"spotify_genre\\\"].explode().value_counts()\";\n",
       "                var nbb_cells = Jupyter.notebook.get_cells();\n",
       "                for (var i = 0; i < nbb_cells.length; ++i) {\n",
       "                    if (nbb_cells[i].input_prompt_number == nbb_cell_id) {\n",
       "                        if (nbb_cells[i].get_text() == nbb_unformatted_code) {\n",
       "                             nbb_cells[i].set_text(nbb_formatted_code);\n",
       "                        }\n",
       "                        break;\n",
       "                    }\n",
       "                }\n",
       "            }, 500);\n",
       "            "
      ],
      "text/plain": [
       "<IPython.core.display.Javascript object>"
      ]
     },
     "metadata": {},
     "output_type": "display_data"
    }
   ],
   "source": [
    "genres[\"spotify_genre\"].explode().value_counts()"
   ]
  },
  {
   "cell_type": "code",
   "execution_count": 5,
   "metadata": {},
   "outputs": [
    {
     "data": {
      "application/javascript": [
       "\n",
       "            setTimeout(function() {\n",
       "                var nbb_cell_id = 5;\n",
       "                var nbb_unformatted_code = \"genres = genres.drop_duplicates()\";\n",
       "                var nbb_formatted_code = \"genres = genres.drop_duplicates()\";\n",
       "                var nbb_cells = Jupyter.notebook.get_cells();\n",
       "                for (var i = 0; i < nbb_cells.length; ++i) {\n",
       "                    if (nbb_cells[i].input_prompt_number == nbb_cell_id) {\n",
       "                        if (nbb_cells[i].get_text() == nbb_unformatted_code) {\n",
       "                             nbb_cells[i].set_text(nbb_formatted_code);\n",
       "                        }\n",
       "                        break;\n",
       "                    }\n",
       "                }\n",
       "            }, 500);\n",
       "            "
      ],
      "text/plain": [
       "<IPython.core.display.Javascript object>"
      ]
     },
     "metadata": {},
     "output_type": "display_data"
    }
   ],
   "source": [
    "genres = genres.drop_duplicates()"
   ]
  },
  {
   "cell_type": "markdown",
   "metadata": {},
   "source": [
    "# Drop columns that are not needed"
   ]
  },
  {
   "cell_type": "code",
   "execution_count": 6,
   "metadata": {},
   "outputs": [
    {
     "data": {
      "application/javascript": [
       "\n",
       "            setTimeout(function() {\n",
       "                var nbb_cell_id = 6;\n",
       "                var nbb_unformatted_code = \"hot_100 = hot_100.drop(columns=[\\\"url\\\"])\";\n",
       "                var nbb_formatted_code = \"hot_100 = hot_100.drop(columns=[\\\"url\\\"])\";\n",
       "                var nbb_cells = Jupyter.notebook.get_cells();\n",
       "                for (var i = 0; i < nbb_cells.length; ++i) {\n",
       "                    if (nbb_cells[i].input_prompt_number == nbb_cell_id) {\n",
       "                        if (nbb_cells[i].get_text() == nbb_unformatted_code) {\n",
       "                             nbb_cells[i].set_text(nbb_formatted_code);\n",
       "                        }\n",
       "                        break;\n",
       "                    }\n",
       "                }\n",
       "            }, 500);\n",
       "            "
      ],
      "text/plain": [
       "<IPython.core.display.Javascript object>"
      ]
     },
     "metadata": {},
     "output_type": "display_data"
    }
   ],
   "source": [
    "hot_100 = hot_100.drop(columns=[\"url\"])"
   ]
  },
  {
   "cell_type": "code",
   "execution_count": 7,
   "metadata": {},
   "outputs": [
    {
     "data": {
      "application/javascript": [
       "\n",
       "            setTimeout(function() {\n",
       "                var nbb_cell_id = 7;\n",
       "                var nbb_unformatted_code = \"genres = genres.drop(\\n    columns=[\\n        \\\"spotify_track_id\\\",\\n        \\\"spotify_track_preview_url\\\",\\n        \\\"spotify_track_duration_ms\\\",\\n        \\\"spotify_track_popularity\\\",\\n        \\\"danceability\\\",\\n        \\\"energy\\\",\\n        \\\"key\\\",\\n        \\\"loudness\\\",\\n        \\\"mode\\\",\\n        \\\"acousticness\\\",\\n        \\\"speechiness\\\",\\n        \\\"liveness\\\",\\n        \\\"instrumentalness\\\",\\n        \\\"valence\\\",\\n        \\\"tempo\\\",\\n        \\\"time_signature\\\",\\n    ]\\n)\";\n",
       "                var nbb_formatted_code = \"genres = genres.drop(\\n    columns=[\\n        \\\"spotify_track_id\\\",\\n        \\\"spotify_track_preview_url\\\",\\n        \\\"spotify_track_duration_ms\\\",\\n        \\\"spotify_track_popularity\\\",\\n        \\\"danceability\\\",\\n        \\\"energy\\\",\\n        \\\"key\\\",\\n        \\\"loudness\\\",\\n        \\\"mode\\\",\\n        \\\"acousticness\\\",\\n        \\\"speechiness\\\",\\n        \\\"liveness\\\",\\n        \\\"instrumentalness\\\",\\n        \\\"valence\\\",\\n        \\\"tempo\\\",\\n        \\\"time_signature\\\",\\n    ]\\n)\";\n",
       "                var nbb_cells = Jupyter.notebook.get_cells();\n",
       "                for (var i = 0; i < nbb_cells.length; ++i) {\n",
       "                    if (nbb_cells[i].input_prompt_number == nbb_cell_id) {\n",
       "                        if (nbb_cells[i].get_text() == nbb_unformatted_code) {\n",
       "                             nbb_cells[i].set_text(nbb_formatted_code);\n",
       "                        }\n",
       "                        break;\n",
       "                    }\n",
       "                }\n",
       "            }, 500);\n",
       "            "
      ],
      "text/plain": [
       "<IPython.core.display.Javascript object>"
      ]
     },
     "metadata": {},
     "output_type": "display_data"
    }
   ],
   "source": [
    "genres = genres.drop(\n",
    "    columns=[\n",
    "        \"spotify_track_id\",\n",
    "        \"spotify_track_preview_url\",\n",
    "        \"spotify_track_duration_ms\",\n",
    "        \"spotify_track_popularity\",\n",
    "        \"danceability\",\n",
    "        \"energy\",\n",
    "        \"key\",\n",
    "        \"loudness\",\n",
    "        \"mode\",\n",
    "        \"acousticness\",\n",
    "        \"speechiness\",\n",
    "        \"liveness\",\n",
    "        \"instrumentalness\",\n",
    "        \"valence\",\n",
    "        \"tempo\",\n",
    "        \"time_signature\",\n",
    "    ]\n",
    ")"
   ]
  },
  {
   "cell_type": "markdown",
   "metadata": {},
   "source": [
    "# Basic table description data"
   ]
  },
  {
   "cell_type": "code",
   "execution_count": 8,
   "metadata": {},
   "outputs": [
    {
     "data": {
      "text/plain": [
       "(320495, 9)"
      ]
     },
     "execution_count": 8,
     "metadata": {},
     "output_type": "execute_result"
    },
    {
     "data": {
      "application/javascript": [
       "\n",
       "            setTimeout(function() {\n",
       "                var nbb_cell_id = 8;\n",
       "                var nbb_unformatted_code = \"hot_100.shape\";\n",
       "                var nbb_formatted_code = \"hot_100.shape\";\n",
       "                var nbb_cells = Jupyter.notebook.get_cells();\n",
       "                for (var i = 0; i < nbb_cells.length; ++i) {\n",
       "                    if (nbb_cells[i].input_prompt_number == nbb_cell_id) {\n",
       "                        if (nbb_cells[i].get_text() == nbb_unformatted_code) {\n",
       "                             nbb_cells[i].set_text(nbb_formatted_code);\n",
       "                        }\n",
       "                        break;\n",
       "                    }\n",
       "                }\n",
       "            }, 500);\n",
       "            "
      ],
      "text/plain": [
       "<IPython.core.display.Javascript object>"
      ]
     },
     "metadata": {},
     "output_type": "display_data"
    }
   ],
   "source": [
    "hot_100.shape"
   ]
  },
  {
   "cell_type": "code",
   "execution_count": 9,
   "metadata": {},
   "outputs": [
    {
     "data": {
      "text/plain": [
       "WeekID                        0\n",
       "Week Position                 0\n",
       "Song                          0\n",
       "Performer                     0\n",
       "SongID                        0\n",
       "Instance                      0\n",
       "Previous Week Position    30784\n",
       "Peak Position                 0\n",
       "Weeks on Chart                0\n",
       "dtype: int64"
      ]
     },
     "execution_count": 9,
     "metadata": {},
     "output_type": "execute_result"
    },
    {
     "data": {
      "application/javascript": [
       "\n",
       "            setTimeout(function() {\n",
       "                var nbb_cell_id = 9;\n",
       "                var nbb_unformatted_code = \"hot_100.isna().sum()\";\n",
       "                var nbb_formatted_code = \"hot_100.isna().sum()\";\n",
       "                var nbb_cells = Jupyter.notebook.get_cells();\n",
       "                for (var i = 0; i < nbb_cells.length; ++i) {\n",
       "                    if (nbb_cells[i].input_prompt_number == nbb_cell_id) {\n",
       "                        if (nbb_cells[i].get_text() == nbb_unformatted_code) {\n",
       "                             nbb_cells[i].set_text(nbb_formatted_code);\n",
       "                        }\n",
       "                        break;\n",
       "                    }\n",
       "                }\n",
       "            }, 500);\n",
       "            "
      ],
      "text/plain": [
       "<IPython.core.display.Javascript object>"
      ]
     },
     "metadata": {},
     "output_type": "display_data"
    }
   ],
   "source": [
    "hot_100.isna().sum()"
   ]
  },
  {
   "cell_type": "code",
   "execution_count": 10,
   "metadata": {},
   "outputs": [
    {
     "data": {
      "text/html": [
       "<div>\n",
       "<style scoped>\n",
       "    .dataframe tbody tr th:only-of-type {\n",
       "        vertical-align: middle;\n",
       "    }\n",
       "\n",
       "    .dataframe tbody tr th {\n",
       "        vertical-align: top;\n",
       "    }\n",
       "\n",
       "    .dataframe thead th {\n",
       "        text-align: right;\n",
       "    }\n",
       "</style>\n",
       "<table border=\"1\" class=\"dataframe\">\n",
       "  <thead>\n",
       "    <tr style=\"text-align: right;\">\n",
       "      <th></th>\n",
       "      <th>WeekID</th>\n",
       "      <th>Week Position</th>\n",
       "      <th>Song</th>\n",
       "      <th>Performer</th>\n",
       "      <th>SongID</th>\n",
       "      <th>Instance</th>\n",
       "      <th>Previous Week Position</th>\n",
       "      <th>Peak Position</th>\n",
       "      <th>Weeks on Chart</th>\n",
       "    </tr>\n",
       "  </thead>\n",
       "  <tbody>\n",
       "    <tr>\n",
       "      <th>0</th>\n",
       "      <td>8/2/1958</td>\n",
       "      <td>1</td>\n",
       "      <td>Poor Little Fool</td>\n",
       "      <td>Ricky Nelson</td>\n",
       "      <td>Poor Little FoolRicky Nelson</td>\n",
       "      <td>1</td>\n",
       "      <td>NaN</td>\n",
       "      <td>1</td>\n",
       "      <td>1</td>\n",
       "    </tr>\n",
       "    <tr>\n",
       "      <th>1</th>\n",
       "      <td>12/2/1995</td>\n",
       "      <td>1</td>\n",
       "      <td>One Sweet Day</td>\n",
       "      <td>Mariah Carey &amp; Boyz II Men</td>\n",
       "      <td>One Sweet DayMariah Carey &amp; Boyz II Men</td>\n",
       "      <td>1</td>\n",
       "      <td>NaN</td>\n",
       "      <td>1</td>\n",
       "      <td>1</td>\n",
       "    </tr>\n",
       "    <tr>\n",
       "      <th>2</th>\n",
       "      <td>10/11/1997</td>\n",
       "      <td>1</td>\n",
       "      <td>Candle In The Wind 1997/Something About The Wa...</td>\n",
       "      <td>Elton John</td>\n",
       "      <td>Candle In The Wind 1997/Something About The Wa...</td>\n",
       "      <td>1</td>\n",
       "      <td>NaN</td>\n",
       "      <td>1</td>\n",
       "      <td>1</td>\n",
       "    </tr>\n",
       "    <tr>\n",
       "      <th>3</th>\n",
       "      <td>7/1/2006</td>\n",
       "      <td>1</td>\n",
       "      <td>Do I Make You Proud</td>\n",
       "      <td>Taylor Hicks</td>\n",
       "      <td>Do I Make You ProudTaylor Hicks</td>\n",
       "      <td>1</td>\n",
       "      <td>NaN</td>\n",
       "      <td>1</td>\n",
       "      <td>1</td>\n",
       "    </tr>\n",
       "    <tr>\n",
       "      <th>4</th>\n",
       "      <td>10/24/2009</td>\n",
       "      <td>1</td>\n",
       "      <td>3</td>\n",
       "      <td>Britney Spears</td>\n",
       "      <td>3Britney Spears</td>\n",
       "      <td>1</td>\n",
       "      <td>NaN</td>\n",
       "      <td>1</td>\n",
       "      <td>1</td>\n",
       "    </tr>\n",
       "  </tbody>\n",
       "</table>\n",
       "</div>"
      ],
      "text/plain": [
       "       WeekID  Week Position  \\\n",
       "0    8/2/1958              1   \n",
       "1   12/2/1995              1   \n",
       "2  10/11/1997              1   \n",
       "3    7/1/2006              1   \n",
       "4  10/24/2009              1   \n",
       "\n",
       "                                                Song  \\\n",
       "0                                   Poor Little Fool   \n",
       "1                                      One Sweet Day   \n",
       "2  Candle In The Wind 1997/Something About The Wa...   \n",
       "3                                Do I Make You Proud   \n",
       "4                                                  3   \n",
       "\n",
       "                    Performer  \\\n",
       "0                Ricky Nelson   \n",
       "1  Mariah Carey & Boyz II Men   \n",
       "2                  Elton John   \n",
       "3                Taylor Hicks   \n",
       "4              Britney Spears   \n",
       "\n",
       "                                              SongID  Instance  \\\n",
       "0                       Poor Little FoolRicky Nelson         1   \n",
       "1            One Sweet DayMariah Carey & Boyz II Men         1   \n",
       "2  Candle In The Wind 1997/Something About The Wa...         1   \n",
       "3                    Do I Make You ProudTaylor Hicks         1   \n",
       "4                                    3Britney Spears         1   \n",
       "\n",
       "   Previous Week Position  Peak Position  Weeks on Chart  \n",
       "0                     NaN              1               1  \n",
       "1                     NaN              1               1  \n",
       "2                     NaN              1               1  \n",
       "3                     NaN              1               1  \n",
       "4                     NaN              1               1  "
      ]
     },
     "execution_count": 10,
     "metadata": {},
     "output_type": "execute_result"
    },
    {
     "data": {
      "application/javascript": [
       "\n",
       "            setTimeout(function() {\n",
       "                var nbb_cell_id = 10;\n",
       "                var nbb_unformatted_code = \"hot_100.head()\";\n",
       "                var nbb_formatted_code = \"hot_100.head()\";\n",
       "                var nbb_cells = Jupyter.notebook.get_cells();\n",
       "                for (var i = 0; i < nbb_cells.length; ++i) {\n",
       "                    if (nbb_cells[i].input_prompt_number == nbb_cell_id) {\n",
       "                        if (nbb_cells[i].get_text() == nbb_unformatted_code) {\n",
       "                             nbb_cells[i].set_text(nbb_formatted_code);\n",
       "                        }\n",
       "                        break;\n",
       "                    }\n",
       "                }\n",
       "            }, 500);\n",
       "            "
      ],
      "text/plain": [
       "<IPython.core.display.Javascript object>"
      ]
     },
     "metadata": {},
     "output_type": "display_data"
    }
   ],
   "source": [
    "hot_100.head()"
   ]
  },
  {
   "cell_type": "code",
   "execution_count": 11,
   "metadata": {},
   "outputs": [
    {
     "data": {
      "text/plain": [
       "WeekID                     object\n",
       "Week Position               int64\n",
       "Song                       object\n",
       "Performer                  object\n",
       "SongID                     object\n",
       "Instance                    int64\n",
       "Previous Week Position    float64\n",
       "Peak Position               int64\n",
       "Weeks on Chart              int64\n",
       "dtype: object"
      ]
     },
     "execution_count": 11,
     "metadata": {},
     "output_type": "execute_result"
    },
    {
     "data": {
      "application/javascript": [
       "\n",
       "            setTimeout(function() {\n",
       "                var nbb_cell_id = 11;\n",
       "                var nbb_unformatted_code = \"hot_100.dtypes\";\n",
       "                var nbb_formatted_code = \"hot_100.dtypes\";\n",
       "                var nbb_cells = Jupyter.notebook.get_cells();\n",
       "                for (var i = 0; i < nbb_cells.length; ++i) {\n",
       "                    if (nbb_cells[i].input_prompt_number == nbb_cell_id) {\n",
       "                        if (nbb_cells[i].get_text() == nbb_unformatted_code) {\n",
       "                             nbb_cells[i].set_text(nbb_formatted_code);\n",
       "                        }\n",
       "                        break;\n",
       "                    }\n",
       "                }\n",
       "            }, 500);\n",
       "            "
      ],
      "text/plain": [
       "<IPython.core.display.Javascript object>"
      ]
     },
     "metadata": {},
     "output_type": "display_data"
    }
   ],
   "source": [
    "hot_100.dtypes"
   ]
  },
  {
   "cell_type": "code",
   "execution_count": 12,
   "metadata": {},
   "outputs": [
    {
     "data": {
      "text/plain": [
       "(28470, 6)"
      ]
     },
     "execution_count": 12,
     "metadata": {},
     "output_type": "execute_result"
    },
    {
     "data": {
      "application/javascript": [
       "\n",
       "            setTimeout(function() {\n",
       "                var nbb_cell_id = 12;\n",
       "                var nbb_unformatted_code = \"genres.shape\";\n",
       "                var nbb_formatted_code = \"genres.shape\";\n",
       "                var nbb_cells = Jupyter.notebook.get_cells();\n",
       "                for (var i = 0; i < nbb_cells.length; ++i) {\n",
       "                    if (nbb_cells[i].input_prompt_number == nbb_cell_id) {\n",
       "                        if (nbb_cells[i].get_text() == nbb_unformatted_code) {\n",
       "                             nbb_cells[i].set_text(nbb_formatted_code);\n",
       "                        }\n",
       "                        break;\n",
       "                    }\n",
       "                }\n",
       "            }, 500);\n",
       "            "
      ],
      "text/plain": [
       "<IPython.core.display.Javascript object>"
      ]
     },
     "metadata": {},
     "output_type": "display_data"
    }
   ],
   "source": [
    "genres.shape"
   ]
  },
  {
   "cell_type": "code",
   "execution_count": 13,
   "metadata": {},
   "outputs": [
    {
     "data": {
      "text/plain": [
       "SongID                    0.000000\n",
       "Performer                 0.000000\n",
       "Song                      0.000000\n",
       "spotify_genre             0.043133\n",
       "spotify_track_album       0.166737\n",
       "spotify_track_explicit    0.166526\n",
       "dtype: float64"
      ]
     },
     "execution_count": 13,
     "metadata": {},
     "output_type": "execute_result"
    },
    {
     "data": {
      "application/javascript": [
       "\n",
       "            setTimeout(function() {\n",
       "                var nbb_cell_id = 13;\n",
       "                var nbb_unformatted_code = \"genres.isna().mean()\";\n",
       "                var nbb_formatted_code = \"genres.isna().mean()\";\n",
       "                var nbb_cells = Jupyter.notebook.get_cells();\n",
       "                for (var i = 0; i < nbb_cells.length; ++i) {\n",
       "                    if (nbb_cells[i].input_prompt_number == nbb_cell_id) {\n",
       "                        if (nbb_cells[i].get_text() == nbb_unformatted_code) {\n",
       "                             nbb_cells[i].set_text(nbb_formatted_code);\n",
       "                        }\n",
       "                        break;\n",
       "                    }\n",
       "                }\n",
       "            }, 500);\n",
       "            "
      ],
      "text/plain": [
       "<IPython.core.display.Javascript object>"
      ]
     },
     "metadata": {},
     "output_type": "display_data"
    }
   ],
   "source": [
    "genres.isna().mean()"
   ]
  },
  {
   "cell_type": "code",
   "execution_count": 14,
   "metadata": {},
   "outputs": [
    {
     "data": {
      "text/html": [
       "<div>\n",
       "<style scoped>\n",
       "    .dataframe tbody tr th:only-of-type {\n",
       "        vertical-align: middle;\n",
       "    }\n",
       "\n",
       "    .dataframe tbody tr th {\n",
       "        vertical-align: top;\n",
       "    }\n",
       "\n",
       "    .dataframe thead th {\n",
       "        text-align: right;\n",
       "    }\n",
       "</style>\n",
       "<table border=\"1\" class=\"dataframe\">\n",
       "  <thead>\n",
       "    <tr style=\"text-align: right;\">\n",
       "      <th></th>\n",
       "      <th>SongID</th>\n",
       "      <th>Performer</th>\n",
       "      <th>Song</th>\n",
       "      <th>spotify_genre</th>\n",
       "      <th>spotify_track_album</th>\n",
       "      <th>spotify_track_explicit</th>\n",
       "    </tr>\n",
       "  </thead>\n",
       "  <tbody>\n",
       "    <tr>\n",
       "      <th>0</th>\n",
       "      <td>AdictoTainy, Anuel AA &amp; Ozuna</td>\n",
       "      <td>Tainy, Anuel AA &amp; Ozuna</td>\n",
       "      <td>Adicto</td>\n",
       "      <td>['pop reggaeton']</td>\n",
       "      <td>Adicto (with Anuel AA &amp; Ozuna)</td>\n",
       "      <td>0.0</td>\n",
       "    </tr>\n",
       "    <tr>\n",
       "      <th>1</th>\n",
       "      <td>The Ones That Didn't Make It Back HomeJustin M...</td>\n",
       "      <td>Justin Moore</td>\n",
       "      <td>The Ones That Didn't Make It Back Home</td>\n",
       "      <td>['arkansas country', 'contemporary country', '...</td>\n",
       "      <td>NaN</td>\n",
       "      <td>NaN</td>\n",
       "    </tr>\n",
       "    <tr>\n",
       "      <th>2</th>\n",
       "      <td>ShallowLady Gaga &amp; Bradley Cooper</td>\n",
       "      <td>Lady Gaga &amp; Bradley Cooper</td>\n",
       "      <td>Shallow</td>\n",
       "      <td>['dance pop', 'pop']</td>\n",
       "      <td>A Star Is Born Soundtrack</td>\n",
       "      <td>0.0</td>\n",
       "    </tr>\n",
       "    <tr>\n",
       "      <th>3</th>\n",
       "      <td>EnemiesPost Malone Featuring DaBaby</td>\n",
       "      <td>Post Malone Featuring DaBaby</td>\n",
       "      <td>Enemies</td>\n",
       "      <td>['dfw rap', 'melodic rap', 'rap']</td>\n",
       "      <td>Hollywood's Bleeding</td>\n",
       "      <td>1.0</td>\n",
       "    </tr>\n",
       "    <tr>\n",
       "      <th>4</th>\n",
       "      <td>Bacc At It AgainYella Beezy, Gucci Mane &amp; Quavo</td>\n",
       "      <td>Yella Beezy, Gucci Mane &amp; Quavo</td>\n",
       "      <td>Bacc At It Again</td>\n",
       "      <td>['dfw rap', 'rap', 'southern hip hop', 'trap']</td>\n",
       "      <td>Bacc At It Again</td>\n",
       "      <td>1.0</td>\n",
       "    </tr>\n",
       "  </tbody>\n",
       "</table>\n",
       "</div>"
      ],
      "text/plain": [
       "                                              SongID  \\\n",
       "0                      AdictoTainy, Anuel AA & Ozuna   \n",
       "1  The Ones That Didn't Make It Back HomeJustin M...   \n",
       "2                  ShallowLady Gaga & Bradley Cooper   \n",
       "3                EnemiesPost Malone Featuring DaBaby   \n",
       "4    Bacc At It AgainYella Beezy, Gucci Mane & Quavo   \n",
       "\n",
       "                         Performer                                    Song  \\\n",
       "0          Tainy, Anuel AA & Ozuna                                  Adicto   \n",
       "1                     Justin Moore  The Ones That Didn't Make It Back Home   \n",
       "2       Lady Gaga & Bradley Cooper                                 Shallow   \n",
       "3     Post Malone Featuring DaBaby                                 Enemies   \n",
       "4  Yella Beezy, Gucci Mane & Quavo                        Bacc At It Again   \n",
       "\n",
       "                                       spotify_genre  \\\n",
       "0                                  ['pop reggaeton']   \n",
       "1  ['arkansas country', 'contemporary country', '...   \n",
       "2                               ['dance pop', 'pop']   \n",
       "3                  ['dfw rap', 'melodic rap', 'rap']   \n",
       "4     ['dfw rap', 'rap', 'southern hip hop', 'trap']   \n",
       "\n",
       "              spotify_track_album  spotify_track_explicit  \n",
       "0  Adicto (with Anuel AA & Ozuna)                     0.0  \n",
       "1                             NaN                     NaN  \n",
       "2       A Star Is Born Soundtrack                     0.0  \n",
       "3            Hollywood's Bleeding                     1.0  \n",
       "4                Bacc At It Again                     1.0  "
      ]
     },
     "execution_count": 14,
     "metadata": {},
     "output_type": "execute_result"
    },
    {
     "data": {
      "application/javascript": [
       "\n",
       "            setTimeout(function() {\n",
       "                var nbb_cell_id = 14;\n",
       "                var nbb_unformatted_code = \"genres.head()\";\n",
       "                var nbb_formatted_code = \"genres.head()\";\n",
       "                var nbb_cells = Jupyter.notebook.get_cells();\n",
       "                for (var i = 0; i < nbb_cells.length; ++i) {\n",
       "                    if (nbb_cells[i].input_prompt_number == nbb_cell_id) {\n",
       "                        if (nbb_cells[i].get_text() == nbb_unformatted_code) {\n",
       "                             nbb_cells[i].set_text(nbb_formatted_code);\n",
       "                        }\n",
       "                        break;\n",
       "                    }\n",
       "                }\n",
       "            }, 500);\n",
       "            "
      ],
      "text/plain": [
       "<IPython.core.display.Javascript object>"
      ]
     },
     "metadata": {},
     "output_type": "display_data"
    }
   ],
   "source": [
    "genres.head()"
   ]
  },
  {
   "cell_type": "code",
   "execution_count": 15,
   "metadata": {},
   "outputs": [
    {
     "data": {
      "text/plain": [
       "SongID                     object\n",
       "Performer                  object\n",
       "Song                       object\n",
       "spotify_genre              object\n",
       "spotify_track_album        object\n",
       "spotify_track_explicit    float64\n",
       "dtype: object"
      ]
     },
     "execution_count": 15,
     "metadata": {},
     "output_type": "execute_result"
    },
    {
     "data": {
      "application/javascript": [
       "\n",
       "            setTimeout(function() {\n",
       "                var nbb_cell_id = 15;\n",
       "                var nbb_unformatted_code = \"genres.dtypes\";\n",
       "                var nbb_formatted_code = \"genres.dtypes\";\n",
       "                var nbb_cells = Jupyter.notebook.get_cells();\n",
       "                for (var i = 0; i < nbb_cells.length; ++i) {\n",
       "                    if (nbb_cells[i].input_prompt_number == nbb_cell_id) {\n",
       "                        if (nbb_cells[i].get_text() == nbb_unformatted_code) {\n",
       "                             nbb_cells[i].set_text(nbb_formatted_code);\n",
       "                        }\n",
       "                        break;\n",
       "                    }\n",
       "                }\n",
       "            }, 500);\n",
       "            "
      ],
      "text/plain": [
       "<IPython.core.display.Javascript object>"
      ]
     },
     "metadata": {},
     "output_type": "display_data"
    }
   ],
   "source": [
    "genres.dtypes"
   ]
  },
  {
   "cell_type": "markdown",
   "metadata": {},
   "source": [
    "# Fill null values"
   ]
  },
  {
   "cell_type": "code",
   "execution_count": 35,
   "metadata": {},
   "outputs": [
    {
     "data": {
      "application/javascript": [
       "\n",
       "            setTimeout(function() {\n",
       "                var nbb_cell_id = 35;\n",
       "                var nbb_unformatted_code = \"genres[\\\"spotify_track_album\\\"].fillna(\\\" \\\", inplace=True)\\nhot_100[\\\"Previous Week Position\\\"].fillna(int(0), inplace=True)\\ngenres[\\\"spotify_track_explicit\\\"].fillna(999, inplace=True)\";\n",
       "                var nbb_formatted_code = \"genres[\\\"spotify_track_album\\\"].fillna(\\\" \\\", inplace=True)\\nhot_100[\\\"Previous Week Position\\\"].fillna(int(0), inplace=True)\\ngenres[\\\"spotify_track_explicit\\\"].fillna(999, inplace=True)\";\n",
       "                var nbb_cells = Jupyter.notebook.get_cells();\n",
       "                for (var i = 0; i < nbb_cells.length; ++i) {\n",
       "                    if (nbb_cells[i].input_prompt_number == nbb_cell_id) {\n",
       "                        if (nbb_cells[i].get_text() == nbb_unformatted_code) {\n",
       "                             nbb_cells[i].set_text(nbb_formatted_code);\n",
       "                        }\n",
       "                        break;\n",
       "                    }\n",
       "                }\n",
       "            }, 500);\n",
       "            "
      ],
      "text/plain": [
       "<IPython.core.display.Javascript object>"
      ]
     },
     "metadata": {},
     "output_type": "display_data"
    }
   ],
   "source": [
    "genres[\"spotify_track_album\"].fillna(\" \", inplace=True)\n",
    "hot_100[\"Previous Week Position\"].fillna(int(0), inplace=True)\n",
    "genres[\"spotify_track_explicit\"].fillna(999, inplace=True)"
   ]
  },
  {
   "cell_type": "code",
   "execution_count": 36,
   "metadata": {},
   "outputs": [
    {
     "data": {
      "application/javascript": [
       "\n",
       "            setTimeout(function() {\n",
       "                var nbb_cell_id = 36;\n",
       "                var nbb_unformatted_code = \"hot_100 = hot_100.astype({\\\"Previous Week Position\\\": int})\";\n",
       "                var nbb_formatted_code = \"hot_100 = hot_100.astype({\\\"Previous Week Position\\\": int})\";\n",
       "                var nbb_cells = Jupyter.notebook.get_cells();\n",
       "                for (var i = 0; i < nbb_cells.length; ++i) {\n",
       "                    if (nbb_cells[i].input_prompt_number == nbb_cell_id) {\n",
       "                        if (nbb_cells[i].get_text() == nbb_unformatted_code) {\n",
       "                             nbb_cells[i].set_text(nbb_formatted_code);\n",
       "                        }\n",
       "                        break;\n",
       "                    }\n",
       "                }\n",
       "            }, 500);\n",
       "            "
      ],
      "text/plain": [
       "<IPython.core.display.Javascript object>"
      ]
     },
     "metadata": {},
     "output_type": "display_data"
    }
   ],
   "source": [
    "hot_100 = hot_100.astype({\"Previous Week Position\": int})"
   ]
  },
  {
   "cell_type": "code",
   "execution_count": 37,
   "metadata": {},
   "outputs": [
    {
     "data": {
      "application/javascript": [
       "\n",
       "            setTimeout(function() {\n",
       "                var nbb_cell_id = 37;\n",
       "                var nbb_unformatted_code = \"genres[\\\"spotify_genre\\\"].fillna(\\\"[]\\\", inplace=True)\\ngenres[\\\"spotify_genre_list\\\"] = genres[\\\"spotify_genre\\\"].apply(ast.literal_eval)\";\n",
       "                var nbb_formatted_code = \"genres[\\\"spotify_genre\\\"].fillna(\\\"[]\\\", inplace=True)\\ngenres[\\\"spotify_genre_list\\\"] = genres[\\\"spotify_genre\\\"].apply(ast.literal_eval)\";\n",
       "                var nbb_cells = Jupyter.notebook.get_cells();\n",
       "                for (var i = 0; i < nbb_cells.length; ++i) {\n",
       "                    if (nbb_cells[i].input_prompt_number == nbb_cell_id) {\n",
       "                        if (nbb_cells[i].get_text() == nbb_unformatted_code) {\n",
       "                             nbb_cells[i].set_text(nbb_formatted_code);\n",
       "                        }\n",
       "                        break;\n",
       "                    }\n",
       "                }\n",
       "            }, 500);\n",
       "            "
      ],
      "text/plain": [
       "<IPython.core.display.Javascript object>"
      ]
     },
     "metadata": {},
     "output_type": "display_data"
    }
   ],
   "source": [
    "genres[\"spotify_genre\"].fillna(\"[]\", inplace=True)\n",
    "genres[\"spotify_genre_list\"] = genres[\"spotify_genre\"].apply(ast.literal_eval)"
   ]
  },
  {
   "cell_type": "code",
   "execution_count": 38,
   "metadata": {},
   "outputs": [
    {
     "data": {
      "application/javascript": [
       "\n",
       "            setTimeout(function() {\n",
       "                var nbb_cell_id = 38;\n",
       "                var nbb_unformatted_code = \"genres = genres.astype({\\\"spotify_track_explicit\\\": int})\";\n",
       "                var nbb_formatted_code = \"genres = genres.astype({\\\"spotify_track_explicit\\\": int})\";\n",
       "                var nbb_cells = Jupyter.notebook.get_cells();\n",
       "                for (var i = 0; i < nbb_cells.length; ++i) {\n",
       "                    if (nbb_cells[i].input_prompt_number == nbb_cell_id) {\n",
       "                        if (nbb_cells[i].get_text() == nbb_unformatted_code) {\n",
       "                             nbb_cells[i].set_text(nbb_formatted_code);\n",
       "                        }\n",
       "                        break;\n",
       "                    }\n",
       "                }\n",
       "            }, 500);\n",
       "            "
      ],
      "text/plain": [
       "<IPython.core.display.Javascript object>"
      ]
     },
     "metadata": {},
     "output_type": "display_data"
    }
   ],
   "source": [
    "genres = genres.astype({\"spotify_track_explicit\": int})"
   ]
  },
  {
   "cell_type": "markdown",
   "metadata": {},
   "source": [
    "# Join the 2 tables"
   ]
  },
  {
   "cell_type": "code",
   "execution_count": 39,
   "metadata": {},
   "outputs": [
    {
     "data": {
      "text/html": [
       "<div>\n",
       "<style scoped>\n",
       "    .dataframe tbody tr th:only-of-type {\n",
       "        vertical-align: middle;\n",
       "    }\n",
       "\n",
       "    .dataframe tbody tr th {\n",
       "        vertical-align: top;\n",
       "    }\n",
       "\n",
       "    .dataframe thead th {\n",
       "        text-align: right;\n",
       "    }\n",
       "</style>\n",
       "<table border=\"1\" class=\"dataframe\">\n",
       "  <thead>\n",
       "    <tr style=\"text-align: right;\">\n",
       "      <th></th>\n",
       "      <th>WeekID</th>\n",
       "      <th>Week Position</th>\n",
       "      <th>Song_x</th>\n",
       "      <th>Performer_x</th>\n",
       "      <th>SongID</th>\n",
       "      <th>Instance</th>\n",
       "      <th>Previous Week Position</th>\n",
       "      <th>Peak Position</th>\n",
       "      <th>Weeks on Chart</th>\n",
       "      <th>Performer_y</th>\n",
       "      <th>Song_y</th>\n",
       "      <th>spotify_genre</th>\n",
       "      <th>spotify_track_album</th>\n",
       "      <th>spotify_track_explicit</th>\n",
       "      <th>spotify_genre_list</th>\n",
       "    </tr>\n",
       "  </thead>\n",
       "  <tbody>\n",
       "    <tr>\n",
       "      <th>0</th>\n",
       "      <td>2/2/2019</td>\n",
       "      <td>1</td>\n",
       "      <td>7 Rings</td>\n",
       "      <td>Ariana Grande</td>\n",
       "      <td>7 RingsAriana Grande</td>\n",
       "      <td>1</td>\n",
       "      <td>0</td>\n",
       "      <td>1</td>\n",
       "      <td>1</td>\n",
       "      <td>Ariana Grande</td>\n",
       "      <td>7 Rings</td>\n",
       "      <td>['dance pop', 'pop', 'post-teen pop']</td>\n",
       "      <td>thank</td>\n",
       "      <td>1</td>\n",
       "      <td>[dance pop, pop, post-teen pop]</td>\n",
       "    </tr>\n",
       "    <tr>\n",
       "      <th>1</th>\n",
       "      <td>5/25/2019</td>\n",
       "      <td>11</td>\n",
       "      <td>7 Rings</td>\n",
       "      <td>Ariana Grande</td>\n",
       "      <td>7 RingsAriana Grande</td>\n",
       "      <td>1</td>\n",
       "      <td>10</td>\n",
       "      <td>1</td>\n",
       "      <td>17</td>\n",
       "      <td>Ariana Grande</td>\n",
       "      <td>7 Rings</td>\n",
       "      <td>['dance pop', 'pop', 'post-teen pop']</td>\n",
       "      <td>thank</td>\n",
       "      <td>1</td>\n",
       "      <td>[dance pop, pop, post-teen pop]</td>\n",
       "    </tr>\n",
       "    <tr>\n",
       "      <th>2</th>\n",
       "      <td>4/20/2019</td>\n",
       "      <td>4</td>\n",
       "      <td>7 Rings</td>\n",
       "      <td>Ariana Grande</td>\n",
       "      <td>7 RingsAriana Grande</td>\n",
       "      <td>1</td>\n",
       "      <td>3</td>\n",
       "      <td>1</td>\n",
       "      <td>12</td>\n",
       "      <td>Ariana Grande</td>\n",
       "      <td>7 Rings</td>\n",
       "      <td>['dance pop', 'pop', 'post-teen pop']</td>\n",
       "      <td>thank</td>\n",
       "      <td>1</td>\n",
       "      <td>[dance pop, pop, post-teen pop]</td>\n",
       "    </tr>\n",
       "    <tr>\n",
       "      <th>3</th>\n",
       "      <td>6/1/2019</td>\n",
       "      <td>12</td>\n",
       "      <td>7 Rings</td>\n",
       "      <td>Ariana Grande</td>\n",
       "      <td>7 RingsAriana Grande</td>\n",
       "      <td>1</td>\n",
       "      <td>11</td>\n",
       "      <td>1</td>\n",
       "      <td>18</td>\n",
       "      <td>Ariana Grande</td>\n",
       "      <td>7 Rings</td>\n",
       "      <td>['dance pop', 'pop', 'post-teen pop']</td>\n",
       "      <td>thank</td>\n",
       "      <td>1</td>\n",
       "      <td>[dance pop, pop, post-teen pop]</td>\n",
       "    </tr>\n",
       "    <tr>\n",
       "      <th>4</th>\n",
       "      <td>3/30/2019</td>\n",
       "      <td>1</td>\n",
       "      <td>7 Rings</td>\n",
       "      <td>Ariana Grande</td>\n",
       "      <td>7 RingsAriana Grande</td>\n",
       "      <td>1</td>\n",
       "      <td>1</td>\n",
       "      <td>1</td>\n",
       "      <td>9</td>\n",
       "      <td>Ariana Grande</td>\n",
       "      <td>7 Rings</td>\n",
       "      <td>['dance pop', 'pop', 'post-teen pop']</td>\n",
       "      <td>thank</td>\n",
       "      <td>1</td>\n",
       "      <td>[dance pop, pop, post-teen pop]</td>\n",
       "    </tr>\n",
       "    <tr>\n",
       "      <th>...</th>\n",
       "      <td>...</td>\n",
       "      <td>...</td>\n",
       "      <td>...</td>\n",
       "      <td>...</td>\n",
       "      <td>...</td>\n",
       "      <td>...</td>\n",
       "      <td>...</td>\n",
       "      <td>...</td>\n",
       "      <td>...</td>\n",
       "      <td>...</td>\n",
       "      <td>...</td>\n",
       "      <td>...</td>\n",
       "      <td>...</td>\n",
       "      <td>...</td>\n",
       "      <td>...</td>\n",
       "    </tr>\n",
       "    <tr>\n",
       "      <th>286212</th>\n",
       "      <td>8/25/1962</td>\n",
       "      <td>18</td>\n",
       "      <td>What's A Matter Baby (Is It Hurting You)</td>\n",
       "      <td>Timi Yuro</td>\n",
       "      <td>What's A Matter Baby (Is It Hurting You)Timi Yuro</td>\n",
       "      <td>1</td>\n",
       "      <td>23</td>\n",
       "      <td>18</td>\n",
       "      <td>7</td>\n",
       "      <td>Timi Yuro</td>\n",
       "      <td>What's A Matter Baby (Is It Hurting You)</td>\n",
       "      <td>['adult standards', 'brill building pop']</td>\n",
       "      <td>The Best Of Timi Yuro</td>\n",
       "      <td>0</td>\n",
       "      <td>[adult standards, brill building pop]</td>\n",
       "    </tr>\n",
       "    <tr>\n",
       "      <th>286213</th>\n",
       "      <td>9/1/1962</td>\n",
       "      <td>12</td>\n",
       "      <td>What's A Matter Baby (Is It Hurting You)</td>\n",
       "      <td>Timi Yuro</td>\n",
       "      <td>What's A Matter Baby (Is It Hurting You)Timi Yuro</td>\n",
       "      <td>1</td>\n",
       "      <td>18</td>\n",
       "      <td>12</td>\n",
       "      <td>8</td>\n",
       "      <td>Timi Yuro</td>\n",
       "      <td>What's A Matter Baby (Is It Hurting You)</td>\n",
       "      <td>['adult standards', 'brill building pop']</td>\n",
       "      <td>The Best Of Timi Yuro</td>\n",
       "      <td>0</td>\n",
       "      <td>[adult standards, brill building pop]</td>\n",
       "    </tr>\n",
       "    <tr>\n",
       "      <th>286214</th>\n",
       "      <td>9/8/1962</td>\n",
       "      <td>14</td>\n",
       "      <td>What's A Matter Baby (Is It Hurting You)</td>\n",
       "      <td>Timi Yuro</td>\n",
       "      <td>What's A Matter Baby (Is It Hurting You)Timi Yuro</td>\n",
       "      <td>1</td>\n",
       "      <td>12</td>\n",
       "      <td>12</td>\n",
       "      <td>9</td>\n",
       "      <td>Timi Yuro</td>\n",
       "      <td>What's A Matter Baby (Is It Hurting You)</td>\n",
       "      <td>['adult standards', 'brill building pop']</td>\n",
       "      <td>The Best Of Timi Yuro</td>\n",
       "      <td>0</td>\n",
       "      <td>[adult standards, brill building pop]</td>\n",
       "    </tr>\n",
       "    <tr>\n",
       "      <th>286215</th>\n",
       "      <td>9/15/1962</td>\n",
       "      <td>31</td>\n",
       "      <td>What's A Matter Baby (Is It Hurting You)</td>\n",
       "      <td>Timi Yuro</td>\n",
       "      <td>What's A Matter Baby (Is It Hurting You)Timi Yuro</td>\n",
       "      <td>1</td>\n",
       "      <td>14</td>\n",
       "      <td>12</td>\n",
       "      <td>10</td>\n",
       "      <td>Timi Yuro</td>\n",
       "      <td>What's A Matter Baby (Is It Hurting You)</td>\n",
       "      <td>['adult standards', 'brill building pop']</td>\n",
       "      <td>The Best Of Timi Yuro</td>\n",
       "      <td>0</td>\n",
       "      <td>[adult standards, brill building pop]</td>\n",
       "    </tr>\n",
       "    <tr>\n",
       "      <th>286216</th>\n",
       "      <td>9/22/1962</td>\n",
       "      <td>47</td>\n",
       "      <td>What's A Matter Baby (Is It Hurting You)</td>\n",
       "      <td>Timi Yuro</td>\n",
       "      <td>What's A Matter Baby (Is It Hurting You)Timi Yuro</td>\n",
       "      <td>1</td>\n",
       "      <td>31</td>\n",
       "      <td>12</td>\n",
       "      <td>11</td>\n",
       "      <td>Timi Yuro</td>\n",
       "      <td>What's A Matter Baby (Is It Hurting You)</td>\n",
       "      <td>['adult standards', 'brill building pop']</td>\n",
       "      <td>The Best Of Timi Yuro</td>\n",
       "      <td>0</td>\n",
       "      <td>[adult standards, brill building pop]</td>\n",
       "    </tr>\n",
       "  </tbody>\n",
       "</table>\n",
       "<p>286217 rows × 15 columns</p>\n",
       "</div>"
      ],
      "text/plain": [
       "           WeekID  Week Position                                    Song_x  \\\n",
       "0        2/2/2019              1                                   7 Rings   \n",
       "1       5/25/2019             11                                   7 Rings   \n",
       "2       4/20/2019              4                                   7 Rings   \n",
       "3        6/1/2019             12                                   7 Rings   \n",
       "4       3/30/2019              1                                   7 Rings   \n",
       "...           ...            ...                                       ...   \n",
       "286212  8/25/1962             18  What's A Matter Baby (Is It Hurting You)   \n",
       "286213   9/1/1962             12  What's A Matter Baby (Is It Hurting You)   \n",
       "286214   9/8/1962             14  What's A Matter Baby (Is It Hurting You)   \n",
       "286215  9/15/1962             31  What's A Matter Baby (Is It Hurting You)   \n",
       "286216  9/22/1962             47  What's A Matter Baby (Is It Hurting You)   \n",
       "\n",
       "          Performer_x                                             SongID  \\\n",
       "0       Ariana Grande                               7 RingsAriana Grande   \n",
       "1       Ariana Grande                               7 RingsAriana Grande   \n",
       "2       Ariana Grande                               7 RingsAriana Grande   \n",
       "3       Ariana Grande                               7 RingsAriana Grande   \n",
       "4       Ariana Grande                               7 RingsAriana Grande   \n",
       "...               ...                                                ...   \n",
       "286212      Timi Yuro  What's A Matter Baby (Is It Hurting You)Timi Yuro   \n",
       "286213      Timi Yuro  What's A Matter Baby (Is It Hurting You)Timi Yuro   \n",
       "286214      Timi Yuro  What's A Matter Baby (Is It Hurting You)Timi Yuro   \n",
       "286215      Timi Yuro  What's A Matter Baby (Is It Hurting You)Timi Yuro   \n",
       "286216      Timi Yuro  What's A Matter Baby (Is It Hurting You)Timi Yuro   \n",
       "\n",
       "        Instance  Previous Week Position  Peak Position  Weeks on Chart  \\\n",
       "0              1                       0              1               1   \n",
       "1              1                      10              1              17   \n",
       "2              1                       3              1              12   \n",
       "3              1                      11              1              18   \n",
       "4              1                       1              1               9   \n",
       "...          ...                     ...            ...             ...   \n",
       "286212         1                      23             18               7   \n",
       "286213         1                      18             12               8   \n",
       "286214         1                      12             12               9   \n",
       "286215         1                      14             12              10   \n",
       "286216         1                      31             12              11   \n",
       "\n",
       "          Performer_y                                    Song_y  \\\n",
       "0       Ariana Grande                                   7 Rings   \n",
       "1       Ariana Grande                                   7 Rings   \n",
       "2       Ariana Grande                                   7 Rings   \n",
       "3       Ariana Grande                                   7 Rings   \n",
       "4       Ariana Grande                                   7 Rings   \n",
       "...               ...                                       ...   \n",
       "286212      Timi Yuro  What's A Matter Baby (Is It Hurting You)   \n",
       "286213      Timi Yuro  What's A Matter Baby (Is It Hurting You)   \n",
       "286214      Timi Yuro  What's A Matter Baby (Is It Hurting You)   \n",
       "286215      Timi Yuro  What's A Matter Baby (Is It Hurting You)   \n",
       "286216      Timi Yuro  What's A Matter Baby (Is It Hurting You)   \n",
       "\n",
       "                                    spotify_genre    spotify_track_album  \\\n",
       "0           ['dance pop', 'pop', 'post-teen pop']                 thank    \n",
       "1           ['dance pop', 'pop', 'post-teen pop']                 thank    \n",
       "2           ['dance pop', 'pop', 'post-teen pop']                 thank    \n",
       "3           ['dance pop', 'pop', 'post-teen pop']                 thank    \n",
       "4           ['dance pop', 'pop', 'post-teen pop']                 thank    \n",
       "...                                           ...                    ...   \n",
       "286212  ['adult standards', 'brill building pop']  The Best Of Timi Yuro   \n",
       "286213  ['adult standards', 'brill building pop']  The Best Of Timi Yuro   \n",
       "286214  ['adult standards', 'brill building pop']  The Best Of Timi Yuro   \n",
       "286215  ['adult standards', 'brill building pop']  The Best Of Timi Yuro   \n",
       "286216  ['adult standards', 'brill building pop']  The Best Of Timi Yuro   \n",
       "\n",
       "        spotify_track_explicit                     spotify_genre_list  \n",
       "0                            1        [dance pop, pop, post-teen pop]  \n",
       "1                            1        [dance pop, pop, post-teen pop]  \n",
       "2                            1        [dance pop, pop, post-teen pop]  \n",
       "3                            1        [dance pop, pop, post-teen pop]  \n",
       "4                            1        [dance pop, pop, post-teen pop]  \n",
       "...                        ...                                    ...  \n",
       "286212                       0  [adult standards, brill building pop]  \n",
       "286213                       0  [adult standards, brill building pop]  \n",
       "286214                       0  [adult standards, brill building pop]  \n",
       "286215                       0  [adult standards, brill building pop]  \n",
       "286216                       0  [adult standards, brill building pop]  \n",
       "\n",
       "[286217 rows x 15 columns]"
      ]
     },
     "execution_count": 39,
     "metadata": {},
     "output_type": "execute_result"
    },
    {
     "data": {
      "application/javascript": [
       "\n",
       "            setTimeout(function() {\n",
       "                var nbb_cell_id = 39;\n",
       "                var nbb_unformatted_code = \"full_table = hot_100.merge(genres, left_on=\\\"SongID\\\", right_on=\\\"SongID\\\")\\nfull_table\";\n",
       "                var nbb_formatted_code = \"full_table = hot_100.merge(genres, left_on=\\\"SongID\\\", right_on=\\\"SongID\\\")\\nfull_table\";\n",
       "                var nbb_cells = Jupyter.notebook.get_cells();\n",
       "                for (var i = 0; i < nbb_cells.length; ++i) {\n",
       "                    if (nbb_cells[i].input_prompt_number == nbb_cell_id) {\n",
       "                        if (nbb_cells[i].get_text() == nbb_unformatted_code) {\n",
       "                             nbb_cells[i].set_text(nbb_formatted_code);\n",
       "                        }\n",
       "                        break;\n",
       "                    }\n",
       "                }\n",
       "            }, 500);\n",
       "            "
      ],
      "text/plain": [
       "<IPython.core.display.Javascript object>"
      ]
     },
     "metadata": {},
     "output_type": "display_data"
    }
   ],
   "source": [
    "full_table = hot_100.merge(genres, left_on=\"SongID\", right_on=\"SongID\")\n",
    "full_table"
   ]
  },
  {
   "cell_type": "markdown",
   "metadata": {},
   "source": [
    "# Remove unnecessary columns, re-label columns"
   ]
  },
  {
   "cell_type": "code",
   "execution_count": 40,
   "metadata": {},
   "outputs": [
    {
     "data": {
      "application/javascript": [
       "\n",
       "            setTimeout(function() {\n",
       "                var nbb_cell_id = 40;\n",
       "                var nbb_unformatted_code = \"full_table = full_table.drop(columns=[\\\"Performer_y\\\", \\\"Song_y\\\"])\";\n",
       "                var nbb_formatted_code = \"full_table = full_table.drop(columns=[\\\"Performer_y\\\", \\\"Song_y\\\"])\";\n",
       "                var nbb_cells = Jupyter.notebook.get_cells();\n",
       "                for (var i = 0; i < nbb_cells.length; ++i) {\n",
       "                    if (nbb_cells[i].input_prompt_number == nbb_cell_id) {\n",
       "                        if (nbb_cells[i].get_text() == nbb_unformatted_code) {\n",
       "                             nbb_cells[i].set_text(nbb_formatted_code);\n",
       "                        }\n",
       "                        break;\n",
       "                    }\n",
       "                }\n",
       "            }, 500);\n",
       "            "
      ],
      "text/plain": [
       "<IPython.core.display.Javascript object>"
      ]
     },
     "metadata": {},
     "output_type": "display_data"
    }
   ],
   "source": [
    "full_table = full_table.drop(columns=[\"Performer_y\", \"Song_y\"])"
   ]
  },
  {
   "cell_type": "code",
   "execution_count": 41,
   "metadata": {},
   "outputs": [
    {
     "data": {
      "application/javascript": [
       "\n",
       "            setTimeout(function() {\n",
       "                var nbb_cell_id = 41;\n",
       "                var nbb_unformatted_code = \"full_table.rename(\\n    columns={\\n        \\\"WeekID\\\": \\\"week\\\",\\n        \\\"Week Position\\\": \\\"week_pos\\\",\\n        \\\"Song_x\\\": \\\"song\\\",\\n        \\\"Performer_x\\\": \\\"artist\\\",\\n        \\\"SongID\\\": \\\"song_id\\\",\\n        \\\"Instance\\\": \\\"instance\\\",\\n        \\\"Previous Week Position\\\": \\\"prev_week_pos\\\",\\n        \\\"Peak Position\\\": \\\"peak_pos\\\",\\n        \\\"Weeks on Chart\\\": \\\"weeks_on_chart\\\",\\n        \\\"spotify_genre\\\": \\\"genre\\\",\\n        \\\"spotify_genre_list\\\": \\\"genre_list\\\",\\n        \\\"spotify_track_album\\\": \\\"album\\\",\\n        \\\"spotify_track_explicit\\\": \\\"explicit\\\",\\n    },\\n    inplace=True,\\n)\";\n",
       "                var nbb_formatted_code = \"full_table.rename(\\n    columns={\\n        \\\"WeekID\\\": \\\"week\\\",\\n        \\\"Week Position\\\": \\\"week_pos\\\",\\n        \\\"Song_x\\\": \\\"song\\\",\\n        \\\"Performer_x\\\": \\\"artist\\\",\\n        \\\"SongID\\\": \\\"song_id\\\",\\n        \\\"Instance\\\": \\\"instance\\\",\\n        \\\"Previous Week Position\\\": \\\"prev_week_pos\\\",\\n        \\\"Peak Position\\\": \\\"peak_pos\\\",\\n        \\\"Weeks on Chart\\\": \\\"weeks_on_chart\\\",\\n        \\\"spotify_genre\\\": \\\"genre\\\",\\n        \\\"spotify_genre_list\\\": \\\"genre_list\\\",\\n        \\\"spotify_track_album\\\": \\\"album\\\",\\n        \\\"spotify_track_explicit\\\": \\\"explicit\\\",\\n    },\\n    inplace=True,\\n)\";\n",
       "                var nbb_cells = Jupyter.notebook.get_cells();\n",
       "                for (var i = 0; i < nbb_cells.length; ++i) {\n",
       "                    if (nbb_cells[i].input_prompt_number == nbb_cell_id) {\n",
       "                        if (nbb_cells[i].get_text() == nbb_unformatted_code) {\n",
       "                             nbb_cells[i].set_text(nbb_formatted_code);\n",
       "                        }\n",
       "                        break;\n",
       "                    }\n",
       "                }\n",
       "            }, 500);\n",
       "            "
      ],
      "text/plain": [
       "<IPython.core.display.Javascript object>"
      ]
     },
     "metadata": {},
     "output_type": "display_data"
    }
   ],
   "source": [
    "full_table.rename(\n",
    "    columns={\n",
    "        \"WeekID\": \"week\",\n",
    "        \"Week Position\": \"week_pos\",\n",
    "        \"Song_x\": \"song\",\n",
    "        \"Performer_x\": \"artist\",\n",
    "        \"SongID\": \"song_id\",\n",
    "        \"Instance\": \"instance\",\n",
    "        \"Previous Week Position\": \"prev_week_pos\",\n",
    "        \"Peak Position\": \"peak_pos\",\n",
    "        \"Weeks on Chart\": \"weeks_on_chart\",\n",
    "        \"spotify_genre\": \"genre\",\n",
    "        \"spotify_genre_list\": \"genre_list\",\n",
    "        \"spotify_track_album\": \"album\",\n",
    "        \"spotify_track_explicit\": \"explicit\",\n",
    "    },\n",
    "    inplace=True,\n",
    ")"
   ]
  },
  {
   "cell_type": "markdown",
   "metadata": {},
   "source": [
    "# Split week date by day, month, year"
   ]
  },
  {
   "cell_type": "code",
   "execution_count": 42,
   "metadata": {},
   "outputs": [
    {
     "data": {
      "application/javascript": [
       "\n",
       "            setTimeout(function() {\n",
       "                var nbb_cell_id = 42;\n",
       "                var nbb_unformatted_code = \"full_table[\\\"week\\\"] = full_table[\\\"week\\\"].apply(\\n    lambda x: datetime.strptime(x, \\\"%m/%d/%Y\\\")\\n)\\nfull_table[\\\"week\\\"] = pd.to_datetime(full_table[\\\"week\\\"])\";\n",
       "                var nbb_formatted_code = \"full_table[\\\"week\\\"] = full_table[\\\"week\\\"].apply(\\n    lambda x: datetime.strptime(x, \\\"%m/%d/%Y\\\")\\n)\\nfull_table[\\\"week\\\"] = pd.to_datetime(full_table[\\\"week\\\"])\";\n",
       "                var nbb_cells = Jupyter.notebook.get_cells();\n",
       "                for (var i = 0; i < nbb_cells.length; ++i) {\n",
       "                    if (nbb_cells[i].input_prompt_number == nbb_cell_id) {\n",
       "                        if (nbb_cells[i].get_text() == nbb_unformatted_code) {\n",
       "                             nbb_cells[i].set_text(nbb_formatted_code);\n",
       "                        }\n",
       "                        break;\n",
       "                    }\n",
       "                }\n",
       "            }, 500);\n",
       "            "
      ],
      "text/plain": [
       "<IPython.core.display.Javascript object>"
      ]
     },
     "metadata": {},
     "output_type": "display_data"
    }
   ],
   "source": [
    "full_table[\"week\"] = full_table[\"week\"].apply(\n",
    "    lambda x: datetime.strptime(x, \"%m/%d/%Y\")\n",
    ")\n",
    "full_table[\"week\"] = pd.to_datetime(full_table[\"week\"])"
   ]
  },
  {
   "cell_type": "code",
   "execution_count": 43,
   "metadata": {},
   "outputs": [
    {
     "data": {
      "application/javascript": [
       "\n",
       "            setTimeout(function() {\n",
       "                var nbb_cell_id = 43;\n",
       "                var nbb_unformatted_code = \"# full_table.set_index([\\\"song\\\", \\\"week\\\"])\";\n",
       "                var nbb_formatted_code = \"# full_table.set_index([\\\"song\\\", \\\"week\\\"])\";\n",
       "                var nbb_cells = Jupyter.notebook.get_cells();\n",
       "                for (var i = 0; i < nbb_cells.length; ++i) {\n",
       "                    if (nbb_cells[i].input_prompt_number == nbb_cell_id) {\n",
       "                        if (nbb_cells[i].get_text() == nbb_unformatted_code) {\n",
       "                             nbb_cells[i].set_text(nbb_formatted_code);\n",
       "                        }\n",
       "                        break;\n",
       "                    }\n",
       "                }\n",
       "            }, 500);\n",
       "            "
      ],
      "text/plain": [
       "<IPython.core.display.Javascript object>"
      ]
     },
     "metadata": {},
     "output_type": "display_data"
    }
   ],
   "source": [
    "# full_table.set_index([\"song\", \"week\"])"
   ]
  },
  {
   "cell_type": "code",
   "execution_count": 44,
   "metadata": {},
   "outputs": [
    {
     "data": {
      "application/javascript": [
       "\n",
       "            setTimeout(function() {\n",
       "                var nbb_cell_id = 44;\n",
       "                var nbb_unformatted_code = \"# full_table.sort_values(by=\\\"week\\\")\";\n",
       "                var nbb_formatted_code = \"# full_table.sort_values(by=\\\"week\\\")\";\n",
       "                var nbb_cells = Jupyter.notebook.get_cells();\n",
       "                for (var i = 0; i < nbb_cells.length; ++i) {\n",
       "                    if (nbb_cells[i].input_prompt_number == nbb_cell_id) {\n",
       "                        if (nbb_cells[i].get_text() == nbb_unformatted_code) {\n",
       "                             nbb_cells[i].set_text(nbb_formatted_code);\n",
       "                        }\n",
       "                        break;\n",
       "                    }\n",
       "                }\n",
       "            }, 500);\n",
       "            "
      ],
      "text/plain": [
       "<IPython.core.display.Javascript object>"
      ]
     },
     "metadata": {},
     "output_type": "display_data"
    }
   ],
   "source": [
    "# full_table.sort_values(by=\"week\")"
   ]
  },
  {
   "cell_type": "markdown",
   "metadata": {},
   "source": [
    "# Analysis"
   ]
  },
  {
   "cell_type": "code",
   "execution_count": 45,
   "metadata": {},
   "outputs": [
    {
     "data": {
      "text/html": [
       "<div>\n",
       "<style scoped>\n",
       "    .dataframe tbody tr th:only-of-type {\n",
       "        vertical-align: middle;\n",
       "    }\n",
       "\n",
       "    .dataframe tbody tr th {\n",
       "        vertical-align: top;\n",
       "    }\n",
       "\n",
       "    .dataframe thead th {\n",
       "        text-align: right;\n",
       "    }\n",
       "</style>\n",
       "<table border=\"1\" class=\"dataframe\">\n",
       "  <thead>\n",
       "    <tr style=\"text-align: right;\">\n",
       "      <th></th>\n",
       "      <th>week</th>\n",
       "      <th>week_pos</th>\n",
       "      <th>song</th>\n",
       "      <th>artist</th>\n",
       "      <th>song_id</th>\n",
       "      <th>instance</th>\n",
       "      <th>prev_week_pos</th>\n",
       "      <th>peak_pos</th>\n",
       "      <th>weeks_on_chart</th>\n",
       "      <th>genre</th>\n",
       "      <th>album</th>\n",
       "      <th>genre_list</th>\n",
       "    </tr>\n",
       "    <tr>\n",
       "      <th>explicit</th>\n",
       "      <th></th>\n",
       "      <th></th>\n",
       "      <th></th>\n",
       "      <th></th>\n",
       "      <th></th>\n",
       "      <th></th>\n",
       "      <th></th>\n",
       "      <th></th>\n",
       "      <th></th>\n",
       "      <th></th>\n",
       "      <th></th>\n",
       "      <th></th>\n",
       "    </tr>\n",
       "  </thead>\n",
       "  <tbody>\n",
       "    <tr>\n",
       "      <th>0</th>\n",
       "      <td>234241</td>\n",
       "      <td>234241</td>\n",
       "      <td>234241</td>\n",
       "      <td>234241</td>\n",
       "      <td>234241</td>\n",
       "      <td>234241</td>\n",
       "      <td>234241</td>\n",
       "      <td>234241</td>\n",
       "      <td>234241</td>\n",
       "      <td>234241</td>\n",
       "      <td>234241</td>\n",
       "      <td>234241</td>\n",
       "    </tr>\n",
       "    <tr>\n",
       "      <th>1</th>\n",
       "      <td>30579</td>\n",
       "      <td>30579</td>\n",
       "      <td>30579</td>\n",
       "      <td>30579</td>\n",
       "      <td>30579</td>\n",
       "      <td>30579</td>\n",
       "      <td>30579</td>\n",
       "      <td>30579</td>\n",
       "      <td>30579</td>\n",
       "      <td>30579</td>\n",
       "      <td>30579</td>\n",
       "      <td>30579</td>\n",
       "    </tr>\n",
       "    <tr>\n",
       "      <th>999</th>\n",
       "      <td>21397</td>\n",
       "      <td>21397</td>\n",
       "      <td>21397</td>\n",
       "      <td>21397</td>\n",
       "      <td>21397</td>\n",
       "      <td>21397</td>\n",
       "      <td>21397</td>\n",
       "      <td>21397</td>\n",
       "      <td>21397</td>\n",
       "      <td>21397</td>\n",
       "      <td>21397</td>\n",
       "      <td>21397</td>\n",
       "    </tr>\n",
       "  </tbody>\n",
       "</table>\n",
       "</div>"
      ],
      "text/plain": [
       "            week  week_pos    song  artist  song_id  instance  prev_week_pos  \\\n",
       "explicit                                                                       \n",
       "0         234241    234241  234241  234241   234241    234241         234241   \n",
       "1          30579     30579   30579   30579    30579     30579          30579   \n",
       "999        21397     21397   21397   21397    21397     21397          21397   \n",
       "\n",
       "          peak_pos  weeks_on_chart   genre   album  genre_list  \n",
       "explicit                                                        \n",
       "0           234241          234241  234241  234241      234241  \n",
       "1            30579           30579   30579   30579       30579  \n",
       "999          21397           21397   21397   21397       21397  "
      ]
     },
     "execution_count": 45,
     "metadata": {},
     "output_type": "execute_result"
    },
    {
     "data": {
      "application/javascript": [
       "\n",
       "            setTimeout(function() {\n",
       "                var nbb_cell_id = 45;\n",
       "                var nbb_unformatted_code = \"full_table.groupby(\\\"explicit\\\").count()\";\n",
       "                var nbb_formatted_code = \"full_table.groupby(\\\"explicit\\\").count()\";\n",
       "                var nbb_cells = Jupyter.notebook.get_cells();\n",
       "                for (var i = 0; i < nbb_cells.length; ++i) {\n",
       "                    if (nbb_cells[i].input_prompt_number == nbb_cell_id) {\n",
       "                        if (nbb_cells[i].get_text() == nbb_unformatted_code) {\n",
       "                             nbb_cells[i].set_text(nbb_formatted_code);\n",
       "                        }\n",
       "                        break;\n",
       "                    }\n",
       "                }\n",
       "            }, 500);\n",
       "            "
      ],
      "text/plain": [
       "<IPython.core.display.Javascript object>"
      ]
     },
     "metadata": {},
     "output_type": "display_data"
    }
   ],
   "source": [
    "full_table.groupby(\"explicit\").count()"
   ]
  },
  {
   "cell_type": "code",
   "execution_count": 46,
   "metadata": {},
   "outputs": [
    {
     "data": {
      "text/plain": [
       "(46606, 13)"
      ]
     },
     "execution_count": 46,
     "metadata": {},
     "output_type": "execute_result"
    },
    {
     "data": {
      "application/javascript": [
       "\n",
       "            setTimeout(function() {\n",
       "                var nbb_cell_id = 46;\n",
       "                var nbb_unformatted_code = \"rap = full_table[full_table[\\\"genre\\\"].apply(lambda x: \\\"rap\\\" in x)]\\nrap.shape\";\n",
       "                var nbb_formatted_code = \"rap = full_table[full_table[\\\"genre\\\"].apply(lambda x: \\\"rap\\\" in x)]\\nrap.shape\";\n",
       "                var nbb_cells = Jupyter.notebook.get_cells();\n",
       "                for (var i = 0; i < nbb_cells.length; ++i) {\n",
       "                    if (nbb_cells[i].input_prompt_number == nbb_cell_id) {\n",
       "                        if (nbb_cells[i].get_text() == nbb_unformatted_code) {\n",
       "                             nbb_cells[i].set_text(nbb_formatted_code);\n",
       "                        }\n",
       "                        break;\n",
       "                    }\n",
       "                }\n",
       "            }, 500);\n",
       "            "
      ],
      "text/plain": [
       "<IPython.core.display.Javascript object>"
      ]
     },
     "metadata": {},
     "output_type": "display_data"
    }
   ],
   "source": [
    "rap = full_table[full_table[\"genre\"].apply(lambda x: \"rap\" in x)]\n",
    "rap.shape"
   ]
  },
  {
   "cell_type": "code",
   "execution_count": 47,
   "metadata": {},
   "outputs": [
    {
     "data": {
      "text/plain": [
       "(34862, 13)"
      ]
     },
     "execution_count": 47,
     "metadata": {},
     "output_type": "execute_result"
    },
    {
     "data": {
      "application/javascript": [
       "\n",
       "            setTimeout(function() {\n",
       "                var nbb_cell_id = 47;\n",
       "                var nbb_unformatted_code = \"hip_hop = full_table[full_table[\\\"genre\\\"].apply(lambda x: \\\"hip hop\\\" in x)]\\nhip_hop.shape\";\n",
       "                var nbb_formatted_code = \"hip_hop = full_table[full_table[\\\"genre\\\"].apply(lambda x: \\\"hip hop\\\" in x)]\\nhip_hop.shape\";\n",
       "                var nbb_cells = Jupyter.notebook.get_cells();\n",
       "                for (var i = 0; i < nbb_cells.length; ++i) {\n",
       "                    if (nbb_cells[i].input_prompt_number == nbb_cell_id) {\n",
       "                        if (nbb_cells[i].get_text() == nbb_unformatted_code) {\n",
       "                             nbb_cells[i].set_text(nbb_formatted_code);\n",
       "                        }\n",
       "                        break;\n",
       "                    }\n",
       "                }\n",
       "            }, 500);\n",
       "            "
      ],
      "text/plain": [
       "<IPython.core.display.Javascript object>"
      ]
     },
     "metadata": {},
     "output_type": "display_data"
    }
   ],
   "source": [
    "hip_hop = full_table[full_table[\"genre\"].apply(lambda x: \"hip hop\" in x)]\n",
    "hip_hop.shape"
   ]
  },
  {
   "cell_type": "code",
   "execution_count": 48,
   "metadata": {},
   "outputs": [
    {
     "data": {
      "text/plain": [
       "(11936, 13)"
      ]
     },
     "execution_count": 48,
     "metadata": {},
     "output_type": "execute_result"
    },
    {
     "data": {
      "application/javascript": [
       "\n",
       "            setTimeout(function() {\n",
       "                var nbb_cell_id = 48;\n",
       "                var nbb_unformatted_code = \"metal = full_table[full_table[\\\"genre\\\"].apply(lambda x: \\\"metal\\\" in x)]\\nmetal.shape\";\n",
       "                var nbb_formatted_code = \"metal = full_table[full_table[\\\"genre\\\"].apply(lambda x: \\\"metal\\\" in x)]\\nmetal.shape\";\n",
       "                var nbb_cells = Jupyter.notebook.get_cells();\n",
       "                for (var i = 0; i < nbb_cells.length; ++i) {\n",
       "                    if (nbb_cells[i].input_prompt_number == nbb_cell_id) {\n",
       "                        if (nbb_cells[i].get_text() == nbb_unformatted_code) {\n",
       "                             nbb_cells[i].set_text(nbb_formatted_code);\n",
       "                        }\n",
       "                        break;\n",
       "                    }\n",
       "                }\n",
       "            }, 500);\n",
       "            "
      ],
      "text/plain": [
       "<IPython.core.display.Javascript object>"
      ]
     },
     "metadata": {},
     "output_type": "display_data"
    }
   ],
   "source": [
    "metal = full_table[full_table[\"genre\"].apply(lambda x: \"metal\" in x)]\n",
    "metal.shape"
   ]
  },
  {
   "cell_type": "code",
   "execution_count": 51,
   "metadata": {},
   "outputs": [
    {
     "data": {
      "text/html": [
       "<div>\n",
       "<style scoped>\n",
       "    .dataframe tbody tr th:only-of-type {\n",
       "        vertical-align: middle;\n",
       "    }\n",
       "\n",
       "    .dataframe tbody tr th {\n",
       "        vertical-align: top;\n",
       "    }\n",
       "\n",
       "    .dataframe thead th {\n",
       "        text-align: right;\n",
       "    }\n",
       "</style>\n",
       "<table border=\"1\" class=\"dataframe\">\n",
       "  <thead>\n",
       "    <tr style=\"text-align: right;\">\n",
       "      <th></th>\n",
       "      <th></th>\n",
       "      <th>week_pos</th>\n",
       "      <th>instance</th>\n",
       "      <th>prev_week_pos</th>\n",
       "      <th>peak_pos</th>\n",
       "      <th>weeks_on_chart</th>\n",
       "      <th>explicit</th>\n",
       "    </tr>\n",
       "    <tr>\n",
       "      <th>song_id</th>\n",
       "      <th>genre</th>\n",
       "      <th></th>\n",
       "      <th></th>\n",
       "      <th></th>\n",
       "      <th></th>\n",
       "      <th></th>\n",
       "      <th></th>\n",
       "    </tr>\n",
       "  </thead>\n",
       "  <tbody>\n",
       "    <tr>\n",
       "      <th>#9 DreamJohn Lennon</th>\n",
       "      <th>['album rock', 'classic rock', 'folk rock', 'mellow gold', 'rock']</th>\n",
       "      <td>9.500000</td>\n",
       "      <td>1.0</td>\n",
       "      <td>11.500000</td>\n",
       "      <td>9.500000</td>\n",
       "      <td>9.500000</td>\n",
       "      <td>0.0</td>\n",
       "    </tr>\n",
       "    <tr>\n",
       "      <th>'03 Bonnie &amp; ClydeJay-Z Featuring Beyonce Knowles</th>\n",
       "      <th>['east coast hip hop', 'hip hop', 'pop rap', 'rap', 'southern hip hop']</th>\n",
       "      <td>5.909091</td>\n",
       "      <td>1.0</td>\n",
       "      <td>6.000000</td>\n",
       "      <td>4.636364</td>\n",
       "      <td>12.000000</td>\n",
       "      <td>1.0</td>\n",
       "    </tr>\n",
       "    <tr>\n",
       "      <th>'65 Love AffairPaul Davis</th>\n",
       "      <th>['album rock', 'bubblegum pop', 'country rock', 'folk rock', 'mellow gold', 'new wave pop', 'soft rock', 'yacht rock']</th>\n",
       "      <td>7.714286</td>\n",
       "      <td>1.0</td>\n",
       "      <td>8.285714</td>\n",
       "      <td>7.285714</td>\n",
       "      <td>12.000000</td>\n",
       "      <td>0.0</td>\n",
       "    </tr>\n",
       "    <tr>\n",
       "      <th>('til) I Kissed YouThe Everly Brothers</th>\n",
       "      <th>['adult standards', 'brill building pop', 'bubblegum pop', 'folk rock', 'lounge', 'mellow gold', 'rock-and-roll', 'rockabilly', 'sunshine pop']</th>\n",
       "      <td>4.714286</td>\n",
       "      <td>1.0</td>\n",
       "      <td>5.857143</td>\n",
       "      <td>4.428571</td>\n",
       "      <td>7.000000</td>\n",
       "      <td>0.0</td>\n",
       "    </tr>\n",
       "    <tr>\n",
       "      <th>(Can't Live Without Your) Love And AffectionNelson</th>\n",
       "      <th>['classic country pop', 'country', 'nashville sound', 'outlaw country', 'singer-songwriter', 'texas country']</th>\n",
       "      <td>5.428571</td>\n",
       "      <td>1.0</td>\n",
       "      <td>5.714286</td>\n",
       "      <td>3.142857</td>\n",
       "      <td>13.000000</td>\n",
       "      <td>0.0</td>\n",
       "    </tr>\n",
       "    <tr>\n",
       "      <th>...</th>\n",
       "      <th>...</th>\n",
       "      <td>...</td>\n",
       "      <td>...</td>\n",
       "      <td>...</td>\n",
       "      <td>...</td>\n",
       "      <td>...</td>\n",
       "      <td>...</td>\n",
       "    </tr>\n",
       "    <tr>\n",
       "      <th>Yummy Yummy YummyOhio Express</th>\n",
       "      <th>['bubblegum pop']</th>\n",
       "      <td>4.800000</td>\n",
       "      <td>1.0</td>\n",
       "      <td>8.800000</td>\n",
       "      <td>4.800000</td>\n",
       "      <td>7.000000</td>\n",
       "      <td>0.0</td>\n",
       "    </tr>\n",
       "    <tr>\n",
       "      <th>ZEZEKodak Black Featuring Travis Scott &amp; Offset</th>\n",
       "      <th>['florida rap', 'hip hop', 'melodic rap', 'miami hip hop', 'pop rap', 'rap', 'southern hip hop', 'trap']</th>\n",
       "      <td>7.846154</td>\n",
       "      <td>1.0</td>\n",
       "      <td>7.615385</td>\n",
       "      <td>2.000000</td>\n",
       "      <td>7.230769</td>\n",
       "      <td>1.0</td>\n",
       "    </tr>\n",
       "    <tr>\n",
       "      <th>Zip-A-Dee Doo-DahBob B. Soxx And The Blue Jeans</th>\n",
       "      <th>['brill building pop']</th>\n",
       "      <td>8.666667</td>\n",
       "      <td>1.0</td>\n",
       "      <td>11.333333</td>\n",
       "      <td>8.666667</td>\n",
       "      <td>8.000000</td>\n",
       "      <td>999.0</td>\n",
       "    </tr>\n",
       "    <tr>\n",
       "      <th>everything i wantedBillie Eilish</th>\n",
       "      <th>['electropop', 'pop']</th>\n",
       "      <td>8.000000</td>\n",
       "      <td>1.0</td>\n",
       "      <td>74.000000</td>\n",
       "      <td>8.000000</td>\n",
       "      <td>2.000000</td>\n",
       "      <td>0.0</td>\n",
       "    </tr>\n",
       "    <tr>\n",
       "      <th>iSpyKYLE Featuring Lil Yachty</th>\n",
       "      <th>['pop rap', 'rap']</th>\n",
       "      <td>7.125000</td>\n",
       "      <td>1.0</td>\n",
       "      <td>7.875000</td>\n",
       "      <td>4.875000</td>\n",
       "      <td>16.375000</td>\n",
       "      <td>1.0</td>\n",
       "    </tr>\n",
       "  </tbody>\n",
       "</table>\n",
       "<p>4413 rows × 6 columns</p>\n",
       "</div>"
      ],
      "text/plain": [
       "                                                                                                       week_pos  \\\n",
       "song_id                                            genre                                                          \n",
       "#9 DreamJohn Lennon                                ['album rock', 'classic rock', 'folk rock', 'me...  9.500000   \n",
       "'03 Bonnie & ClydeJay-Z Featuring Beyonce Knowles  ['east coast hip hop', 'hip hop', 'pop rap', 'r...  5.909091   \n",
       "'65 Love AffairPaul Davis                          ['album rock', 'bubblegum pop', 'country rock',...  7.714286   \n",
       "('til) I Kissed YouThe Everly Brothers             ['adult standards', 'brill building pop', 'bubb...  4.714286   \n",
       "(Can't Live Without Your) Love And AffectionNelson ['classic country pop', 'country', 'nashville s...  5.428571   \n",
       "...                                                                                                         ...   \n",
       "Yummy Yummy YummyOhio Express                      ['bubblegum pop']                                   4.800000   \n",
       "ZEZEKodak Black Featuring Travis Scott & Offset    ['florida rap', 'hip hop', 'melodic rap', 'miam...  7.846154   \n",
       "Zip-A-Dee Doo-DahBob B. Soxx And The Blue Jeans    ['brill building pop']                              8.666667   \n",
       "everything i wantedBillie Eilish                   ['electropop', 'pop']                               8.000000   \n",
       "iSpyKYLE Featuring Lil Yachty                      ['pop rap', 'rap']                                  7.125000   \n",
       "\n",
       "                                                                                                       instance  \\\n",
       "song_id                                            genre                                                          \n",
       "#9 DreamJohn Lennon                                ['album rock', 'classic rock', 'folk rock', 'me...       1.0   \n",
       "'03 Bonnie & ClydeJay-Z Featuring Beyonce Knowles  ['east coast hip hop', 'hip hop', 'pop rap', 'r...       1.0   \n",
       "'65 Love AffairPaul Davis                          ['album rock', 'bubblegum pop', 'country rock',...       1.0   \n",
       "('til) I Kissed YouThe Everly Brothers             ['adult standards', 'brill building pop', 'bubb...       1.0   \n",
       "(Can't Live Without Your) Love And AffectionNelson ['classic country pop', 'country', 'nashville s...       1.0   \n",
       "...                                                                                                         ...   \n",
       "Yummy Yummy YummyOhio Express                      ['bubblegum pop']                                        1.0   \n",
       "ZEZEKodak Black Featuring Travis Scott & Offset    ['florida rap', 'hip hop', 'melodic rap', 'miam...       1.0   \n",
       "Zip-A-Dee Doo-DahBob B. Soxx And The Blue Jeans    ['brill building pop']                                   1.0   \n",
       "everything i wantedBillie Eilish                   ['electropop', 'pop']                                    1.0   \n",
       "iSpyKYLE Featuring Lil Yachty                      ['pop rap', 'rap']                                       1.0   \n",
       "\n",
       "                                                                                                       prev_week_pos  \\\n",
       "song_id                                            genre                                                               \n",
       "#9 DreamJohn Lennon                                ['album rock', 'classic rock', 'folk rock', 'me...      11.500000   \n",
       "'03 Bonnie & ClydeJay-Z Featuring Beyonce Knowles  ['east coast hip hop', 'hip hop', 'pop rap', 'r...       6.000000   \n",
       "'65 Love AffairPaul Davis                          ['album rock', 'bubblegum pop', 'country rock',...       8.285714   \n",
       "('til) I Kissed YouThe Everly Brothers             ['adult standards', 'brill building pop', 'bubb...       5.857143   \n",
       "(Can't Live Without Your) Love And AffectionNelson ['classic country pop', 'country', 'nashville s...       5.714286   \n",
       "...                                                                                                              ...   \n",
       "Yummy Yummy YummyOhio Express                      ['bubblegum pop']                                        8.800000   \n",
       "ZEZEKodak Black Featuring Travis Scott & Offset    ['florida rap', 'hip hop', 'melodic rap', 'miam...       7.615385   \n",
       "Zip-A-Dee Doo-DahBob B. Soxx And The Blue Jeans    ['brill building pop']                                  11.333333   \n",
       "everything i wantedBillie Eilish                   ['electropop', 'pop']                                   74.000000   \n",
       "iSpyKYLE Featuring Lil Yachty                      ['pop rap', 'rap']                                       7.875000   \n",
       "\n",
       "                                                                                                       peak_pos  \\\n",
       "song_id                                            genre                                                          \n",
       "#9 DreamJohn Lennon                                ['album rock', 'classic rock', 'folk rock', 'me...  9.500000   \n",
       "'03 Bonnie & ClydeJay-Z Featuring Beyonce Knowles  ['east coast hip hop', 'hip hop', 'pop rap', 'r...  4.636364   \n",
       "'65 Love AffairPaul Davis                          ['album rock', 'bubblegum pop', 'country rock',...  7.285714   \n",
       "('til) I Kissed YouThe Everly Brothers             ['adult standards', 'brill building pop', 'bubb...  4.428571   \n",
       "(Can't Live Without Your) Love And AffectionNelson ['classic country pop', 'country', 'nashville s...  3.142857   \n",
       "...                                                                                                         ...   \n",
       "Yummy Yummy YummyOhio Express                      ['bubblegum pop']                                   4.800000   \n",
       "ZEZEKodak Black Featuring Travis Scott & Offset    ['florida rap', 'hip hop', 'melodic rap', 'miam...  2.000000   \n",
       "Zip-A-Dee Doo-DahBob B. Soxx And The Blue Jeans    ['brill building pop']                              8.666667   \n",
       "everything i wantedBillie Eilish                   ['electropop', 'pop']                               8.000000   \n",
       "iSpyKYLE Featuring Lil Yachty                      ['pop rap', 'rap']                                  4.875000   \n",
       "\n",
       "                                                                                                       weeks_on_chart  \\\n",
       "song_id                                            genre                                                                \n",
       "#9 DreamJohn Lennon                                ['album rock', 'classic rock', 'folk rock', 'me...        9.500000   \n",
       "'03 Bonnie & ClydeJay-Z Featuring Beyonce Knowles  ['east coast hip hop', 'hip hop', 'pop rap', 'r...       12.000000   \n",
       "'65 Love AffairPaul Davis                          ['album rock', 'bubblegum pop', 'country rock',...       12.000000   \n",
       "('til) I Kissed YouThe Everly Brothers             ['adult standards', 'brill building pop', 'bubb...        7.000000   \n",
       "(Can't Live Without Your) Love And AffectionNelson ['classic country pop', 'country', 'nashville s...       13.000000   \n",
       "...                                                                                                               ...   \n",
       "Yummy Yummy YummyOhio Express                      ['bubblegum pop']                                         7.000000   \n",
       "ZEZEKodak Black Featuring Travis Scott & Offset    ['florida rap', 'hip hop', 'melodic rap', 'miam...        7.230769   \n",
       "Zip-A-Dee Doo-DahBob B. Soxx And The Blue Jeans    ['brill building pop']                                    8.000000   \n",
       "everything i wantedBillie Eilish                   ['electropop', 'pop']                                     2.000000   \n",
       "iSpyKYLE Featuring Lil Yachty                      ['pop rap', 'rap']                                       16.375000   \n",
       "\n",
       "                                                                                                       explicit  \n",
       "song_id                                            genre                                                         \n",
       "#9 DreamJohn Lennon                                ['album rock', 'classic rock', 'folk rock', 'me...       0.0  \n",
       "'03 Bonnie & ClydeJay-Z Featuring Beyonce Knowles  ['east coast hip hop', 'hip hop', 'pop rap', 'r...       1.0  \n",
       "'65 Love AffairPaul Davis                          ['album rock', 'bubblegum pop', 'country rock',...       0.0  \n",
       "('til) I Kissed YouThe Everly Brothers             ['adult standards', 'brill building pop', 'bubb...       0.0  \n",
       "(Can't Live Without Your) Love And AffectionNelson ['classic country pop', 'country', 'nashville s...       0.0  \n",
       "...                                                                                                         ...  \n",
       "Yummy Yummy YummyOhio Express                      ['bubblegum pop']                                        0.0  \n",
       "ZEZEKodak Black Featuring Travis Scott & Offset    ['florida rap', 'hip hop', 'melodic rap', 'miam...       1.0  \n",
       "Zip-A-Dee Doo-DahBob B. Soxx And The Blue Jeans    ['brill building pop']                                 999.0  \n",
       "everything i wantedBillie Eilish                   ['electropop', 'pop']                                    0.0  \n",
       "iSpyKYLE Featuring Lil Yachty                      ['pop rap', 'rap']                                       1.0  \n",
       "\n",
       "[4413 rows x 6 columns]"
      ]
     },
     "execution_count": 51,
     "metadata": {},
     "output_type": "execute_result"
    },
    {
     "data": {
      "application/javascript": [
       "\n",
       "            setTimeout(function() {\n",
       "                var nbb_cell_id = 51;\n",
       "                var nbb_unformatted_code = \"top_10 = full_table[full_table[\\\"week_pos\\\"] <= 10]\\ntop_10 = top_10.groupby([\\\"song_id\\\", \\\"genre\\\"]).mean()\\ntop_10\";\n",
       "                var nbb_formatted_code = \"top_10 = full_table[full_table[\\\"week_pos\\\"] <= 10]\\ntop_10 = top_10.groupby([\\\"song_id\\\", \\\"genre\\\"]).mean()\\ntop_10\";\n",
       "                var nbb_cells = Jupyter.notebook.get_cells();\n",
       "                for (var i = 0; i < nbb_cells.length; ++i) {\n",
       "                    if (nbb_cells[i].input_prompt_number == nbb_cell_id) {\n",
       "                        if (nbb_cells[i].get_text() == nbb_unformatted_code) {\n",
       "                             nbb_cells[i].set_text(nbb_formatted_code);\n",
       "                        }\n",
       "                        break;\n",
       "                    }\n",
       "                }\n",
       "            }, 500);\n",
       "            "
      ],
      "text/plain": [
       "<IPython.core.display.Javascript object>"
      ]
     },
     "metadata": {},
     "output_type": "display_data"
    }
   ],
   "source": [
    "top_10 = full_table[full_table[\"week_pos\"] <= 10]\n",
    "top_10 = top_10.groupby([\"song_id\", \"genre\"]).mean()\n",
    "top_10"
   ]
  },
  {
   "cell_type": "markdown",
   "metadata": {},
   "source": [
    "# Graphs"
   ]
  },
  {
   "cell_type": "markdown",
   "metadata": {},
   "source": [
    "# Put weight on the week_pos sum, peak_pos min, and the max weeks_on_chart"
   ]
  },
  {
   "cell_type": "code",
   "execution_count": 52,
   "metadata": {},
   "outputs": [
    {
     "data": {
      "text/plain": [
       "Ttest_indResult(statistic=-50.472840727674736, pvalue=0.0)"
      ]
     },
     "execution_count": 52,
     "metadata": {},
     "output_type": "execute_result"
    },
    {
     "data": {
      "application/javascript": [
       "\n",
       "            setTimeout(function() {\n",
       "                var nbb_cell_id = 52;\n",
       "                var nbb_unformatted_code = \"stats.ttest_ind(full_table[\\\"week_pos\\\"], full_table[\\\"explicit\\\"])\";\n",
       "                var nbb_formatted_code = \"stats.ttest_ind(full_table[\\\"week_pos\\\"], full_table[\\\"explicit\\\"])\";\n",
       "                var nbb_cells = Jupyter.notebook.get_cells();\n",
       "                for (var i = 0; i < nbb_cells.length; ++i) {\n",
       "                    if (nbb_cells[i].input_prompt_number == nbb_cell_id) {\n",
       "                        if (nbb_cells[i].get_text() == nbb_unformatted_code) {\n",
       "                             nbb_cells[i].set_text(nbb_formatted_code);\n",
       "                        }\n",
       "                        break;\n",
       "                    }\n",
       "                }\n",
       "            }, 500);\n",
       "            "
      ],
      "text/plain": [
       "<IPython.core.display.Javascript object>"
      ]
     },
     "metadata": {},
     "output_type": "display_data"
    }
   ],
   "source": [
    "stats.ttest_ind(full_table[\"week_pos\"], full_table[\"explicit\"])"
   ]
  },
  {
   "cell_type": "code",
   "execution_count": 53,
   "metadata": {},
   "outputs": [
    {
     "data": {
      "text/plain": [
       "week              datetime64[ns]\n",
       "week_pos                   int64\n",
       "song                      object\n",
       "artist                    object\n",
       "song_id                   object\n",
       "instance                   int64\n",
       "prev_week_pos              int32\n",
       "peak_pos                   int64\n",
       "weeks_on_chart             int64\n",
       "genre                     object\n",
       "album                     object\n",
       "explicit                   int32\n",
       "genre_list                object\n",
       "dtype: object"
      ]
     },
     "execution_count": 53,
     "metadata": {},
     "output_type": "execute_result"
    },
    {
     "data": {
      "application/javascript": [
       "\n",
       "            setTimeout(function() {\n",
       "                var nbb_cell_id = 53;\n",
       "                var nbb_unformatted_code = \"full_table.dtypes\";\n",
       "                var nbb_formatted_code = \"full_table.dtypes\";\n",
       "                var nbb_cells = Jupyter.notebook.get_cells();\n",
       "                for (var i = 0; i < nbb_cells.length; ++i) {\n",
       "                    if (nbb_cells[i].input_prompt_number == nbb_cell_id) {\n",
       "                        if (nbb_cells[i].get_text() == nbb_unformatted_code) {\n",
       "                             nbb_cells[i].set_text(nbb_formatted_code);\n",
       "                        }\n",
       "                        break;\n",
       "                    }\n",
       "                }\n",
       "            }, 500);\n",
       "            "
      ],
      "text/plain": [
       "<IPython.core.display.Javascript object>"
      ]
     },
     "metadata": {},
     "output_type": "display_data"
    }
   ],
   "source": [
    "full_table.dtypes"
   ]
  },
  {
   "cell_type": "code",
   "execution_count": 54,
   "metadata": {},
   "outputs": [
    {
     "data": {
      "text/plain": [
       "[]"
      ]
     },
     "execution_count": 54,
     "metadata": {},
     "output_type": "execute_result"
    },
    {
     "data": {
      "image/png": "[encoded data removed]",
      "text/plain": [
       "<Figure size 432x288 with 1 Axes>"
      ]
     },
     "metadata": {
      "needs_background": "light"
     },
     "output_type": "display_data"
    },
    {
     "data": {
      "application/javascript": [
       "\n",
       "            setTimeout(function() {\n",
       "                var nbb_cell_id = 54;\n",
       "                var nbb_unformatted_code = \"expl = full_table[full_table[\\\"explicit\\\"] == 1]\\nnot_expl = full_table[full_table[\\\"explicit\\\"] == 0]\\n\\nplt.hist(expl[\\\"week\\\"], alpha=0.9, color=\\\"red\\\")\\nplt.hist(not_expl[\\\"week\\\"], alpha=0.5, color=\\\"green\\\")\\nplt.plot()\";\n",
       "                var nbb_formatted_code = \"expl = full_table[full_table[\\\"explicit\\\"] == 1]\\nnot_expl = full_table[full_table[\\\"explicit\\\"] == 0]\\n\\nplt.hist(expl[\\\"week\\\"], alpha=0.9, color=\\\"red\\\")\\nplt.hist(not_expl[\\\"week\\\"], alpha=0.5, color=\\\"green\\\")\\nplt.plot()\";\n",
       "                var nbb_cells = Jupyter.notebook.get_cells();\n",
       "                for (var i = 0; i < nbb_cells.length; ++i) {\n",
       "                    if (nbb_cells[i].input_prompt_number == nbb_cell_id) {\n",
       "                        if (nbb_cells[i].get_text() == nbb_unformatted_code) {\n",
       "                             nbb_cells[i].set_text(nbb_formatted_code);\n",
       "                        }\n",
       "                        break;\n",
       "                    }\n",
       "                }\n",
       "            }, 500);\n",
       "            "
      ],
      "text/plain": [
       "<IPython.core.display.Javascript object>"
      ]
     },
     "metadata": {},
     "output_type": "display_data"
    }
   ],
   "source": [
    "expl = full_table[full_table[\"explicit\"] == 1]\n",
    "not_expl = full_table[full_table[\"explicit\"] == 0]\n",
    "\n",
    "plt.hist(expl[\"week\"], alpha=0.9, color=\"red\")\n",
    "plt.hist(not_expl[\"week\"], alpha=0.5, color=\"green\")\n",
    "plt.plot()"
   ]
  },
  {
   "cell_type": "code",
   "execution_count": null,
   "metadata": {},
   "outputs": [],
   "source": []
  }
 ],
 "metadata": {
  "kernelspec": {
   "display_name": "Python 3",
   "language": "python",
   "name": "python3"
  },
  "language_info": {
   "codemirror_mode": {
    "name": "ipython",
    "version": 3
   },
   "file_extension": ".py",
   "mimetype": "text/x-python",
   "name": "python",
   "nbconvert_exporter": "python",
   "pygments_lexer": "ipython3",
   "version": "3.7.6"
  }
 },
 "nbformat": 4,
 "nbformat_minor": 4
}
