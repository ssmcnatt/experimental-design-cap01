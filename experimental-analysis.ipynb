{
 "cells": [
  {
   "cell_type": "markdown",
   "metadata": {},
   "source": [
    "* With your research proposal in hand, it's time to conduct the analysis in Jupyter. Provide a complete research report using the framework introduced in the previous module. The report should tell the story to your intended audience and should include compelling visualizations and actionable insights. Walk through the analysis using clean, reproducible code. Include plenty of notes and comments to guide others through your thinking.\n",
    "\n",
    "* Along the way, consider issues in the experiment design. What bias might be influencing the analysis? Can you test for it? If you could collect new data in this domain, what changes would you make in the data collection process? What other variables or samples might be useful to test?"
   ]
  },
  {
   "cell_type": "code",
   "execution_count": 1,
   "metadata": {},
   "outputs": [
    {
     "data": {
      "application/javascript": [
       "\n",
       "            setTimeout(function() {\n",
       "                var nbb_cell_id = 1;\n",
       "                var nbb_unformatted_code = \"%reload_ext nb_black\";\n",
       "                var nbb_formatted_code = \"%reload_ext nb_black\";\n",
       "                var nbb_cells = Jupyter.notebook.get_cells();\n",
       "                for (var i = 0; i < nbb_cells.length; ++i) {\n",
       "                    if (nbb_cells[i].input_prompt_number == nbb_cell_id) {\n",
       "                        if (nbb_cells[i].get_text() == nbb_unformatted_code) {\n",
       "                             nbb_cells[i].set_text(nbb_formatted_code);\n",
       "                        }\n",
       "                        break;\n",
       "                    }\n",
       "                }\n",
       "            }, 500);\n",
       "            "
      ],
      "text/plain": [
       "<IPython.core.display.Javascript object>"
      ]
     },
     "metadata": {},
     "output_type": "display_data"
    }
   ],
   "source": [
    "%reload_ext nb_black"
   ]
  },
  {
   "cell_type": "code",
   "execution_count": 2,
   "metadata": {},
   "outputs": [
    {
     "data": {
      "application/javascript": [
       "\n",
       "            setTimeout(function() {\n",
       "                var nbb_cell_id = 2;\n",
       "                var nbb_unformatted_code = \"import pandas as pd\\nimport numpy as np\\nfrom scipy import stats\\nimport seaborn as sns\\nimport matplotlib.pyplot as plt\\nimport ast\\nfrom datetime import datetime\\n\\n%matplotlib inline\";\n",
       "                var nbb_formatted_code = \"import pandas as pd\\nimport numpy as np\\nfrom scipy import stats\\nimport seaborn as sns\\nimport matplotlib.pyplot as plt\\nimport ast\\nfrom datetime import datetime\\n\\n%matplotlib inline\";\n",
       "                var nbb_cells = Jupyter.notebook.get_cells();\n",
       "                for (var i = 0; i < nbb_cells.length; ++i) {\n",
       "                    if (nbb_cells[i].input_prompt_number == nbb_cell_id) {\n",
       "                        if (nbb_cells[i].get_text() == nbb_unformatted_code) {\n",
       "                             nbb_cells[i].set_text(nbb_formatted_code);\n",
       "                        }\n",
       "                        break;\n",
       "                    }\n",
       "                }\n",
       "            }, 500);\n",
       "            "
      ],
      "text/plain": [
       "<IPython.core.display.Javascript object>"
      ]
     },
     "metadata": {},
     "output_type": "display_data"
    }
   ],
   "source": [
    "import pandas as pd\n",
    "import numpy as np\n",
    "from scipy import stats\n",
    "import seaborn as sns\n",
    "import matplotlib.pyplot as plt\n",
    "import ast\n",
    "from datetime import datetime\n",
    "\n",
    "%matplotlib inline"
   ]
  },
  {
   "cell_type": "code",
   "execution_count": 3,
   "metadata": {},
   "outputs": [
    {
     "data": {
      "application/javascript": [
       "\n",
       "            setTimeout(function() {\n",
       "                var nbb_cell_id = 3;\n",
       "                var nbb_unformatted_code = \"hot_100 = pd.read_csv(\\\"data/Hot_Stuff.csv\\\")\\ngenres = pd.read_excel(\\\"data/Hot_100_Audio_Features.xlsx\\\")\";\n",
       "                var nbb_formatted_code = \"hot_100 = pd.read_csv(\\\"data/Hot_Stuff.csv\\\")\\ngenres = pd.read_excel(\\\"data/Hot_100_Audio_Features.xlsx\\\")\";\n",
       "                var nbb_cells = Jupyter.notebook.get_cells();\n",
       "                for (var i = 0; i < nbb_cells.length; ++i) {\n",
       "                    if (nbb_cells[i].input_prompt_number == nbb_cell_id) {\n",
       "                        if (nbb_cells[i].get_text() == nbb_unformatted_code) {\n",
       "                             nbb_cells[i].set_text(nbb_formatted_code);\n",
       "                        }\n",
       "                        break;\n",
       "                    }\n",
       "                }\n",
       "            }, 500);\n",
       "            "
      ],
      "text/plain": [
       "<IPython.core.display.Javascript object>"
      ]
     },
     "metadata": {},
     "output_type": "display_data"
    }
   ],
   "source": [
    "hot_100 = pd.read_csv(\"data/Hot_Stuff.csv\")\n",
    "genres = pd.read_excel(\"data/Hot_100_Audio_Features.xlsx\")"
   ]
  },
  {
   "cell_type": "code",
   "execution_count": 4,
   "metadata": {},
   "outputs": [
    {
     "data": {
      "text/plain": [
       "[]                                                                                                                 2541\n",
       "['contemporary country', 'country', 'country road']                                                                 315\n",
       "['contemporary country', 'country', 'country road', 'modern country rock']                                          279\n",
       "['dance pop', 'pop', 'post-teen pop']                                                                               252\n",
       "['glee club', 'hollywood', 'post-teen pop']                                                                         205\n",
       "                                                                                                                   ... \n",
       "['bebop', 'contemporary post-bop', 'cool jazz', 'hard bop', 'jazz', 'jazz funk', 'jazz saxophone', 'soul jazz']       1\n",
       "['miami bass', 'miami hip hop', 'old school hip hop']                                                                 1\n",
       "['chicago hardcore', 'chicago punk', 'hardcore punk', 'post-grunge', 'punk']                                          1\n",
       "['ccm', 'cedm', 'christian alternative rock', 'christian music', 'christian pop', 'worship']                          1\n",
       "['gospel', 'quiet storm']                                                                                             1\n",
       "Name: spotify_genre, Length: 3275, dtype: int64"
      ]
     },
     "execution_count": 4,
     "metadata": {},
     "output_type": "execute_result"
    },
    {
     "data": {
      "application/javascript": [
       "\n",
       "            setTimeout(function() {\n",
       "                var nbb_cell_id = 4;\n",
       "                var nbb_unformatted_code = \"genres[\\\"spotify_genre\\\"].explode().value_counts()\";\n",
       "                var nbb_formatted_code = \"genres[\\\"spotify_genre\\\"].explode().value_counts()\";\n",
       "                var nbb_cells = Jupyter.notebook.get_cells();\n",
       "                for (var i = 0; i < nbb_cells.length; ++i) {\n",
       "                    if (nbb_cells[i].input_prompt_number == nbb_cell_id) {\n",
       "                        if (nbb_cells[i].get_text() == nbb_unformatted_code) {\n",
       "                             nbb_cells[i].set_text(nbb_formatted_code);\n",
       "                        }\n",
       "                        break;\n",
       "                    }\n",
       "                }\n",
       "            }, 500);\n",
       "            "
      ],
      "text/plain": [
       "<IPython.core.display.Javascript object>"
      ]
     },
     "metadata": {},
     "output_type": "display_data"
    }
   ],
   "source": [
    "genres[\"spotify_genre\"].explode().value_counts()"
   ]
  },
  {
   "cell_type": "code",
   "execution_count": 5,
   "metadata": {},
   "outputs": [
    {
     "data": {
      "application/javascript": [
       "\n",
       "            setTimeout(function() {\n",
       "                var nbb_cell_id = 5;\n",
       "                var nbb_unformatted_code = \"genres = genres.drop_duplicates()\";\n",
       "                var nbb_formatted_code = \"genres = genres.drop_duplicates()\";\n",
       "                var nbb_cells = Jupyter.notebook.get_cells();\n",
       "                for (var i = 0; i < nbb_cells.length; ++i) {\n",
       "                    if (nbb_cells[i].input_prompt_number == nbb_cell_id) {\n",
       "                        if (nbb_cells[i].get_text() == nbb_unformatted_code) {\n",
       "                             nbb_cells[i].set_text(nbb_formatted_code);\n",
       "                        }\n",
       "                        break;\n",
       "                    }\n",
       "                }\n",
       "            }, 500);\n",
       "            "
      ],
      "text/plain": [
       "<IPython.core.display.Javascript object>"
      ]
     },
     "metadata": {},
     "output_type": "display_data"
    }
   ],
   "source": [
    "genres = genres.drop_duplicates()"
   ]
  },
  {
   "cell_type": "markdown",
   "metadata": {},
   "source": [
    "# Drop columns that are not needed"
   ]
  },
  {
   "cell_type": "code",
   "execution_count": 6,
   "metadata": {},
   "outputs": [
    {
     "data": {
      "application/javascript": [
       "\n",
       "            setTimeout(function() {\n",
       "                var nbb_cell_id = 6;\n",
       "                var nbb_unformatted_code = \"hot_100 = hot_100.drop(columns=[\\\"url\\\"])\";\n",
       "                var nbb_formatted_code = \"hot_100 = hot_100.drop(columns=[\\\"url\\\"])\";\n",
       "                var nbb_cells = Jupyter.notebook.get_cells();\n",
       "                for (var i = 0; i < nbb_cells.length; ++i) {\n",
       "                    if (nbb_cells[i].input_prompt_number == nbb_cell_id) {\n",
       "                        if (nbb_cells[i].get_text() == nbb_unformatted_code) {\n",
       "                             nbb_cells[i].set_text(nbb_formatted_code);\n",
       "                        }\n",
       "                        break;\n",
       "                    }\n",
       "                }\n",
       "            }, 500);\n",
       "            "
      ],
      "text/plain": [
       "<IPython.core.display.Javascript object>"
      ]
     },
     "metadata": {},
     "output_type": "display_data"
    }
   ],
   "source": [
    "hot_100 = hot_100.drop(columns=[\"url\"])"
   ]
  },
  {
   "cell_type": "code",
   "execution_count": 7,
   "metadata": {},
   "outputs": [
    {
     "data": {
      "application/javascript": [
       "\n",
       "            setTimeout(function() {\n",
       "                var nbb_cell_id = 7;\n",
       "                var nbb_unformatted_code = \"genres = genres.drop(\\n    columns=[\\n        \\\"spotify_track_id\\\",\\n        \\\"spotify_track_preview_url\\\",\\n        \\\"spotify_track_duration_ms\\\",\\n        \\\"spotify_track_popularity\\\",\\n        \\\"danceability\\\",\\n        \\\"energy\\\",\\n        \\\"key\\\",\\n        \\\"loudness\\\",\\n        \\\"mode\\\",\\n        \\\"acousticness\\\",\\n        \\\"speechiness\\\",\\n        \\\"liveness\\\",\\n        \\\"instrumentalness\\\",\\n        \\\"valence\\\",\\n        \\\"tempo\\\",\\n        \\\"time_signature\\\",\\n    ]\\n)\";\n",
       "                var nbb_formatted_code = \"genres = genres.drop(\\n    columns=[\\n        \\\"spotify_track_id\\\",\\n        \\\"spotify_track_preview_url\\\",\\n        \\\"spotify_track_duration_ms\\\",\\n        \\\"spotify_track_popularity\\\",\\n        \\\"danceability\\\",\\n        \\\"energy\\\",\\n        \\\"key\\\",\\n        \\\"loudness\\\",\\n        \\\"mode\\\",\\n        \\\"acousticness\\\",\\n        \\\"speechiness\\\",\\n        \\\"liveness\\\",\\n        \\\"instrumentalness\\\",\\n        \\\"valence\\\",\\n        \\\"tempo\\\",\\n        \\\"time_signature\\\",\\n    ]\\n)\";\n",
       "                var nbb_cells = Jupyter.notebook.get_cells();\n",
       "                for (var i = 0; i < nbb_cells.length; ++i) {\n",
       "                    if (nbb_cells[i].input_prompt_number == nbb_cell_id) {\n",
       "                        if (nbb_cells[i].get_text() == nbb_unformatted_code) {\n",
       "                             nbb_cells[i].set_text(nbb_formatted_code);\n",
       "                        }\n",
       "                        break;\n",
       "                    }\n",
       "                }\n",
       "            }, 500);\n",
       "            "
      ],
      "text/plain": [
       "<IPython.core.display.Javascript object>"
      ]
     },
     "metadata": {},
     "output_type": "display_data"
    }
   ],
   "source": [
    "genres = genres.drop(\n",
    "    columns=[\n",
    "        \"spotify_track_id\",\n",
    "        \"spotify_track_preview_url\",\n",
    "        \"spotify_track_duration_ms\",\n",
    "        \"spotify_track_popularity\",\n",
    "        \"danceability\",\n",
    "        \"energy\",\n",
    "        \"key\",\n",
    "        \"loudness\",\n",
    "        \"mode\",\n",
    "        \"acousticness\",\n",
    "        \"speechiness\",\n",
    "        \"liveness\",\n",
    "        \"instrumentalness\",\n",
    "        \"valence\",\n",
    "        \"tempo\",\n",
    "        \"time_signature\",\n",
    "    ]\n",
    ")"
   ]
  },
  {
   "cell_type": "markdown",
   "metadata": {},
   "source": [
    "# Basic table description data"
   ]
  },
  {
   "cell_type": "code",
   "execution_count": 8,
   "metadata": {},
   "outputs": [
    {
     "data": {
      "text/plain": [
       "(320495, 9)"
      ]
     },
     "execution_count": 8,
     "metadata": {},
     "output_type": "execute_result"
    },
    {
     "data": {
      "application/javascript": [
       "\n",
       "            setTimeout(function() {\n",
       "                var nbb_cell_id = 8;\n",
       "                var nbb_unformatted_code = \"hot_100.shape\";\n",
       "                var nbb_formatted_code = \"hot_100.shape\";\n",
       "                var nbb_cells = Jupyter.notebook.get_cells();\n",
       "                for (var i = 0; i < nbb_cells.length; ++i) {\n",
       "                    if (nbb_cells[i].input_prompt_number == nbb_cell_id) {\n",
       "                        if (nbb_cells[i].get_text() == nbb_unformatted_code) {\n",
       "                             nbb_cells[i].set_text(nbb_formatted_code);\n",
       "                        }\n",
       "                        break;\n",
       "                    }\n",
       "                }\n",
       "            }, 500);\n",
       "            "
      ],
      "text/plain": [
       "<IPython.core.display.Javascript object>"
      ]
     },
     "metadata": {},
     "output_type": "display_data"
    }
   ],
   "source": [
    "hot_100.shape"
   ]
  },
  {
   "cell_type": "code",
   "execution_count": 9,
   "metadata": {},
   "outputs": [
    {
     "data": {
      "text/plain": [
       "WeekID                        0\n",
       "Week Position                 0\n",
       "Song                          0\n",
       "Performer                     0\n",
       "SongID                        0\n",
       "Instance                      0\n",
       "Previous Week Position    30784\n",
       "Peak Position                 0\n",
       "Weeks on Chart                0\n",
       "dtype: int64"
      ]
     },
     "execution_count": 9,
     "metadata": {},
     "output_type": "execute_result"
    },
    {
     "data": {
      "application/javascript": [
       "\n",
       "            setTimeout(function() {\n",
       "                var nbb_cell_id = 9;\n",
       "                var nbb_unformatted_code = \"hot_100.isna().sum()\";\n",
       "                var nbb_formatted_code = \"hot_100.isna().sum()\";\n",
       "                var nbb_cells = Jupyter.notebook.get_cells();\n",
       "                for (var i = 0; i < nbb_cells.length; ++i) {\n",
       "                    if (nbb_cells[i].input_prompt_number == nbb_cell_id) {\n",
       "                        if (nbb_cells[i].get_text() == nbb_unformatted_code) {\n",
       "                             nbb_cells[i].set_text(nbb_formatted_code);\n",
       "                        }\n",
       "                        break;\n",
       "                    }\n",
       "                }\n",
       "            }, 500);\n",
       "            "
      ],
      "text/plain": [
       "<IPython.core.display.Javascript object>"
      ]
     },
     "metadata": {},
     "output_type": "display_data"
    }
   ],
   "source": [
    "hot_100.isna().sum()"
   ]
  },
  {
   "cell_type": "code",
   "execution_count": 10,
   "metadata": {},
   "outputs": [
    {
     "data": {
      "text/html": [
       "<div>\n",
       "<style scoped>\n",
       "    .dataframe tbody tr th:only-of-type {\n",
       "        vertical-align: middle;\n",
       "    }\n",
       "\n",
       "    .dataframe tbody tr th {\n",
       "        vertical-align: top;\n",
       "    }\n",
       "\n",
       "    .dataframe thead th {\n",
       "        text-align: right;\n",
       "    }\n",
       "</style>\n",
       "<table border=\"1\" class=\"dataframe\">\n",
       "  <thead>\n",
       "    <tr style=\"text-align: right;\">\n",
       "      <th></th>\n",
       "      <th>WeekID</th>\n",
       "      <th>Week Position</th>\n",
       "      <th>Song</th>\n",
       "      <th>Performer</th>\n",
       "      <th>SongID</th>\n",
       "      <th>Instance</th>\n",
       "      <th>Previous Week Position</th>\n",
       "      <th>Peak Position</th>\n",
       "      <th>Weeks on Chart</th>\n",
       "    </tr>\n",
       "  </thead>\n",
       "  <tbody>\n",
       "    <tr>\n",
       "      <th>0</th>\n",
       "      <td>8/2/1958</td>\n",
       "      <td>1</td>\n",
       "      <td>Poor Little Fool</td>\n",
       "      <td>Ricky Nelson</td>\n",
       "      <td>Poor Little FoolRicky Nelson</td>\n",
       "      <td>1</td>\n",
       "      <td>NaN</td>\n",
       "      <td>1</td>\n",
       "      <td>1</td>\n",
       "    </tr>\n",
       "    <tr>\n",
       "      <th>1</th>\n",
       "      <td>12/2/1995</td>\n",
       "      <td>1</td>\n",
       "      <td>One Sweet Day</td>\n",
       "      <td>Mariah Carey &amp; Boyz II Men</td>\n",
       "      <td>One Sweet DayMariah Carey &amp; Boyz II Men</td>\n",
       "      <td>1</td>\n",
       "      <td>NaN</td>\n",
       "      <td>1</td>\n",
       "      <td>1</td>\n",
       "    </tr>\n",
       "    <tr>\n",
       "      <th>2</th>\n",
       "      <td>10/11/1997</td>\n",
       "      <td>1</td>\n",
       "      <td>Candle In The Wind 1997/Something About The Wa...</td>\n",
       "      <td>Elton John</td>\n",
       "      <td>Candle In The Wind 1997/Something About The Wa...</td>\n",
       "      <td>1</td>\n",
       "      <td>NaN</td>\n",
       "      <td>1</td>\n",
       "      <td>1</td>\n",
       "    </tr>\n",
       "    <tr>\n",
       "      <th>3</th>\n",
       "      <td>7/1/2006</td>\n",
       "      <td>1</td>\n",
       "      <td>Do I Make You Proud</td>\n",
       "      <td>Taylor Hicks</td>\n",
       "      <td>Do I Make You ProudTaylor Hicks</td>\n",
       "      <td>1</td>\n",
       "      <td>NaN</td>\n",
       "      <td>1</td>\n",
       "      <td>1</td>\n",
       "    </tr>\n",
       "    <tr>\n",
       "      <th>4</th>\n",
       "      <td>10/24/2009</td>\n",
       "      <td>1</td>\n",
       "      <td>3</td>\n",
       "      <td>Britney Spears</td>\n",
       "      <td>3Britney Spears</td>\n",
       "      <td>1</td>\n",
       "      <td>NaN</td>\n",
       "      <td>1</td>\n",
       "      <td>1</td>\n",
       "    </tr>\n",
       "  </tbody>\n",
       "</table>\n",
       "</div>"
      ],
      "text/plain": [
       "       WeekID  Week Position  \\\n",
       "0    8/2/1958              1   \n",
       "1   12/2/1995              1   \n",
       "2  10/11/1997              1   \n",
       "3    7/1/2006              1   \n",
       "4  10/24/2009              1   \n",
       "\n",
       "                                                Song  \\\n",
       "0                                   Poor Little Fool   \n",
       "1                                      One Sweet Day   \n",
       "2  Candle In The Wind 1997/Something About The Wa...   \n",
       "3                                Do I Make You Proud   \n",
       "4                                                  3   \n",
       "\n",
       "                    Performer  \\\n",
       "0                Ricky Nelson   \n",
       "1  Mariah Carey & Boyz II Men   \n",
       "2                  Elton John   \n",
       "3                Taylor Hicks   \n",
       "4              Britney Spears   \n",
       "\n",
       "                                              SongID  Instance  \\\n",
       "0                       Poor Little FoolRicky Nelson         1   \n",
       "1            One Sweet DayMariah Carey & Boyz II Men         1   \n",
       "2  Candle In The Wind 1997/Something About The Wa...         1   \n",
       "3                    Do I Make You ProudTaylor Hicks         1   \n",
       "4                                    3Britney Spears         1   \n",
       "\n",
       "   Previous Week Position  Peak Position  Weeks on Chart  \n",
       "0                     NaN              1               1  \n",
       "1                     NaN              1               1  \n",
       "2                     NaN              1               1  \n",
       "3                     NaN              1               1  \n",
       "4                     NaN              1               1  "
      ]
     },
     "execution_count": 10,
     "metadata": {},
     "output_type": "execute_result"
    },
    {
     "data": {
      "application/javascript": [
       "\n",
       "            setTimeout(function() {\n",
       "                var nbb_cell_id = 10;\n",
       "                var nbb_unformatted_code = \"hot_100.head()\";\n",
       "                var nbb_formatted_code = \"hot_100.head()\";\n",
       "                var nbb_cells = Jupyter.notebook.get_cells();\n",
       "                for (var i = 0; i < nbb_cells.length; ++i) {\n",
       "                    if (nbb_cells[i].input_prompt_number == nbb_cell_id) {\n",
       "                        if (nbb_cells[i].get_text() == nbb_unformatted_code) {\n",
       "                             nbb_cells[i].set_text(nbb_formatted_code);\n",
       "                        }\n",
       "                        break;\n",
       "                    }\n",
       "                }\n",
       "            }, 500);\n",
       "            "
      ],
      "text/plain": [
       "<IPython.core.display.Javascript object>"
      ]
     },
     "metadata": {},
     "output_type": "display_data"
    }
   ],
   "source": [
    "hot_100.head()"
   ]
  },
  {
   "cell_type": "code",
   "execution_count": 11,
   "metadata": {},
   "outputs": [
    {
     "data": {
      "text/plain": [
       "WeekID                     object\n",
       "Week Position               int64\n",
       "Song                       object\n",
       "Performer                  object\n",
       "SongID                     object\n",
       "Instance                    int64\n",
       "Previous Week Position    float64\n",
       "Peak Position               int64\n",
       "Weeks on Chart              int64\n",
       "dtype: object"
      ]
     },
     "execution_count": 11,
     "metadata": {},
     "output_type": "execute_result"
    },
    {
     "data": {
      "application/javascript": [
       "\n",
       "            setTimeout(function() {\n",
       "                var nbb_cell_id = 11;\n",
       "                var nbb_unformatted_code = \"hot_100.dtypes\";\n",
       "                var nbb_formatted_code = \"hot_100.dtypes\";\n",
       "                var nbb_cells = Jupyter.notebook.get_cells();\n",
       "                for (var i = 0; i < nbb_cells.length; ++i) {\n",
       "                    if (nbb_cells[i].input_prompt_number == nbb_cell_id) {\n",
       "                        if (nbb_cells[i].get_text() == nbb_unformatted_code) {\n",
       "                             nbb_cells[i].set_text(nbb_formatted_code);\n",
       "                        }\n",
       "                        break;\n",
       "                    }\n",
       "                }\n",
       "            }, 500);\n",
       "            "
      ],
      "text/plain": [
       "<IPython.core.display.Javascript object>"
      ]
     },
     "metadata": {},
     "output_type": "display_data"
    }
   ],
   "source": [
    "hot_100.dtypes"
   ]
  },
  {
   "cell_type": "code",
   "execution_count": 12,
   "metadata": {},
   "outputs": [
    {
     "data": {
      "text/plain": [
       "(28470, 6)"
      ]
     },
     "execution_count": 12,
     "metadata": {},
     "output_type": "execute_result"
    },
    {
     "data": {
      "application/javascript": [
       "\n",
       "            setTimeout(function() {\n",
       "                var nbb_cell_id = 12;\n",
       "                var nbb_unformatted_code = \"genres.shape\";\n",
       "                var nbb_formatted_code = \"genres.shape\";\n",
       "                var nbb_cells = Jupyter.notebook.get_cells();\n",
       "                for (var i = 0; i < nbb_cells.length; ++i) {\n",
       "                    if (nbb_cells[i].input_prompt_number == nbb_cell_id) {\n",
       "                        if (nbb_cells[i].get_text() == nbb_unformatted_code) {\n",
       "                             nbb_cells[i].set_text(nbb_formatted_code);\n",
       "                        }\n",
       "                        break;\n",
       "                    }\n",
       "                }\n",
       "            }, 500);\n",
       "            "
      ],
      "text/plain": [
       "<IPython.core.display.Javascript object>"
      ]
     },
     "metadata": {},
     "output_type": "display_data"
    }
   ],
   "source": [
    "genres.shape"
   ]
  },
  {
   "cell_type": "code",
   "execution_count": 13,
   "metadata": {},
   "outputs": [
    {
     "data": {
      "text/plain": [
       "SongID                    0.000000\n",
       "Performer                 0.000000\n",
       "Song                      0.000000\n",
       "spotify_genre             0.043133\n",
       "spotify_track_album       0.166737\n",
       "spotify_track_explicit    0.166526\n",
       "dtype: float64"
      ]
     },
     "execution_count": 13,
     "metadata": {},
     "output_type": "execute_result"
    },
    {
     "data": {
      "application/javascript": [
       "\n",
       "            setTimeout(function() {\n",
       "                var nbb_cell_id = 13;\n",
       "                var nbb_unformatted_code = \"genres.isna().mean()\";\n",
       "                var nbb_formatted_code = \"genres.isna().mean()\";\n",
       "                var nbb_cells = Jupyter.notebook.get_cells();\n",
       "                for (var i = 0; i < nbb_cells.length; ++i) {\n",
       "                    if (nbb_cells[i].input_prompt_number == nbb_cell_id) {\n",
       "                        if (nbb_cells[i].get_text() == nbb_unformatted_code) {\n",
       "                             nbb_cells[i].set_text(nbb_formatted_code);\n",
       "                        }\n",
       "                        break;\n",
       "                    }\n",
       "                }\n",
       "            }, 500);\n",
       "            "
      ],
      "text/plain": [
       "<IPython.core.display.Javascript object>"
      ]
     },
     "metadata": {},
     "output_type": "display_data"
    }
   ],
   "source": [
    "genres.isna().mean()"
   ]
  },
  {
   "cell_type": "code",
   "execution_count": 14,
   "metadata": {},
   "outputs": [
    {
     "data": {
      "text/html": [
       "<div>\n",
       "<style scoped>\n",
       "    .dataframe tbody tr th:only-of-type {\n",
       "        vertical-align: middle;\n",
       "    }\n",
       "\n",
       "    .dataframe tbody tr th {\n",
       "        vertical-align: top;\n",
       "    }\n",
       "\n",
       "    .dataframe thead th {\n",
       "        text-align: right;\n",
       "    }\n",
       "</style>\n",
       "<table border=\"1\" class=\"dataframe\">\n",
       "  <thead>\n",
       "    <tr style=\"text-align: right;\">\n",
       "      <th></th>\n",
       "      <th>SongID</th>\n",
       "      <th>Performer</th>\n",
       "      <th>Song</th>\n",
       "      <th>spotify_genre</th>\n",
       "      <th>spotify_track_album</th>\n",
       "      <th>spotify_track_explicit</th>\n",
       "    </tr>\n",
       "  </thead>\n",
       "  <tbody>\n",
       "    <tr>\n",
       "      <th>0</th>\n",
       "      <td>AdictoTainy, Anuel AA &amp; Ozuna</td>\n",
       "      <td>Tainy, Anuel AA &amp; Ozuna</td>\n",
       "      <td>Adicto</td>\n",
       "      <td>['pop reggaeton']</td>\n",
       "      <td>Adicto (with Anuel AA &amp; Ozuna)</td>\n",
       "      <td>0.0</td>\n",
       "    </tr>\n",
       "    <tr>\n",
       "      <th>1</th>\n",
       "      <td>The Ones That Didn't Make It Back HomeJustin M...</td>\n",
       "      <td>Justin Moore</td>\n",
       "      <td>The Ones That Didn't Make It Back Home</td>\n",
       "      <td>['arkansas country', 'contemporary country', '...</td>\n",
       "      <td>NaN</td>\n",
       "      <td>NaN</td>\n",
       "    </tr>\n",
       "    <tr>\n",
       "      <th>2</th>\n",
       "      <td>ShallowLady Gaga &amp; Bradley Cooper</td>\n",
       "      <td>Lady Gaga &amp; Bradley Cooper</td>\n",
       "      <td>Shallow</td>\n",
       "      <td>['dance pop', 'pop']</td>\n",
       "      <td>A Star Is Born Soundtrack</td>\n",
       "      <td>0.0</td>\n",
       "    </tr>\n",
       "    <tr>\n",
       "      <th>3</th>\n",
       "      <td>EnemiesPost Malone Featuring DaBaby</td>\n",
       "      <td>Post Malone Featuring DaBaby</td>\n",
       "      <td>Enemies</td>\n",
       "      <td>['dfw rap', 'melodic rap', 'rap']</td>\n",
       "      <td>Hollywood's Bleeding</td>\n",
       "      <td>1.0</td>\n",
       "    </tr>\n",
       "    <tr>\n",
       "      <th>4</th>\n",
       "      <td>Bacc At It AgainYella Beezy, Gucci Mane &amp; Quavo</td>\n",
       "      <td>Yella Beezy, Gucci Mane &amp; Quavo</td>\n",
       "      <td>Bacc At It Again</td>\n",
       "      <td>['dfw rap', 'rap', 'southern hip hop', 'trap']</td>\n",
       "      <td>Bacc At It Again</td>\n",
       "      <td>1.0</td>\n",
       "    </tr>\n",
       "  </tbody>\n",
       "</table>\n",
       "</div>"
      ],
      "text/plain": [
       "                                              SongID  \\\n",
       "0                      AdictoTainy, Anuel AA & Ozuna   \n",
       "1  The Ones That Didn't Make It Back HomeJustin M...   \n",
       "2                  ShallowLady Gaga & Bradley Cooper   \n",
       "3                EnemiesPost Malone Featuring DaBaby   \n",
       "4    Bacc At It AgainYella Beezy, Gucci Mane & Quavo   \n",
       "\n",
       "                         Performer                                    Song  \\\n",
       "0          Tainy, Anuel AA & Ozuna                                  Adicto   \n",
       "1                     Justin Moore  The Ones That Didn't Make It Back Home   \n",
       "2       Lady Gaga & Bradley Cooper                                 Shallow   \n",
       "3     Post Malone Featuring DaBaby                                 Enemies   \n",
       "4  Yella Beezy, Gucci Mane & Quavo                        Bacc At It Again   \n",
       "\n",
       "                                       spotify_genre  \\\n",
       "0                                  ['pop reggaeton']   \n",
       "1  ['arkansas country', 'contemporary country', '...   \n",
       "2                               ['dance pop', 'pop']   \n",
       "3                  ['dfw rap', 'melodic rap', 'rap']   \n",
       "4     ['dfw rap', 'rap', 'southern hip hop', 'trap']   \n",
       "\n",
       "              spotify_track_album  spotify_track_explicit  \n",
       "0  Adicto (with Anuel AA & Ozuna)                     0.0  \n",
       "1                             NaN                     NaN  \n",
       "2       A Star Is Born Soundtrack                     0.0  \n",
       "3            Hollywood's Bleeding                     1.0  \n",
       "4                Bacc At It Again                     1.0  "
      ]
     },
     "execution_count": 14,
     "metadata": {},
     "output_type": "execute_result"
    },
    {
     "data": {
      "application/javascript": [
       "\n",
       "            setTimeout(function() {\n",
       "                var nbb_cell_id = 14;\n",
       "                var nbb_unformatted_code = \"genres.head()\";\n",
       "                var nbb_formatted_code = \"genres.head()\";\n",
       "                var nbb_cells = Jupyter.notebook.get_cells();\n",
       "                for (var i = 0; i < nbb_cells.length; ++i) {\n",
       "                    if (nbb_cells[i].input_prompt_number == nbb_cell_id) {\n",
       "                        if (nbb_cells[i].get_text() == nbb_unformatted_code) {\n",
       "                             nbb_cells[i].set_text(nbb_formatted_code);\n",
       "                        }\n",
       "                        break;\n",
       "                    }\n",
       "                }\n",
       "            }, 500);\n",
       "            "
      ],
      "text/plain": [
       "<IPython.core.display.Javascript object>"
      ]
     },
     "metadata": {},
     "output_type": "display_data"
    }
   ],
   "source": [
    "genres.head()"
   ]
  },
  {
   "cell_type": "code",
   "execution_count": 15,
   "metadata": {},
   "outputs": [
    {
     "data": {
      "text/plain": [
       "SongID                     object\n",
       "Performer                  object\n",
       "Song                       object\n",
       "spotify_genre              object\n",
       "spotify_track_album        object\n",
       "spotify_track_explicit    float64\n",
       "dtype: object"
      ]
     },
     "execution_count": 15,
     "metadata": {},
     "output_type": "execute_result"
    },
    {
     "data": {
      "application/javascript": [
       "\n",
       "            setTimeout(function() {\n",
       "                var nbb_cell_id = 15;\n",
       "                var nbb_unformatted_code = \"genres.dtypes\";\n",
       "                var nbb_formatted_code = \"genres.dtypes\";\n",
       "                var nbb_cells = Jupyter.notebook.get_cells();\n",
       "                for (var i = 0; i < nbb_cells.length; ++i) {\n",
       "                    if (nbb_cells[i].input_prompt_number == nbb_cell_id) {\n",
       "                        if (nbb_cells[i].get_text() == nbb_unformatted_code) {\n",
       "                             nbb_cells[i].set_text(nbb_formatted_code);\n",
       "                        }\n",
       "                        break;\n",
       "                    }\n",
       "                }\n",
       "            }, 500);\n",
       "            "
      ],
      "text/plain": [
       "<IPython.core.display.Javascript object>"
      ]
     },
     "metadata": {},
     "output_type": "display_data"
    }
   ],
   "source": [
    "genres.dtypes"
   ]
  },
  {
   "cell_type": "markdown",
   "metadata": {},
   "source": [
    "# Fill null values"
   ]
  },
  {
   "cell_type": "code",
   "execution_count": 16,
   "metadata": {},
   "outputs": [
    {
     "data": {
      "application/javascript": [
       "\n",
       "            setTimeout(function() {\n",
       "                var nbb_cell_id = 16;\n",
       "                var nbb_unformatted_code = \"genres[\\\"spotify_track_album\\\"].fillna(\\\" \\\", inplace=True)\\nhot_100[\\\"Previous Week Position\\\"].fillna(int(0), inplace=True)\\ngenres[\\\"spotify_track_explicit\\\"].fillna(999, inplace=True)\";\n",
       "                var nbb_formatted_code = \"genres[\\\"spotify_track_album\\\"].fillna(\\\" \\\", inplace=True)\\nhot_100[\\\"Previous Week Position\\\"].fillna(int(0), inplace=True)\\ngenres[\\\"spotify_track_explicit\\\"].fillna(999, inplace=True)\";\n",
       "                var nbb_cells = Jupyter.notebook.get_cells();\n",
       "                for (var i = 0; i < nbb_cells.length; ++i) {\n",
       "                    if (nbb_cells[i].input_prompt_number == nbb_cell_id) {\n",
       "                        if (nbb_cells[i].get_text() == nbb_unformatted_code) {\n",
       "                             nbb_cells[i].set_text(nbb_formatted_code);\n",
       "                        }\n",
       "                        break;\n",
       "                    }\n",
       "                }\n",
       "            }, 500);\n",
       "            "
      ],
      "text/plain": [
       "<IPython.core.display.Javascript object>"
      ]
     },
     "metadata": {},
     "output_type": "display_data"
    }
   ],
   "source": [
    "genres[\"spotify_track_album\"].fillna(\" \", inplace=True)\n",
    "hot_100[\"Previous Week Position\"].fillna(int(0), inplace=True)\n",
    "genres[\"spotify_track_explicit\"].fillna(999, inplace=True)"
   ]
  },
  {
   "cell_type": "code",
   "execution_count": 17,
   "metadata": {},
   "outputs": [
    {
     "data": {
      "application/javascript": [
       "\n",
       "            setTimeout(function() {\n",
       "                var nbb_cell_id = 17;\n",
       "                var nbb_unformatted_code = \"hot_100 = hot_100.astype({\\\"Previous Week Position\\\": int})\";\n",
       "                var nbb_formatted_code = \"hot_100 = hot_100.astype({\\\"Previous Week Position\\\": int})\";\n",
       "                var nbb_cells = Jupyter.notebook.get_cells();\n",
       "                for (var i = 0; i < nbb_cells.length; ++i) {\n",
       "                    if (nbb_cells[i].input_prompt_number == nbb_cell_id) {\n",
       "                        if (nbb_cells[i].get_text() == nbb_unformatted_code) {\n",
       "                             nbb_cells[i].set_text(nbb_formatted_code);\n",
       "                        }\n",
       "                        break;\n",
       "                    }\n",
       "                }\n",
       "            }, 500);\n",
       "            "
      ],
      "text/plain": [
       "<IPython.core.display.Javascript object>"
      ]
     },
     "metadata": {},
     "output_type": "display_data"
    }
   ],
   "source": [
    "hot_100 = hot_100.astype({\"Previous Week Position\": int})"
   ]
  },
  {
   "cell_type": "code",
   "execution_count": 18,
   "metadata": {},
   "outputs": [
    {
     "data": {
      "application/javascript": [
       "\n",
       "            setTimeout(function() {\n",
       "                var nbb_cell_id = 18;\n",
       "                var nbb_unformatted_code = \"genres[\\\"spotify_genre\\\"].fillna(\\\"[]\\\", inplace=True)\\ngenres[\\\"spotify_genre_list\\\"] = genres[\\\"spotify_genre\\\"].apply(ast.literal_eval)\";\n",
       "                var nbb_formatted_code = \"genres[\\\"spotify_genre\\\"].fillna(\\\"[]\\\", inplace=True)\\ngenres[\\\"spotify_genre_list\\\"] = genres[\\\"spotify_genre\\\"].apply(ast.literal_eval)\";\n",
       "                var nbb_cells = Jupyter.notebook.get_cells();\n",
       "                for (var i = 0; i < nbb_cells.length; ++i) {\n",
       "                    if (nbb_cells[i].input_prompt_number == nbb_cell_id) {\n",
       "                        if (nbb_cells[i].get_text() == nbb_unformatted_code) {\n",
       "                             nbb_cells[i].set_text(nbb_formatted_code);\n",
       "                        }\n",
       "                        break;\n",
       "                    }\n",
       "                }\n",
       "            }, 500);\n",
       "            "
      ],
      "text/plain": [
       "<IPython.core.display.Javascript object>"
      ]
     },
     "metadata": {},
     "output_type": "display_data"
    }
   ],
   "source": [
    "genres[\"spotify_genre\"].fillna(\"[]\", inplace=True)\n",
    "genres[\"spotify_genre_list\"] = genres[\"spotify_genre\"].apply(ast.literal_eval)"
   ]
  },
  {
   "cell_type": "code",
   "execution_count": 19,
   "metadata": {},
   "outputs": [
    {
     "data": {
      "application/javascript": [
       "\n",
       "            setTimeout(function() {\n",
       "                var nbb_cell_id = 19;\n",
       "                var nbb_unformatted_code = \"genres = genres.astype({\\\"spotify_track_explicit\\\": int})\";\n",
       "                var nbb_formatted_code = \"genres = genres.astype({\\\"spotify_track_explicit\\\": int})\";\n",
       "                var nbb_cells = Jupyter.notebook.get_cells();\n",
       "                for (var i = 0; i < nbb_cells.length; ++i) {\n",
       "                    if (nbb_cells[i].input_prompt_number == nbb_cell_id) {\n",
       "                        if (nbb_cells[i].get_text() == nbb_unformatted_code) {\n",
       "                             nbb_cells[i].set_text(nbb_formatted_code);\n",
       "                        }\n",
       "                        break;\n",
       "                    }\n",
       "                }\n",
       "            }, 500);\n",
       "            "
      ],
      "text/plain": [
       "<IPython.core.display.Javascript object>"
      ]
     },
     "metadata": {},
     "output_type": "display_data"
    }
   ],
   "source": [
    "genres = genres.astype({\"spotify_track_explicit\": int})"
   ]
  },
  {
   "cell_type": "markdown",
   "metadata": {},
   "source": [
    "# Join the 2 tables"
   ]
  },
  {
   "cell_type": "code",
   "execution_count": 20,
   "metadata": {},
   "outputs": [
    {
     "data": {
      "text/html": [
       "<div>\n",
       "<style scoped>\n",
       "    .dataframe tbody tr th:only-of-type {\n",
       "        vertical-align: middle;\n",
       "    }\n",
       "\n",
       "    .dataframe tbody tr th {\n",
       "        vertical-align: top;\n",
       "    }\n",
       "\n",
       "    .dataframe thead th {\n",
       "        text-align: right;\n",
       "    }\n",
       "</style>\n",
       "<table border=\"1\" class=\"dataframe\">\n",
       "  <thead>\n",
       "    <tr style=\"text-align: right;\">\n",
       "      <th></th>\n",
       "      <th>WeekID</th>\n",
       "      <th>Week Position</th>\n",
       "      <th>Song_x</th>\n",
       "      <th>Performer_x</th>\n",
       "      <th>SongID</th>\n",
       "      <th>Instance</th>\n",
       "      <th>Previous Week Position</th>\n",
       "      <th>Peak Position</th>\n",
       "      <th>Weeks on Chart</th>\n",
       "      <th>Performer_y</th>\n",
       "      <th>Song_y</th>\n",
       "      <th>spotify_genre</th>\n",
       "      <th>spotify_track_album</th>\n",
       "      <th>spotify_track_explicit</th>\n",
       "      <th>spotify_genre_list</th>\n",
       "    </tr>\n",
       "  </thead>\n",
       "  <tbody>\n",
       "    <tr>\n",
       "      <th>0</th>\n",
       "      <td>2/2/2019</td>\n",
       "      <td>1</td>\n",
       "      <td>7 Rings</td>\n",
       "      <td>Ariana Grande</td>\n",
       "      <td>7 RingsAriana Grande</td>\n",
       "      <td>1</td>\n",
       "      <td>0</td>\n",
       "      <td>1</td>\n",
       "      <td>1</td>\n",
       "      <td>Ariana Grande</td>\n",
       "      <td>7 Rings</td>\n",
       "      <td>['dance pop', 'pop', 'post-teen pop']</td>\n",
       "      <td>thank</td>\n",
       "      <td>1</td>\n",
       "      <td>[dance pop, pop, post-teen pop]</td>\n",
       "    </tr>\n",
       "    <tr>\n",
       "      <th>1</th>\n",
       "      <td>5/25/2019</td>\n",
       "      <td>11</td>\n",
       "      <td>7 Rings</td>\n",
       "      <td>Ariana Grande</td>\n",
       "      <td>7 RingsAriana Grande</td>\n",
       "      <td>1</td>\n",
       "      <td>10</td>\n",
       "      <td>1</td>\n",
       "      <td>17</td>\n",
       "      <td>Ariana Grande</td>\n",
       "      <td>7 Rings</td>\n",
       "      <td>['dance pop', 'pop', 'post-teen pop']</td>\n",
       "      <td>thank</td>\n",
       "      <td>1</td>\n",
       "      <td>[dance pop, pop, post-teen pop]</td>\n",
       "    </tr>\n",
       "    <tr>\n",
       "      <th>2</th>\n",
       "      <td>4/20/2019</td>\n",
       "      <td>4</td>\n",
       "      <td>7 Rings</td>\n",
       "      <td>Ariana Grande</td>\n",
       "      <td>7 RingsAriana Grande</td>\n",
       "      <td>1</td>\n",
       "      <td>3</td>\n",
       "      <td>1</td>\n",
       "      <td>12</td>\n",
       "      <td>Ariana Grande</td>\n",
       "      <td>7 Rings</td>\n",
       "      <td>['dance pop', 'pop', 'post-teen pop']</td>\n",
       "      <td>thank</td>\n",
       "      <td>1</td>\n",
       "      <td>[dance pop, pop, post-teen pop]</td>\n",
       "    </tr>\n",
       "    <tr>\n",
       "      <th>3</th>\n",
       "      <td>6/1/2019</td>\n",
       "      <td>12</td>\n",
       "      <td>7 Rings</td>\n",
       "      <td>Ariana Grande</td>\n",
       "      <td>7 RingsAriana Grande</td>\n",
       "      <td>1</td>\n",
       "      <td>11</td>\n",
       "      <td>1</td>\n",
       "      <td>18</td>\n",
       "      <td>Ariana Grande</td>\n",
       "      <td>7 Rings</td>\n",
       "      <td>['dance pop', 'pop', 'post-teen pop']</td>\n",
       "      <td>thank</td>\n",
       "      <td>1</td>\n",
       "      <td>[dance pop, pop, post-teen pop]</td>\n",
       "    </tr>\n",
       "    <tr>\n",
       "      <th>4</th>\n",
       "      <td>3/30/2019</td>\n",
       "      <td>1</td>\n",
       "      <td>7 Rings</td>\n",
       "      <td>Ariana Grande</td>\n",
       "      <td>7 RingsAriana Grande</td>\n",
       "      <td>1</td>\n",
       "      <td>1</td>\n",
       "      <td>1</td>\n",
       "      <td>9</td>\n",
       "      <td>Ariana Grande</td>\n",
       "      <td>7 Rings</td>\n",
       "      <td>['dance pop', 'pop', 'post-teen pop']</td>\n",
       "      <td>thank</td>\n",
       "      <td>1</td>\n",
       "      <td>[dance pop, pop, post-teen pop]</td>\n",
       "    </tr>\n",
       "    <tr>\n",
       "      <th>...</th>\n",
       "      <td>...</td>\n",
       "      <td>...</td>\n",
       "      <td>...</td>\n",
       "      <td>...</td>\n",
       "      <td>...</td>\n",
       "      <td>...</td>\n",
       "      <td>...</td>\n",
       "      <td>...</td>\n",
       "      <td>...</td>\n",
       "      <td>...</td>\n",
       "      <td>...</td>\n",
       "      <td>...</td>\n",
       "      <td>...</td>\n",
       "      <td>...</td>\n",
       "      <td>...</td>\n",
       "    </tr>\n",
       "    <tr>\n",
       "      <th>320602</th>\n",
       "      <td>8/25/1962</td>\n",
       "      <td>18</td>\n",
       "      <td>What's A Matter Baby (Is It Hurting You)</td>\n",
       "      <td>Timi Yuro</td>\n",
       "      <td>What's A Matter Baby (Is It Hurting You)Timi Yuro</td>\n",
       "      <td>1</td>\n",
       "      <td>23</td>\n",
       "      <td>18</td>\n",
       "      <td>7</td>\n",
       "      <td>Timi Yuro</td>\n",
       "      <td>What's A Matter Baby (Is It Hurting You)</td>\n",
       "      <td>['adult standards', 'brill building pop']</td>\n",
       "      <td>The Best Of Timi Yuro</td>\n",
       "      <td>0</td>\n",
       "      <td>[adult standards, brill building pop]</td>\n",
       "    </tr>\n",
       "    <tr>\n",
       "      <th>320603</th>\n",
       "      <td>9/1/1962</td>\n",
       "      <td>12</td>\n",
       "      <td>What's A Matter Baby (Is It Hurting You)</td>\n",
       "      <td>Timi Yuro</td>\n",
       "      <td>What's A Matter Baby (Is It Hurting You)Timi Yuro</td>\n",
       "      <td>1</td>\n",
       "      <td>18</td>\n",
       "      <td>12</td>\n",
       "      <td>8</td>\n",
       "      <td>Timi Yuro</td>\n",
       "      <td>What's A Matter Baby (Is It Hurting You)</td>\n",
       "      <td>['adult standards', 'brill building pop']</td>\n",
       "      <td>The Best Of Timi Yuro</td>\n",
       "      <td>0</td>\n",
       "      <td>[adult standards, brill building pop]</td>\n",
       "    </tr>\n",
       "    <tr>\n",
       "      <th>320604</th>\n",
       "      <td>9/8/1962</td>\n",
       "      <td>14</td>\n",
       "      <td>What's A Matter Baby (Is It Hurting You)</td>\n",
       "      <td>Timi Yuro</td>\n",
       "      <td>What's A Matter Baby (Is It Hurting You)Timi Yuro</td>\n",
       "      <td>1</td>\n",
       "      <td>12</td>\n",
       "      <td>12</td>\n",
       "      <td>9</td>\n",
       "      <td>Timi Yuro</td>\n",
       "      <td>What's A Matter Baby (Is It Hurting You)</td>\n",
       "      <td>['adult standards', 'brill building pop']</td>\n",
       "      <td>The Best Of Timi Yuro</td>\n",
       "      <td>0</td>\n",
       "      <td>[adult standards, brill building pop]</td>\n",
       "    </tr>\n",
       "    <tr>\n",
       "      <th>320605</th>\n",
       "      <td>9/15/1962</td>\n",
       "      <td>31</td>\n",
       "      <td>What's A Matter Baby (Is It Hurting You)</td>\n",
       "      <td>Timi Yuro</td>\n",
       "      <td>What's A Matter Baby (Is It Hurting You)Timi Yuro</td>\n",
       "      <td>1</td>\n",
       "      <td>14</td>\n",
       "      <td>12</td>\n",
       "      <td>10</td>\n",
       "      <td>Timi Yuro</td>\n",
       "      <td>What's A Matter Baby (Is It Hurting You)</td>\n",
       "      <td>['adult standards', 'brill building pop']</td>\n",
       "      <td>The Best Of Timi Yuro</td>\n",
       "      <td>0</td>\n",
       "      <td>[adult standards, brill building pop]</td>\n",
       "    </tr>\n",
       "    <tr>\n",
       "      <th>320606</th>\n",
       "      <td>9/22/1962</td>\n",
       "      <td>47</td>\n",
       "      <td>What's A Matter Baby (Is It Hurting You)</td>\n",
       "      <td>Timi Yuro</td>\n",
       "      <td>What's A Matter Baby (Is It Hurting You)Timi Yuro</td>\n",
       "      <td>1</td>\n",
       "      <td>31</td>\n",
       "      <td>12</td>\n",
       "      <td>11</td>\n",
       "      <td>Timi Yuro</td>\n",
       "      <td>What's A Matter Baby (Is It Hurting You)</td>\n",
       "      <td>['adult standards', 'brill building pop']</td>\n",
       "      <td>The Best Of Timi Yuro</td>\n",
       "      <td>0</td>\n",
       "      <td>[adult standards, brill building pop]</td>\n",
       "    </tr>\n",
       "  </tbody>\n",
       "</table>\n",
       "<p>320607 rows × 15 columns</p>\n",
       "</div>"
      ],
      "text/plain": [
       "           WeekID  Week Position                                    Song_x  \\\n",
       "0        2/2/2019              1                                   7 Rings   \n",
       "1       5/25/2019             11                                   7 Rings   \n",
       "2       4/20/2019              4                                   7 Rings   \n",
       "3        6/1/2019             12                                   7 Rings   \n",
       "4       3/30/2019              1                                   7 Rings   \n",
       "...           ...            ...                                       ...   \n",
       "320602  8/25/1962             18  What's A Matter Baby (Is It Hurting You)   \n",
       "320603   9/1/1962             12  What's A Matter Baby (Is It Hurting You)   \n",
       "320604   9/8/1962             14  What's A Matter Baby (Is It Hurting You)   \n",
       "320605  9/15/1962             31  What's A Matter Baby (Is It Hurting You)   \n",
       "320606  9/22/1962             47  What's A Matter Baby (Is It Hurting You)   \n",
       "\n",
       "          Performer_x                                             SongID  \\\n",
       "0       Ariana Grande                               7 RingsAriana Grande   \n",
       "1       Ariana Grande                               7 RingsAriana Grande   \n",
       "2       Ariana Grande                               7 RingsAriana Grande   \n",
       "3       Ariana Grande                               7 RingsAriana Grande   \n",
       "4       Ariana Grande                               7 RingsAriana Grande   \n",
       "...               ...                                                ...   \n",
       "320602      Timi Yuro  What's A Matter Baby (Is It Hurting You)Timi Yuro   \n",
       "320603      Timi Yuro  What's A Matter Baby (Is It Hurting You)Timi Yuro   \n",
       "320604      Timi Yuro  What's A Matter Baby (Is It Hurting You)Timi Yuro   \n",
       "320605      Timi Yuro  What's A Matter Baby (Is It Hurting You)Timi Yuro   \n",
       "320606      Timi Yuro  What's A Matter Baby (Is It Hurting You)Timi Yuro   \n",
       "\n",
       "        Instance  Previous Week Position  Peak Position  Weeks on Chart  \\\n",
       "0              1                       0              1               1   \n",
       "1              1                      10              1              17   \n",
       "2              1                       3              1              12   \n",
       "3              1                      11              1              18   \n",
       "4              1                       1              1               9   \n",
       "...          ...                     ...            ...             ...   \n",
       "320602         1                      23             18               7   \n",
       "320603         1                      18             12               8   \n",
       "320604         1                      12             12               9   \n",
       "320605         1                      14             12              10   \n",
       "320606         1                      31             12              11   \n",
       "\n",
       "          Performer_y                                    Song_y  \\\n",
       "0       Ariana Grande                                   7 Rings   \n",
       "1       Ariana Grande                                   7 Rings   \n",
       "2       Ariana Grande                                   7 Rings   \n",
       "3       Ariana Grande                                   7 Rings   \n",
       "4       Ariana Grande                                   7 Rings   \n",
       "...               ...                                       ...   \n",
       "320602      Timi Yuro  What's A Matter Baby (Is It Hurting You)   \n",
       "320603      Timi Yuro  What's A Matter Baby (Is It Hurting You)   \n",
       "320604      Timi Yuro  What's A Matter Baby (Is It Hurting You)   \n",
       "320605      Timi Yuro  What's A Matter Baby (Is It Hurting You)   \n",
       "320606      Timi Yuro  What's A Matter Baby (Is It Hurting You)   \n",
       "\n",
       "                                    spotify_genre    spotify_track_album  \\\n",
       "0           ['dance pop', 'pop', 'post-teen pop']                 thank    \n",
       "1           ['dance pop', 'pop', 'post-teen pop']                 thank    \n",
       "2           ['dance pop', 'pop', 'post-teen pop']                 thank    \n",
       "3           ['dance pop', 'pop', 'post-teen pop']                 thank    \n",
       "4           ['dance pop', 'pop', 'post-teen pop']                 thank    \n",
       "...                                           ...                    ...   \n",
       "320602  ['adult standards', 'brill building pop']  The Best Of Timi Yuro   \n",
       "320603  ['adult standards', 'brill building pop']  The Best Of Timi Yuro   \n",
       "320604  ['adult standards', 'brill building pop']  The Best Of Timi Yuro   \n",
       "320605  ['adult standards', 'brill building pop']  The Best Of Timi Yuro   \n",
       "320606  ['adult standards', 'brill building pop']  The Best Of Timi Yuro   \n",
       "\n",
       "        spotify_track_explicit                     spotify_genre_list  \n",
       "0                            1        [dance pop, pop, post-teen pop]  \n",
       "1                            1        [dance pop, pop, post-teen pop]  \n",
       "2                            1        [dance pop, pop, post-teen pop]  \n",
       "3                            1        [dance pop, pop, post-teen pop]  \n",
       "4                            1        [dance pop, pop, post-teen pop]  \n",
       "...                        ...                                    ...  \n",
       "320602                       0  [adult standards, brill building pop]  \n",
       "320603                       0  [adult standards, brill building pop]  \n",
       "320604                       0  [adult standards, brill building pop]  \n",
       "320605                       0  [adult standards, brill building pop]  \n",
       "320606                       0  [adult standards, brill building pop]  \n",
       "\n",
       "[320607 rows x 15 columns]"
      ]
     },
     "execution_count": 20,
     "metadata": {},
     "output_type": "execute_result"
    },
    {
     "data": {
      "application/javascript": [
       "\n",
       "            setTimeout(function() {\n",
       "                var nbb_cell_id = 20;\n",
       "                var nbb_unformatted_code = \"full_table = hot_100.merge(genres, left_on=\\\"SongID\\\", right_on=\\\"SongID\\\")\\nfull_table\";\n",
       "                var nbb_formatted_code = \"full_table = hot_100.merge(genres, left_on=\\\"SongID\\\", right_on=\\\"SongID\\\")\\nfull_table\";\n",
       "                var nbb_cells = Jupyter.notebook.get_cells();\n",
       "                for (var i = 0; i < nbb_cells.length; ++i) {\n",
       "                    if (nbb_cells[i].input_prompt_number == nbb_cell_id) {\n",
       "                        if (nbb_cells[i].get_text() == nbb_unformatted_code) {\n",
       "                             nbb_cells[i].set_text(nbb_formatted_code);\n",
       "                        }\n",
       "                        break;\n",
       "                    }\n",
       "                }\n",
       "            }, 500);\n",
       "            "
      ],
      "text/plain": [
       "<IPython.core.display.Javascript object>"
      ]
     },
     "metadata": {},
     "output_type": "display_data"
    }
   ],
   "source": [
    "full_table = hot_100.merge(genres, left_on=\"SongID\", right_on=\"SongID\")\n",
    "full_table"
   ]
  },
  {
   "cell_type": "markdown",
   "metadata": {},
   "source": [
    "# Remove unnecessary columns, re-label columns"
   ]
  },
  {
   "cell_type": "code",
   "execution_count": 21,
   "metadata": {},
   "outputs": [
    {
     "data": {
      "application/javascript": [
       "\n",
       "            setTimeout(function() {\n",
       "                var nbb_cell_id = 21;\n",
       "                var nbb_unformatted_code = \"full_table = full_table.drop(columns=[\\\"Performer_y\\\", \\\"Song_y\\\"])\";\n",
       "                var nbb_formatted_code = \"full_table = full_table.drop(columns=[\\\"Performer_y\\\", \\\"Song_y\\\"])\";\n",
       "                var nbb_cells = Jupyter.notebook.get_cells();\n",
       "                for (var i = 0; i < nbb_cells.length; ++i) {\n",
       "                    if (nbb_cells[i].input_prompt_number == nbb_cell_id) {\n",
       "                        if (nbb_cells[i].get_text() == nbb_unformatted_code) {\n",
       "                             nbb_cells[i].set_text(nbb_formatted_code);\n",
       "                        }\n",
       "                        break;\n",
       "                    }\n",
       "                }\n",
       "            }, 500);\n",
       "            "
      ],
      "text/plain": [
       "<IPython.core.display.Javascript object>"
      ]
     },
     "metadata": {},
     "output_type": "display_data"
    }
   ],
   "source": [
    "full_table = full_table.drop(columns=[\"Performer_y\", \"Song_y\"])"
   ]
  },
  {
   "cell_type": "code",
   "execution_count": 22,
   "metadata": {},
   "outputs": [
    {
     "data": {
      "application/javascript": [
       "\n",
       "            setTimeout(function() {\n",
       "                var nbb_cell_id = 22;\n",
       "                var nbb_unformatted_code = \"full_table.rename(\\n    columns={\\n        \\\"WeekID\\\": \\\"week\\\",\\n        \\\"Week Position\\\": \\\"week_pos\\\",\\n        \\\"Song_x\\\": \\\"song\\\",\\n        \\\"Performer_x\\\": \\\"artist\\\",\\n        \\\"SongID\\\": \\\"song_id\\\",\\n        \\\"Instance\\\": \\\"instance\\\",\\n        \\\"Previous Week Position\\\": \\\"prev_week_pos\\\",\\n        \\\"Peak Position\\\": \\\"peak_pos\\\",\\n        \\\"Weeks on Chart\\\": \\\"weeks_on_chart\\\",\\n        \\\"spotify_genre\\\": \\\"genre\\\",\\n        \\\"spotify_genre_list\\\": \\\"genre_list\\\",\\n        \\\"spotify_track_album\\\": \\\"album\\\",\\n        \\\"spotify_track_explicit\\\": \\\"explicit\\\",\\n    },\\n    inplace=True,\\n)\";\n",
       "                var nbb_formatted_code = \"full_table.rename(\\n    columns={\\n        \\\"WeekID\\\": \\\"week\\\",\\n        \\\"Week Position\\\": \\\"week_pos\\\",\\n        \\\"Song_x\\\": \\\"song\\\",\\n        \\\"Performer_x\\\": \\\"artist\\\",\\n        \\\"SongID\\\": \\\"song_id\\\",\\n        \\\"Instance\\\": \\\"instance\\\",\\n        \\\"Previous Week Position\\\": \\\"prev_week_pos\\\",\\n        \\\"Peak Position\\\": \\\"peak_pos\\\",\\n        \\\"Weeks on Chart\\\": \\\"weeks_on_chart\\\",\\n        \\\"spotify_genre\\\": \\\"genre\\\",\\n        \\\"spotify_genre_list\\\": \\\"genre_list\\\",\\n        \\\"spotify_track_album\\\": \\\"album\\\",\\n        \\\"spotify_track_explicit\\\": \\\"explicit\\\",\\n    },\\n    inplace=True,\\n)\";\n",
       "                var nbb_cells = Jupyter.notebook.get_cells();\n",
       "                for (var i = 0; i < nbb_cells.length; ++i) {\n",
       "                    if (nbb_cells[i].input_prompt_number == nbb_cell_id) {\n",
       "                        if (nbb_cells[i].get_text() == nbb_unformatted_code) {\n",
       "                             nbb_cells[i].set_text(nbb_formatted_code);\n",
       "                        }\n",
       "                        break;\n",
       "                    }\n",
       "                }\n",
       "            }, 500);\n",
       "            "
      ],
      "text/plain": [
       "<IPython.core.display.Javascript object>"
      ]
     },
     "metadata": {},
     "output_type": "display_data"
    }
   ],
   "source": [
    "full_table.rename(\n",
    "    columns={\n",
    "        \"WeekID\": \"week\",\n",
    "        \"Week Position\": \"week_pos\",\n",
    "        \"Song_x\": \"song\",\n",
    "        \"Performer_x\": \"artist\",\n",
    "        \"SongID\": \"song_id\",\n",
    "        \"Instance\": \"instance\",\n",
    "        \"Previous Week Position\": \"prev_week_pos\",\n",
    "        \"Peak Position\": \"peak_pos\",\n",
    "        \"Weeks on Chart\": \"weeks_on_chart\",\n",
    "        \"spotify_genre\": \"genre\",\n",
    "        \"spotify_genre_list\": \"genre_list\",\n",
    "        \"spotify_track_album\": \"album\",\n",
    "        \"spotify_track_explicit\": \"explicit\",\n",
    "    },\n",
    "    inplace=True,\n",
    ")"
   ]
  },
  {
   "cell_type": "markdown",
   "metadata": {},
   "source": [
    "# Format week to a date format"
   ]
  },
  {
   "cell_type": "code",
   "execution_count": 23,
   "metadata": {},
   "outputs": [
    {
     "data": {
      "application/javascript": [
       "\n",
       "            setTimeout(function() {\n",
       "                var nbb_cell_id = 23;\n",
       "                var nbb_unformatted_code = \"full_table[\\\"week\\\"] = full_table[\\\"week\\\"].apply(\\n    lambda x: datetime.strptime(x, \\\"%m/%d/%Y\\\")\\n)\\nfull_table[\\\"week\\\"] = pd.to_datetime(full_table[\\\"week\\\"])\";\n",
       "                var nbb_formatted_code = \"full_table[\\\"week\\\"] = full_table[\\\"week\\\"].apply(\\n    lambda x: datetime.strptime(x, \\\"%m/%d/%Y\\\")\\n)\\nfull_table[\\\"week\\\"] = pd.to_datetime(full_table[\\\"week\\\"])\";\n",
       "                var nbb_cells = Jupyter.notebook.get_cells();\n",
       "                for (var i = 0; i < nbb_cells.length; ++i) {\n",
       "                    if (nbb_cells[i].input_prompt_number == nbb_cell_id) {\n",
       "                        if (nbb_cells[i].get_text() == nbb_unformatted_code) {\n",
       "                             nbb_cells[i].set_text(nbb_formatted_code);\n",
       "                        }\n",
       "                        break;\n",
       "                    }\n",
       "                }\n",
       "            }, 500);\n",
       "            "
      ],
      "text/plain": [
       "<IPython.core.display.Javascript object>"
      ]
     },
     "metadata": {},
     "output_type": "display_data"
    }
   ],
   "source": [
    "full_table[\"week\"] = full_table[\"week\"].apply(\n",
    "    lambda x: datetime.strptime(x, \"%m/%d/%Y\")\n",
    ")\n",
    "full_table[\"week\"] = pd.to_datetime(full_table[\"week\"])"
   ]
  },
  {
   "cell_type": "markdown",
   "metadata": {},
   "source": [
    "# Analysis"
   ]
  },
  {
   "cell_type": "code",
   "execution_count": 24,
   "metadata": {},
   "outputs": [
    {
     "data": {
      "text/html": [
       "<div>\n",
       "<style scoped>\n",
       "    .dataframe tbody tr th:only-of-type {\n",
       "        vertical-align: middle;\n",
       "    }\n",
       "\n",
       "    .dataframe tbody tr th {\n",
       "        vertical-align: top;\n",
       "    }\n",
       "\n",
       "    .dataframe thead th {\n",
       "        text-align: right;\n",
       "    }\n",
       "</style>\n",
       "<table border=\"1\" class=\"dataframe\">\n",
       "  <thead>\n",
       "    <tr style=\"text-align: right;\">\n",
       "      <th></th>\n",
       "      <th>week</th>\n",
       "      <th>week_pos</th>\n",
       "      <th>song</th>\n",
       "      <th>artist</th>\n",
       "      <th>song_id</th>\n",
       "      <th>instance</th>\n",
       "      <th>prev_week_pos</th>\n",
       "      <th>peak_pos</th>\n",
       "      <th>weeks_on_chart</th>\n",
       "      <th>genre</th>\n",
       "      <th>album</th>\n",
       "      <th>genre_list</th>\n",
       "    </tr>\n",
       "    <tr>\n",
       "      <th>explicit</th>\n",
       "      <th></th>\n",
       "      <th></th>\n",
       "      <th></th>\n",
       "      <th></th>\n",
       "      <th></th>\n",
       "      <th></th>\n",
       "      <th></th>\n",
       "      <th></th>\n",
       "      <th></th>\n",
       "      <th></th>\n",
       "      <th></th>\n",
       "      <th></th>\n",
       "    </tr>\n",
       "  </thead>\n",
       "  <tbody>\n",
       "    <tr>\n",
       "      <th>0</th>\n",
       "      <td>249361</td>\n",
       "      <td>249361</td>\n",
       "      <td>249361</td>\n",
       "      <td>249361</td>\n",
       "      <td>249361</td>\n",
       "      <td>249361</td>\n",
       "      <td>249361</td>\n",
       "      <td>249361</td>\n",
       "      <td>249361</td>\n",
       "      <td>249361</td>\n",
       "      <td>249361</td>\n",
       "      <td>249361</td>\n",
       "    </tr>\n",
       "    <tr>\n",
       "      <th>1</th>\n",
       "      <td>31060</td>\n",
       "      <td>31060</td>\n",
       "      <td>31060</td>\n",
       "      <td>31060</td>\n",
       "      <td>31060</td>\n",
       "      <td>31060</td>\n",
       "      <td>31060</td>\n",
       "      <td>31060</td>\n",
       "      <td>31060</td>\n",
       "      <td>31060</td>\n",
       "      <td>31060</td>\n",
       "      <td>31060</td>\n",
       "    </tr>\n",
       "    <tr>\n",
       "      <th>999</th>\n",
       "      <td>40186</td>\n",
       "      <td>40186</td>\n",
       "      <td>40186</td>\n",
       "      <td>40186</td>\n",
       "      <td>40186</td>\n",
       "      <td>40186</td>\n",
       "      <td>40186</td>\n",
       "      <td>40186</td>\n",
       "      <td>40186</td>\n",
       "      <td>40186</td>\n",
       "      <td>40186</td>\n",
       "      <td>40186</td>\n",
       "    </tr>\n",
       "  </tbody>\n",
       "</table>\n",
       "</div>"
      ],
      "text/plain": [
       "            week  week_pos    song  artist  song_id  instance  prev_week_pos  \\\n",
       "explicit                                                                       \n",
       "0         249361    249361  249361  249361   249361    249361         249361   \n",
       "1          31060     31060   31060   31060    31060     31060          31060   \n",
       "999        40186     40186   40186   40186    40186     40186          40186   \n",
       "\n",
       "          peak_pos  weeks_on_chart   genre   album  genre_list  \n",
       "explicit                                                        \n",
       "0           249361          249361  249361  249361      249361  \n",
       "1            31060           31060   31060   31060       31060  \n",
       "999          40186           40186   40186   40186       40186  "
      ]
     },
     "execution_count": 24,
     "metadata": {},
     "output_type": "execute_result"
    },
    {
     "data": {
      "application/javascript": [
       "\n",
       "            setTimeout(function() {\n",
       "                var nbb_cell_id = 24;\n",
       "                var nbb_unformatted_code = \"full_table.groupby(\\\"explicit\\\").count()\";\n",
       "                var nbb_formatted_code = \"full_table.groupby(\\\"explicit\\\").count()\";\n",
       "                var nbb_cells = Jupyter.notebook.get_cells();\n",
       "                for (var i = 0; i < nbb_cells.length; ++i) {\n",
       "                    if (nbb_cells[i].input_prompt_number == nbb_cell_id) {\n",
       "                        if (nbb_cells[i].get_text() == nbb_unformatted_code) {\n",
       "                             nbb_cells[i].set_text(nbb_formatted_code);\n",
       "                        }\n",
       "                        break;\n",
       "                    }\n",
       "                }\n",
       "            }, 500);\n",
       "            "
      ],
      "text/plain": [
       "<IPython.core.display.Javascript object>"
      ]
     },
     "metadata": {},
     "output_type": "display_data"
    }
   ],
   "source": [
    "full_table.groupby(\"explicit\").count()"
   ]
  },
  {
   "cell_type": "code",
   "execution_count": 25,
   "metadata": {},
   "outputs": [
    {
     "data": {
      "application/javascript": [
       "\n",
       "            setTimeout(function() {\n",
       "                var nbb_cell_id = 25;\n",
       "                var nbb_unformatted_code = \"genre_list = [\\\"rap\\\", \\\"hip hop\\\", \\\"metal\\\", \\\"country\\\", \\\"pop\\\"]\";\n",
       "                var nbb_formatted_code = \"genre_list = [\\\"rap\\\", \\\"hip hop\\\", \\\"metal\\\", \\\"country\\\", \\\"pop\\\"]\";\n",
       "                var nbb_cells = Jupyter.notebook.get_cells();\n",
       "                for (var i = 0; i < nbb_cells.length; ++i) {\n",
       "                    if (nbb_cells[i].input_prompt_number == nbb_cell_id) {\n",
       "                        if (nbb_cells[i].get_text() == nbb_unformatted_code) {\n",
       "                             nbb_cells[i].set_text(nbb_formatted_code);\n",
       "                        }\n",
       "                        break;\n",
       "                    }\n",
       "                }\n",
       "            }, 500);\n",
       "            "
      ],
      "text/plain": [
       "<IPython.core.display.Javascript object>"
      ]
     },
     "metadata": {},
     "output_type": "display_data"
    }
   ],
   "source": [
    "genre_list = [\"rap\", \"hip hop\", \"metal\", \"country\", \"pop\"]"
   ]
  },
  {
   "cell_type": "code",
   "execution_count": 26,
   "metadata": {},
   "outputs": [
    {
     "data": {
      "text/plain": [
       "(46606, 13)"
      ]
     },
     "execution_count": 26,
     "metadata": {},
     "output_type": "execute_result"
    },
    {
     "data": {
      "application/javascript": [
       "\n",
       "            setTimeout(function() {\n",
       "                var nbb_cell_id = 26;\n",
       "                var nbb_unformatted_code = \"rap = full_table[full_table[\\\"genre\\\"].apply(lambda x: \\\"rap\\\" in x)]\\nrap.shape\";\n",
       "                var nbb_formatted_code = \"rap = full_table[full_table[\\\"genre\\\"].apply(lambda x: \\\"rap\\\" in x)]\\nrap.shape\";\n",
       "                var nbb_cells = Jupyter.notebook.get_cells();\n",
       "                for (var i = 0; i < nbb_cells.length; ++i) {\n",
       "                    if (nbb_cells[i].input_prompt_number == nbb_cell_id) {\n",
       "                        if (nbb_cells[i].get_text() == nbb_unformatted_code) {\n",
       "                             nbb_cells[i].set_text(nbb_formatted_code);\n",
       "                        }\n",
       "                        break;\n",
       "                    }\n",
       "                }\n",
       "            }, 500);\n",
       "            "
      ],
      "text/plain": [
       "<IPython.core.display.Javascript object>"
      ]
     },
     "metadata": {},
     "output_type": "display_data"
    }
   ],
   "source": [
    "rap = full_table[full_table[\"genre\"].apply(lambda x: \"rap\" in x)]\n",
    "rap.shape"
   ]
  },
  {
   "cell_type": "code",
   "execution_count": 27,
   "metadata": {},
   "outputs": [
    {
     "data": {
      "text/plain": [
       "(34862, 13)"
      ]
     },
     "execution_count": 27,
     "metadata": {},
     "output_type": "execute_result"
    },
    {
     "data": {
      "application/javascript": [
       "\n",
       "            setTimeout(function() {\n",
       "                var nbb_cell_id = 27;\n",
       "                var nbb_unformatted_code = \"hip_hop = full_table[full_table[\\\"genre\\\"].apply(lambda x: \\\"hip hop\\\" in x)]\\nhip_hop.shape\";\n",
       "                var nbb_formatted_code = \"hip_hop = full_table[full_table[\\\"genre\\\"].apply(lambda x: \\\"hip hop\\\" in x)]\\nhip_hop.shape\";\n",
       "                var nbb_cells = Jupyter.notebook.get_cells();\n",
       "                for (var i = 0; i < nbb_cells.length; ++i) {\n",
       "                    if (nbb_cells[i].input_prompt_number == nbb_cell_id) {\n",
       "                        if (nbb_cells[i].get_text() == nbb_unformatted_code) {\n",
       "                             nbb_cells[i].set_text(nbb_formatted_code);\n",
       "                        }\n",
       "                        break;\n",
       "                    }\n",
       "                }\n",
       "            }, 500);\n",
       "            "
      ],
      "text/plain": [
       "<IPython.core.display.Javascript object>"
      ]
     },
     "metadata": {},
     "output_type": "display_data"
    }
   ],
   "source": [
    "hip_hop = full_table[full_table[\"genre\"].apply(lambda x: \"hip hop\" in x)]\n",
    "hip_hop.shape"
   ]
  },
  {
   "cell_type": "code",
   "execution_count": 28,
   "metadata": {},
   "outputs": [
    {
     "data": {
      "text/plain": [
       "(11936, 13)"
      ]
     },
     "execution_count": 28,
     "metadata": {},
     "output_type": "execute_result"
    },
    {
     "data": {
      "application/javascript": [
       "\n",
       "            setTimeout(function() {\n",
       "                var nbb_cell_id = 28;\n",
       "                var nbb_unformatted_code = \"metal = full_table[full_table[\\\"genre\\\"].apply(lambda x: \\\"metal\\\" in x)]\\nmetal.shape\";\n",
       "                var nbb_formatted_code = \"metal = full_table[full_table[\\\"genre\\\"].apply(lambda x: \\\"metal\\\" in x)]\\nmetal.shape\";\n",
       "                var nbb_cells = Jupyter.notebook.get_cells();\n",
       "                for (var i = 0; i < nbb_cells.length; ++i) {\n",
       "                    if (nbb_cells[i].input_prompt_number == nbb_cell_id) {\n",
       "                        if (nbb_cells[i].get_text() == nbb_unformatted_code) {\n",
       "                             nbb_cells[i].set_text(nbb_formatted_code);\n",
       "                        }\n",
       "                        break;\n",
       "                    }\n",
       "                }\n",
       "            }, 500);\n",
       "            "
      ],
      "text/plain": [
       "<IPython.core.display.Javascript object>"
      ]
     },
     "metadata": {},
     "output_type": "display_data"
    }
   ],
   "source": [
    "metal = full_table[full_table[\"genre\"].apply(lambda x: \"metal\" in x)]\n",
    "metal.shape"
   ]
  },
  {
   "cell_type": "code",
   "execution_count": 29,
   "metadata": {},
   "outputs": [
    {
     "data": {
      "text/plain": [
       "(40378, 13)"
      ]
     },
     "execution_count": 29,
     "metadata": {},
     "output_type": "execute_result"
    },
    {
     "data": {
      "application/javascript": [
       "\n",
       "            setTimeout(function() {\n",
       "                var nbb_cell_id = 29;\n",
       "                var nbb_unformatted_code = \"country = full_table[full_table[\\\"genre\\\"].apply(lambda x: \\\"country\\\" in x)]\\ncountry.shape\";\n",
       "                var nbb_formatted_code = \"country = full_table[full_table[\\\"genre\\\"].apply(lambda x: \\\"country\\\" in x)]\\ncountry.shape\";\n",
       "                var nbb_cells = Jupyter.notebook.get_cells();\n",
       "                for (var i = 0; i < nbb_cells.length; ++i) {\n",
       "                    if (nbb_cells[i].input_prompt_number == nbb_cell_id) {\n",
       "                        if (nbb_cells[i].get_text() == nbb_unformatted_code) {\n",
       "                             nbb_cells[i].set_text(nbb_formatted_code);\n",
       "                        }\n",
       "                        break;\n",
       "                    }\n",
       "                }\n",
       "            }, 500);\n",
       "            "
      ],
      "text/plain": [
       "<IPython.core.display.Javascript object>"
      ]
     },
     "metadata": {},
     "output_type": "display_data"
    }
   ],
   "source": [
    "country = full_table[full_table[\"genre\"].apply(lambda x: \"country\" in x)]\n",
    "country.shape"
   ]
  },
  {
   "cell_type": "code",
   "execution_count": 30,
   "metadata": {},
   "outputs": [
    {
     "data": {
      "text/plain": [
       "(159103, 13)"
      ]
     },
     "execution_count": 30,
     "metadata": {},
     "output_type": "execute_result"
    },
    {
     "data": {
      "application/javascript": [
       "\n",
       "            setTimeout(function() {\n",
       "                var nbb_cell_id = 30;\n",
       "                var nbb_unformatted_code = \"pop = full_table[full_table[\\\"genre\\\"].apply(lambda x: \\\"pop\\\" in x)]\\npop.shape\";\n",
       "                var nbb_formatted_code = \"pop = full_table[full_table[\\\"genre\\\"].apply(lambda x: \\\"pop\\\" in x)]\\npop.shape\";\n",
       "                var nbb_cells = Jupyter.notebook.get_cells();\n",
       "                for (var i = 0; i < nbb_cells.length; ++i) {\n",
       "                    if (nbb_cells[i].input_prompt_number == nbb_cell_id) {\n",
       "                        if (nbb_cells[i].get_text() == nbb_unformatted_code) {\n",
       "                             nbb_cells[i].set_text(nbb_formatted_code);\n",
       "                        }\n",
       "                        break;\n",
       "                    }\n",
       "                }\n",
       "            }, 500);\n",
       "            "
      ],
      "text/plain": [
       "<IPython.core.display.Javascript object>"
      ]
     },
     "metadata": {},
     "output_type": "display_data"
    }
   ],
   "source": [
    "pop = full_table[full_table[\"genre\"].apply(lambda x: \"pop\" in x)]\n",
    "pop.shape"
   ]
  },
  {
   "cell_type": "code",
   "execution_count": 60,
   "metadata": {},
   "outputs": [
    {
     "data": {
      "text/html": [
       "<div>\n",
       "<style scoped>\n",
       "    .dataframe tbody tr th:only-of-type {\n",
       "        vertical-align: middle;\n",
       "    }\n",
       "\n",
       "    .dataframe tbody tr th {\n",
       "        vertical-align: top;\n",
       "    }\n",
       "\n",
       "    .dataframe thead th {\n",
       "        text-align: right;\n",
       "    }\n",
       "</style>\n",
       "<table border=\"1\" class=\"dataframe\">\n",
       "  <thead>\n",
       "    <tr style=\"text-align: right;\">\n",
       "      <th></th>\n",
       "      <th>song_id</th>\n",
       "      <th>genre</th>\n",
       "      <th>week_pos</th>\n",
       "      <th>instance</th>\n",
       "      <th>prev_week_pos</th>\n",
       "      <th>peak_pos</th>\n",
       "      <th>weeks_on_chart</th>\n",
       "      <th>explicit</th>\n",
       "    </tr>\n",
       "  </thead>\n",
       "  <tbody>\n",
       "    <tr>\n",
       "      <th>0</th>\n",
       "      <td>\"Cherry Cherry\" from Hot August NightNeil Diamond</td>\n",
       "      <td>['adult standards', 'brill building pop', 'fol...</td>\n",
       "      <td>37.333333</td>\n",
       "      <td>1.0</td>\n",
       "      <td>41.500000</td>\n",
       "      <td>37.333333</td>\n",
       "      <td>6.5</td>\n",
       "      <td>0.0</td>\n",
       "    </tr>\n",
       "    <tr>\n",
       "      <th>1</th>\n",
       "      <td>\"Joy\" Pt. IIsaac Hayes</td>\n",
       "      <td>['classic soul', 'disco', 'funk', 'jazz funk',...</td>\n",
       "      <td>35.142857</td>\n",
       "      <td>1.0</td>\n",
       "      <td>38.000000</td>\n",
       "      <td>33.428571</td>\n",
       "      <td>6.0</td>\n",
       "      <td>999.0</td>\n",
       "    </tr>\n",
       "    <tr>\n",
       "      <th>2</th>\n",
       "      <td>\"Yep!\"Duane Eddy His Twangy Guitar And The Rebels</td>\n",
       "      <td>[]</td>\n",
       "      <td>40.500000</td>\n",
       "      <td>1.0</td>\n",
       "      <td>44.250000</td>\n",
       "      <td>34.000000</td>\n",
       "      <td>4.5</td>\n",
       "      <td>999.0</td>\n",
       "    </tr>\n",
       "    <tr>\n",
       "      <th>3</th>\n",
       "      <td>#1Nelly</td>\n",
       "      <td>['dance pop', 'hip hop', 'pop', 'pop rap', 'ra...</td>\n",
       "      <td>27.384615</td>\n",
       "      <td>1.0</td>\n",
       "      <td>28.384615</td>\n",
       "      <td>24.153846</td>\n",
       "      <td>11.0</td>\n",
       "      <td>1.0</td>\n",
       "    </tr>\n",
       "    <tr>\n",
       "      <th>4</th>\n",
       "      <td>#9 DreamJohn Lennon</td>\n",
       "      <td>['album rock', 'classic rock', 'folk rock', 'm...</td>\n",
       "      <td>24.100000</td>\n",
       "      <td>1.0</td>\n",
       "      <td>25.200000</td>\n",
       "      <td>19.900000</td>\n",
       "      <td>7.5</td>\n",
       "      <td>0.0</td>\n",
       "    </tr>\n",
       "    <tr>\n",
       "      <th>...</th>\n",
       "      <td>...</td>\n",
       "      <td>...</td>\n",
       "      <td>...</td>\n",
       "      <td>...</td>\n",
       "      <td>...</td>\n",
       "      <td>...</td>\n",
       "      <td>...</td>\n",
       "      <td>...</td>\n",
       "    </tr>\n",
       "    <tr>\n",
       "      <th>15282</th>\n",
       "      <td>iSpyKYLE Featuring Lil Yachty</td>\n",
       "      <td>['pop rap', 'rap']</td>\n",
       "      <td>19.857143</td>\n",
       "      <td>1.0</td>\n",
       "      <td>20.428571</td>\n",
       "      <td>11.214286</td>\n",
       "      <td>16.5</td>\n",
       "      <td>1.0</td>\n",
       "    </tr>\n",
       "    <tr>\n",
       "      <th>15283</th>\n",
       "      <td>teachmeMusiq Soulchild</td>\n",
       "      <td>['alternative r&amp;b', 'dance pop', 'neo soul', '...</td>\n",
       "      <td>46.333333</td>\n",
       "      <td>1.0</td>\n",
       "      <td>48.000000</td>\n",
       "      <td>44.666667</td>\n",
       "      <td>13.0</td>\n",
       "      <td>0.0</td>\n",
       "    </tr>\n",
       "    <tr>\n",
       "      <th>15284</th>\n",
       "      <td>whoa (mind in awe)XXXTENTACION</td>\n",
       "      <td>['emo rap', 'miami hip hop']</td>\n",
       "      <td>37.000000</td>\n",
       "      <td>1.0</td>\n",
       "      <td>0.000000</td>\n",
       "      <td>37.000000</td>\n",
       "      <td>1.0</td>\n",
       "      <td>0.0</td>\n",
       "    </tr>\n",
       "    <tr>\n",
       "      <th>15285</th>\n",
       "      <td>www.memoryAlan Jackson</td>\n",
       "      <td>['contemporary country', 'country', 'country r...</td>\n",
       "      <td>48.000000</td>\n",
       "      <td>1.0</td>\n",
       "      <td>49.000000</td>\n",
       "      <td>47.200000</td>\n",
       "      <td>7.0</td>\n",
       "      <td>999.0</td>\n",
       "    </tr>\n",
       "    <tr>\n",
       "      <th>15286</th>\n",
       "      <td>¿Dònde Està Santa Claus? (Where Is Santa Claus...</td>\n",
       "      <td>['novelty']</td>\n",
       "      <td>47.000000</td>\n",
       "      <td>1.0</td>\n",
       "      <td>50.000000</td>\n",
       "      <td>47.000000</td>\n",
       "      <td>3.5</td>\n",
       "      <td>999.0</td>\n",
       "    </tr>\n",
       "  </tbody>\n",
       "</table>\n",
       "<p>15287 rows × 8 columns</p>\n",
       "</div>"
      ],
      "text/plain": [
       "                                                 song_id  \\\n",
       "0      \"Cherry Cherry\" from Hot August NightNeil Diamond   \n",
       "1                                 \"Joy\" Pt. IIsaac Hayes   \n",
       "2      \"Yep!\"Duane Eddy His Twangy Guitar And The Rebels   \n",
       "3                                                #1Nelly   \n",
       "4                                    #9 DreamJohn Lennon   \n",
       "...                                                  ...   \n",
       "15282                      iSpyKYLE Featuring Lil Yachty   \n",
       "15283                             teachmeMusiq Soulchild   \n",
       "15284                     whoa (mind in awe)XXXTENTACION   \n",
       "15285                             www.memoryAlan Jackson   \n",
       "15286  ¿Dònde Està Santa Claus? (Where Is Santa Claus...   \n",
       "\n",
       "                                                   genre   week_pos  instance  \\\n",
       "0      ['adult standards', 'brill building pop', 'fol...  37.333333       1.0   \n",
       "1      ['classic soul', 'disco', 'funk', 'jazz funk',...  35.142857       1.0   \n",
       "2                                                     []  40.500000       1.0   \n",
       "3      ['dance pop', 'hip hop', 'pop', 'pop rap', 'ra...  27.384615       1.0   \n",
       "4      ['album rock', 'classic rock', 'folk rock', 'm...  24.100000       1.0   \n",
       "...                                                  ...        ...       ...   \n",
       "15282                                 ['pop rap', 'rap']  19.857143       1.0   \n",
       "15283  ['alternative r&b', 'dance pop', 'neo soul', '...  46.333333       1.0   \n",
       "15284                       ['emo rap', 'miami hip hop']  37.000000       1.0   \n",
       "15285  ['contemporary country', 'country', 'country r...  48.000000       1.0   \n",
       "15286                                        ['novelty']  47.000000       1.0   \n",
       "\n",
       "       prev_week_pos   peak_pos  weeks_on_chart  explicit  \n",
       "0          41.500000  37.333333             6.5       0.0  \n",
       "1          38.000000  33.428571             6.0     999.0  \n",
       "2          44.250000  34.000000             4.5     999.0  \n",
       "3          28.384615  24.153846            11.0       1.0  \n",
       "4          25.200000  19.900000             7.5       0.0  \n",
       "...              ...        ...             ...       ...  \n",
       "15282      20.428571  11.214286            16.5       1.0  \n",
       "15283      48.000000  44.666667            13.0       0.0  \n",
       "15284       0.000000  37.000000             1.0       0.0  \n",
       "15285      49.000000  47.200000             7.0     999.0  \n",
       "15286      50.000000  47.000000             3.5     999.0  \n",
       "\n",
       "[15287 rows x 8 columns]"
      ]
     },
     "execution_count": 60,
     "metadata": {},
     "output_type": "execute_result"
    },
    {
     "data": {
      "application/javascript": [
       "\n",
       "            setTimeout(function() {\n",
       "                var nbb_cell_id = 60;\n",
       "                var nbb_unformatted_code = \"top_10 = full_table[full_table[\\\"week_pos\\\"] <= 50]\\ntop_10 = top_10.groupby([\\\"song_id\\\", \\\"genre\\\"]).mean()\\ntop_10 = top_10.reset_index()\\ntop_10\";\n",
       "                var nbb_formatted_code = \"top_10 = full_table[full_table[\\\"week_pos\\\"] <= 50]\\ntop_10 = top_10.groupby([\\\"song_id\\\", \\\"genre\\\"]).mean()\\ntop_10 = top_10.reset_index()\\ntop_10\";\n",
       "                var nbb_cells = Jupyter.notebook.get_cells();\n",
       "                for (var i = 0; i < nbb_cells.length; ++i) {\n",
       "                    if (nbb_cells[i].input_prompt_number == nbb_cell_id) {\n",
       "                        if (nbb_cells[i].get_text() == nbb_unformatted_code) {\n",
       "                             nbb_cells[i].set_text(nbb_formatted_code);\n",
       "                        }\n",
       "                        break;\n",
       "                    }\n",
       "                }\n",
       "            }, 500);\n",
       "            "
      ],
      "text/plain": [
       "<IPython.core.display.Javascript object>"
      ]
     },
     "metadata": {},
     "output_type": "display_data"
    }
   ],
   "source": [
    "top_10 = full_table[full_table[\"week_pos\"] <= 50]\n",
    "top_10 = top_10.groupby([\"song_id\", \"genre\"]).mean()\n",
    "top_10 = top_10.reset_index()\n",
    "top_10"
   ]
  },
  {
   "cell_type": "code",
   "execution_count": 61,
   "metadata": {},
   "outputs": [
    {
     "data": {
      "text/html": [
       "<div>\n",
       "<style scoped>\n",
       "    .dataframe tbody tr th:only-of-type {\n",
       "        vertical-align: middle;\n",
       "    }\n",
       "\n",
       "    .dataframe tbody tr th {\n",
       "        vertical-align: top;\n",
       "    }\n",
       "\n",
       "    .dataframe thead th {\n",
       "        text-align: right;\n",
       "    }\n",
       "</style>\n",
       "<table border=\"1\" class=\"dataframe\">\n",
       "  <thead>\n",
       "    <tr style=\"text-align: right;\">\n",
       "      <th></th>\n",
       "      <th>song_id</th>\n",
       "      <th>genre</th>\n",
       "      <th>week_pos</th>\n",
       "      <th>instance</th>\n",
       "      <th>prev_week_pos</th>\n",
       "      <th>peak_pos</th>\n",
       "      <th>weeks_on_chart</th>\n",
       "      <th>explicit</th>\n",
       "      <th>rap</th>\n",
       "      <th>hip hop</th>\n",
       "      <th>metal</th>\n",
       "      <th>country</th>\n",
       "      <th>pop</th>\n",
       "    </tr>\n",
       "  </thead>\n",
       "  <tbody>\n",
       "    <tr>\n",
       "      <th>0</th>\n",
       "      <td>\"Cherry Cherry\" from Hot August NightNeil Diamond</td>\n",
       "      <td>['adult standards', 'brill building pop', 'fol...</td>\n",
       "      <td>37.333333</td>\n",
       "      <td>1.0</td>\n",
       "      <td>41.500000</td>\n",
       "      <td>37.333333</td>\n",
       "      <td>6.5</td>\n",
       "      <td>0.0</td>\n",
       "      <td>False</td>\n",
       "      <td>False</td>\n",
       "      <td>False</td>\n",
       "      <td>False</td>\n",
       "      <td>True</td>\n",
       "    </tr>\n",
       "    <tr>\n",
       "      <th>1</th>\n",
       "      <td>\"Joy\" Pt. IIsaac Hayes</td>\n",
       "      <td>['classic soul', 'disco', 'funk', 'jazz funk',...</td>\n",
       "      <td>35.142857</td>\n",
       "      <td>1.0</td>\n",
       "      <td>38.000000</td>\n",
       "      <td>33.428571</td>\n",
       "      <td>6.0</td>\n",
       "      <td>999.0</td>\n",
       "      <td>False</td>\n",
       "      <td>False</td>\n",
       "      <td>False</td>\n",
       "      <td>False</td>\n",
       "      <td>False</td>\n",
       "    </tr>\n",
       "    <tr>\n",
       "      <th>2</th>\n",
       "      <td>\"Yep!\"Duane Eddy His Twangy Guitar And The Rebels</td>\n",
       "      <td>[]</td>\n",
       "      <td>40.500000</td>\n",
       "      <td>1.0</td>\n",
       "      <td>44.250000</td>\n",
       "      <td>34.000000</td>\n",
       "      <td>4.5</td>\n",
       "      <td>999.0</td>\n",
       "      <td>False</td>\n",
       "      <td>False</td>\n",
       "      <td>False</td>\n",
       "      <td>False</td>\n",
       "      <td>False</td>\n",
       "    </tr>\n",
       "    <tr>\n",
       "      <th>3</th>\n",
       "      <td>#1Nelly</td>\n",
       "      <td>['dance pop', 'hip hop', 'pop', 'pop rap', 'ra...</td>\n",
       "      <td>27.384615</td>\n",
       "      <td>1.0</td>\n",
       "      <td>28.384615</td>\n",
       "      <td>24.153846</td>\n",
       "      <td>11.0</td>\n",
       "      <td>1.0</td>\n",
       "      <td>True</td>\n",
       "      <td>True</td>\n",
       "      <td>False</td>\n",
       "      <td>False</td>\n",
       "      <td>True</td>\n",
       "    </tr>\n",
       "    <tr>\n",
       "      <th>4</th>\n",
       "      <td>#9 DreamJohn Lennon</td>\n",
       "      <td>['album rock', 'classic rock', 'folk rock', 'm...</td>\n",
       "      <td>24.100000</td>\n",
       "      <td>1.0</td>\n",
       "      <td>25.200000</td>\n",
       "      <td>19.900000</td>\n",
       "      <td>7.5</td>\n",
       "      <td>0.0</td>\n",
       "      <td>False</td>\n",
       "      <td>False</td>\n",
       "      <td>False</td>\n",
       "      <td>False</td>\n",
       "      <td>False</td>\n",
       "    </tr>\n",
       "    <tr>\n",
       "      <th>...</th>\n",
       "      <td>...</td>\n",
       "      <td>...</td>\n",
       "      <td>...</td>\n",
       "      <td>...</td>\n",
       "      <td>...</td>\n",
       "      <td>...</td>\n",
       "      <td>...</td>\n",
       "      <td>...</td>\n",
       "      <td>...</td>\n",
       "      <td>...</td>\n",
       "      <td>...</td>\n",
       "      <td>...</td>\n",
       "      <td>...</td>\n",
       "    </tr>\n",
       "    <tr>\n",
       "      <th>15282</th>\n",
       "      <td>iSpyKYLE Featuring Lil Yachty</td>\n",
       "      <td>['pop rap', 'rap']</td>\n",
       "      <td>19.857143</td>\n",
       "      <td>1.0</td>\n",
       "      <td>20.428571</td>\n",
       "      <td>11.214286</td>\n",
       "      <td>16.5</td>\n",
       "      <td>1.0</td>\n",
       "      <td>True</td>\n",
       "      <td>False</td>\n",
       "      <td>False</td>\n",
       "      <td>False</td>\n",
       "      <td>True</td>\n",
       "    </tr>\n",
       "    <tr>\n",
       "      <th>15283</th>\n",
       "      <td>teachmeMusiq Soulchild</td>\n",
       "      <td>['alternative r&amp;b', 'dance pop', 'neo soul', '...</td>\n",
       "      <td>46.333333</td>\n",
       "      <td>1.0</td>\n",
       "      <td>48.000000</td>\n",
       "      <td>44.666667</td>\n",
       "      <td>13.0</td>\n",
       "      <td>0.0</td>\n",
       "      <td>False</td>\n",
       "      <td>False</td>\n",
       "      <td>False</td>\n",
       "      <td>False</td>\n",
       "      <td>True</td>\n",
       "    </tr>\n",
       "    <tr>\n",
       "      <th>15284</th>\n",
       "      <td>whoa (mind in awe)XXXTENTACION</td>\n",
       "      <td>['emo rap', 'miami hip hop']</td>\n",
       "      <td>37.000000</td>\n",
       "      <td>1.0</td>\n",
       "      <td>0.000000</td>\n",
       "      <td>37.000000</td>\n",
       "      <td>1.0</td>\n",
       "      <td>0.0</td>\n",
       "      <td>True</td>\n",
       "      <td>True</td>\n",
       "      <td>False</td>\n",
       "      <td>False</td>\n",
       "      <td>False</td>\n",
       "    </tr>\n",
       "    <tr>\n",
       "      <th>15285</th>\n",
       "      <td>www.memoryAlan Jackson</td>\n",
       "      <td>['contemporary country', 'country', 'country r...</td>\n",
       "      <td>48.000000</td>\n",
       "      <td>1.0</td>\n",
       "      <td>49.000000</td>\n",
       "      <td>47.200000</td>\n",
       "      <td>7.0</td>\n",
       "      <td>999.0</td>\n",
       "      <td>False</td>\n",
       "      <td>False</td>\n",
       "      <td>False</td>\n",
       "      <td>True</td>\n",
       "      <td>False</td>\n",
       "    </tr>\n",
       "    <tr>\n",
       "      <th>15286</th>\n",
       "      <td>¿Dònde Està Santa Claus? (Where Is Santa Claus...</td>\n",
       "      <td>['novelty']</td>\n",
       "      <td>47.000000</td>\n",
       "      <td>1.0</td>\n",
       "      <td>50.000000</td>\n",
       "      <td>47.000000</td>\n",
       "      <td>3.5</td>\n",
       "      <td>999.0</td>\n",
       "      <td>False</td>\n",
       "      <td>False</td>\n",
       "      <td>False</td>\n",
       "      <td>False</td>\n",
       "      <td>False</td>\n",
       "    </tr>\n",
       "  </tbody>\n",
       "</table>\n",
       "<p>15287 rows × 13 columns</p>\n",
       "</div>"
      ],
      "text/plain": [
       "                                                 song_id  \\\n",
       "0      \"Cherry Cherry\" from Hot August NightNeil Diamond   \n",
       "1                                 \"Joy\" Pt. IIsaac Hayes   \n",
       "2      \"Yep!\"Duane Eddy His Twangy Guitar And The Rebels   \n",
       "3                                                #1Nelly   \n",
       "4                                    #9 DreamJohn Lennon   \n",
       "...                                                  ...   \n",
       "15282                      iSpyKYLE Featuring Lil Yachty   \n",
       "15283                             teachmeMusiq Soulchild   \n",
       "15284                     whoa (mind in awe)XXXTENTACION   \n",
       "15285                             www.memoryAlan Jackson   \n",
       "15286  ¿Dònde Està Santa Claus? (Where Is Santa Claus...   \n",
       "\n",
       "                                                   genre   week_pos  instance  \\\n",
       "0      ['adult standards', 'brill building pop', 'fol...  37.333333       1.0   \n",
       "1      ['classic soul', 'disco', 'funk', 'jazz funk',...  35.142857       1.0   \n",
       "2                                                     []  40.500000       1.0   \n",
       "3      ['dance pop', 'hip hop', 'pop', 'pop rap', 'ra...  27.384615       1.0   \n",
       "4      ['album rock', 'classic rock', 'folk rock', 'm...  24.100000       1.0   \n",
       "...                                                  ...        ...       ...   \n",
       "15282                                 ['pop rap', 'rap']  19.857143       1.0   \n",
       "15283  ['alternative r&b', 'dance pop', 'neo soul', '...  46.333333       1.0   \n",
       "15284                       ['emo rap', 'miami hip hop']  37.000000       1.0   \n",
       "15285  ['contemporary country', 'country', 'country r...  48.000000       1.0   \n",
       "15286                                        ['novelty']  47.000000       1.0   \n",
       "\n",
       "       prev_week_pos   peak_pos  weeks_on_chart  explicit    rap  hip hop  \\\n",
       "0          41.500000  37.333333             6.5       0.0  False    False   \n",
       "1          38.000000  33.428571             6.0     999.0  False    False   \n",
       "2          44.250000  34.000000             4.5     999.0  False    False   \n",
       "3          28.384615  24.153846            11.0       1.0   True     True   \n",
       "4          25.200000  19.900000             7.5       0.0  False    False   \n",
       "...              ...        ...             ...       ...    ...      ...   \n",
       "15282      20.428571  11.214286            16.5       1.0   True    False   \n",
       "15283      48.000000  44.666667            13.0       0.0  False    False   \n",
       "15284       0.000000  37.000000             1.0       0.0   True     True   \n",
       "15285      49.000000  47.200000             7.0     999.0  False    False   \n",
       "15286      50.000000  47.000000             3.5     999.0  False    False   \n",
       "\n",
       "       metal  country    pop  \n",
       "0      False    False   True  \n",
       "1      False    False  False  \n",
       "2      False    False  False  \n",
       "3      False    False   True  \n",
       "4      False    False  False  \n",
       "...      ...      ...    ...  \n",
       "15282  False    False   True  \n",
       "15283  False    False   True  \n",
       "15284  False    False  False  \n",
       "15285  False     True  False  \n",
       "15286  False    False  False  \n",
       "\n",
       "[15287 rows x 13 columns]"
      ]
     },
     "execution_count": 61,
     "metadata": {},
     "output_type": "execute_result"
    },
    {
     "data": {
      "application/javascript": [
       "\n",
       "            setTimeout(function() {\n",
       "                var nbb_cell_id = 61;\n",
       "                var nbb_unformatted_code = \"for genre in genre_list:\\n    top_10[genre] = top_10[\\\"genre\\\"].str.contains(fr\\\"\\\\b{genre}\\\\b\\\")\\n\\ntop_10\";\n",
       "                var nbb_formatted_code = \"for genre in genre_list:\\n    top_10[genre] = top_10[\\\"genre\\\"].str.contains(fr\\\"\\\\b{genre}\\\\b\\\")\\n\\ntop_10\";\n",
       "                var nbb_cells = Jupyter.notebook.get_cells();\n",
       "                for (var i = 0; i < nbb_cells.length; ++i) {\n",
       "                    if (nbb_cells[i].input_prompt_number == nbb_cell_id) {\n",
       "                        if (nbb_cells[i].get_text() == nbb_unformatted_code) {\n",
       "                             nbb_cells[i].set_text(nbb_formatted_code);\n",
       "                        }\n",
       "                        break;\n",
       "                    }\n",
       "                }\n",
       "            }, 500);\n",
       "            "
      ],
      "text/plain": [
       "<IPython.core.display.Javascript object>"
      ]
     },
     "metadata": {},
     "output_type": "display_data"
    }
   ],
   "source": [
    "for genre in genre_list:\n",
    "    top_10[genre] = top_10[\"genre\"].str.contains(fr\"\\b{genre}\\b\")\n",
    "\n",
    "top_10"
   ]
  },
  {
   "cell_type": "code",
   "execution_count": 62,
   "metadata": {},
   "outputs": [
    {
     "data": {
      "text/plain": [
       "pop        5421\n",
       "rap        1962\n",
       "country    1705\n",
       "metal       423\n",
       "Name: genre_label, dtype: int64"
      ]
     },
     "execution_count": 62,
     "metadata": {},
     "output_type": "execute_result"
    },
    {
     "data": {
      "application/javascript": [
       "\n",
       "            setTimeout(function() {\n",
       "                var nbb_cell_id = 62;\n",
       "                var nbb_unformatted_code = \"top_10.loc[top_10[\\\"pop\\\"], \\\"genre_label\\\"] = \\\"pop\\\"\\ntop_10.loc[top_10[\\\"rap\\\"] | top_10[\\\"hip hop\\\"], \\\"genre_label\\\"] = \\\"rap\\\"\\ntop_10.loc[top_10[\\\"metal\\\"], \\\"genre_label\\\"] = \\\"metal\\\"\\ntop_10.loc[top_10[\\\"country\\\"], \\\"genre_label\\\"] = \\\"country\\\"\\n\\ntop_10[\\\"genre_label\\\"].value_counts()\";\n",
       "                var nbb_formatted_code = \"top_10.loc[top_10[\\\"pop\\\"], \\\"genre_label\\\"] = \\\"pop\\\"\\ntop_10.loc[top_10[\\\"rap\\\"] | top_10[\\\"hip hop\\\"], \\\"genre_label\\\"] = \\\"rap\\\"\\ntop_10.loc[top_10[\\\"metal\\\"], \\\"genre_label\\\"] = \\\"metal\\\"\\ntop_10.loc[top_10[\\\"country\\\"], \\\"genre_label\\\"] = \\\"country\\\"\\n\\ntop_10[\\\"genre_label\\\"].value_counts()\";\n",
       "                var nbb_cells = Jupyter.notebook.get_cells();\n",
       "                for (var i = 0; i < nbb_cells.length; ++i) {\n",
       "                    if (nbb_cells[i].input_prompt_number == nbb_cell_id) {\n",
       "                        if (nbb_cells[i].get_text() == nbb_unformatted_code) {\n",
       "                             nbb_cells[i].set_text(nbb_formatted_code);\n",
       "                        }\n",
       "                        break;\n",
       "                    }\n",
       "                }\n",
       "            }, 500);\n",
       "            "
      ],
      "text/plain": [
       "<IPython.core.display.Javascript object>"
      ]
     },
     "metadata": {},
     "output_type": "display_data"
    }
   ],
   "source": [
    "top_10.loc[top_10[\"pop\"], \"genre_label\"] = \"pop\"\n",
    "top_10.loc[top_10[\"rap\"] | top_10[\"hip hop\"], \"genre_label\"] = \"rap\"\n",
    "top_10.loc[top_10[\"metal\"], \"genre_label\"] = \"metal\"\n",
    "top_10.loc[top_10[\"country\"], \"genre_label\"] = \"country\"\n",
    "\n",
    "top_10[\"genre_label\"].value_counts()"
   ]
  },
  {
   "cell_type": "markdown",
   "metadata": {},
   "source": [
    "# Graphs"
   ]
  },
  {
   "cell_type": "markdown",
   "metadata": {},
   "source": [
    "# Put weight on the week_pos sum, peak_pos min, and the max weeks_on_chart"
   ]
  },
  {
   "cell_type": "code",
   "execution_count": 63,
   "metadata": {},
   "outputs": [
    {
     "data": {
      "application/javascript": [
       "\n",
       "            setTimeout(function() {\n",
       "                var nbb_cell_id = 63;\n",
       "                var nbb_unformatted_code = \"pop_grp = top_10[top_10[\\\"genre_label\\\"] == \\\"pop\\\"]\\nrap_grp = top_10[top_10[\\\"genre_label\\\"] == \\\"rap\\\"]\\ncountry_grp = top_10[top_10[\\\"genre_label\\\"] == \\\"country\\\"]\\nmetal_grp = top_10[top_10[\\\"genre_label\\\"] == \\\"metal\\\"]\";\n",
       "                var nbb_formatted_code = \"pop_grp = top_10[top_10[\\\"genre_label\\\"] == \\\"pop\\\"]\\nrap_grp = top_10[top_10[\\\"genre_label\\\"] == \\\"rap\\\"]\\ncountry_grp = top_10[top_10[\\\"genre_label\\\"] == \\\"country\\\"]\\nmetal_grp = top_10[top_10[\\\"genre_label\\\"] == \\\"metal\\\"]\";\n",
       "                var nbb_cells = Jupyter.notebook.get_cells();\n",
       "                for (var i = 0; i < nbb_cells.length; ++i) {\n",
       "                    if (nbb_cells[i].input_prompt_number == nbb_cell_id) {\n",
       "                        if (nbb_cells[i].get_text() == nbb_unformatted_code) {\n",
       "                             nbb_cells[i].set_text(nbb_formatted_code);\n",
       "                        }\n",
       "                        break;\n",
       "                    }\n",
       "                }\n",
       "            }, 500);\n",
       "            "
      ],
      "text/plain": [
       "<IPython.core.display.Javascript object>"
      ]
     },
     "metadata": {},
     "output_type": "display_data"
    }
   ],
   "source": [
    "pop_grp = top_10[top_10[\"genre_label\"] == \"pop\"]\n",
    "rap_grp = top_10[top_10[\"genre_label\"] == \"rap\"]\n",
    "country_grp = top_10[top_10[\"genre_label\"] == \"country\"]\n",
    "metal_grp = top_10[top_10[\"genre_label\"] == \"metal\"]"
   ]
  },
  {
   "cell_type": "code",
   "execution_count": 64,
   "metadata": {},
   "outputs": [
    {
     "data": {
      "text/plain": [
       "<matplotlib.axes._subplots.AxesSubplot at 0x271f7d22f08>"
      ]
     },
     "execution_count": 64,
     "metadata": {},
     "output_type": "execute_result"
    },
    {
     "data": {
      "image/png": "[encoded data removed]",
      "text/plain": [
       "<Figure size 432x288 with 1 Axes>"
      ]
     },
     "metadata": {
      "needs_background": "light"
     },
     "output_type": "display_data"
    },
    {
     "data": {
      "application/javascript": [
       "\n",
       "            setTimeout(function() {\n",
       "                var nbb_cell_id = 64;\n",
       "                var nbb_unformatted_code = \"sns.boxplot(\\\"genre_label\\\", \\\"week_pos\\\", data=top_10)\";\n",
       "                var nbb_formatted_code = \"sns.boxplot(\\\"genre_label\\\", \\\"week_pos\\\", data=top_10)\";\n",
       "                var nbb_cells = Jupyter.notebook.get_cells();\n",
       "                for (var i = 0; i < nbb_cells.length; ++i) {\n",
       "                    if (nbb_cells[i].input_prompt_number == nbb_cell_id) {\n",
       "                        if (nbb_cells[i].get_text() == nbb_unformatted_code) {\n",
       "                             nbb_cells[i].set_text(nbb_formatted_code);\n",
       "                        }\n",
       "                        break;\n",
       "                    }\n",
       "                }\n",
       "            }, 500);\n",
       "            "
      ],
      "text/plain": [
       "<IPython.core.display.Javascript object>"
      ]
     },
     "metadata": {},
     "output_type": "display_data"
    }
   ],
   "source": [
    "sns.boxplot(\"genre_label\", \"week_pos\", data=top_10)"
   ]
  },
  {
   "cell_type": "code",
   "execution_count": 57,
   "metadata": {},
   "outputs": [
    {
     "data": {
      "text/plain": [
       "[]"
      ]
     },
     "execution_count": 57,
     "metadata": {},
     "output_type": "execute_result"
    },
    {
     "data": {
      "image/png": "[encoded data removed]",
      "text/plain": [
       "<Figure size 432x288 with 1 Axes>"
      ]
     },
     "metadata": {
      "needs_background": "light"
     },
     "output_type": "display_data"
    },
    {
     "data": {
      "application/javascript": [
       "\n",
       "            setTimeout(function() {\n",
       "                var nbb_cell_id = 57;\n",
       "                var nbb_unformatted_code = \"plt.hist(pop_grp[\\\"week_pos\\\"], label=\\\"pop\\\")\\nplt.hist(rap_grp[\\\"week_pos\\\"], label=\\\"rap\\\")\\nplt.hist(country_grp[\\\"week_pos\\\"], label=\\\"country\\\")\\nplt.hist(metal_grp[\\\"week_pos\\\"], label=\\\"metal\\\")\\nplt.legend()\\nplt.plot()\";\n",
       "                var nbb_formatted_code = \"plt.hist(pop_grp[\\\"week_pos\\\"], label=\\\"pop\\\")\\nplt.hist(rap_grp[\\\"week_pos\\\"], label=\\\"rap\\\")\\nplt.hist(country_grp[\\\"week_pos\\\"], label=\\\"country\\\")\\nplt.hist(metal_grp[\\\"week_pos\\\"], label=\\\"metal\\\")\\nplt.legend()\\nplt.plot()\";\n",
       "                var nbb_cells = Jupyter.notebook.get_cells();\n",
       "                for (var i = 0; i < nbb_cells.length; ++i) {\n",
       "                    if (nbb_cells[i].input_prompt_number == nbb_cell_id) {\n",
       "                        if (nbb_cells[i].get_text() == nbb_unformatted_code) {\n",
       "                             nbb_cells[i].set_text(nbb_formatted_code);\n",
       "                        }\n",
       "                        break;\n",
       "                    }\n",
       "                }\n",
       "            }, 500);\n",
       "            "
      ],
      "text/plain": [
       "<IPython.core.display.Javascript object>"
      ]
     },
     "metadata": {},
     "output_type": "display_data"
    }
   ],
   "source": [
    "plt.hist(pop_grp[\"week_pos\"], label=\"pop\")\n",
    "plt.hist(rap_grp[\"week_pos\"], label=\"rap\")\n",
    "plt.hist(country_grp[\"week_pos\"], label=\"country\")\n",
    "plt.hist(metal_grp[\"week_pos\"], label=\"metal\")\n",
    "plt.legend()\n",
    "plt.plot()"
   ]
  },
  {
   "cell_type": "code",
   "execution_count": 36,
   "metadata": {},
   "outputs": [
    {
     "data": {
      "text/plain": [
       "Ttest_indResult(statistic=-127.4968978771606, pvalue=0.0)"
      ]
     },
     "execution_count": 36,
     "metadata": {},
     "output_type": "execute_result"
    },
    {
     "data": {
      "application/javascript": [
       "\n",
       "            setTimeout(function() {\n",
       "                var nbb_cell_id = 36;\n",
       "                var nbb_unformatted_code = \"stats.ttest_ind(full_table[\\\"week_pos\\\"], full_table[\\\"explicit\\\"])\";\n",
       "                var nbb_formatted_code = \"stats.ttest_ind(full_table[\\\"week_pos\\\"], full_table[\\\"explicit\\\"])\";\n",
       "                var nbb_cells = Jupyter.notebook.get_cells();\n",
       "                for (var i = 0; i < nbb_cells.length; ++i) {\n",
       "                    if (nbb_cells[i].input_prompt_number == nbb_cell_id) {\n",
       "                        if (nbb_cells[i].get_text() == nbb_unformatted_code) {\n",
       "                             nbb_cells[i].set_text(nbb_formatted_code);\n",
       "                        }\n",
       "                        break;\n",
       "                    }\n",
       "                }\n",
       "            }, 500);\n",
       "            "
      ],
      "text/plain": [
       "<IPython.core.display.Javascript object>"
      ]
     },
     "metadata": {},
     "output_type": "display_data"
    }
   ],
   "source": [
    "stats.ttest_ind(full_table[\"week_pos\"], full_table[\"explicit\"])"
   ]
  },
  {
   "cell_type": "code",
   "execution_count": 37,
   "metadata": {},
   "outputs": [
    {
     "data": {
      "text/plain": [
       "week              datetime64[ns]\n",
       "week_pos                   int64\n",
       "song                      object\n",
       "artist                    object\n",
       "song_id                   object\n",
       "instance                   int64\n",
       "prev_week_pos              int32\n",
       "peak_pos                   int64\n",
       "weeks_on_chart             int64\n",
       "genre                     object\n",
       "album                     object\n",
       "explicit                   int32\n",
       "genre_list                object\n",
       "dtype: object"
      ]
     },
     "execution_count": 37,
     "metadata": {},
     "output_type": "execute_result"
    },
    {
     "data": {
      "application/javascript": [
       "\n",
       "            setTimeout(function() {\n",
       "                var nbb_cell_id = 37;\n",
       "                var nbb_unformatted_code = \"full_table.dtypes\";\n",
       "                var nbb_formatted_code = \"full_table.dtypes\";\n",
       "                var nbb_cells = Jupyter.notebook.get_cells();\n",
       "                for (var i = 0; i < nbb_cells.length; ++i) {\n",
       "                    if (nbb_cells[i].input_prompt_number == nbb_cell_id) {\n",
       "                        if (nbb_cells[i].get_text() == nbb_unformatted_code) {\n",
       "                             nbb_cells[i].set_text(nbb_formatted_code);\n",
       "                        }\n",
       "                        break;\n",
       "                    }\n",
       "                }\n",
       "            }, 500);\n",
       "            "
      ],
      "text/plain": [
       "<IPython.core.display.Javascript object>"
      ]
     },
     "metadata": {},
     "output_type": "display_data"
    }
   ],
   "source": [
    "full_table.dtypes"
   ]
  },
  {
   "cell_type": "code",
   "execution_count": 38,
   "metadata": {},
   "outputs": [
    {
     "data": {
      "text/plain": [
       "[]"
      ]
     },
     "execution_count": 38,
     "metadata": {},
     "output_type": "execute_result"
    },
    {
     "data": {
      "image/png": "[encoded data removed]",
      "text/plain": [
       "<Figure size 432x288 with 1 Axes>"
      ]
     },
     "metadata": {
      "needs_background": "light"
     },
     "output_type": "display_data"
    },
    {
     "data": {
      "application/javascript": [
       "\n",
       "            setTimeout(function() {\n",
       "                var nbb_cell_id = 38;\n",
       "                var nbb_unformatted_code = \"sns.violinplot(x=\\\"explicit\\\", y=\\\"week_pos\\\", data=top_10)\\nplt.plot()\";\n",
       "                var nbb_formatted_code = \"sns.violinplot(x=\\\"explicit\\\", y=\\\"week_pos\\\", data=top_10)\\nplt.plot()\";\n",
       "                var nbb_cells = Jupyter.notebook.get_cells();\n",
       "                for (var i = 0; i < nbb_cells.length; ++i) {\n",
       "                    if (nbb_cells[i].input_prompt_number == nbb_cell_id) {\n",
       "                        if (nbb_cells[i].get_text() == nbb_unformatted_code) {\n",
       "                             nbb_cells[i].set_text(nbb_formatted_code);\n",
       "                        }\n",
       "                        break;\n",
       "                    }\n",
       "                }\n",
       "            }, 500);\n",
       "            "
      ],
      "text/plain": [
       "<IPython.core.display.Javascript object>"
      ]
     },
     "metadata": {},
     "output_type": "display_data"
    }
   ],
   "source": [
    "sns.violinplot(x=\"explicit\", y=\"week_pos\", data=top_10)\n",
    "plt.plot()"
   ]
  },
  {
   "cell_type": "code",
   "execution_count": 39,
   "metadata": {},
   "outputs": [
    {
     "data": {
      "text/plain": [
       "[]"
      ]
     },
     "execution_count": 39,
     "metadata": {},
     "output_type": "execute_result"
    },
    {
     "data": {
      "image/png": "[encoded data removed]",
      "text/plain": [
       "<Figure size 432x288 with 1 Axes>"
      ]
     },
     "metadata": {
      "needs_background": "light"
     },
     "output_type": "display_data"
    },
    {
     "data": {
      "application/javascript": [
       "\n",
       "            setTimeout(function() {\n",
       "                var nbb_cell_id = 39;\n",
       "                var nbb_unformatted_code = \"plt.hist(top_10[\\\"explicit\\\"])\\nplt.hist(top_10[\\\"week_pos\\\"])\\nplt.plot()\";\n",
       "                var nbb_formatted_code = \"plt.hist(top_10[\\\"explicit\\\"])\\nplt.hist(top_10[\\\"week_pos\\\"])\\nplt.plot()\";\n",
       "                var nbb_cells = Jupyter.notebook.get_cells();\n",
       "                for (var i = 0; i < nbb_cells.length; ++i) {\n",
       "                    if (nbb_cells[i].input_prompt_number == nbb_cell_id) {\n",
       "                        if (nbb_cells[i].get_text() == nbb_unformatted_code) {\n",
       "                             nbb_cells[i].set_text(nbb_formatted_code);\n",
       "                        }\n",
       "                        break;\n",
       "                    }\n",
       "                }\n",
       "            }, 500);\n",
       "            "
      ],
      "text/plain": [
       "<IPython.core.display.Javascript object>"
      ]
     },
     "metadata": {},
     "output_type": "display_data"
    }
   ],
   "source": [
    "plt.hist(top_10[\"explicit\"])\n",
    "plt.hist(top_10[\"week_pos\"])\n",
    "plt.plot()"
   ]
  },
  {
   "cell_type": "code",
   "execution_count": 40,
   "metadata": {},
   "outputs": [
    {
     "data": {
      "text/plain": [
       "Ttest_indResult(statistic=47.34727337826207, pvalue=0.0)"
      ]
     },
     "execution_count": 40,
     "metadata": {},
     "output_type": "execute_result"
    },
    {
     "data": {
      "application/javascript": [
       "\n",
       "            setTimeout(function() {\n",
       "                var nbb_cell_id = 40;\n",
       "                var nbb_unformatted_code = \"stats.ttest_ind(top_10[\\\"explicit\\\"], top_10[\\\"week_pos\\\"])\";\n",
       "                var nbb_formatted_code = \"stats.ttest_ind(top_10[\\\"explicit\\\"], top_10[\\\"week_pos\\\"])\";\n",
       "                var nbb_cells = Jupyter.notebook.get_cells();\n",
       "                for (var i = 0; i < nbb_cells.length; ++i) {\n",
       "                    if (nbb_cells[i].input_prompt_number == nbb_cell_id) {\n",
       "                        if (nbb_cells[i].get_text() == nbb_unformatted_code) {\n",
       "                             nbb_cells[i].set_text(nbb_formatted_code);\n",
       "                        }\n",
       "                        break;\n",
       "                    }\n",
       "                }\n",
       "            }, 500);\n",
       "            "
      ],
      "text/plain": [
       "<IPython.core.display.Javascript object>"
      ]
     },
     "metadata": {},
     "output_type": "display_data"
    }
   ],
   "source": [
    "stats.ttest_ind(top_10[\"explicit\"], top_10[\"week_pos\"])"
   ]
  },
  {
   "cell_type": "code",
   "execution_count": 41,
   "metadata": {},
   "outputs": [
    {
     "data": {
      "text/plain": [
       "[]"
      ]
     },
     "execution_count": 41,
     "metadata": {},
     "output_type": "execute_result"
    },
    {
     "data": {
      "image/png": "[encoded data removed]",
      "text/plain": [
       "<Figure size 432x288 with 1 Axes>"
      ]
     },
     "metadata": {
      "needs_background": "light"
     },
     "output_type": "display_data"
    },
    {
     "data": {
      "application/javascript": [
       "\n",
       "            setTimeout(function() {\n",
       "                var nbb_cell_id = 41;\n",
       "                var nbb_unformatted_code = \"expl = full_table[full_table[\\\"explicit\\\"] == 1]\\nnot_expl = full_table[full_table[\\\"explicit\\\"] == 0]\\n\\nplt.hist(expl[\\\"week\\\"], alpha=0.9, color=\\\"red\\\")\\nplt.hist(not_expl[\\\"week\\\"], alpha=0.5, color=\\\"green\\\")\\nplt.plot()\";\n",
       "                var nbb_formatted_code = \"expl = full_table[full_table[\\\"explicit\\\"] == 1]\\nnot_expl = full_table[full_table[\\\"explicit\\\"] == 0]\\n\\nplt.hist(expl[\\\"week\\\"], alpha=0.9, color=\\\"red\\\")\\nplt.hist(not_expl[\\\"week\\\"], alpha=0.5, color=\\\"green\\\")\\nplt.plot()\";\n",
       "                var nbb_cells = Jupyter.notebook.get_cells();\n",
       "                for (var i = 0; i < nbb_cells.length; ++i) {\n",
       "                    if (nbb_cells[i].input_prompt_number == nbb_cell_id) {\n",
       "                        if (nbb_cells[i].get_text() == nbb_unformatted_code) {\n",
       "                             nbb_cells[i].set_text(nbb_formatted_code);\n",
       "                        }\n",
       "                        break;\n",
       "                    }\n",
       "                }\n",
       "            }, 500);\n",
       "            "
      ],
      "text/plain": [
       "<IPython.core.display.Javascript object>"
      ]
     },
     "metadata": {},
     "output_type": "display_data"
    }
   ],
   "source": [
    "expl = full_table[full_table[\"explicit\"] == 1]\n",
    "not_expl = full_table[full_table[\"explicit\"] == 0]\n",
    "\n",
    "plt.hist(expl[\"week\"], alpha=0.9, color=\"red\")\n",
    "plt.hist(not_expl[\"week\"], alpha=0.5, color=\"green\")\n",
    "plt.plot()"
   ]
  },
  {
   "cell_type": "code",
   "execution_count": 42,
   "metadata": {},
   "outputs": [
    {
     "data": {
      "application/javascript": [
       "\n",
       "            setTimeout(function() {\n",
       "                var nbb_cell_id = 42;\n",
       "                var nbb_unformatted_code = \"country_expl = country[country[\\\"explicit\\\"] == 1]\\nrap_expl = rap[rap[\\\"explicit\\\"] == 1]\\nmetal_expl = metal[metal[\\\"explicit\\\"] == 1]\\n\\ncountry_not_expl = country[country[\\\"explicit\\\"] == 0]\\nrap_not_expl = rap[rap[\\\"explicit\\\"] == 0]\\nmetal_not_expl = metal[metal[\\\"explicit\\\"] == 0]\";\n",
       "                var nbb_formatted_code = \"country_expl = country[country[\\\"explicit\\\"] == 1]\\nrap_expl = rap[rap[\\\"explicit\\\"] == 1]\\nmetal_expl = metal[metal[\\\"explicit\\\"] == 1]\\n\\ncountry_not_expl = country[country[\\\"explicit\\\"] == 0]\\nrap_not_expl = rap[rap[\\\"explicit\\\"] == 0]\\nmetal_not_expl = metal[metal[\\\"explicit\\\"] == 0]\";\n",
       "                var nbb_cells = Jupyter.notebook.get_cells();\n",
       "                for (var i = 0; i < nbb_cells.length; ++i) {\n",
       "                    if (nbb_cells[i].input_prompt_number == nbb_cell_id) {\n",
       "                        if (nbb_cells[i].get_text() == nbb_unformatted_code) {\n",
       "                             nbb_cells[i].set_text(nbb_formatted_code);\n",
       "                        }\n",
       "                        break;\n",
       "                    }\n",
       "                }\n",
       "            }, 500);\n",
       "            "
      ],
      "text/plain": [
       "<IPython.core.display.Javascript object>"
      ]
     },
     "metadata": {},
     "output_type": "display_data"
    }
   ],
   "source": [
    "country_expl = country[country[\"explicit\"] == 1]\n",
    "rap_expl = rap[rap[\"explicit\"] == 1]\n",
    "metal_expl = metal[metal[\"explicit\"] == 1]\n",
    "\n",
    "country_not_expl = country[country[\"explicit\"] == 0]\n",
    "rap_not_expl = rap[rap[\"explicit\"] == 0]\n",
    "metal_not_expl = metal[metal[\"explicit\"] == 0]"
   ]
  },
  {
   "cell_type": "code",
   "execution_count": 43,
   "metadata": {},
   "outputs": [
    {
     "data": {
      "text/plain": [
       "[]"
      ]
     },
     "execution_count": 43,
     "metadata": {},
     "output_type": "execute_result"
    },
    {
     "data": {
      "image/png": "[encoded data removed]",
      "text/plain": [
       "<Figure size 432x288 with 1 Axes>"
      ]
     },
     "metadata": {
      "needs_background": "light"
     },
     "output_type": "display_data"
    },
    {
     "data": {
      "application/javascript": [
       "\n",
       "            setTimeout(function() {\n",
       "                var nbb_cell_id = 43;\n",
       "                var nbb_unformatted_code = \"plt.hist(country_expl[\\\"week\\\"], alpha=0.9, color=\\\"red\\\")\\nplt.hist(rap_expl[\\\"week\\\"], alpha=0.5, color=\\\"green\\\")\\nplt.hist(metal_expl[\\\"week\\\"], alpha=0.5, color=\\\"blue\\\")\\nplt.plot()\";\n",
       "                var nbb_formatted_code = \"plt.hist(country_expl[\\\"week\\\"], alpha=0.9, color=\\\"red\\\")\\nplt.hist(rap_expl[\\\"week\\\"], alpha=0.5, color=\\\"green\\\")\\nplt.hist(metal_expl[\\\"week\\\"], alpha=0.5, color=\\\"blue\\\")\\nplt.plot()\";\n",
       "                var nbb_cells = Jupyter.notebook.get_cells();\n",
       "                for (var i = 0; i < nbb_cells.length; ++i) {\n",
       "                    if (nbb_cells[i].input_prompt_number == nbb_cell_id) {\n",
       "                        if (nbb_cells[i].get_text() == nbb_unformatted_code) {\n",
       "                             nbb_cells[i].set_text(nbb_formatted_code);\n",
       "                        }\n",
       "                        break;\n",
       "                    }\n",
       "                }\n",
       "            }, 500);\n",
       "            "
      ],
      "text/plain": [
       "<IPython.core.display.Javascript object>"
      ]
     },
     "metadata": {},
     "output_type": "display_data"
    }
   ],
   "source": [
    "plt.hist(country_expl[\"week\"], alpha=0.9, color=\"red\")\n",
    "plt.hist(rap_expl[\"week\"], alpha=0.5, color=\"green\")\n",
    "plt.hist(metal_expl[\"week\"], alpha=0.5, color=\"blue\")\n",
    "plt.plot()"
   ]
  },
  {
   "cell_type": "code",
   "execution_count": 44,
   "metadata": {},
   "outputs": [
    {
     "data": {
      "text/plain": [
       "[]"
      ]
     },
     "execution_count": 44,
     "metadata": {},
     "output_type": "execute_result"
    },
    {
     "data": {
      "image/png": "[encoded data removed]",
      "text/plain": [
       "<Figure size 432x288 with 1 Axes>"
      ]
     },
     "metadata": {
      "needs_background": "light"
     },
     "output_type": "display_data"
    },
    {
     "data": {
      "application/javascript": [
       "\n",
       "            setTimeout(function() {\n",
       "                var nbb_cell_id = 44;\n",
       "                var nbb_unformatted_code = \"plt.hist(country_not_expl[\\\"week\\\"], alpha=0.5, color=\\\"red\\\")\\nplt.hist(rap_not_expl[\\\"week\\\"], alpha=0.7, color=\\\"green\\\")\\nplt.hist(metal_not_expl[\\\"week\\\"], alpha=0.5, color=\\\"blue\\\")\\nplt.plot()\";\n",
       "                var nbb_formatted_code = \"plt.hist(country_not_expl[\\\"week\\\"], alpha=0.5, color=\\\"red\\\")\\nplt.hist(rap_not_expl[\\\"week\\\"], alpha=0.7, color=\\\"green\\\")\\nplt.hist(metal_not_expl[\\\"week\\\"], alpha=0.5, color=\\\"blue\\\")\\nplt.plot()\";\n",
       "                var nbb_cells = Jupyter.notebook.get_cells();\n",
       "                for (var i = 0; i < nbb_cells.length; ++i) {\n",
       "                    if (nbb_cells[i].input_prompt_number == nbb_cell_id) {\n",
       "                        if (nbb_cells[i].get_text() == nbb_unformatted_code) {\n",
       "                             nbb_cells[i].set_text(nbb_formatted_code);\n",
       "                        }\n",
       "                        break;\n",
       "                    }\n",
       "                }\n",
       "            }, 500);\n",
       "            "
      ],
      "text/plain": [
       "<IPython.core.display.Javascript object>"
      ]
     },
     "metadata": {},
     "output_type": "display_data"
    }
   ],
   "source": [
    "plt.hist(country_not_expl[\"week\"], alpha=0.5, color=\"red\")\n",
    "plt.hist(rap_not_expl[\"week\"], alpha=0.7, color=\"green\")\n",
    "plt.hist(metal_not_expl[\"week\"], alpha=0.5, color=\"blue\")\n",
    "plt.plot()"
   ]
  },
  {
   "cell_type": "code",
   "execution_count": 45,
   "metadata": {},
   "outputs": [
    {
     "data": {
      "text/plain": [
       "[]"
      ]
     },
     "execution_count": 45,
     "metadata": {},
     "output_type": "execute_result"
    },
    {
     "data": {
      "image/png": "[encoded data removed]",
      "text/plain": [
       "<Figure size 432x288 with 1 Axes>"
      ]
     },
     "metadata": {
      "needs_background": "light"
     },
     "output_type": "display_data"
    },
    {
     "data": {
      "application/javascript": [
       "\n",
       "            setTimeout(function() {\n",
       "                var nbb_cell_id = 45;\n",
       "                var nbb_unformatted_code = \"plt.hist(metal_expl[\\\"week\\\"], alpha=0.5, color=\\\"red\\\")\\nplt.hist(metal_not_expl[\\\"week\\\"], alpha=0.5, color=\\\"green\\\")\\nplt.plot()\";\n",
       "                var nbb_formatted_code = \"plt.hist(metal_expl[\\\"week\\\"], alpha=0.5, color=\\\"red\\\")\\nplt.hist(metal_not_expl[\\\"week\\\"], alpha=0.5, color=\\\"green\\\")\\nplt.plot()\";\n",
       "                var nbb_cells = Jupyter.notebook.get_cells();\n",
       "                for (var i = 0; i < nbb_cells.length; ++i) {\n",
       "                    if (nbb_cells[i].input_prompt_number == nbb_cell_id) {\n",
       "                        if (nbb_cells[i].get_text() == nbb_unformatted_code) {\n",
       "                             nbb_cells[i].set_text(nbb_formatted_code);\n",
       "                        }\n",
       "                        break;\n",
       "                    }\n",
       "                }\n",
       "            }, 500);\n",
       "            "
      ],
      "text/plain": [
       "<IPython.core.display.Javascript object>"
      ]
     },
     "metadata": {},
     "output_type": "display_data"
    }
   ],
   "source": [
    "plt.hist(metal_expl[\"week\"], alpha=0.5, color=\"red\")\n",
    "plt.hist(metal_not_expl[\"week\"], alpha=0.5, color=\"green\")\n",
    "plt.plot()"
   ]
  },
  {
   "cell_type": "code",
   "execution_count": 46,
   "metadata": {},
   "outputs": [
    {
     "data": {
      "application/javascript": [
       "\n",
       "            setTimeout(function() {\n",
       "                var nbb_cell_id = 46;\n",
       "                var nbb_unformatted_code = \"# group = ess_data[['cntry', 'year', 'sclact']]\\n# sns.violinplot(x='cntry', y='sclact', data=group)\\n# plt.show()\";\n",
       "                var nbb_formatted_code = \"# group = ess_data[['cntry', 'year', 'sclact']]\\n# sns.violinplot(x='cntry', y='sclact', data=group)\\n# plt.show()\";\n",
       "                var nbb_cells = Jupyter.notebook.get_cells();\n",
       "                for (var i = 0; i < nbb_cells.length; ++i) {\n",
       "                    if (nbb_cells[i].input_prompt_number == nbb_cell_id) {\n",
       "                        if (nbb_cells[i].get_text() == nbb_unformatted_code) {\n",
       "                             nbb_cells[i].set_text(nbb_formatted_code);\n",
       "                        }\n",
       "                        break;\n",
       "                    }\n",
       "                }\n",
       "            }, 500);\n",
       "            "
      ],
      "text/plain": [
       "<IPython.core.display.Javascript object>"
      ]
     },
     "metadata": {},
     "output_type": "display_data"
    }
   ],
   "source": [
    "# group = ess_data[['cntry', 'year', 'sclact']]\n",
    "# sns.violinplot(x='cntry', y='sclact', data=group)\n",
    "# plt.show()"
   ]
  },
  {
   "cell_type": "markdown",
   "metadata": {},
   "source": [
    "# Popularity before and after 1985"
   ]
  },
  {
   "cell_type": "code",
   "execution_count": 47,
   "metadata": {},
   "outputs": [
    {
     "data": {
      "text/html": [
       "<div>\n",
       "<style scoped>\n",
       "    .dataframe tbody tr th:only-of-type {\n",
       "        vertical-align: middle;\n",
       "    }\n",
       "\n",
       "    .dataframe tbody tr th {\n",
       "        vertical-align: top;\n",
       "    }\n",
       "\n",
       "    .dataframe thead th {\n",
       "        text-align: right;\n",
       "    }\n",
       "</style>\n",
       "<table border=\"1\" class=\"dataframe\">\n",
       "  <thead>\n",
       "    <tr style=\"text-align: right;\">\n",
       "      <th></th>\n",
       "      <th>week</th>\n",
       "      <th>week_pos</th>\n",
       "      <th>song</th>\n",
       "      <th>artist</th>\n",
       "      <th>song_id</th>\n",
       "      <th>instance</th>\n",
       "      <th>prev_week_pos</th>\n",
       "      <th>peak_pos</th>\n",
       "      <th>weeks_on_chart</th>\n",
       "      <th>genre</th>\n",
       "      <th>album</th>\n",
       "      <th>explicit</th>\n",
       "      <th>genre_list</th>\n",
       "    </tr>\n",
       "  </thead>\n",
       "  <tbody>\n",
       "    <tr>\n",
       "      <th>117</th>\n",
       "      <td>2018-08-18</td>\n",
       "      <td>4</td>\n",
       "      <td>Sicko Mode</td>\n",
       "      <td>Travis Scott</td>\n",
       "      <td>Sicko ModeTravis Scott</td>\n",
       "      <td>1</td>\n",
       "      <td>0</td>\n",
       "      <td>4</td>\n",
       "      <td>1</td>\n",
       "      <td>['rap']</td>\n",
       "      <td>ASTROWORLD</td>\n",
       "      <td>1</td>\n",
       "      <td>[rap]</td>\n",
       "    </tr>\n",
       "    <tr>\n",
       "      <th>118</th>\n",
       "      <td>2018-12-08</td>\n",
       "      <td>1</td>\n",
       "      <td>Sicko Mode</td>\n",
       "      <td>Travis Scott</td>\n",
       "      <td>Sicko ModeTravis Scott</td>\n",
       "      <td>1</td>\n",
       "      <td>2</td>\n",
       "      <td>1</td>\n",
       "      <td>17</td>\n",
       "      <td>['rap']</td>\n",
       "      <td>ASTROWORLD</td>\n",
       "      <td>1</td>\n",
       "      <td>[rap]</td>\n",
       "    </tr>\n",
       "    <tr>\n",
       "      <th>119</th>\n",
       "      <td>2018-11-03</td>\n",
       "      <td>2</td>\n",
       "      <td>Sicko Mode</td>\n",
       "      <td>Travis Scott</td>\n",
       "      <td>Sicko ModeTravis Scott</td>\n",
       "      <td>1</td>\n",
       "      <td>7</td>\n",
       "      <td>2</td>\n",
       "      <td>12</td>\n",
       "      <td>['rap']</td>\n",
       "      <td>ASTROWORLD</td>\n",
       "      <td>1</td>\n",
       "      <td>[rap]</td>\n",
       "    </tr>\n",
       "    <tr>\n",
       "      <th>120</th>\n",
       "      <td>2018-12-15</td>\n",
       "      <td>2</td>\n",
       "      <td>Sicko Mode</td>\n",
       "      <td>Travis Scott</td>\n",
       "      <td>Sicko ModeTravis Scott</td>\n",
       "      <td>1</td>\n",
       "      <td>1</td>\n",
       "      <td>1</td>\n",
       "      <td>18</td>\n",
       "      <td>['rap']</td>\n",
       "      <td>ASTROWORLD</td>\n",
       "      <td>1</td>\n",
       "      <td>[rap]</td>\n",
       "    </tr>\n",
       "    <tr>\n",
       "      <th>121</th>\n",
       "      <td>2018-10-13</td>\n",
       "      <td>6</td>\n",
       "      <td>Sicko Mode</td>\n",
       "      <td>Travis Scott</td>\n",
       "      <td>Sicko ModeTravis Scott</td>\n",
       "      <td>1</td>\n",
       "      <td>6</td>\n",
       "      <td>4</td>\n",
       "      <td>9</td>\n",
       "      <td>['rap']</td>\n",
       "      <td>ASTROWORLD</td>\n",
       "      <td>1</td>\n",
       "      <td>[rap]</td>\n",
       "    </tr>\n",
       "    <tr>\n",
       "      <th>...</th>\n",
       "      <td>...</td>\n",
       "      <td>...</td>\n",
       "      <td>...</td>\n",
       "      <td>...</td>\n",
       "      <td>...</td>\n",
       "      <td>...</td>\n",
       "      <td>...</td>\n",
       "      <td>...</td>\n",
       "      <td>...</td>\n",
       "      <td>...</td>\n",
       "      <td>...</td>\n",
       "      <td>...</td>\n",
       "      <td>...</td>\n",
       "    </tr>\n",
       "    <tr>\n",
       "      <th>320576</th>\n",
       "      <td>1999-05-22</td>\n",
       "      <td>57</td>\n",
       "      <td>What'd You Come Here For?</td>\n",
       "      <td>Trina &amp; Tamara</td>\n",
       "      <td>What'd You Come Here For?Trina &amp; Tamara</td>\n",
       "      <td>1</td>\n",
       "      <td>57</td>\n",
       "      <td>57</td>\n",
       "      <td>8</td>\n",
       "      <td>['deep pop r&amp;b', 'hip pop', 'miami hip hop', '...</td>\n",
       "      <td>Trina &amp; Tamara</td>\n",
       "      <td>0</td>\n",
       "      <td>[deep pop r&amp;b, hip pop, miami hip hop, pop rap...</td>\n",
       "    </tr>\n",
       "    <tr>\n",
       "      <th>320577</th>\n",
       "      <td>1999-05-29</td>\n",
       "      <td>56</td>\n",
       "      <td>What'd You Come Here For?</td>\n",
       "      <td>Trina &amp; Tamara</td>\n",
       "      <td>What'd You Come Here For?Trina &amp; Tamara</td>\n",
       "      <td>1</td>\n",
       "      <td>57</td>\n",
       "      <td>56</td>\n",
       "      <td>9</td>\n",
       "      <td>['deep pop r&amp;b', 'hip pop', 'miami hip hop', '...</td>\n",
       "      <td>Trina &amp; Tamara</td>\n",
       "      <td>0</td>\n",
       "      <td>[deep pop r&amp;b, hip pop, miami hip hop, pop rap...</td>\n",
       "    </tr>\n",
       "    <tr>\n",
       "      <th>320578</th>\n",
       "      <td>1999-06-05</td>\n",
       "      <td>68</td>\n",
       "      <td>What'd You Come Here For?</td>\n",
       "      <td>Trina &amp; Tamara</td>\n",
       "      <td>What'd You Come Here For?Trina &amp; Tamara</td>\n",
       "      <td>1</td>\n",
       "      <td>56</td>\n",
       "      <td>56</td>\n",
       "      <td>10</td>\n",
       "      <td>['deep pop r&amp;b', 'hip pop', 'miami hip hop', '...</td>\n",
       "      <td>Trina &amp; Tamara</td>\n",
       "      <td>0</td>\n",
       "      <td>[deep pop r&amp;b, hip pop, miami hip hop, pop rap...</td>\n",
       "    </tr>\n",
       "    <tr>\n",
       "      <th>320579</th>\n",
       "      <td>1999-06-12</td>\n",
       "      <td>67</td>\n",
       "      <td>What'd You Come Here For?</td>\n",
       "      <td>Trina &amp; Tamara</td>\n",
       "      <td>What'd You Come Here For?Trina &amp; Tamara</td>\n",
       "      <td>1</td>\n",
       "      <td>68</td>\n",
       "      <td>56</td>\n",
       "      <td>11</td>\n",
       "      <td>['deep pop r&amp;b', 'hip pop', 'miami hip hop', '...</td>\n",
       "      <td>Trina &amp; Tamara</td>\n",
       "      <td>0</td>\n",
       "      <td>[deep pop r&amp;b, hip pop, miami hip hop, pop rap...</td>\n",
       "    </tr>\n",
       "    <tr>\n",
       "      <th>320580</th>\n",
       "      <td>1999-06-19</td>\n",
       "      <td>92</td>\n",
       "      <td>What'd You Come Here For?</td>\n",
       "      <td>Trina &amp; Tamara</td>\n",
       "      <td>What'd You Come Here For?Trina &amp; Tamara</td>\n",
       "      <td>1</td>\n",
       "      <td>67</td>\n",
       "      <td>56</td>\n",
       "      <td>12</td>\n",
       "      <td>['deep pop r&amp;b', 'hip pop', 'miami hip hop', '...</td>\n",
       "      <td>Trina &amp; Tamara</td>\n",
       "      <td>0</td>\n",
       "      <td>[deep pop r&amp;b, hip pop, miami hip hop, pop rap...</td>\n",
       "    </tr>\n",
       "  </tbody>\n",
       "</table>\n",
       "<p>46606 rows × 13 columns</p>\n",
       "</div>"
      ],
      "text/plain": [
       "             week  week_pos                       song          artist  \\\n",
       "117    2018-08-18         4                 Sicko Mode    Travis Scott   \n",
       "118    2018-12-08         1                 Sicko Mode    Travis Scott   \n",
       "119    2018-11-03         2                 Sicko Mode    Travis Scott   \n",
       "120    2018-12-15         2                 Sicko Mode    Travis Scott   \n",
       "121    2018-10-13         6                 Sicko Mode    Travis Scott   \n",
       "...           ...       ...                        ...             ...   \n",
       "320576 1999-05-22        57  What'd You Come Here For?  Trina & Tamara   \n",
       "320577 1999-05-29        56  What'd You Come Here For?  Trina & Tamara   \n",
       "320578 1999-06-05        68  What'd You Come Here For?  Trina & Tamara   \n",
       "320579 1999-06-12        67  What'd You Come Here For?  Trina & Tamara   \n",
       "320580 1999-06-19        92  What'd You Come Here For?  Trina & Tamara   \n",
       "\n",
       "                                        song_id  instance  prev_week_pos  \\\n",
       "117                      Sicko ModeTravis Scott         1              0   \n",
       "118                      Sicko ModeTravis Scott         1              2   \n",
       "119                      Sicko ModeTravis Scott         1              7   \n",
       "120                      Sicko ModeTravis Scott         1              1   \n",
       "121                      Sicko ModeTravis Scott         1              6   \n",
       "...                                         ...       ...            ...   \n",
       "320576  What'd You Come Here For?Trina & Tamara         1             57   \n",
       "320577  What'd You Come Here For?Trina & Tamara         1             57   \n",
       "320578  What'd You Come Here For?Trina & Tamara         1             56   \n",
       "320579  What'd You Come Here For?Trina & Tamara         1             68   \n",
       "320580  What'd You Come Here For?Trina & Tamara         1             67   \n",
       "\n",
       "        peak_pos  weeks_on_chart  \\\n",
       "117            4               1   \n",
       "118            1              17   \n",
       "119            2              12   \n",
       "120            1              18   \n",
       "121            4               9   \n",
       "...          ...             ...   \n",
       "320576        57               8   \n",
       "320577        56               9   \n",
       "320578        56              10   \n",
       "320579        56              11   \n",
       "320580        56              12   \n",
       "\n",
       "                                                    genre           album  \\\n",
       "117                                               ['rap']      ASTROWORLD   \n",
       "118                                               ['rap']      ASTROWORLD   \n",
       "119                                               ['rap']      ASTROWORLD   \n",
       "120                                               ['rap']      ASTROWORLD   \n",
       "121                                               ['rap']      ASTROWORLD   \n",
       "...                                                   ...             ...   \n",
       "320576  ['deep pop r&b', 'hip pop', 'miami hip hop', '...  Trina & Tamara   \n",
       "320577  ['deep pop r&b', 'hip pop', 'miami hip hop', '...  Trina & Tamara   \n",
       "320578  ['deep pop r&b', 'hip pop', 'miami hip hop', '...  Trina & Tamara   \n",
       "320579  ['deep pop r&b', 'hip pop', 'miami hip hop', '...  Trina & Tamara   \n",
       "320580  ['deep pop r&b', 'hip pop', 'miami hip hop', '...  Trina & Tamara   \n",
       "\n",
       "        explicit                                         genre_list  \n",
       "117            1                                              [rap]  \n",
       "118            1                                              [rap]  \n",
       "119            1                                              [rap]  \n",
       "120            1                                              [rap]  \n",
       "121            1                                              [rap]  \n",
       "...          ...                                                ...  \n",
       "320576         0  [deep pop r&b, hip pop, miami hip hop, pop rap...  \n",
       "320577         0  [deep pop r&b, hip pop, miami hip hop, pop rap...  \n",
       "320578         0  [deep pop r&b, hip pop, miami hip hop, pop rap...  \n",
       "320579         0  [deep pop r&b, hip pop, miami hip hop, pop rap...  \n",
       "320580         0  [deep pop r&b, hip pop, miami hip hop, pop rap...  \n",
       "\n",
       "[46606 rows x 13 columns]"
      ]
     },
     "execution_count": 47,
     "metadata": {},
     "output_type": "execute_result"
    },
    {
     "data": {
      "application/javascript": [
       "\n",
       "            setTimeout(function() {\n",
       "                var nbb_cell_id = 47;\n",
       "                var nbb_unformatted_code = \"rap\";\n",
       "                var nbb_formatted_code = \"rap\";\n",
       "                var nbb_cells = Jupyter.notebook.get_cells();\n",
       "                for (var i = 0; i < nbb_cells.length; ++i) {\n",
       "                    if (nbb_cells[i].input_prompt_number == nbb_cell_id) {\n",
       "                        if (nbb_cells[i].get_text() == nbb_unformatted_code) {\n",
       "                             nbb_cells[i].set_text(nbb_formatted_code);\n",
       "                        }\n",
       "                        break;\n",
       "                    }\n",
       "                }\n",
       "            }, 500);\n",
       "            "
      ],
      "text/plain": [
       "<IPython.core.display.Javascript object>"
      ]
     },
     "metadata": {},
     "output_type": "display_data"
    }
   ],
   "source": [
    "rap"
   ]
  },
  {
   "cell_type": "code",
   "execution_count": 48,
   "metadata": {},
   "outputs": [
    {
     "data": {
      "text/plain": [
       "Ttest_indResult(statistic=7.285631984757241, pvalue=3.252214750167877e-13)"
      ]
     },
     "execution_count": 48,
     "metadata": {},
     "output_type": "execute_result"
    },
    {
     "data": {
      "application/javascript": [
       "\n",
       "            setTimeout(function() {\n",
       "                var nbb_cell_id = 48;\n",
       "                var nbb_unformatted_code = \"rap_before_1985 = rap[rap[\\\"week\\\"] < \\\"1985-01-01\\\"]\\nrap_after_1985 = rap[rap[\\\"week\\\"] > \\\"1985-01-01\\\"]\\nstats.ttest_ind(rap_before_1985[\\\"week_pos\\\"], rap_after_1985[\\\"week_pos\\\"])\";\n",
       "                var nbb_formatted_code = \"rap_before_1985 = rap[rap[\\\"week\\\"] < \\\"1985-01-01\\\"]\\nrap_after_1985 = rap[rap[\\\"week\\\"] > \\\"1985-01-01\\\"]\\nstats.ttest_ind(rap_before_1985[\\\"week_pos\\\"], rap_after_1985[\\\"week_pos\\\"])\";\n",
       "                var nbb_cells = Jupyter.notebook.get_cells();\n",
       "                for (var i = 0; i < nbb_cells.length; ++i) {\n",
       "                    if (nbb_cells[i].input_prompt_number == nbb_cell_id) {\n",
       "                        if (nbb_cells[i].get_text() == nbb_unformatted_code) {\n",
       "                             nbb_cells[i].set_text(nbb_formatted_code);\n",
       "                        }\n",
       "                        break;\n",
       "                    }\n",
       "                }\n",
       "            }, 500);\n",
       "            "
      ],
      "text/plain": [
       "<IPython.core.display.Javascript object>"
      ]
     },
     "metadata": {},
     "output_type": "display_data"
    }
   ],
   "source": [
    "rap_before_1985 = rap[rap[\"week\"] < \"1985-01-01\"]\n",
    "rap_after_1985 = rap[rap[\"week\"] > \"1985-01-01\"]\n",
    "stats.ttest_ind(rap_before_1985[\"week_pos\"], rap_after_1985[\"week_pos\"])"
   ]
  },
  {
   "cell_type": "code",
   "execution_count": 49,
   "metadata": {},
   "outputs": [
    {
     "data": {
      "application/javascript": [
       "\n",
       "            setTimeout(function() {\n",
       "                var nbb_cell_id = 49;\n",
       "                var nbb_unformatted_code = \"# sns.violinplot(x=\\\"week\\\", y=\\\"week_pos\\\", data=rap)\";\n",
       "                var nbb_formatted_code = \"# sns.violinplot(x=\\\"week\\\", y=\\\"week_pos\\\", data=rap)\";\n",
       "                var nbb_cells = Jupyter.notebook.get_cells();\n",
       "                for (var i = 0; i < nbb_cells.length; ++i) {\n",
       "                    if (nbb_cells[i].input_prompt_number == nbb_cell_id) {\n",
       "                        if (nbb_cells[i].get_text() == nbb_unformatted_code) {\n",
       "                             nbb_cells[i].set_text(nbb_formatted_code);\n",
       "                        }\n",
       "                        break;\n",
       "                    }\n",
       "                }\n",
       "            }, 500);\n",
       "            "
      ],
      "text/plain": [
       "<IPython.core.display.Javascript object>"
      ]
     },
     "metadata": {},
     "output_type": "display_data"
    }
   ],
   "source": [
    "# sns.violinplot(x=\"week\", y=\"week_pos\", data=rap)"
   ]
  },
  {
   "cell_type": "code",
   "execution_count": 50,
   "metadata": {},
   "outputs": [
    {
     "data": {
      "text/plain": [
       "Ttest_indResult(statistic=5.916131557868674, pvalue=3.32673058214388e-09)"
      ]
     },
     "execution_count": 50,
     "metadata": {},
     "output_type": "execute_result"
    },
    {
     "data": {
      "application/javascript": [
       "\n",
       "            setTimeout(function() {\n",
       "                var nbb_cell_id = 50;\n",
       "                var nbb_unformatted_code = \"hip_hop_before_1985 = hip_hop[hip_hop[\\\"week\\\"] < \\\"1985-01-01\\\"]\\nhip_hop_after_1985 = hip_hop[hip_hop[\\\"week\\\"] > \\\"1985-01-01\\\"]\\nstats.ttest_ind(hip_hop_before_1985[\\\"week_pos\\\"], hip_hop_after_1985[\\\"week_pos\\\"])\";\n",
       "                var nbb_formatted_code = \"hip_hop_before_1985 = hip_hop[hip_hop[\\\"week\\\"] < \\\"1985-01-01\\\"]\\nhip_hop_after_1985 = hip_hop[hip_hop[\\\"week\\\"] > \\\"1985-01-01\\\"]\\nstats.ttest_ind(hip_hop_before_1985[\\\"week_pos\\\"], hip_hop_after_1985[\\\"week_pos\\\"])\";\n",
       "                var nbb_cells = Jupyter.notebook.get_cells();\n",
       "                for (var i = 0; i < nbb_cells.length; ++i) {\n",
       "                    if (nbb_cells[i].input_prompt_number == nbb_cell_id) {\n",
       "                        if (nbb_cells[i].get_text() == nbb_unformatted_code) {\n",
       "                             nbb_cells[i].set_text(nbb_formatted_code);\n",
       "                        }\n",
       "                        break;\n",
       "                    }\n",
       "                }\n",
       "            }, 500);\n",
       "            "
      ],
      "text/plain": [
       "<IPython.core.display.Javascript object>"
      ]
     },
     "metadata": {},
     "output_type": "display_data"
    }
   ],
   "source": [
    "hip_hop_before_1985 = hip_hop[hip_hop[\"week\"] < \"1985-01-01\"]\n",
    "hip_hop_after_1985 = hip_hop[hip_hop[\"week\"] > \"1985-01-01\"]\n",
    "stats.ttest_ind(hip_hop_before_1985[\"week_pos\"], hip_hop_after_1985[\"week_pos\"])"
   ]
  },
  {
   "cell_type": "code",
   "execution_count": 51,
   "metadata": {},
   "outputs": [
    {
     "data": {
      "text/plain": [
       "Ttest_indResult(statistic=-49.762355075970696, pvalue=0.0)"
      ]
     },
     "execution_count": 51,
     "metadata": {},
     "output_type": "execute_result"
    },
    {
     "data": {
      "application/javascript": [
       "\n",
       "            setTimeout(function() {\n",
       "                var nbb_cell_id = 51;\n",
       "                var nbb_unformatted_code = \"country_before_1985 = country[country[\\\"week\\\"] < \\\"1985-01-01\\\"]\\ncountry_after_1985 = country[country[\\\"week\\\"] > \\\"1985-01-01\\\"]\\nstats.ttest_ind(country_before_1985[\\\"week_pos\\\"], country_after_1985[\\\"week_pos\\\"])\";\n",
       "                var nbb_formatted_code = \"country_before_1985 = country[country[\\\"week\\\"] < \\\"1985-01-01\\\"]\\ncountry_after_1985 = country[country[\\\"week\\\"] > \\\"1985-01-01\\\"]\\nstats.ttest_ind(country_before_1985[\\\"week_pos\\\"], country_after_1985[\\\"week_pos\\\"])\";\n",
       "                var nbb_cells = Jupyter.notebook.get_cells();\n",
       "                for (var i = 0; i < nbb_cells.length; ++i) {\n",
       "                    if (nbb_cells[i].input_prompt_number == nbb_cell_id) {\n",
       "                        if (nbb_cells[i].get_text() == nbb_unformatted_code) {\n",
       "                             nbb_cells[i].set_text(nbb_formatted_code);\n",
       "                        }\n",
       "                        break;\n",
       "                    }\n",
       "                }\n",
       "            }, 500);\n",
       "            "
      ],
      "text/plain": [
       "<IPython.core.display.Javascript object>"
      ]
     },
     "metadata": {},
     "output_type": "display_data"
    }
   ],
   "source": [
    "country_before_1985 = country[country[\"week\"] < \"1985-01-01\"]\n",
    "country_after_1985 = country[country[\"week\"] > \"1985-01-01\"]\n",
    "stats.ttest_ind(country_before_1985[\"week_pos\"], country_after_1985[\"week_pos\"])"
   ]
  },
  {
   "cell_type": "code",
   "execution_count": 52,
   "metadata": {},
   "outputs": [
    {
     "data": {
      "text/plain": [
       "Ttest_indResult(statistic=0.5717946480688538, pvalue=0.5674718727916448)"
      ]
     },
     "execution_count": 52,
     "metadata": {},
     "output_type": "execute_result"
    },
    {
     "data": {
      "application/javascript": [
       "\n",
       "            setTimeout(function() {\n",
       "                var nbb_cell_id = 52;\n",
       "                var nbb_unformatted_code = \"metal_before_1985 = metal[metal[\\\"week\\\"] < \\\"1985-01-01\\\"]\\nmetal_after_1985 = metal[metal[\\\"week\\\"] > \\\"1985-01-01\\\"]\\nstats.ttest_ind(metal_before_1985[\\\"week_pos\\\"], metal_after_1985[\\\"week_pos\\\"])\";\n",
       "                var nbb_formatted_code = \"metal_before_1985 = metal[metal[\\\"week\\\"] < \\\"1985-01-01\\\"]\\nmetal_after_1985 = metal[metal[\\\"week\\\"] > \\\"1985-01-01\\\"]\\nstats.ttest_ind(metal_before_1985[\\\"week_pos\\\"], metal_after_1985[\\\"week_pos\\\"])\";\n",
       "                var nbb_cells = Jupyter.notebook.get_cells();\n",
       "                for (var i = 0; i < nbb_cells.length; ++i) {\n",
       "                    if (nbb_cells[i].input_prompt_number == nbb_cell_id) {\n",
       "                        if (nbb_cells[i].get_text() == nbb_unformatted_code) {\n",
       "                             nbb_cells[i].set_text(nbb_formatted_code);\n",
       "                        }\n",
       "                        break;\n",
       "                    }\n",
       "                }\n",
       "            }, 500);\n",
       "            "
      ],
      "text/plain": [
       "<IPython.core.display.Javascript object>"
      ]
     },
     "metadata": {},
     "output_type": "display_data"
    }
   ],
   "source": [
    "metal_before_1985 = metal[metal[\"week\"] < \"1985-01-01\"]\n",
    "metal_after_1985 = metal[metal[\"week\"] > \"1985-01-01\"]\n",
    "stats.ttest_ind(metal_before_1985[\"week_pos\"], metal_after_1985[\"week_pos\"])"
   ]
  },
  {
   "cell_type": "code",
   "execution_count": 53,
   "metadata": {},
   "outputs": [
    {
     "data": {
      "text/plain": [
       "Ttest_indResult(statistic=8.531295021760004, pvalue=1.45960898582721e-17)"
      ]
     },
     "execution_count": 53,
     "metadata": {},
     "output_type": "execute_result"
    },
    {
     "data": {
      "application/javascript": [
       "\n",
       "            setTimeout(function() {\n",
       "                var nbb_cell_id = 53;\n",
       "                var nbb_unformatted_code = \"pop_before_1985 = pop[pop[\\\"week\\\"] < \\\"1985-01-01\\\"]\\npop_after_1985 = pop[pop[\\\"week\\\"] > \\\"1985-01-01\\\"]\\nstats.ttest_ind(pop_before_1985[\\\"week_pos\\\"], pop_after_1985[\\\"week_pos\\\"])\";\n",
       "                var nbb_formatted_code = \"pop_before_1985 = pop[pop[\\\"week\\\"] < \\\"1985-01-01\\\"]\\npop_after_1985 = pop[pop[\\\"week\\\"] > \\\"1985-01-01\\\"]\\nstats.ttest_ind(pop_before_1985[\\\"week_pos\\\"], pop_after_1985[\\\"week_pos\\\"])\";\n",
       "                var nbb_cells = Jupyter.notebook.get_cells();\n",
       "                for (var i = 0; i < nbb_cells.length; ++i) {\n",
       "                    if (nbb_cells[i].input_prompt_number == nbb_cell_id) {\n",
       "                        if (nbb_cells[i].get_text() == nbb_unformatted_code) {\n",
       "                             nbb_cells[i].set_text(nbb_formatted_code);\n",
       "                        }\n",
       "                        break;\n",
       "                    }\n",
       "                }\n",
       "            }, 500);\n",
       "            "
      ],
      "text/plain": [
       "<IPython.core.display.Javascript object>"
      ]
     },
     "metadata": {},
     "output_type": "display_data"
    }
   ],
   "source": [
    "pop_before_1985 = pop[pop[\"week\"] < \"1985-01-01\"]\n",
    "pop_after_1985 = pop[pop[\"week\"] > \"1985-01-01\"]\n",
    "stats.ttest_ind(pop_before_1985[\"week_pos\"], pop_after_1985[\"week_pos\"])"
   ]
  },
  {
   "cell_type": "code",
   "execution_count": 54,
   "metadata": {},
   "outputs": [
    {
     "ename": "TypeError",
     "evalue": "ttest_ind() missing 2 required positional arguments: 'a' and 'b'",
     "output_type": "error",
     "traceback": [
      "\u001b[1;31m---------------------------------------------------------------------------\u001b[0m",
      "\u001b[1;31mTypeError\u001b[0m                                 Traceback (most recent call last)",
      "\u001b[1;32m<ipython-input-54-43831b504b26>\u001b[0m in \u001b[0;36m<module>\u001b[1;34m\u001b[0m\n\u001b[1;32m----> 1\u001b[1;33m \u001b[0mstats\u001b[0m\u001b[1;33m.\u001b[0m\u001b[0mttest_ind\u001b[0m\u001b[1;33m(\u001b[0m\u001b[1;33m)\u001b[0m\u001b[1;33m\u001b[0m\u001b[1;33m\u001b[0m\u001b[0m\n\u001b[0m",
      "\u001b[1;31mTypeError\u001b[0m: ttest_ind() missing 2 required positional arguments: 'a' and 'b'"
     ]
    },
    {
     "data": {
      "application/javascript": [
       "\n",
       "            setTimeout(function() {\n",
       "                var nbb_cell_id = 54;\n",
       "                var nbb_unformatted_code = \"stats.ttest_ind()\";\n",
       "                var nbb_formatted_code = \"stats.ttest_ind()\";\n",
       "                var nbb_cells = Jupyter.notebook.get_cells();\n",
       "                for (var i = 0; i < nbb_cells.length; ++i) {\n",
       "                    if (nbb_cells[i].input_prompt_number == nbb_cell_id) {\n",
       "                        if (nbb_cells[i].get_text() == nbb_unformatted_code) {\n",
       "                             nbb_cells[i].set_text(nbb_formatted_code);\n",
       "                        }\n",
       "                        break;\n",
       "                    }\n",
       "                }\n",
       "            }, 500);\n",
       "            "
      ],
      "text/plain": [
       "<IPython.core.display.Javascript object>"
      ]
     },
     "metadata": {},
     "output_type": "display_data"
    }
   ],
   "source": [
    "stats.ttest_ind()"
   ]
  }
 ],
 "metadata": {
  "kernelspec": {
   "display_name": "Python 3",
   "language": "python",
   "name": "python3"
  },
  "language_info": {
   "codemirror_mode": {
    "name": "ipython",
    "version": 3
   },
   "file_extension": ".py",
   "mimetype": "text/x-python",
   "name": "python",
   "nbconvert_exporter": "python",
   "pygments_lexer": "ipython3",
   "version": "3.7.6"
  }
 },
 "nbformat": 4,
 "nbformat_minor": 4
}
